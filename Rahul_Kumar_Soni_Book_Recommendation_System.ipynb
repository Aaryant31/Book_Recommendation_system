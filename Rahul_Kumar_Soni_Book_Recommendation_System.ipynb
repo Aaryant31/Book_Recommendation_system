{
  "nbformat": 4,
  "nbformat_minor": 0,
  "metadata": {
    "colab": {
      "name": "Rahul_Kumar_Soni_Book Recommendation System.ipynb",
      "provenance": [],
      "collapsed_sections": [
        "opuHhKKlB8UX",
        "i8AOOa3SY0E9",
        "jBdVm6O6ZK8o",
        "OBP6EbSqZ1-Z",
        "EvUOMnmjjEdm",
        "Axxb5OcHbTe4"
      ],
      "include_colab_link": true
    },
    "kernelspec": {
      "name": "python3",
      "display_name": "Python 3"
    },
    "language_info": {
      "name": "python"
    }
  },
  "cells": [
    {
      "cell_type": "markdown",
      "metadata": {
        "id": "view-in-github",
        "colab_type": "text"
      },
      "source": [
        "<a href=\"https://colab.research.google.com/github/Aaryant31/Book_Recommendation_system/blob/main/Rahul_Kumar_Soni_Book_Recommendation_System.ipynb\" target=\"_parent\"><img src=\"https://colab.research.google.com/assets/colab-badge.svg\" alt=\"Open In Colab\"/></a>"
      ]
    },
    {
      "cell_type": "markdown",
      "metadata": {
        "id": "LgYBCoH0492V"
      },
      "source": [
        "# <b><u> Project Title : Book Recommendation System </u></b>"
      ]
    },
    {
      "cell_type": "markdown",
      "metadata": {
        "id": "un7ldYyK2whR"
      },
      "source": [
        "During the last few decades, with the rise of Youtube, Amazon, Netflix, and many other such web services, recommender systems have taken more and more place in our lives. From e-commerce (suggest to buyers articles that could interest them) to online advertisement (suggest to users the right contents, matching their preferences), recommender systems are today unavoidable in our daily online journeys.\n",
        "\n",
        "In a very general way, recommender systems are algorithms aimed at suggesting relevant items to users (items being movies to watch, text to read, products to buy, or anything else depending on industries).\n",
        "\n",
        "Recommender systems are really critical in some industries as they can generate a huge amount of income when they are efficient or also be a way to stand out significantly from competitors. The main objective is to create a book recommendation system for users.\n",
        "\n",
        "## <b> Content </b>\n",
        "\n",
        "The Book-Crossing dataset comprises 3 files.\n",
        "\n",
        "##**Users**\n",
        "\n",
        "Contains the users. Note that user IDs (User-ID) have been anonymized and map to integers. Demographic data is provided (Location, Age) if available. Otherwise, these fields contain NULL values.\n",
        "\n",
        "##**Books**\n",
        "\n",
        "Books are identified by their respective ISBN. Invalid ISBNs have already been removed from the dataset. Moreover, some content-based information is given (Book-Title,Book-Author, Year-Of-Publication, Publisher), obtained from Amazon Web Services. Note that in the case of several authors, only the first is provided. URLs linking to cover images are also given, appearing in three different flavors (Image-URL-S, Image-URL-M, Image-URL-L), i.e., small, medium, large. These URLs point to the Amazon website.\n",
        "\n",
        "##**Ratings**\n",
        "\n",
        "Contains the book rating information. Ratings (Book-Rating) are either explicit, *expressed* on a scale from 1-10 (higher values denoting higher appreciation), or implicit, expressed by 0. "
      ]
    },
    {
      "cell_type": "markdown",
      "metadata": {
        "id": "E2buKrl-SDIJ"
      },
      "source": [
        "# **Importing libraries**"
      ]
    },
    {
      "cell_type": "code",
      "metadata": {
        "id": "WMQ38Mgr-zcT"
      },
      "source": [
        "#importing libraries\n",
        "import numpy as np\n",
        "import pandas as pd\n",
        "import matplotlib.pyplot as plt\n",
        "import seaborn as sns\n",
        "import warnings\n",
        "warnings.filterwarnings('ignore')"
      ],
      "execution_count": 1,
      "outputs": []
    },
    {
      "cell_type": "code",
      "metadata": {
        "id": "FvsN_4nV-4sa",
        "colab": {
          "base_uri": "https://localhost:8080/"
        },
        "outputId": "563250af-c58d-422c-bf07-ade014a094b5"
      },
      "source": [
        "from google.colab import drive\n",
        "drive.mount('/content/drive')"
      ],
      "execution_count": 2,
      "outputs": [
        {
          "output_type": "stream",
          "name": "stdout",
          "text": [
            "Mounted at /content/drive\n"
          ]
        }
      ]
    },
    {
      "cell_type": "code",
      "metadata": {
        "id": "rPqoR68C_6-B"
      },
      "source": [
        "#creating path of Datasets Available\n",
        "data_dir='/content/drive/MyDrive/Almabetter/Book Recommender System/DAT/'"
      ],
      "execution_count": 3,
      "outputs": []
    },
    {
      "cell_type": "code",
      "metadata": {
        "id": "2uTprVfh_h46"
      },
      "source": [
        "#loading Book,User and rating Dataset\n",
        "books_df=pd.read_csv(data_dir + 'Books.csv')\n",
        "users_df=pd.read_csv(data_dir + 'Users.csv')\n",
        "ratings_df=pd.read_csv(data_dir + 'Ratings.csv')\n"
      ],
      "execution_count": 4,
      "outputs": []
    },
    {
      "cell_type": "code",
      "metadata": {
        "colab": {
          "base_uri": "https://localhost:8080/"
        },
        "id": "rzV7LmPPAMi4",
        "outputId": "a2779296-1f50-45a3-9662-2b60894f93a6"
      },
      "source": [
        "#getting the Shape of All the Dataset\n",
        "print(\"books Data:    \", books_df.shape)\n",
        "print(\"Users Data:    \", users_df.shape)\n",
        "print(\"ratings Data: \", ratings_df.shape)"
      ],
      "execution_count": 5,
      "outputs": [
        {
          "output_type": "stream",
          "name": "stdout",
          "text": [
            "books Data:     (271360, 8)\n",
            "Users Data:     (278858, 3)\n",
            "ratings Data:  (1149780, 3)\n"
          ]
        }
      ]
    },
    {
      "cell_type": "markdown",
      "metadata": {
        "id": "oPC9sOk1B1ZI"
      },
      "source": [
        "# **Data cleaning and pre-processing**"
      ]
    },
    {
      "cell_type": "markdown",
      "metadata": {
        "id": "opuHhKKlB8UX"
      },
      "source": [
        "## books_df Data cleaning and pre-processing"
      ]
    },
    {
      "cell_type": "code",
      "metadata": {
        "colab": {
          "base_uri": "https://localhost:8080/",
          "height": 445
        },
        "id": "87cfw4UuBTcQ",
        "outputId": "35cb49a5-b1fb-40d4-dc08-b97b67d9d16a"
      },
      "source": [
        "#getting the list columns of Book Df\n",
        "print(\"Columns: \", list(books_df.columns))\n",
        "#getting the first 5 Row of book dataset\n",
        "books_df.head()"
      ],
      "execution_count": 6,
      "outputs": [
        {
          "output_type": "stream",
          "name": "stdout",
          "text": [
            "Columns:  ['ISBN', 'Book-Title', 'Book-Author', 'Year-Of-Publication', 'Publisher', 'Image-URL-S', 'Image-URL-M', 'Image-URL-L']\n"
          ]
        },
        {
          "output_type": "execute_result",
          "data": {
            "text/html": [
              "<div>\n",
              "<style scoped>\n",
              "    .dataframe tbody tr th:only-of-type {\n",
              "        vertical-align: middle;\n",
              "    }\n",
              "\n",
              "    .dataframe tbody tr th {\n",
              "        vertical-align: top;\n",
              "    }\n",
              "\n",
              "    .dataframe thead th {\n",
              "        text-align: right;\n",
              "    }\n",
              "</style>\n",
              "<table border=\"1\" class=\"dataframe\">\n",
              "  <thead>\n",
              "    <tr style=\"text-align: right;\">\n",
              "      <th></th>\n",
              "      <th>ISBN</th>\n",
              "      <th>Book-Title</th>\n",
              "      <th>Book-Author</th>\n",
              "      <th>Year-Of-Publication</th>\n",
              "      <th>Publisher</th>\n",
              "      <th>Image-URL-S</th>\n",
              "      <th>Image-URL-M</th>\n",
              "      <th>Image-URL-L</th>\n",
              "    </tr>\n",
              "  </thead>\n",
              "  <tbody>\n",
              "    <tr>\n",
              "      <th>0</th>\n",
              "      <td>0195153448</td>\n",
              "      <td>Classical Mythology</td>\n",
              "      <td>Mark P. O. Morford</td>\n",
              "      <td>2002</td>\n",
              "      <td>Oxford University Press</td>\n",
              "      <td>http://images.amazon.com/images/P/0195153448.0...</td>\n",
              "      <td>http://images.amazon.com/images/P/0195153448.0...</td>\n",
              "      <td>http://images.amazon.com/images/P/0195153448.0...</td>\n",
              "    </tr>\n",
              "    <tr>\n",
              "      <th>1</th>\n",
              "      <td>0002005018</td>\n",
              "      <td>Clara Callan</td>\n",
              "      <td>Richard Bruce Wright</td>\n",
              "      <td>2001</td>\n",
              "      <td>HarperFlamingo Canada</td>\n",
              "      <td>http://images.amazon.com/images/P/0002005018.0...</td>\n",
              "      <td>http://images.amazon.com/images/P/0002005018.0...</td>\n",
              "      <td>http://images.amazon.com/images/P/0002005018.0...</td>\n",
              "    </tr>\n",
              "    <tr>\n",
              "      <th>2</th>\n",
              "      <td>0060973129</td>\n",
              "      <td>Decision in Normandy</td>\n",
              "      <td>Carlo D'Este</td>\n",
              "      <td>1991</td>\n",
              "      <td>HarperPerennial</td>\n",
              "      <td>http://images.amazon.com/images/P/0060973129.0...</td>\n",
              "      <td>http://images.amazon.com/images/P/0060973129.0...</td>\n",
              "      <td>http://images.amazon.com/images/P/0060973129.0...</td>\n",
              "    </tr>\n",
              "    <tr>\n",
              "      <th>3</th>\n",
              "      <td>0374157065</td>\n",
              "      <td>Flu: The Story of the Great Influenza Pandemic...</td>\n",
              "      <td>Gina Bari Kolata</td>\n",
              "      <td>1999</td>\n",
              "      <td>Farrar Straus Giroux</td>\n",
              "      <td>http://images.amazon.com/images/P/0374157065.0...</td>\n",
              "      <td>http://images.amazon.com/images/P/0374157065.0...</td>\n",
              "      <td>http://images.amazon.com/images/P/0374157065.0...</td>\n",
              "    </tr>\n",
              "    <tr>\n",
              "      <th>4</th>\n",
              "      <td>0393045218</td>\n",
              "      <td>The Mummies of Urumchi</td>\n",
              "      <td>E. J. W. Barber</td>\n",
              "      <td>1999</td>\n",
              "      <td>W. W. Norton &amp;amp; Company</td>\n",
              "      <td>http://images.amazon.com/images/P/0393045218.0...</td>\n",
              "      <td>http://images.amazon.com/images/P/0393045218.0...</td>\n",
              "      <td>http://images.amazon.com/images/P/0393045218.0...</td>\n",
              "    </tr>\n",
              "  </tbody>\n",
              "</table>\n",
              "</div>"
            ],
            "text/plain": [
              "         ISBN  ...                                        Image-URL-L\n",
              "0  0195153448  ...  http://images.amazon.com/images/P/0195153448.0...\n",
              "1  0002005018  ...  http://images.amazon.com/images/P/0002005018.0...\n",
              "2  0060973129  ...  http://images.amazon.com/images/P/0060973129.0...\n",
              "3  0374157065  ...  http://images.amazon.com/images/P/0374157065.0...\n",
              "4  0393045218  ...  http://images.amazon.com/images/P/0393045218.0...\n",
              "\n",
              "[5 rows x 8 columns]"
            ]
          },
          "metadata": {},
          "execution_count": 6
        }
      ]
    },
    {
      "cell_type": "code",
      "metadata": {
        "colab": {
          "base_uri": "https://localhost:8080/",
          "height": 204
        },
        "id": "D-aYPH2QCGnv",
        "outputId": "aa6eeaee-356a-4cc2-98e0-9f90dfb07ae3"
      },
      "source": [
        "## Drop URL columns\n",
        "books_df.drop(['Image-URL-S', 'Image-URL-M', 'Image-URL-L'], axis=1, inplace=True)\n",
        "books_df.head()"
      ],
      "execution_count": 7,
      "outputs": [
        {
          "output_type": "execute_result",
          "data": {
            "text/html": [
              "<div>\n",
              "<style scoped>\n",
              "    .dataframe tbody tr th:only-of-type {\n",
              "        vertical-align: middle;\n",
              "    }\n",
              "\n",
              "    .dataframe tbody tr th {\n",
              "        vertical-align: top;\n",
              "    }\n",
              "\n",
              "    .dataframe thead th {\n",
              "        text-align: right;\n",
              "    }\n",
              "</style>\n",
              "<table border=\"1\" class=\"dataframe\">\n",
              "  <thead>\n",
              "    <tr style=\"text-align: right;\">\n",
              "      <th></th>\n",
              "      <th>ISBN</th>\n",
              "      <th>Book-Title</th>\n",
              "      <th>Book-Author</th>\n",
              "      <th>Year-Of-Publication</th>\n",
              "      <th>Publisher</th>\n",
              "    </tr>\n",
              "  </thead>\n",
              "  <tbody>\n",
              "    <tr>\n",
              "      <th>0</th>\n",
              "      <td>0195153448</td>\n",
              "      <td>Classical Mythology</td>\n",
              "      <td>Mark P. O. Morford</td>\n",
              "      <td>2002</td>\n",
              "      <td>Oxford University Press</td>\n",
              "    </tr>\n",
              "    <tr>\n",
              "      <th>1</th>\n",
              "      <td>0002005018</td>\n",
              "      <td>Clara Callan</td>\n",
              "      <td>Richard Bruce Wright</td>\n",
              "      <td>2001</td>\n",
              "      <td>HarperFlamingo Canada</td>\n",
              "    </tr>\n",
              "    <tr>\n",
              "      <th>2</th>\n",
              "      <td>0060973129</td>\n",
              "      <td>Decision in Normandy</td>\n",
              "      <td>Carlo D'Este</td>\n",
              "      <td>1991</td>\n",
              "      <td>HarperPerennial</td>\n",
              "    </tr>\n",
              "    <tr>\n",
              "      <th>3</th>\n",
              "      <td>0374157065</td>\n",
              "      <td>Flu: The Story of the Great Influenza Pandemic...</td>\n",
              "      <td>Gina Bari Kolata</td>\n",
              "      <td>1999</td>\n",
              "      <td>Farrar Straus Giroux</td>\n",
              "    </tr>\n",
              "    <tr>\n",
              "      <th>4</th>\n",
              "      <td>0393045218</td>\n",
              "      <td>The Mummies of Urumchi</td>\n",
              "      <td>E. J. W. Barber</td>\n",
              "      <td>1999</td>\n",
              "      <td>W. W. Norton &amp;amp; Company</td>\n",
              "    </tr>\n",
              "  </tbody>\n",
              "</table>\n",
              "</div>"
            ],
            "text/plain": [
              "         ISBN  ...                   Publisher\n",
              "0  0195153448  ...     Oxford University Press\n",
              "1  0002005018  ...       HarperFlamingo Canada\n",
              "2  0060973129  ...             HarperPerennial\n",
              "3  0374157065  ...        Farrar Straus Giroux\n",
              "4  0393045218  ...  W. W. Norton &amp; Company\n",
              "\n",
              "[5 rows x 5 columns]"
            ]
          },
          "metadata": {},
          "execution_count": 7
        }
      ]
    },
    {
      "cell_type": "code",
      "metadata": {
        "colab": {
          "base_uri": "https://localhost:8080/"
        },
        "id": "KRO_gggDCRqz",
        "outputId": "c8c6f7f2-ab7e-48f4-bca4-b5045a9d2a0b"
      },
      "source": [
        "## Checking for null values\n",
        "books_df.isnull().sum()"
      ],
      "execution_count": 8,
      "outputs": [
        {
          "output_type": "execute_result",
          "data": {
            "text/plain": [
              "ISBN                   0\n",
              "Book-Title             0\n",
              "Book-Author            1\n",
              "Year-Of-Publication    0\n",
              "Publisher              2\n",
              "dtype: int64"
            ]
          },
          "metadata": {},
          "execution_count": 8
        }
      ]
    },
    {
      "cell_type": "markdown",
      "metadata": {
        "id": "vH_PdIMr8Af1"
      },
      "source": [
        "observation:\n",
        "\n",
        "we have 1 null value for Book-Author column and 2 null value for Publisher column"
      ]
    },
    {
      "cell_type": "code",
      "metadata": {
        "colab": {
          "base_uri": "https://localhost:8080/",
          "height": 80
        },
        "id": "nzfbLsSGCVPH",
        "outputId": "b5dd2fb5-0093-4d2a-e128-d1d68aa9327e"
      },
      "source": [
        "#getting the row where Book-Author is Null\n",
        "books_df[books_df['Book-Author'].isnull()]"
      ],
      "execution_count": 9,
      "outputs": [
        {
          "output_type": "execute_result",
          "data": {
            "text/html": [
              "<div>\n",
              "<style scoped>\n",
              "    .dataframe tbody tr th:only-of-type {\n",
              "        vertical-align: middle;\n",
              "    }\n",
              "\n",
              "    .dataframe tbody tr th {\n",
              "        vertical-align: top;\n",
              "    }\n",
              "\n",
              "    .dataframe thead th {\n",
              "        text-align: right;\n",
              "    }\n",
              "</style>\n",
              "<table border=\"1\" class=\"dataframe\">\n",
              "  <thead>\n",
              "    <tr style=\"text-align: right;\">\n",
              "      <th></th>\n",
              "      <th>ISBN</th>\n",
              "      <th>Book-Title</th>\n",
              "      <th>Book-Author</th>\n",
              "      <th>Year-Of-Publication</th>\n",
              "      <th>Publisher</th>\n",
              "    </tr>\n",
              "  </thead>\n",
              "  <tbody>\n",
              "    <tr>\n",
              "      <th>187689</th>\n",
              "      <td>9627982032</td>\n",
              "      <td>The Credit Suisse Guide to Managing Your Perso...</td>\n",
              "      <td>NaN</td>\n",
              "      <td>1995</td>\n",
              "      <td>Edinburgh Financial Publishing</td>\n",
              "    </tr>\n",
              "  </tbody>\n",
              "</table>\n",
              "</div>"
            ],
            "text/plain": [
              "              ISBN  ...                       Publisher\n",
              "187689  9627982032  ...  Edinburgh Financial Publishing\n",
              "\n",
              "[1 rows x 5 columns]"
            ]
          },
          "metadata": {},
          "execution_count": 9
        }
      ]
    },
    {
      "cell_type": "markdown",
      "metadata": {
        "id": "nD5MWAB78hys"
      },
      "source": [
        "observation:\n",
        "\n",
        "In Row 187689 there is null value for Book-Author\n"
      ]
    },
    {
      "cell_type": "code",
      "metadata": {
        "id": "FdGwbTMvCeg_",
        "colab": {
          "base_uri": "https://localhost:8080/",
          "height": 111
        },
        "outputId": "630b8eb0-9f4c-4521-c614-a200f997327f"
      },
      "source": [
        "#getting the row where Publisher is Null\n",
        "books_df[books_df['Publisher'].isnull()]"
      ],
      "execution_count": 10,
      "outputs": [
        {
          "output_type": "execute_result",
          "data": {
            "text/html": [
              "<div>\n",
              "<style scoped>\n",
              "    .dataframe tbody tr th:only-of-type {\n",
              "        vertical-align: middle;\n",
              "    }\n",
              "\n",
              "    .dataframe tbody tr th {\n",
              "        vertical-align: top;\n",
              "    }\n",
              "\n",
              "    .dataframe thead th {\n",
              "        text-align: right;\n",
              "    }\n",
              "</style>\n",
              "<table border=\"1\" class=\"dataframe\">\n",
              "  <thead>\n",
              "    <tr style=\"text-align: right;\">\n",
              "      <th></th>\n",
              "      <th>ISBN</th>\n",
              "      <th>Book-Title</th>\n",
              "      <th>Book-Author</th>\n",
              "      <th>Year-Of-Publication</th>\n",
              "      <th>Publisher</th>\n",
              "    </tr>\n",
              "  </thead>\n",
              "  <tbody>\n",
              "    <tr>\n",
              "      <th>128890</th>\n",
              "      <td>193169656X</td>\n",
              "      <td>Tyrant Moon</td>\n",
              "      <td>Elaine Corvidae</td>\n",
              "      <td>2002</td>\n",
              "      <td>NaN</td>\n",
              "    </tr>\n",
              "    <tr>\n",
              "      <th>129037</th>\n",
              "      <td>1931696993</td>\n",
              "      <td>Finders Keepers</td>\n",
              "      <td>Linnea Sinclair</td>\n",
              "      <td>2001</td>\n",
              "      <td>NaN</td>\n",
              "    </tr>\n",
              "  </tbody>\n",
              "</table>\n",
              "</div>"
            ],
            "text/plain": [
              "              ISBN       Book-Title  ... Year-Of-Publication Publisher\n",
              "128890  193169656X      Tyrant Moon  ...                2002       NaN\n",
              "129037  1931696993  Finders Keepers  ...                2001       NaN\n",
              "\n",
              "[2 rows x 5 columns]"
            ]
          },
          "metadata": {},
          "execution_count": 10
        }
      ]
    },
    {
      "cell_type": "markdown",
      "metadata": {
        "id": "EWbBY84R81_t"
      },
      "source": [
        "Observation:\n",
        "In Row 128890 , 129037  there is null value for Book-Author"
      ]
    },
    {
      "cell_type": "code",
      "metadata": {
        "id": "6cnnmWm1C1Nn"
      },
      "source": [
        "#filling null value of Book-Author as other\n",
        "books_df['Book-Author'].fillna('other',inplace=True)"
      ],
      "execution_count": 11,
      "outputs": []
    },
    {
      "cell_type": "code",
      "metadata": {
        "id": "zfQXn0-LDEz-"
      },
      "source": [
        "#filling null value of Publisher as other\n",
        "books_df['Publisher'].fillna('other',inplace=True)"
      ],
      "execution_count": 12,
      "outputs": []
    },
    {
      "cell_type": "code",
      "metadata": {
        "id": "O2U4k-3UDYaG",
        "colab": {
          "base_uri": "https://localhost:8080/"
        },
        "outputId": "572a63b8-acbc-4e93-becb-3f19be05af1a"
      },
      "source": [
        "#checkin the null Value Again\n",
        "books_df.isnull().sum()"
      ],
      "execution_count": 13,
      "outputs": [
        {
          "output_type": "execute_result",
          "data": {
            "text/plain": [
              "ISBN                   0\n",
              "Book-Title             0\n",
              "Book-Author            0\n",
              "Year-Of-Publication    0\n",
              "Publisher              0\n",
              "dtype: int64"
            ]
          },
          "metadata": {},
          "execution_count": 13
        }
      ]
    },
    {
      "cell_type": "code",
      "metadata": {
        "id": "UOofhjEoD24W",
        "colab": {
          "base_uri": "https://localhost:8080/"
        },
        "outputId": "6d9277b8-4771-4c61-f973-072aa507d278"
      },
      "source": [
        "## Checking for column Year-of-publication\n",
        "books_df['Year-Of-Publication'].unique()"
      ],
      "execution_count": 14,
      "outputs": [
        {
          "output_type": "execute_result",
          "data": {
            "text/plain": [
              "array([2002, 2001, 1991, 1999, 2000, 1993, 1996, 1988, 2004, 1998, 1994,\n",
              "       2003, 1997, 1983, 1979, 1995, 1982, 1985, 1992, 1986, 1978, 1980,\n",
              "       1952, 1987, 1990, 1981, 1989, 1984, 0, 1968, 1961, 1958, 1974,\n",
              "       1976, 1971, 1977, 1975, 1965, 1941, 1970, 1962, 1973, 1972, 1960,\n",
              "       1966, 1920, 1956, 1959, 1953, 1951, 1942, 1963, 1964, 1969, 1954,\n",
              "       1950, 1967, 2005, 1957, 1940, 1937, 1955, 1946, 1936, 1930, 2011,\n",
              "       1925, 1948, 1943, 1947, 1945, 1923, 2020, 1939, 1926, 1938, 2030,\n",
              "       1911, 1904, 1949, 1932, 1928, 1929, 1927, 1931, 1914, 2050, 1934,\n",
              "       1910, 1933, 1902, 1924, 1921, 1900, 2038, 2026, 1944, 1917, 1901,\n",
              "       2010, 1908, 1906, 1935, 1806, 2021, '2000', '1995', '1999', '2004',\n",
              "       '2003', '1990', '1994', '1986', '1989', '2002', '1981', '1993',\n",
              "       '1983', '1982', '1976', '1991', '1977', '1998', '1992', '1996',\n",
              "       '0', '1997', '2001', '1974', '1968', '1987', '1984', '1988',\n",
              "       '1963', '1956', '1970', '1985', '1978', '1973', '1980', '1979',\n",
              "       '1975', '1969', '1961', '1965', '1939', '1958', '1950', '1953',\n",
              "       '1966', '1971', '1959', '1972', '1955', '1957', '1945', '1960',\n",
              "       '1967', '1932', '1924', '1964', '2012', '1911', '1927', '1948',\n",
              "       '1962', '2006', '1952', '1940', '1951', '1931', '1954', '2005',\n",
              "       '1930', '1941', '1944', 'DK Publishing Inc', '1943', '1938',\n",
              "       '1900', '1942', '1923', '1920', '1933', 'Gallimard', '1909',\n",
              "       '1946', '2008', '1378', '2030', '1936', '1947', '2011', '2020',\n",
              "       '1919', '1949', '1922', '1897', '2024', '1376', '1926', '2037'],\n",
              "      dtype=object)"
            ]
          },
          "metadata": {},
          "execution_count": 14
        }
      ]
    },
    {
      "cell_type": "markdown",
      "metadata": {
        "id": "MTTFqxoy-f7s"
      },
      "source": [
        "observation:\n",
        "\n",
        "* Has two text values and one two zero and some books that have future date of publication. "
      ]
    },
    {
      "cell_type": "code",
      "metadata": {
        "id": "CvCo7OH4D6Ju",
        "colab": {
          "base_uri": "https://localhost:8080/",
          "height": 111
        },
        "outputId": "df66b450-eba9-44c5-addb-6434aba5c642"
      },
      "source": [
        "#checking the Data where 'Year-Of-Publication' == 'DK Publishing Inc'\n",
        "books_df[books_df['Year-Of-Publication'] == 'DK Publishing Inc']"
      ],
      "execution_count": 15,
      "outputs": [
        {
          "output_type": "execute_result",
          "data": {
            "text/html": [
              "<div>\n",
              "<style scoped>\n",
              "    .dataframe tbody tr th:only-of-type {\n",
              "        vertical-align: middle;\n",
              "    }\n",
              "\n",
              "    .dataframe tbody tr th {\n",
              "        vertical-align: top;\n",
              "    }\n",
              "\n",
              "    .dataframe thead th {\n",
              "        text-align: right;\n",
              "    }\n",
              "</style>\n",
              "<table border=\"1\" class=\"dataframe\">\n",
              "  <thead>\n",
              "    <tr style=\"text-align: right;\">\n",
              "      <th></th>\n",
              "      <th>ISBN</th>\n",
              "      <th>Book-Title</th>\n",
              "      <th>Book-Author</th>\n",
              "      <th>Year-Of-Publication</th>\n",
              "      <th>Publisher</th>\n",
              "    </tr>\n",
              "  </thead>\n",
              "  <tbody>\n",
              "    <tr>\n",
              "      <th>209538</th>\n",
              "      <td>078946697X</td>\n",
              "      <td>DK Readers: Creating the X-Men, How It All Beg...</td>\n",
              "      <td>2000</td>\n",
              "      <td>DK Publishing Inc</td>\n",
              "      <td>http://images.amazon.com/images/P/078946697X.0...</td>\n",
              "    </tr>\n",
              "    <tr>\n",
              "      <th>221678</th>\n",
              "      <td>0789466953</td>\n",
              "      <td>DK Readers: Creating the X-Men, How Comic Book...</td>\n",
              "      <td>2000</td>\n",
              "      <td>DK Publishing Inc</td>\n",
              "      <td>http://images.amazon.com/images/P/0789466953.0...</td>\n",
              "    </tr>\n",
              "  </tbody>\n",
              "</table>\n",
              "</div>"
            ],
            "text/plain": [
              "              ISBN  ...                                          Publisher\n",
              "209538  078946697X  ...  http://images.amazon.com/images/P/078946697X.0...\n",
              "221678  0789466953  ...  http://images.amazon.com/images/P/0789466953.0...\n",
              "\n",
              "[2 rows x 5 columns]"
            ]
          },
          "metadata": {},
          "execution_count": 15
        }
      ]
    },
    {
      "cell_type": "markdown",
      "metadata": {
        "id": "lgSgP6P0_cH0"
      },
      "source": [
        "observation:\n",
        "\n",
        "Here we can see that book-author  and year of publication column are mistyped so we need to correct the column value by interchanging these value.\n"
      ]
    },
    {
      "cell_type": "code",
      "metadata": {
        "id": "OlUkLo7GEtau",
        "colab": {
          "base_uri": "https://localhost:8080/",
          "height": 80
        },
        "outputId": "98e9544f-2432-405d-818e-008c71507442"
      },
      "source": [
        "#checking the Data where 'Year-Of-Publication' == 'Gallimard'\n",
        "books_df[books_df['Year-Of-Publication'] == 'Gallimard']"
      ],
      "execution_count": 16,
      "outputs": [
        {
          "output_type": "execute_result",
          "data": {
            "text/html": [
              "<div>\n",
              "<style scoped>\n",
              "    .dataframe tbody tr th:only-of-type {\n",
              "        vertical-align: middle;\n",
              "    }\n",
              "\n",
              "    .dataframe tbody tr th {\n",
              "        vertical-align: top;\n",
              "    }\n",
              "\n",
              "    .dataframe thead th {\n",
              "        text-align: right;\n",
              "    }\n",
              "</style>\n",
              "<table border=\"1\" class=\"dataframe\">\n",
              "  <thead>\n",
              "    <tr style=\"text-align: right;\">\n",
              "      <th></th>\n",
              "      <th>ISBN</th>\n",
              "      <th>Book-Title</th>\n",
              "      <th>Book-Author</th>\n",
              "      <th>Year-Of-Publication</th>\n",
              "      <th>Publisher</th>\n",
              "    </tr>\n",
              "  </thead>\n",
              "  <tbody>\n",
              "    <tr>\n",
              "      <th>220731</th>\n",
              "      <td>2070426769</td>\n",
              "      <td>Peuple du ciel, suivi de 'Les Bergers\\\";Jean-M...</td>\n",
              "      <td>2003</td>\n",
              "      <td>Gallimard</td>\n",
              "      <td>http://images.amazon.com/images/P/2070426769.0...</td>\n",
              "    </tr>\n",
              "  </tbody>\n",
              "</table>\n",
              "</div>"
            ],
            "text/plain": [
              "              ISBN  ...                                          Publisher\n",
              "220731  2070426769  ...  http://images.amazon.com/images/P/2070426769.0...\n",
              "\n",
              "[1 rows x 5 columns]"
            ]
          },
          "metadata": {},
          "execution_count": 16
        }
      ]
    },
    {
      "cell_type": "markdown",
      "metadata": {
        "id": "LUIlikGvABWT"
      },
      "source": [
        "observation:\n",
        "\n",
        "Here we can see that book-author and year of publication column are mistyped so we need to correct the column value by interchanging these value."
      ]
    },
    {
      "cell_type": "code",
      "metadata": {
        "id": "JnIxaggsIAKE"
      },
      "source": [
        "#correcting the value of year of publication and author by replacing the values\n",
        "\n",
        "\n",
        "books_df.at[209538 ,'Publisher'] = 'DK Publishing Inc'\n",
        "books_df.at[209538 ,'Year-Of-Publication'] = 2000\n",
        "books_df.at[209538 ,'Book-Title'] = 'DK Readers: Creating the X-Men, How It All Began (Level 4: Proficient Readers)'\n",
        "books_df.at[209538 ,'Book-Author'] = 'Michael Teitelbaum'\n",
        "\n",
        "books_df.at[221678 ,'Publisher'] = 'DK Publishing Inc'\n",
        "books_df.at[221678 ,'Year-Of-Publication'] = 2000\n",
        "books_df.at[209538 ,'Book-Title'] = 'DK Readers: Creating the X-Men, How Comic Boofksf Come to Life (Level 4: Proficient Readers)'\n",
        "books_df.at[209538 ,'Book-Author'] = 'James Buckley'\n",
        "\n",
        "books_df.at[220731 ,'Publisher'] = 'Gallimard'\n",
        "books_df.at[220731 ,'Year-Of-Publication'] = '2003'\n",
        "books_df.at[209538 ,'Book-Title'] = 'Peuple du ciel - Suivi de Les bergers '\n",
        "books_df.at[209538 ,'Book-Author'] = 'Jean-Marie Gustave Le ClÃ?Â©zio'"
      ],
      "execution_count": 17,
      "outputs": []
    },
    {
      "cell_type": "code",
      "metadata": {
        "id": "bpLC7rl5FDVF"
      },
      "source": [
        "## Converting year of publication in Numbers\n",
        "books_df['Year-Of-Publication'] = books_df['Year-Of-Publication'].astype(int)"
      ],
      "execution_count": 18,
      "outputs": []
    },
    {
      "cell_type": "code",
      "metadata": {
        "colab": {
          "base_uri": "https://localhost:8080/"
        },
        "id": "WB8zfkv_G6Q3",
        "outputId": "2c95f95b-21cc-4e92-9fd8-774e0fbd1856"
      },
      "source": [
        "from datetime import date\n",
        "# finding the current year\n",
        "current_year = date.today().year\n",
        "print(current_year)"
      ],
      "execution_count": 19,
      "outputs": [
        {
          "output_type": "stream",
          "name": "stdout",
          "text": [
            "2021\n"
          ]
        }
      ]
    },
    {
      "cell_type": "code",
      "metadata": {
        "id": "5wzgpmXrFUCt",
        "colab": {
          "base_uri": "https://localhost:8080/"
        },
        "outputId": "411c24be-10d0-4914-ceba-9b9fbe4a10a8"
      },
      "source": [
        "#getting the unique value of year of publication column\n",
        "print(sorted(list(books_df['Year-Of-Publication'].unique())))"
      ],
      "execution_count": 20,
      "outputs": [
        {
          "output_type": "stream",
          "name": "stdout",
          "text": [
            "[0, 1376, 1378, 1806, 1897, 1900, 1901, 1902, 1904, 1906, 1908, 1909, 1910, 1911, 1914, 1917, 1919, 1920, 1921, 1922, 1923, 1924, 1925, 1926, 1927, 1928, 1929, 1930, 1931, 1932, 1933, 1934, 1935, 1936, 1937, 1938, 1939, 1940, 1941, 1942, 1943, 1944, 1945, 1946, 1947, 1948, 1949, 1950, 1951, 1952, 1953, 1954, 1955, 1956, 1957, 1958, 1959, 1960, 1961, 1962, 1963, 1964, 1965, 1966, 1967, 1968, 1969, 1970, 1971, 1972, 1973, 1974, 1975, 1976, 1977, 1978, 1979, 1980, 1981, 1982, 1983, 1984, 1985, 1986, 1987, 1988, 1989, 1990, 1991, 1992, 1993, 1994, 1995, 1996, 1997, 1998, 1999, 2000, 2001, 2002, 2003, 2004, 2005, 2006, 2008, 2010, 2011, 2012, 2020, 2021, 2024, 2026, 2030, 2037, 2038, 2050]\n"
          ]
        }
      ]
    },
    {
      "cell_type": "code",
      "metadata": {
        "colab": {
          "base_uri": "https://localhost:8080/",
          "height": 452
        },
        "id": "f_nHgBy5HVLI",
        "outputId": "b89e8e57-616f-404c-b04c-6fd06f4c2708"
      },
      "source": [
        "# finding books with date of publication greater than current date \n",
        "books_df.loc[(books_df['Year-Of-Publication'] > current_year)]"
      ],
      "execution_count": 21,
      "outputs": [
        {
          "output_type": "execute_result",
          "data": {
            "text/html": [
              "<div>\n",
              "<style scoped>\n",
              "    .dataframe tbody tr th:only-of-type {\n",
              "        vertical-align: middle;\n",
              "    }\n",
              "\n",
              "    .dataframe tbody tr th {\n",
              "        vertical-align: top;\n",
              "    }\n",
              "\n",
              "    .dataframe thead th {\n",
              "        text-align: right;\n",
              "    }\n",
              "</style>\n",
              "<table border=\"1\" class=\"dataframe\">\n",
              "  <thead>\n",
              "    <tr style=\"text-align: right;\">\n",
              "      <th></th>\n",
              "      <th>ISBN</th>\n",
              "      <th>Book-Title</th>\n",
              "      <th>Book-Author</th>\n",
              "      <th>Year-Of-Publication</th>\n",
              "      <th>Publisher</th>\n",
              "    </tr>\n",
              "  </thead>\n",
              "  <tbody>\n",
              "    <tr>\n",
              "      <th>37487</th>\n",
              "      <td>0671746103</td>\n",
              "      <td>MY TEACHER FRIED MY BRAINS (RACK SIZE) (MY TEA...</td>\n",
              "      <td>Coville</td>\n",
              "      <td>2030</td>\n",
              "      <td>Aladdin</td>\n",
              "    </tr>\n",
              "    <tr>\n",
              "      <th>55676</th>\n",
              "      <td>0671791990</td>\n",
              "      <td>MY TEACHER FLUNKED THE PLANET (RACK SIZE) (MY ...</td>\n",
              "      <td>Bruce Coville</td>\n",
              "      <td>2030</td>\n",
              "      <td>Aladdin</td>\n",
              "    </tr>\n",
              "    <tr>\n",
              "      <th>78168</th>\n",
              "      <td>0870449842</td>\n",
              "      <td>Crossing America</td>\n",
              "      <td>National Geographic Society</td>\n",
              "      <td>2030</td>\n",
              "      <td>National Geographic</td>\n",
              "    </tr>\n",
              "    <tr>\n",
              "      <th>80264</th>\n",
              "      <td>0140301690</td>\n",
              "      <td>Alice's Adventures in Wonderland and Through t...</td>\n",
              "      <td>Lewis Carroll</td>\n",
              "      <td>2050</td>\n",
              "      <td>Puffin Books</td>\n",
              "    </tr>\n",
              "    <tr>\n",
              "      <th>97826</th>\n",
              "      <td>0140201092</td>\n",
              "      <td>Outline of European Architecture (Pelican S.)</td>\n",
              "      <td>Nikolaus Pevsner</td>\n",
              "      <td>2050</td>\n",
              "      <td>Penguin USA</td>\n",
              "    </tr>\n",
              "    <tr>\n",
              "      <th>116053</th>\n",
              "      <td>0394701658</td>\n",
              "      <td>Three Plays of Eugene Oneill</td>\n",
              "      <td>Eugene O'Neill</td>\n",
              "      <td>2038</td>\n",
              "      <td>Vintage Books USA</td>\n",
              "    </tr>\n",
              "    <tr>\n",
              "      <th>118294</th>\n",
              "      <td>3442436893</td>\n",
              "      <td>Das groÃ?Â?e BÃ?Â¶se- MÃ?Â¤dchen- Lesebuch.</td>\n",
              "      <td>Kathy Lette</td>\n",
              "      <td>2026</td>\n",
              "      <td>Goldmann</td>\n",
              "    </tr>\n",
              "    <tr>\n",
              "      <th>192993</th>\n",
              "      <td>0870446924</td>\n",
              "      <td>Field Guide to the Birds of North America, 3rd...</td>\n",
              "      <td>National Geographic Society</td>\n",
              "      <td>2030</td>\n",
              "      <td>National Geographic</td>\n",
              "    </tr>\n",
              "    <tr>\n",
              "      <th>228173</th>\n",
              "      <td>0671266500</td>\n",
              "      <td>FOREST PEOPLE (Touchstone Books (Hardcover))</td>\n",
              "      <td>Colin M. Turnbull</td>\n",
              "      <td>2030</td>\n",
              "      <td>Simon &amp;amp; Schuster</td>\n",
              "    </tr>\n",
              "    <tr>\n",
              "      <th>240169</th>\n",
              "      <td>0684718022</td>\n",
              "      <td>In Our Time: Stories (Scribner Classic)</td>\n",
              "      <td>Ernest Hemingway</td>\n",
              "      <td>2030</td>\n",
              "      <td>Collier Books</td>\n",
              "    </tr>\n",
              "    <tr>\n",
              "      <th>246842</th>\n",
              "      <td>0380000059</td>\n",
              "      <td>CLOUT</td>\n",
              "      <td>D. GIBBONS</td>\n",
              "      <td>2024</td>\n",
              "      <td>Avon</td>\n",
              "    </tr>\n",
              "    <tr>\n",
              "      <th>255409</th>\n",
              "      <td>068471809X</td>\n",
              "      <td>To Have and Have Not</td>\n",
              "      <td>Ernest Hemingway</td>\n",
              "      <td>2037</td>\n",
              "      <td>Simon &amp;amp; Schuster</td>\n",
              "    </tr>\n",
              "    <tr>\n",
              "      <th>260974</th>\n",
              "      <td>0671740989</td>\n",
              "      <td>FOOTBALL SUPER TEAMS : FOOTBALL SUPER TEAMS</td>\n",
              "      <td>Bill Gutman</td>\n",
              "      <td>2030</td>\n",
              "      <td>Simon &amp;amp; Schuster Children's Publishing</td>\n",
              "    </tr>\n",
              "  </tbody>\n",
              "</table>\n",
              "</div>"
            ],
            "text/plain": [
              "              ISBN  ...                                   Publisher\n",
              "37487   0671746103  ...                                     Aladdin\n",
              "55676   0671791990  ...                                     Aladdin\n",
              "78168   0870449842  ...                         National Geographic\n",
              "80264   0140301690  ...                                Puffin Books\n",
              "97826   0140201092  ...                                 Penguin USA\n",
              "116053  0394701658  ...                           Vintage Books USA\n",
              "118294  3442436893  ...                                    Goldmann\n",
              "192993  0870446924  ...                         National Geographic\n",
              "228173  0671266500  ...                        Simon &amp; Schuster\n",
              "240169  0684718022  ...                               Collier Books\n",
              "246842  0380000059  ...                                        Avon\n",
              "255409  068471809X  ...                        Simon &amp; Schuster\n",
              "260974  0671740989  ...  Simon &amp; Schuster Children's Publishing\n",
              "\n",
              "[13 rows x 5 columns]"
            ]
          },
          "metadata": {},
          "execution_count": 21
        }
      ]
    },
    {
      "cell_type": "code",
      "metadata": {
        "id": "jmmhcXa0J5Ys"
      },
      "source": [
        "# First we are filling the nan value where the years are greater than 2021 and 0 then replacing the nan with mean value.\n",
        "books_df.loc[(books_df['Year-Of-Publication'] > 2021) | (books_df['Year-Of-Publication'] == 0),'Year-Of-Publication'] = np.NAN\n",
        "\n",
        "#replacing NaNs with mean value of Year-Of-Publication\n",
        "books_df['Year-Of-Publication'].fillna(round(books_df['Year-Of-Publication'].mean()), inplace=True)"
      ],
      "execution_count": 22,
      "outputs": []
    },
    {
      "cell_type": "code",
      "metadata": {
        "id": "LW4Ygr6eKUw7"
      },
      "source": [
        "## Drop duplicate rows\n",
        "books_df.drop_duplicates(keep='last', inplace=True) \n",
        "# resting the index value\n",
        "books_df.reset_index(drop = True, inplace = True)"
      ],
      "execution_count": 23,
      "outputs": []
    },
    {
      "cell_type": "code",
      "metadata": {
        "id": "1__u8nDoKjI6",
        "colab": {
          "base_uri": "https://localhost:8080/"
        },
        "outputId": "401e61b4-6066-4559-8ba0-7ebb78b11807"
      },
      "source": [
        "#checking info of book_df\n",
        "books_df.info()"
      ],
      "execution_count": 24,
      "outputs": [
        {
          "output_type": "stream",
          "name": "stdout",
          "text": [
            "<class 'pandas.core.frame.DataFrame'>\n",
            "RangeIndex: 271360 entries, 0 to 271359\n",
            "Data columns (total 5 columns):\n",
            " #   Column               Non-Null Count   Dtype  \n",
            "---  ------               --------------   -----  \n",
            " 0   ISBN                 271360 non-null  object \n",
            " 1   Book-Title           271360 non-null  object \n",
            " 2   Book-Author          271360 non-null  object \n",
            " 3   Year-Of-Publication  271360 non-null  float64\n",
            " 4   Publisher            271360 non-null  object \n",
            "dtypes: float64(1), object(4)\n",
            "memory usage: 10.4+ MB\n"
          ]
        }
      ]
    },
    {
      "cell_type": "code",
      "metadata": {
        "id": "M4_YucdTKpxS",
        "colab": {
          "base_uri": "https://localhost:8080/",
          "height": 204
        },
        "outputId": "af1b8e0d-d06d-41bb-a93a-e64a1d9baa4a"
      },
      "source": [
        "#checking head of book_df\n",
        "books_df.head()"
      ],
      "execution_count": 25,
      "outputs": [
        {
          "output_type": "execute_result",
          "data": {
            "text/html": [
              "<div>\n",
              "<style scoped>\n",
              "    .dataframe tbody tr th:only-of-type {\n",
              "        vertical-align: middle;\n",
              "    }\n",
              "\n",
              "    .dataframe tbody tr th {\n",
              "        vertical-align: top;\n",
              "    }\n",
              "\n",
              "    .dataframe thead th {\n",
              "        text-align: right;\n",
              "    }\n",
              "</style>\n",
              "<table border=\"1\" class=\"dataframe\">\n",
              "  <thead>\n",
              "    <tr style=\"text-align: right;\">\n",
              "      <th></th>\n",
              "      <th>ISBN</th>\n",
              "      <th>Book-Title</th>\n",
              "      <th>Book-Author</th>\n",
              "      <th>Year-Of-Publication</th>\n",
              "      <th>Publisher</th>\n",
              "    </tr>\n",
              "  </thead>\n",
              "  <tbody>\n",
              "    <tr>\n",
              "      <th>0</th>\n",
              "      <td>0195153448</td>\n",
              "      <td>Classical Mythology</td>\n",
              "      <td>Mark P. O. Morford</td>\n",
              "      <td>2002.0</td>\n",
              "      <td>Oxford University Press</td>\n",
              "    </tr>\n",
              "    <tr>\n",
              "      <th>1</th>\n",
              "      <td>0002005018</td>\n",
              "      <td>Clara Callan</td>\n",
              "      <td>Richard Bruce Wright</td>\n",
              "      <td>2001.0</td>\n",
              "      <td>HarperFlamingo Canada</td>\n",
              "    </tr>\n",
              "    <tr>\n",
              "      <th>2</th>\n",
              "      <td>0060973129</td>\n",
              "      <td>Decision in Normandy</td>\n",
              "      <td>Carlo D'Este</td>\n",
              "      <td>1991.0</td>\n",
              "      <td>HarperPerennial</td>\n",
              "    </tr>\n",
              "    <tr>\n",
              "      <th>3</th>\n",
              "      <td>0374157065</td>\n",
              "      <td>Flu: The Story of the Great Influenza Pandemic...</td>\n",
              "      <td>Gina Bari Kolata</td>\n",
              "      <td>1999.0</td>\n",
              "      <td>Farrar Straus Giroux</td>\n",
              "    </tr>\n",
              "    <tr>\n",
              "      <th>4</th>\n",
              "      <td>0393045218</td>\n",
              "      <td>The Mummies of Urumchi</td>\n",
              "      <td>E. J. W. Barber</td>\n",
              "      <td>1999.0</td>\n",
              "      <td>W. W. Norton &amp;amp; Company</td>\n",
              "    </tr>\n",
              "  </tbody>\n",
              "</table>\n",
              "</div>"
            ],
            "text/plain": [
              "         ISBN  ...                   Publisher\n",
              "0  0195153448  ...     Oxford University Press\n",
              "1  0002005018  ...       HarperFlamingo Canada\n",
              "2  0060973129  ...             HarperPerennial\n",
              "3  0374157065  ...        Farrar Straus Giroux\n",
              "4  0393045218  ...  W. W. Norton &amp; Company\n",
              "\n",
              "[5 rows x 5 columns]"
            ]
          },
          "metadata": {},
          "execution_count": 25
        }
      ]
    },
    {
      "cell_type": "markdown",
      "metadata": {
        "id": "NUUT4SOSLmx7"
      },
      "source": [
        "## Users_df Data cleaning and Preprocessing"
      ]
    },
    {
      "cell_type": "code",
      "metadata": {
        "colab": {
          "base_uri": "https://localhost:8080/",
          "height": 221
        },
        "id": "YgMNTkL9LrYa",
        "outputId": "87808543-f732-4b74-84a9-293d2a570e57"
      },
      "source": [
        "#print the column list of User_df\n",
        "print(\"Columns: \", list(users_df.columns))\n",
        "#geeting the head of User_df\n",
        "users_df.head()"
      ],
      "execution_count": 26,
      "outputs": [
        {
          "output_type": "stream",
          "name": "stdout",
          "text": [
            "Columns:  ['User-ID', 'Location', 'Age']\n"
          ]
        },
        {
          "output_type": "execute_result",
          "data": {
            "text/html": [
              "<div>\n",
              "<style scoped>\n",
              "    .dataframe tbody tr th:only-of-type {\n",
              "        vertical-align: middle;\n",
              "    }\n",
              "\n",
              "    .dataframe tbody tr th {\n",
              "        vertical-align: top;\n",
              "    }\n",
              "\n",
              "    .dataframe thead th {\n",
              "        text-align: right;\n",
              "    }\n",
              "</style>\n",
              "<table border=\"1\" class=\"dataframe\">\n",
              "  <thead>\n",
              "    <tr style=\"text-align: right;\">\n",
              "      <th></th>\n",
              "      <th>User-ID</th>\n",
              "      <th>Location</th>\n",
              "      <th>Age</th>\n",
              "    </tr>\n",
              "  </thead>\n",
              "  <tbody>\n",
              "    <tr>\n",
              "      <th>0</th>\n",
              "      <td>1</td>\n",
              "      <td>nyc, new york, usa</td>\n",
              "      <td>NaN</td>\n",
              "    </tr>\n",
              "    <tr>\n",
              "      <th>1</th>\n",
              "      <td>2</td>\n",
              "      <td>stockton, california, usa</td>\n",
              "      <td>18.0</td>\n",
              "    </tr>\n",
              "    <tr>\n",
              "      <th>2</th>\n",
              "      <td>3</td>\n",
              "      <td>moscow, yukon territory, russia</td>\n",
              "      <td>NaN</td>\n",
              "    </tr>\n",
              "    <tr>\n",
              "      <th>3</th>\n",
              "      <td>4</td>\n",
              "      <td>porto, v.n.gaia, portugal</td>\n",
              "      <td>17.0</td>\n",
              "    </tr>\n",
              "    <tr>\n",
              "      <th>4</th>\n",
              "      <td>5</td>\n",
              "      <td>farnborough, hants, united kingdom</td>\n",
              "      <td>NaN</td>\n",
              "    </tr>\n",
              "  </tbody>\n",
              "</table>\n",
              "</div>"
            ],
            "text/plain": [
              "   User-ID                            Location   Age\n",
              "0        1                  nyc, new york, usa   NaN\n",
              "1        2           stockton, california, usa  18.0\n",
              "2        3     moscow, yukon territory, russia   NaN\n",
              "3        4           porto, v.n.gaia, portugal  17.0\n",
              "4        5  farnborough, hants, united kingdom   NaN"
            ]
          },
          "metadata": {},
          "execution_count": 26
        }
      ]
    },
    {
      "cell_type": "code",
      "metadata": {
        "colab": {
          "base_uri": "https://localhost:8080/"
        },
        "id": "R5bC6uQ4LyFq",
        "outputId": "2835d692-91fe-43d8-8d1a-fd9b9e8a3844"
      },
      "source": [
        "## Checking null values\n",
        "print(users_df.isna().sum())"
      ],
      "execution_count": 27,
      "outputs": [
        {
          "output_type": "stream",
          "name": "stdout",
          "text": [
            "User-ID          0\n",
            "Location         0\n",
            "Age         110762\n",
            "dtype: int64\n"
          ]
        }
      ]
    },
    {
      "cell_type": "code",
      "metadata": {
        "colab": {
          "base_uri": "https://localhost:8080/"
        },
        "id": "b5ZEphFcL1sB",
        "outputId": "f226d466-c0c8-4a91-ae46-754d2b6786c1"
      },
      "source": [
        "## Check for all values present in Age column\n",
        "users_df['Age'].unique()"
      ],
      "execution_count": 28,
      "outputs": [
        {
          "output_type": "execute_result",
          "data": {
            "text/plain": [
              "array([ nan,  18.,  17.,  61.,  26.,  14.,  25.,  19.,  46.,  55.,  32.,\n",
              "        24.,  20.,  34.,  23.,  51.,  31.,  21.,  44.,  30.,  57.,  43.,\n",
              "        37.,  41.,  54.,  42.,  50.,  39.,  53.,  47.,  36.,  28.,  35.,\n",
              "        13.,  58.,  49.,  38.,  45.,  62.,  63.,  27.,  33.,  29.,  66.,\n",
              "        40.,  15.,  60.,   0.,  79.,  22.,  16.,  65.,  59.,  48.,  72.,\n",
              "        56.,  67.,   1.,  80.,  52.,  69.,  71.,  73.,  78.,   9.,  64.,\n",
              "       103., 104.,  12.,  74.,  75., 231.,   3.,  76.,  83.,  68., 119.,\n",
              "        11.,  77.,   2.,  70.,  93.,   8.,   7.,   4.,  81., 114., 230.,\n",
              "       239.,  10.,   5., 148., 151.,   6., 101., 201.,  96.,  84.,  82.,\n",
              "        90., 123., 244., 133.,  91., 128.,  94.,  85., 141., 110.,  97.,\n",
              "       219.,  86., 124.,  92., 175., 172., 209., 212., 237.,  87., 162.,\n",
              "       100., 156., 136.,  95.,  89., 106.,  99., 108., 210.,  88., 199.,\n",
              "       147., 168., 132., 159., 186., 152., 102., 116., 200., 115., 226.,\n",
              "       137., 207., 229., 138., 109., 105., 228., 183., 204.,  98., 223.,\n",
              "       113., 208., 107., 157., 111., 146., 118., 220., 143., 140., 189.,\n",
              "       127.])"
            ]
          },
          "metadata": {},
          "execution_count": 28
        }
      ]
    },
    {
      "cell_type": "code",
      "metadata": {
        "colab": {
          "base_uri": "https://localhost:8080/",
          "height": 310
        },
        "id": "CjQ-LPZgMbqC",
        "outputId": "64641c78-a063-4696-cd23-b9eea2b27fca"
      },
      "source": [
        "#ploting the Distribution of Age Column\n",
        "users_df.Age.hist(bins=[0, 10, 20, 30, 40, 50, 100])\n",
        "plt.title('Age Distribution\\n')\n",
        "plt.xlabel('Age')\n",
        "plt.ylabel('Count')\n",
        "plt.show()"
      ],
      "execution_count": 29,
      "outputs": [
        {
          "output_type": "display_data",
          "data": {
            "image/png": "[encoded data removed]",
            "text/plain": [
              "<Figure size 432x288 with 1 Axes>"
            ]
          },
          "metadata": {
            "needs_background": "light"
          }
        }
      ]
    },
    {
      "cell_type": "code",
      "metadata": {
        "id": "5Ypw0xUiM7nZ"
      },
      "source": [
        "## Drop duplicate rows\n",
        "users_df.drop_duplicates(keep='last', inplace=True)\n",
        "#reseting the index \n",
        "users_df.reset_index(drop=True, inplace=True)"
      ],
      "execution_count": 30,
      "outputs": []
    },
    {
      "cell_type": "code",
      "metadata": {
        "colab": {
          "base_uri": "https://localhost:8080/"
        },
        "id": "tyNGzuQ5NynZ",
        "outputId": "26432bc3-051a-4fcc-c392-d51e5f2e9b4d"
      },
      "source": [
        "#getting the info of User_df\n",
        "users_df.info()"
      ],
      "execution_count": 31,
      "outputs": [
        {
          "output_type": "stream",
          "name": "stdout",
          "text": [
            "<class 'pandas.core.frame.DataFrame'>\n",
            "RangeIndex: 278858 entries, 0 to 278857\n",
            "Data columns (total 3 columns):\n",
            " #   Column    Non-Null Count   Dtype  \n",
            "---  ------    --------------   -----  \n",
            " 0   User-ID   278858 non-null  int64  \n",
            " 1   Location  278858 non-null  object \n",
            " 2   Age       168096 non-null  float64\n",
            "dtypes: float64(1), int64(1), object(1)\n",
            "memory usage: 6.4+ MB\n"
          ]
        }
      ]
    },
    {
      "cell_type": "code",
      "metadata": {
        "colab": {
          "base_uri": "https://localhost:8080/",
          "height": 204
        },
        "id": "NGyCuhn5N15Q",
        "outputId": "a31a5b76-603f-4061-8367-47afa9699a9a"
      },
      "source": [
        "#viewing head of user_df\n",
        "users_df.head()"
      ],
      "execution_count": 32,
      "outputs": [
        {
          "output_type": "execute_result",
          "data": {
            "text/html": [
              "<div>\n",
              "<style scoped>\n",
              "    .dataframe tbody tr th:only-of-type {\n",
              "        vertical-align: middle;\n",
              "    }\n",
              "\n",
              "    .dataframe tbody tr th {\n",
              "        vertical-align: top;\n",
              "    }\n",
              "\n",
              "    .dataframe thead th {\n",
              "        text-align: right;\n",
              "    }\n",
              "</style>\n",
              "<table border=\"1\" class=\"dataframe\">\n",
              "  <thead>\n",
              "    <tr style=\"text-align: right;\">\n",
              "      <th></th>\n",
              "      <th>User-ID</th>\n",
              "      <th>Location</th>\n",
              "      <th>Age</th>\n",
              "    </tr>\n",
              "  </thead>\n",
              "  <tbody>\n",
              "    <tr>\n",
              "      <th>0</th>\n",
              "      <td>1</td>\n",
              "      <td>nyc, new york, usa</td>\n",
              "      <td>NaN</td>\n",
              "    </tr>\n",
              "    <tr>\n",
              "      <th>1</th>\n",
              "      <td>2</td>\n",
              "      <td>stockton, california, usa</td>\n",
              "      <td>18.0</td>\n",
              "    </tr>\n",
              "    <tr>\n",
              "      <th>2</th>\n",
              "      <td>3</td>\n",
              "      <td>moscow, yukon territory, russia</td>\n",
              "      <td>NaN</td>\n",
              "    </tr>\n",
              "    <tr>\n",
              "      <th>3</th>\n",
              "      <td>4</td>\n",
              "      <td>porto, v.n.gaia, portugal</td>\n",
              "      <td>17.0</td>\n",
              "    </tr>\n",
              "    <tr>\n",
              "      <th>4</th>\n",
              "      <td>5</td>\n",
              "      <td>farnborough, hants, united kingdom</td>\n",
              "      <td>NaN</td>\n",
              "    </tr>\n",
              "  </tbody>\n",
              "</table>\n",
              "</div>"
            ],
            "text/plain": [
              "   User-ID                            Location   Age\n",
              "0        1                  nyc, new york, usa   NaN\n",
              "1        2           stockton, california, usa  18.0\n",
              "2        3     moscow, yukon territory, russia   NaN\n",
              "3        4           porto, v.n.gaia, portugal  17.0\n",
              "4        5  farnborough, hants, united kingdom   NaN"
            ]
          },
          "metadata": {},
          "execution_count": 32
        }
      ]
    },
    {
      "cell_type": "markdown",
      "metadata": {
        "id": "as7moSDxOQdZ"
      },
      "source": [
        "## ratings_df Data cleaning and Preprocessing"
      ]
    },
    {
      "cell_type": "code",
      "metadata": {
        "colab": {
          "base_uri": "https://localhost:8080/",
          "height": 221
        },
        "id": "Acl4Y7uyN695",
        "outputId": "be034f7d-6984-47c1-cdc9-887846e58935"
      },
      "source": [
        "#printing the column of Rating_df\n",
        "print(\"Columns: \", list(ratings_df.columns))\n",
        "#getting the head of rating_df\n",
        "ratings_df.head()"
      ],
      "execution_count": 33,
      "outputs": [
        {
          "output_type": "stream",
          "name": "stdout",
          "text": [
            "Columns:  ['User-ID', 'ISBN', 'Book-Rating']\n"
          ]
        },
        {
          "output_type": "execute_result",
          "data": {
            "text/html": [
              "<div>\n",
              "<style scoped>\n",
              "    .dataframe tbody tr th:only-of-type {\n",
              "        vertical-align: middle;\n",
              "    }\n",
              "\n",
              "    .dataframe tbody tr th {\n",
              "        vertical-align: top;\n",
              "    }\n",
              "\n",
              "    .dataframe thead th {\n",
              "        text-align: right;\n",
              "    }\n",
              "</style>\n",
              "<table border=\"1\" class=\"dataframe\">\n",
              "  <thead>\n",
              "    <tr style=\"text-align: right;\">\n",
              "      <th></th>\n",
              "      <th>User-ID</th>\n",
              "      <th>ISBN</th>\n",
              "      <th>Book-Rating</th>\n",
              "    </tr>\n",
              "  </thead>\n",
              "  <tbody>\n",
              "    <tr>\n",
              "      <th>0</th>\n",
              "      <td>276725</td>\n",
              "      <td>034545104X</td>\n",
              "      <td>0</td>\n",
              "    </tr>\n",
              "    <tr>\n",
              "      <th>1</th>\n",
              "      <td>276726</td>\n",
              "      <td>0155061224</td>\n",
              "      <td>5</td>\n",
              "    </tr>\n",
              "    <tr>\n",
              "      <th>2</th>\n",
              "      <td>276727</td>\n",
              "      <td>0446520802</td>\n",
              "      <td>0</td>\n",
              "    </tr>\n",
              "    <tr>\n",
              "      <th>3</th>\n",
              "      <td>276729</td>\n",
              "      <td>052165615X</td>\n",
              "      <td>3</td>\n",
              "    </tr>\n",
              "    <tr>\n",
              "      <th>4</th>\n",
              "      <td>276729</td>\n",
              "      <td>0521795028</td>\n",
              "      <td>6</td>\n",
              "    </tr>\n",
              "  </tbody>\n",
              "</table>\n",
              "</div>"
            ],
            "text/plain": [
              "   User-ID        ISBN  Book-Rating\n",
              "0   276725  034545104X            0\n",
              "1   276726  0155061224            5\n",
              "2   276727  0446520802            0\n",
              "3   276729  052165615X            3\n",
              "4   276729  0521795028            6"
            ]
          },
          "metadata": {},
          "execution_count": 33
        }
      ]
    },
    {
      "cell_type": "code",
      "metadata": {
        "colab": {
          "base_uri": "https://localhost:8080/"
        },
        "id": "dTKzraBCOPsh",
        "outputId": "77e7f5f1-78ec-4fb1-ab1c-aa72890a89cd"
      },
      "source": [
        "## Checking for null values\n",
        "ratings_df.isnull().sum()"
      ],
      "execution_count": 34,
      "outputs": [
        {
          "output_type": "execute_result",
          "data": {
            "text/plain": [
              "User-ID        0\n",
              "ISBN           0\n",
              "Book-Rating    0\n",
              "dtype: int64"
            ]
          },
          "metadata": {},
          "execution_count": 34
        }
      ]
    },
    {
      "cell_type": "markdown",
      "metadata": {
        "id": "cDiWh6yCB7CL"
      },
      "source": [
        "Observation:\n",
        "\n",
        "No null value in rating_df"
      ]
    },
    {
      "cell_type": "code",
      "metadata": {
        "id": "npXgcLOjPgyI"
      },
      "source": [
        "## Drop duplicate rows\n",
        "ratings_df.drop_duplicates(keep='last', inplace=True)\n",
        "#reseting index\n",
        "ratings_df.reset_index(drop=True, inplace=True)"
      ],
      "execution_count": 35,
      "outputs": []
    },
    {
      "cell_type": "code",
      "metadata": {
        "colab": {
          "base_uri": "https://localhost:8080/"
        },
        "id": "oHoMzlwuOxEw",
        "outputId": "26729369-9a07-4285-e97c-25c82bf680e3"
      },
      "source": [
        "#getting infor of Rating Df\n",
        "ratings_df.info()"
      ],
      "execution_count": 36,
      "outputs": [
        {
          "output_type": "stream",
          "name": "stdout",
          "text": [
            "<class 'pandas.core.frame.DataFrame'>\n",
            "RangeIndex: 1149780 entries, 0 to 1149779\n",
            "Data columns (total 3 columns):\n",
            " #   Column       Non-Null Count    Dtype \n",
            "---  ------       --------------    ----- \n",
            " 0   User-ID      1149780 non-null  int64 \n",
            " 1   ISBN         1149780 non-null  object\n",
            " 2   Book-Rating  1149780 non-null  int64 \n",
            "dtypes: int64(2), object(1)\n",
            "memory usage: 26.3+ MB\n"
          ]
        }
      ]
    },
    {
      "cell_type": "code",
      "metadata": {
        "colab": {
          "base_uri": "https://localhost:8080/",
          "height": 204
        },
        "id": "hrPq_Ao2O434",
        "outputId": "4f4d7272-03cb-4ff5-cc33-1fae9a2b6966"
      },
      "source": [
        "#getting the head of Rating df\n",
        "ratings_df.head()"
      ],
      "execution_count": 37,
      "outputs": [
        {
          "output_type": "execute_result",
          "data": {
            "text/html": [
              "<div>\n",
              "<style scoped>\n",
              "    .dataframe tbody tr th:only-of-type {\n",
              "        vertical-align: middle;\n",
              "    }\n",
              "\n",
              "    .dataframe tbody tr th {\n",
              "        vertical-align: top;\n",
              "    }\n",
              "\n",
              "    .dataframe thead th {\n",
              "        text-align: right;\n",
              "    }\n",
              "</style>\n",
              "<table border=\"1\" class=\"dataframe\">\n",
              "  <thead>\n",
              "    <tr style=\"text-align: right;\">\n",
              "      <th></th>\n",
              "      <th>User-ID</th>\n",
              "      <th>ISBN</th>\n",
              "      <th>Book-Rating</th>\n",
              "    </tr>\n",
              "  </thead>\n",
              "  <tbody>\n",
              "    <tr>\n",
              "      <th>0</th>\n",
              "      <td>276725</td>\n",
              "      <td>034545104X</td>\n",
              "      <td>0</td>\n",
              "    </tr>\n",
              "    <tr>\n",
              "      <th>1</th>\n",
              "      <td>276726</td>\n",
              "      <td>0155061224</td>\n",
              "      <td>5</td>\n",
              "    </tr>\n",
              "    <tr>\n",
              "      <th>2</th>\n",
              "      <td>276727</td>\n",
              "      <td>0446520802</td>\n",
              "      <td>0</td>\n",
              "    </tr>\n",
              "    <tr>\n",
              "      <th>3</th>\n",
              "      <td>276729</td>\n",
              "      <td>052165615X</td>\n",
              "      <td>3</td>\n",
              "    </tr>\n",
              "    <tr>\n",
              "      <th>4</th>\n",
              "      <td>276729</td>\n",
              "      <td>0521795028</td>\n",
              "      <td>6</td>\n",
              "    </tr>\n",
              "  </tbody>\n",
              "</table>\n",
              "</div>"
            ],
            "text/plain": [
              "   User-ID        ISBN  Book-Rating\n",
              "0   276725  034545104X            0\n",
              "1   276726  0155061224            5\n",
              "2   276727  0446520802            0\n",
              "3   276729  052165615X            3\n",
              "4   276729  0521795028            6"
            ]
          },
          "metadata": {},
          "execution_count": 37
        }
      ]
    },
    {
      "cell_type": "code",
      "metadata": {
        "id": "9FXiWfY2PoOo"
      },
      "source": [
        "#first merging book_df and rating_df on 'ISBN' as new Dataframe called Dataset\n",
        "dataset = pd.merge(books_df, ratings_df, on='ISBN', how='inner')\n",
        "#again merging dataset dataframe and user_df on User_id\n",
        "dataset = pd.merge(dataset, users_df, on='User-ID', how='inner')"
      ],
      "execution_count": 38,
      "outputs": []
    },
    {
      "cell_type": "code",
      "metadata": {
        "colab": {
          "base_uri": "https://localhost:8080/"
        },
        "id": "Afb_0WkzPvgQ",
        "outputId": "2fe90554-8319-454c-cb90-5e75d81668eb"
      },
      "source": [
        "#getting info of final dataset\n",
        "dataset.info()"
      ],
      "execution_count": 39,
      "outputs": [
        {
          "output_type": "stream",
          "name": "stdout",
          "text": [
            "<class 'pandas.core.frame.DataFrame'>\n",
            "Int64Index: 1031136 entries, 0 to 1031135\n",
            "Data columns (total 9 columns):\n",
            " #   Column               Non-Null Count    Dtype  \n",
            "---  ------               --------------    -----  \n",
            " 0   ISBN                 1031136 non-null  object \n",
            " 1   Book-Title           1031136 non-null  object \n",
            " 2   Book-Author          1031136 non-null  object \n",
            " 3   Year-Of-Publication  1031136 non-null  float64\n",
            " 4   Publisher            1031136 non-null  object \n",
            " 5   User-ID              1031136 non-null  int64  \n",
            " 6   Book-Rating          1031136 non-null  int64  \n",
            " 7   Location             1031136 non-null  object \n",
            " 8   Age                  753301 non-null   float64\n",
            "dtypes: float64(2), int64(2), object(5)\n",
            "memory usage: 78.7+ MB\n"
          ]
        }
      ]
    },
    {
      "cell_type": "markdown",
      "metadata": {
        "id": "rOT7HbuoQzhw"
      },
      "source": [
        "# **Data Visualization**"
      ]
    },
    {
      "cell_type": "code",
      "metadata": {
        "colab": {
          "base_uri": "https://localhost:8080/"
        },
        "id": "b_hUbTuT-KG8",
        "outputId": "9f839bcb-071d-4c2c-fdf2-194542057618"
      },
      "source": [
        "#Describing title Book Data\n",
        "books_df['Book-Title'].describe()"
      ],
      "execution_count": 40,
      "outputs": [
        {
          "output_type": "execute_result",
          "data": {
            "text/plain": [
              "count             271360\n",
              "unique            242135\n",
              "top       Selected Poems\n",
              "freq                  27\n",
              "Name: Book-Title, dtype: object"
            ]
          },
          "metadata": {},
          "execution_count": 40
        }
      ]
    },
    {
      "cell_type": "code",
      "metadata": {
        "colab": {
          "base_uri": "https://localhost:8080/",
          "height": 421
        },
        "id": "yLnrtyXBQ1s_",
        "outputId": "f527b041-afd0-43c3-d044-9ac7337760e7"
      },
      "source": [
        "plt.figure(figsize=(15,6))\n",
        "sns.countplot(y=\"Book-Author\", data=books_df,order=books_df['Book-Author'].value_counts().index[0:15])\n",
        "plt.title(\"No of books by an author (Top 15)\")"
      ],
      "execution_count": 41,
      "outputs": [
        {
          "output_type": "execute_result",
          "data": {
            "text/plain": [
              "Text(0.5, 1.0, 'No of books by an author (Top 15)')"
            ]
          },
          "metadata": {},
          "execution_count": 41
        },
        {
          "output_type": "display_data",
          "data": {
            "image/png": "[encoded data removed]",
            "text/plain": [
              "<Figure size 1080x432 with 1 Axes>"
            ]
          },
          "metadata": {
            "needs_background": "light"
          }
        }
      ]
    },
    {
      "cell_type": "code",
      "metadata": {
        "colab": {
          "base_uri": "https://localhost:8080/"
        },
        "id": "lmh8VdvOHwXO",
        "outputId": "26028599-8b61-4f06-e6f6-cf5c78d35cab"
      },
      "source": [
        "#Describing title Book Data\n",
        "books_df['Book-Author'].describe()"
      ],
      "execution_count": 42,
      "outputs": [
        {
          "output_type": "execute_result",
          "data": {
            "text/plain": [
              "count              271360\n",
              "unique             102024\n",
              "top       Agatha Christie\n",
              "freq                  632\n",
              "Name: Book-Author, dtype: object"
            ]
          },
          "metadata": {},
          "execution_count": 42
        }
      ]
    },
    {
      "cell_type": "markdown",
      "metadata": {
        "id": "su9p0Zpb6kAm"
      },
      "source": [
        "observation:\n",
        "\n",
        "* We have 242135 unique Book Title.\n",
        "* we have total 102024 unique Authors\n",
        "* The author with most no of books is Agatha Christie with almost 632 books\n"
      ]
    },
    {
      "cell_type": "code",
      "metadata": {
        "colab": {
          "base_uri": "https://localhost:8080/"
        },
        "id": "VDA5pj7oIwD-",
        "outputId": "a8c29aaa-a586-4e7b-e1c6-c8af2efa23c9"
      },
      "source": [
        "#Describing title Book Data\n",
        "books_df['Publisher'].describe()"
      ],
      "execution_count": 43,
      "outputs": [
        {
          "output_type": "execute_result",
          "data": {
            "text/plain": [
              "count        271360\n",
              "unique        16805\n",
              "top       Harlequin\n",
              "freq           7535\n",
              "Name: Publisher, dtype: object"
            ]
          },
          "metadata": {},
          "execution_count": 43
        }
      ]
    },
    {
      "cell_type": "code",
      "metadata": {
        "colab": {
          "base_uri": "https://localhost:8080/",
          "height": 421
        },
        "id": "wkZZLZgRQ2O2",
        "outputId": "df5843c5-8085-4dde-a5b1-7ebdae3f0554"
      },
      "source": [
        "plt.figure(figsize=(15,6))\n",
        "sns.countplot(y=\"Publisher\", data=books_df,order=books_df['Publisher'].value_counts().index[0:15])\n",
        "plt.title(\"No of books published by a publisher (Top 15)\")"
      ],
      "execution_count": 44,
      "outputs": [
        {
          "output_type": "execute_result",
          "data": {
            "text/plain": [
              "Text(0.5, 1.0, 'No of books published by a publisher (Top 15)')"
            ]
          },
          "metadata": {},
          "execution_count": 44
        },
        {
          "output_type": "display_data",
          "data": {
            "image/png": "[encoded data removed]",
            "text/plain": [
              "<Figure size 1080x432 with 1 Axes>"
            ]
          },
          "metadata": {
            "needs_background": "light"
          }
        }
      ]
    },
    {
      "cell_type": "markdown",
      "metadata": {
        "id": "02YLXp0kHt6v"
      },
      "source": [
        "observation:\n",
        "\n",
        "* we have total 16805 Unique \"Publisher\"\n",
        "* Publisher \"Harlequin\" has published most no of books almost 7535"
      ]
    },
    {
      "cell_type": "code",
      "metadata": {
        "colab": {
          "base_uri": "https://localhost:8080/",
          "height": 404
        },
        "id": "-vEzFYpFJBbH",
        "outputId": "e7531b71-b658-48f4-d76a-06c56bee80d9"
      },
      "source": [
        "# plot for most no of books publised in a year\n",
        "plt.figure(figsize=(15,6))\n",
        "sns.countplot(y=\"Year-Of-Publication\", data=books_df,order=books_df['Year-Of-Publication'].value_counts().index[:15])\n",
        "plt.title('top 15 years with most no of book publication')\n",
        "plt.show()"
      ],
      "execution_count": 45,
      "outputs": [
        {
          "output_type": "display_data",
          "data": {
            "image/png": "[encoded data removed]",
            "text/plain": [
              "<Figure size 1080x432 with 1 Axes>"
            ]
          },
          "metadata": {
            "needs_background": "light"
          }
        }
      ]
    },
    {
      "cell_type": "markdown",
      "metadata": {
        "id": "kz2L9QknJ2ht"
      },
      "source": [
        "observation:\n",
        "* Most of the books are published between 1999 and 2002"
      ]
    },
    {
      "cell_type": "code",
      "metadata": {
        "colab": {
          "base_uri": "https://localhost:8080/",
          "height": 405
        },
        "id": "byOdBwNFRGFp",
        "outputId": "8bb17720-a961-4cfe-b92c-6ec1e203590c"
      },
      "source": [
        "plt.figure(figsize=(8,6))\n",
        "sns.countplot(x=\"Book-Rating\", data=ratings_df,order=ratings_df['Book-Rating'].value_counts().index[:])"
      ],
      "execution_count": 46,
      "outputs": [
        {
          "output_type": "execute_result",
          "data": {
            "text/plain": [
              "<matplotlib.axes._subplots.AxesSubplot at 0x7f414e1c7810>"
            ]
          },
          "metadata": {},
          "execution_count": 46
        },
        {
          "output_type": "display_data",
          "data": {
            "image/png": "[encoded data removed]",
            "text/plain": [
              "<Figure size 576x432 with 1 Axes>"
            ]
          },
          "metadata": {
            "needs_background": "light"
          }
        }
      ]
    },
    {
      "cell_type": "markdown",
      "metadata": {
        "id": "A5eI8OwJKq-m"
      },
      "source": [
        "observation:\n",
        " Large no. of books are not rated or rated as 0"
      ]
    },
    {
      "cell_type": "code",
      "metadata": {
        "colab": {
          "base_uri": "https://localhost:8080/",
          "height": 610
        },
        "id": "HHIhvKLMRVQ_",
        "outputId": "fa9d62c9-dbe9-46b5-c990-10841ad9c78c"
      },
      "source": [
        "#ploting the location count\n",
        "plt.figure(figsize=(20,6))\n",
        "sns.countplot(x=\"Location\", data=users_df,order=users_df['Location'].value_counts().index[0:15])\n",
        "plt.title(\"No of readers from each city (Top 15)\")\n",
        "plt.xticks(rotation=90)"
      ],
      "execution_count": 47,
      "outputs": [
        {
          "output_type": "execute_result",
          "data": {
            "text/plain": [
              "(array([ 0,  1,  2,  3,  4,  5,  6,  7,  8,  9, 10, 11, 12, 13, 14]),\n",
              " <a list of 15 Text major ticklabel objects>)"
            ]
          },
          "metadata": {},
          "execution_count": 47
        },
        {
          "output_type": "display_data",
          "data": {
            "image/png": "[encoded data removed]",
            "text/plain": [
              "<Figure size 1440x432 with 1 Axes>"
            ]
          },
          "metadata": {
            "needs_background": "light"
          }
        }
      ]
    },
    {
      "cell_type": "markdown",
      "metadata": {
        "id": "7Oa5urERK0bt"
      },
      "source": [
        "Obeservation:\n",
        "\n",
        "we can see that for location london,england,united kingdaon has highgest no of readers"
      ]
    },
    {
      "cell_type": "code",
      "metadata": {
        "colab": {
          "base_uri": "https://localhost:8080/",
          "height": 350
        },
        "id": "XBUUbRLBlGcd",
        "outputId": "4d9dc432-f364-4789-b5ca-b52e267bc3d1"
      },
      "source": [
        "#ploting Distribution polt for age column\n",
        "plt.figure(figsize=(8, 5))\n",
        "sns.distplot(users_df.Age)\n",
        "plt.title('Age Distribution Plot')\n",
        "plt.show()"
      ],
      "execution_count": 48,
      "outputs": [
        {
          "output_type": "display_data",
          "data": {
            "image/png": "[encoded data removed]",
            "text/plain": [
              "<Figure size 576x360 with 1 Axes>"
            ]
          },
          "metadata": {
            "needs_background": "light"
          }
        }
      ]
    },
    {
      "cell_type": "code",
      "metadata": {
        "colab": {
          "base_uri": "https://localhost:8080/",
          "height": 334
        },
        "id": "em1y9t6zlNPV",
        "outputId": "9713c179-4b4f-46f4-c1df-caedde152b2a"
      },
      "source": [
        "# Checking the Outliers in Age.\n",
        "plt.figure(figsize = (10,5))\n",
        "sns.boxplot(users_df.Age)\n",
        "plt.xlabel('Age')\n",
        "plt.show()"
      ],
      "execution_count": 49,
      "outputs": [
        {
          "output_type": "display_data",
          "data": {
            "image/png": "[encoded data removed]",
            "text/plain": [
              "<Figure size 720x360 with 1 Axes>"
            ]
          },
          "metadata": {
            "needs_background": "light"
          }
        }
      ]
    },
    {
      "cell_type": "markdown",
      "metadata": {
        "id": "ziKAddsIl1vE"
      },
      "source": [
        "**handling outlier**"
      ]
    },
    {
      "cell_type": "code",
      "metadata": {
        "id": "QL5E3RJxlRuV"
      },
      "source": [
        "# First we are filling the nan value where the age is greater than 90 and less than 8 then replacing the nan with mean value.\n",
        "users_df.loc[(users_df['Age'] > 90) | (users_df['Age'] < 8), 'Age']= np.NAN\n",
        "users_df['Age']= users_df['Age'].fillna(users_df['Age'].mean())\n",
        "users_df['Age']= users_df['Age'].astype(np.int32)"
      ],
      "execution_count": 50,
      "outputs": []
    },
    {
      "cell_type": "code",
      "metadata": {
        "colab": {
          "base_uri": "https://localhost:8080/",
          "height": 334
        },
        "id": "z-XNyCRRlVHW",
        "outputId": "07708460-ee4a-455c-c665-d05003270991"
      },
      "source": [
        "plt.figure(figsize = (10,5))\n",
        "sns.boxplot(users_df.Age)\n",
        "plt.xlabel('Age')\n",
        "plt.show()"
      ],
      "execution_count": 51,
      "outputs": [
        {
          "output_type": "display_data",
          "data": {
            "image/png": "[encoded data removed]",
            "text/plain": [
              "<Figure size 720x360 with 1 Axes>"
            ]
          },
          "metadata": {
            "needs_background": "light"
          }
        }
      ]
    },
    {
      "cell_type": "code",
      "metadata": {
        "colab": {
          "base_uri": "https://localhost:8080/"
        },
        "id": "TSYjlTZElbCF",
        "outputId": "481fadcd-0332-4123-bf5a-a86358ce1453"
      },
      "source": [
        "books_df['Year-Of-Publication'].describe()"
      ],
      "execution_count": 52,
      "outputs": [
        {
          "output_type": "execute_result",
          "data": {
            "text/plain": [
              "count    271360.000000\n",
              "mean       1993.693241\n",
              "std           8.249980\n",
              "min        1376.000000\n",
              "25%        1989.000000\n",
              "50%        1995.000000\n",
              "75%        2000.000000\n",
              "max        2021.000000\n",
              "Name: Year-Of-Publication, dtype: float64"
            ]
          },
          "metadata": {},
          "execution_count": 52
        }
      ]
    },
    {
      "cell_type": "code",
      "metadata": {
        "colab": {
          "base_uri": "https://localhost:8080/",
          "height": 411
        },
        "id": "yYEu6Ob0leHM",
        "outputId": "3d969203-5faf-4313-8f36-baab6ff27b7f"
      },
      "source": [
        "fig= plt.figure(figsize=(15,7))\n",
        "books_df['Year-Of-Publication'].value_counts().head(10).plot(kind='pie', autopct='%1.2f%%')\n",
        "plt.show()"
      ],
      "execution_count": 53,
      "outputs": [
        {
          "output_type": "display_data",
          "data": {
            "image/png": "[encoded data removed]",
            "text/plain": [
              "<Figure size 1080x504 with 1 Axes>"
            ]
          },
          "metadata": {}
        }
      ]
    },
    {
      "cell_type": "markdown",
      "metadata": {
        "id": "CjyNeb8flnc2"
      },
      "source": [
        "**observation**\n",
        "\n",
        "Most of the book published on 2002"
      ]
    },
    {
      "cell_type": "markdown",
      "metadata": {
        "id": "NVvES1glXVVh"
      },
      "source": [
        "# **Collaborative Filtering**"
      ]
    },
    {
      "cell_type": "markdown",
      "metadata": {
        "id": "eigX2UAjXfO3"
      },
      "source": [
        "Collaborative filtering (CF) is a technique used by recommender systems.In the newer, narrower sense, collaborative filtering is a method of making automatic predictions (filtering) about the interests of a user by collecting preferences or taste information from many users (collaborating)."
      ]
    },
    {
      "cell_type": "code",
      "metadata": {
        "colab": {
          "base_uri": "https://localhost:8080/",
          "height": 204
        },
        "id": "13kZCnud2Mfn",
        "outputId": "99f2d125-f46e-4853-fcb4-faf742e3b501"
      },
      "source": [
        "#viewing top 5 row of user Data\n",
        "users_df.head()"
      ],
      "execution_count": 54,
      "outputs": [
        {
          "output_type": "execute_result",
          "data": {
            "text/html": [
              "<div>\n",
              "<style scoped>\n",
              "    .dataframe tbody tr th:only-of-type {\n",
              "        vertical-align: middle;\n",
              "    }\n",
              "\n",
              "    .dataframe tbody tr th {\n",
              "        vertical-align: top;\n",
              "    }\n",
              "\n",
              "    .dataframe thead th {\n",
              "        text-align: right;\n",
              "    }\n",
              "</style>\n",
              "<table border=\"1\" class=\"dataframe\">\n",
              "  <thead>\n",
              "    <tr style=\"text-align: right;\">\n",
              "      <th></th>\n",
              "      <th>User-ID</th>\n",
              "      <th>Location</th>\n",
              "      <th>Age</th>\n",
              "    </tr>\n",
              "  </thead>\n",
              "  <tbody>\n",
              "    <tr>\n",
              "      <th>0</th>\n",
              "      <td>1</td>\n",
              "      <td>nyc, new york, usa</td>\n",
              "      <td>34</td>\n",
              "    </tr>\n",
              "    <tr>\n",
              "      <th>1</th>\n",
              "      <td>2</td>\n",
              "      <td>stockton, california, usa</td>\n",
              "      <td>18</td>\n",
              "    </tr>\n",
              "    <tr>\n",
              "      <th>2</th>\n",
              "      <td>3</td>\n",
              "      <td>moscow, yukon territory, russia</td>\n",
              "      <td>34</td>\n",
              "    </tr>\n",
              "    <tr>\n",
              "      <th>3</th>\n",
              "      <td>4</td>\n",
              "      <td>porto, v.n.gaia, portugal</td>\n",
              "      <td>17</td>\n",
              "    </tr>\n",
              "    <tr>\n",
              "      <th>4</th>\n",
              "      <td>5</td>\n",
              "      <td>farnborough, hants, united kingdom</td>\n",
              "      <td>34</td>\n",
              "    </tr>\n",
              "  </tbody>\n",
              "</table>\n",
              "</div>"
            ],
            "text/plain": [
              "   User-ID                            Location  Age\n",
              "0        1                  nyc, new york, usa   34\n",
              "1        2           stockton, california, usa   18\n",
              "2        3     moscow, yukon territory, russia   34\n",
              "3        4           porto, v.n.gaia, portugal   17\n",
              "4        5  farnborough, hants, united kingdom   34"
            ]
          },
          "metadata": {},
          "execution_count": 54
        }
      ]
    },
    {
      "cell_type": "markdown",
      "metadata": {
        "id": "3EAg_PoTLw1V"
      },
      "source": [
        "## **Collaborative Filtering Using k-Nearest Neighbors (kNN)**"
      ]
    },
    {
      "cell_type": "markdown",
      "metadata": {
        "id": "T_tUgYeLL4vb"
      },
      "source": [
        "kNN is a machine learning algorithm to find clusters of similar users based on common book ratings, and make predictions using the average rating of top-k nearest neighbors. For example, we first present ratings in a matrix with the matrix having one row for each item (book) and one column for each user."
      ]
    },
    {
      "cell_type": "markdown",
      "metadata": {
        "id": "nnMhmn6YLyIA"
      },
      "source": [
        "First, we need to find out the average rating, and the number of ratings each book received."
      ]
    },
    {
      "cell_type": "code",
      "metadata": {
        "colab": {
          "base_uri": "https://localhost:8080/",
          "height": 450
        },
        "id": "sJSKhzm-LOy9",
        "outputId": "9b7e1f33-caeb-4ffc-cf85-02e707d6907e"
      },
      "source": [
        "#creating Dataframe to find the average rating of each book grouping by ISBN number\n",
        "average_rating = pd.DataFrame(ratings_df.groupby('ISBN')['Book-Rating'].mean())\n",
        "average_rating['ratingCount'] = pd.DataFrame(ratings_df.groupby('ISBN')['Book-Rating'].count())\n",
        "average_rating.sort_values('ratingCount', ascending=False)"
      ],
      "execution_count": 55,
      "outputs": [
        {
          "output_type": "execute_result",
          "data": {
            "text/html": [
              "<div>\n",
              "<style scoped>\n",
              "    .dataframe tbody tr th:only-of-type {\n",
              "        vertical-align: middle;\n",
              "    }\n",
              "\n",
              "    .dataframe tbody tr th {\n",
              "        vertical-align: top;\n",
              "    }\n",
              "\n",
              "    .dataframe thead th {\n",
              "        text-align: right;\n",
              "    }\n",
              "</style>\n",
              "<table border=\"1\" class=\"dataframe\">\n",
              "  <thead>\n",
              "    <tr style=\"text-align: right;\">\n",
              "      <th></th>\n",
              "      <th>Book-Rating</th>\n",
              "      <th>ratingCount</th>\n",
              "    </tr>\n",
              "    <tr>\n",
              "      <th>ISBN</th>\n",
              "      <th></th>\n",
              "      <th></th>\n",
              "    </tr>\n",
              "  </thead>\n",
              "  <tbody>\n",
              "    <tr>\n",
              "      <th>0971880107</th>\n",
              "      <td>1.019584</td>\n",
              "      <td>2502</td>\n",
              "    </tr>\n",
              "    <tr>\n",
              "      <th>0316666343</th>\n",
              "      <td>4.468726</td>\n",
              "      <td>1295</td>\n",
              "    </tr>\n",
              "    <tr>\n",
              "      <th>0385504209</th>\n",
              "      <td>4.652322</td>\n",
              "      <td>883</td>\n",
              "    </tr>\n",
              "    <tr>\n",
              "      <th>0060928336</th>\n",
              "      <td>3.448087</td>\n",
              "      <td>732</td>\n",
              "    </tr>\n",
              "    <tr>\n",
              "      <th>0312195516</th>\n",
              "      <td>4.334716</td>\n",
              "      <td>723</td>\n",
              "    </tr>\n",
              "    <tr>\n",
              "      <th>...</th>\n",
              "      <td>...</td>\n",
              "      <td>...</td>\n",
              "    </tr>\n",
              "    <tr>\n",
              "      <th>0801064090</th>\n",
              "      <td>0.000000</td>\n",
              "      <td>1</td>\n",
              "    </tr>\n",
              "    <tr>\n",
              "      <th>0801064252</th>\n",
              "      <td>5.000000</td>\n",
              "      <td>1</td>\n",
              "    </tr>\n",
              "    <tr>\n",
              "      <th>0801064279</th>\n",
              "      <td>0.000000</td>\n",
              "      <td>1</td>\n",
              "    </tr>\n",
              "    <tr>\n",
              "      <th>0801064333</th>\n",
              "      <td>0.000000</td>\n",
              "      <td>1</td>\n",
              "    </tr>\n",
              "    <tr>\n",
              "      <th>Ô½crosoft</th>\n",
              "      <td>7.000000</td>\n",
              "      <td>1</td>\n",
              "    </tr>\n",
              "  </tbody>\n",
              "</table>\n",
              "<p>340556 rows × 2 columns</p>\n",
              "</div>"
            ],
            "text/plain": [
              "            Book-Rating  ratingCount\n",
              "ISBN                                \n",
              "0971880107     1.019584         2502\n",
              "0316666343     4.468726         1295\n",
              "0385504209     4.652322          883\n",
              "0060928336     3.448087          732\n",
              "0312195516     4.334716          723\n",
              "...                 ...          ...\n",
              "0801064090     0.000000            1\n",
              "0801064252     5.000000            1\n",
              "0801064279     0.000000            1\n",
              "0801064333     0.000000            1\n",
              "Ô½crosoft      7.000000            1\n",
              "\n",
              "[340556 rows x 2 columns]"
            ]
          },
          "metadata": {},
          "execution_count": 55
        }
      ]
    },
    {
      "cell_type": "markdown",
      "metadata": {
        "id": "96aBgBprHVMZ"
      },
      "source": [
        "observation\n",
        "* In this data set, the book that received most rating counts was not highly rated at all. As a result, if we were to use recommendations based on rating counts, we would definitely make mistakes here. So, we need to have a better system."
      ]
    },
    {
      "cell_type": "markdown",
      "metadata": {
        "id": "4LfeHneiTGz6"
      },
      "source": [
        "##**Note**\n",
        "**To ensure statistical significance, We will consider only those books in which atleast 50 ratings have been given by the users and users who have given atleast 50 ratings**"
      ]
    },
    {
      "cell_type": "code",
      "metadata": {
        "id": "anIeHkhIWnp4"
      },
      "source": [
        "counts = ratings_df['Book-Rating'].value_counts()\n",
        "ratings_df = ratings_df[ratings_df['Book-Rating'].isin(counts[counts >= 50].index)]\n",
        "counts1 = ratings_df['User-ID'].value_counts()\n",
        "ratings_df = ratings_df[ratings_df['User-ID'].isin(counts1[counts1 >= 50].index)]\n"
      ],
      "execution_count": 56,
      "outputs": []
    },
    {
      "cell_type": "markdown",
      "metadata": {
        "id": "wThoqn9aGHo4"
      },
      "source": [
        "Merging the two dataset (ratings data and books data.)"
      ]
    },
    {
      "cell_type": "code",
      "metadata": {
        "colab": {
          "base_uri": "https://localhost:8080/",
          "height": 669
        },
        "id": "1PrDue8IK6Nh",
        "outputId": "008013e9-a4cb-4d87-b025-44eab0dfaa19"
      },
      "source": [
        "#merging both DF on ISBN number\n",
        "combine_book_rating = pd.merge(ratings_df, books_df, on='ISBN')\n",
        "#columns = ['Year-Of-Publication', 'Publisher', 'Book-Author', 'Image-URL-S', 'Image-URL-M', 'Image-URL-L']\n",
        "#droping extra columns\n",
        "#combine_book_rating = combine_book_rating.drop(columns, axis=1)\n",
        "#viewing top 20 row of merged DF\n",
        "combine_book_rating.head(20)"
      ],
      "execution_count": 57,
      "outputs": [
        {
          "output_type": "execute_result",
          "data": {
            "text/html": [
              "<div>\n",
              "<style scoped>\n",
              "    .dataframe tbody tr th:only-of-type {\n",
              "        vertical-align: middle;\n",
              "    }\n",
              "\n",
              "    .dataframe tbody tr th {\n",
              "        vertical-align: top;\n",
              "    }\n",
              "\n",
              "    .dataframe thead th {\n",
              "        text-align: right;\n",
              "    }\n",
              "</style>\n",
              "<table border=\"1\" class=\"dataframe\">\n",
              "  <thead>\n",
              "    <tr style=\"text-align: right;\">\n",
              "      <th></th>\n",
              "      <th>User-ID</th>\n",
              "      <th>ISBN</th>\n",
              "      <th>Book-Rating</th>\n",
              "      <th>Book-Title</th>\n",
              "      <th>Book-Author</th>\n",
              "      <th>Year-Of-Publication</th>\n",
              "      <th>Publisher</th>\n",
              "    </tr>\n",
              "  </thead>\n",
              "  <tbody>\n",
              "    <tr>\n",
              "      <th>0</th>\n",
              "      <td>276847</td>\n",
              "      <td>0446364193</td>\n",
              "      <td>0</td>\n",
              "      <td>Along Came a Spider (Alex Cross Novels)</td>\n",
              "      <td>James Patterson</td>\n",
              "      <td>1993.0</td>\n",
              "      <td>Warner Books</td>\n",
              "    </tr>\n",
              "    <tr>\n",
              "      <th>1</th>\n",
              "      <td>278418</td>\n",
              "      <td>0446364193</td>\n",
              "      <td>0</td>\n",
              "      <td>Along Came a Spider (Alex Cross Novels)</td>\n",
              "      <td>James Patterson</td>\n",
              "      <td>1993.0</td>\n",
              "      <td>Warner Books</td>\n",
              "    </tr>\n",
              "    <tr>\n",
              "      <th>2</th>\n",
              "      <td>5483</td>\n",
              "      <td>0446364193</td>\n",
              "      <td>0</td>\n",
              "      <td>Along Came a Spider (Alex Cross Novels)</td>\n",
              "      <td>James Patterson</td>\n",
              "      <td>1993.0</td>\n",
              "      <td>Warner Books</td>\n",
              "    </tr>\n",
              "    <tr>\n",
              "      <th>3</th>\n",
              "      <td>7346</td>\n",
              "      <td>0446364193</td>\n",
              "      <td>0</td>\n",
              "      <td>Along Came a Spider (Alex Cross Novels)</td>\n",
              "      <td>James Patterson</td>\n",
              "      <td>1993.0</td>\n",
              "      <td>Warner Books</td>\n",
              "    </tr>\n",
              "    <tr>\n",
              "      <th>4</th>\n",
              "      <td>8362</td>\n",
              "      <td>0446364193</td>\n",
              "      <td>0</td>\n",
              "      <td>Along Came a Spider (Alex Cross Novels)</td>\n",
              "      <td>James Patterson</td>\n",
              "      <td>1993.0</td>\n",
              "      <td>Warner Books</td>\n",
              "    </tr>\n",
              "    <tr>\n",
              "      <th>5</th>\n",
              "      <td>9177</td>\n",
              "      <td>0446364193</td>\n",
              "      <td>7</td>\n",
              "      <td>Along Came a Spider (Alex Cross Novels)</td>\n",
              "      <td>James Patterson</td>\n",
              "      <td>1993.0</td>\n",
              "      <td>Warner Books</td>\n",
              "    </tr>\n",
              "    <tr>\n",
              "      <th>6</th>\n",
              "      <td>11400</td>\n",
              "      <td>0446364193</td>\n",
              "      <td>0</td>\n",
              "      <td>Along Came a Spider (Alex Cross Novels)</td>\n",
              "      <td>James Patterson</td>\n",
              "      <td>1993.0</td>\n",
              "      <td>Warner Books</td>\n",
              "    </tr>\n",
              "    <tr>\n",
              "      <th>7</th>\n",
              "      <td>11676</td>\n",
              "      <td>0446364193</td>\n",
              "      <td>8</td>\n",
              "      <td>Along Came a Spider (Alex Cross Novels)</td>\n",
              "      <td>James Patterson</td>\n",
              "      <td>1993.0</td>\n",
              "      <td>Warner Books</td>\n",
              "    </tr>\n",
              "    <tr>\n",
              "      <th>8</th>\n",
              "      <td>14521</td>\n",
              "      <td>0446364193</td>\n",
              "      <td>0</td>\n",
              "      <td>Along Came a Spider (Alex Cross Novels)</td>\n",
              "      <td>James Patterson</td>\n",
              "      <td>1993.0</td>\n",
              "      <td>Warner Books</td>\n",
              "    </tr>\n",
              "    <tr>\n",
              "      <th>9</th>\n",
              "      <td>15418</td>\n",
              "      <td>0446364193</td>\n",
              "      <td>0</td>\n",
              "      <td>Along Came a Spider (Alex Cross Novels)</td>\n",
              "      <td>James Patterson</td>\n",
              "      <td>1993.0</td>\n",
              "      <td>Warner Books</td>\n",
              "    </tr>\n",
              "    <tr>\n",
              "      <th>10</th>\n",
              "      <td>16795</td>\n",
              "      <td>0446364193</td>\n",
              "      <td>8</td>\n",
              "      <td>Along Came a Spider (Alex Cross Novels)</td>\n",
              "      <td>James Patterson</td>\n",
              "      <td>1993.0</td>\n",
              "      <td>Warner Books</td>\n",
              "    </tr>\n",
              "    <tr>\n",
              "      <th>11</th>\n",
              "      <td>18067</td>\n",
              "      <td>0446364193</td>\n",
              "      <td>0</td>\n",
              "      <td>Along Came a Spider (Alex Cross Novels)</td>\n",
              "      <td>James Patterson</td>\n",
              "      <td>1993.0</td>\n",
              "      <td>Warner Books</td>\n",
              "    </tr>\n",
              "    <tr>\n",
              "      <th>12</th>\n",
              "      <td>18082</td>\n",
              "      <td>0446364193</td>\n",
              "      <td>7</td>\n",
              "      <td>Along Came a Spider (Alex Cross Novels)</td>\n",
              "      <td>James Patterson</td>\n",
              "      <td>1993.0</td>\n",
              "      <td>Warner Books</td>\n",
              "    </tr>\n",
              "    <tr>\n",
              "      <th>13</th>\n",
              "      <td>19085</td>\n",
              "      <td>0446364193</td>\n",
              "      <td>8</td>\n",
              "      <td>Along Came a Spider (Alex Cross Novels)</td>\n",
              "      <td>James Patterson</td>\n",
              "      <td>1993.0</td>\n",
              "      <td>Warner Books</td>\n",
              "    </tr>\n",
              "    <tr>\n",
              "      <th>14</th>\n",
              "      <td>21031</td>\n",
              "      <td>0446364193</td>\n",
              "      <td>10</td>\n",
              "      <td>Along Came a Spider (Alex Cross Novels)</td>\n",
              "      <td>James Patterson</td>\n",
              "      <td>1993.0</td>\n",
              "      <td>Warner Books</td>\n",
              "    </tr>\n",
              "    <tr>\n",
              "      <th>15</th>\n",
              "      <td>23768</td>\n",
              "      <td>0446364193</td>\n",
              "      <td>0</td>\n",
              "      <td>Along Came a Spider (Alex Cross Novels)</td>\n",
              "      <td>James Patterson</td>\n",
              "      <td>1993.0</td>\n",
              "      <td>Warner Books</td>\n",
              "    </tr>\n",
              "    <tr>\n",
              "      <th>16</th>\n",
              "      <td>26544</td>\n",
              "      <td>0446364193</td>\n",
              "      <td>0</td>\n",
              "      <td>Along Came a Spider (Alex Cross Novels)</td>\n",
              "      <td>James Patterson</td>\n",
              "      <td>1993.0</td>\n",
              "      <td>Warner Books</td>\n",
              "    </tr>\n",
              "    <tr>\n",
              "      <th>17</th>\n",
              "      <td>27788</td>\n",
              "      <td>0446364193</td>\n",
              "      <td>0</td>\n",
              "      <td>Along Came a Spider (Alex Cross Novels)</td>\n",
              "      <td>James Patterson</td>\n",
              "      <td>1993.0</td>\n",
              "      <td>Warner Books</td>\n",
              "    </tr>\n",
              "    <tr>\n",
              "      <th>18</th>\n",
              "      <td>28177</td>\n",
              "      <td>0446364193</td>\n",
              "      <td>7</td>\n",
              "      <td>Along Came a Spider (Alex Cross Novels)</td>\n",
              "      <td>James Patterson</td>\n",
              "      <td>1993.0</td>\n",
              "      <td>Warner Books</td>\n",
              "    </tr>\n",
              "    <tr>\n",
              "      <th>19</th>\n",
              "      <td>29259</td>\n",
              "      <td>0446364193</td>\n",
              "      <td>0</td>\n",
              "      <td>Along Came a Spider (Alex Cross Novels)</td>\n",
              "      <td>James Patterson</td>\n",
              "      <td>1993.0</td>\n",
              "      <td>Warner Books</td>\n",
              "    </tr>\n",
              "  </tbody>\n",
              "</table>\n",
              "</div>"
            ],
            "text/plain": [
              "    User-ID        ISBN  ...  Year-Of-Publication     Publisher\n",
              "0    276847  0446364193  ...               1993.0  Warner Books\n",
              "1    278418  0446364193  ...               1993.0  Warner Books\n",
              "2      5483  0446364193  ...               1993.0  Warner Books\n",
              "3      7346  0446364193  ...               1993.0  Warner Books\n",
              "4      8362  0446364193  ...               1993.0  Warner Books\n",
              "5      9177  0446364193  ...               1993.0  Warner Books\n",
              "6     11400  0446364193  ...               1993.0  Warner Books\n",
              "7     11676  0446364193  ...               1993.0  Warner Books\n",
              "8     14521  0446364193  ...               1993.0  Warner Books\n",
              "9     15418  0446364193  ...               1993.0  Warner Books\n",
              "10    16795  0446364193  ...               1993.0  Warner Books\n",
              "11    18067  0446364193  ...               1993.0  Warner Books\n",
              "12    18082  0446364193  ...               1993.0  Warner Books\n",
              "13    19085  0446364193  ...               1993.0  Warner Books\n",
              "14    21031  0446364193  ...               1993.0  Warner Books\n",
              "15    23768  0446364193  ...               1993.0  Warner Books\n",
              "16    26544  0446364193  ...               1993.0  Warner Books\n",
              "17    27788  0446364193  ...               1993.0  Warner Books\n",
              "18    28177  0446364193  ...               1993.0  Warner Books\n",
              "19    29259  0446364193  ...               1993.0  Warner Books\n",
              "\n",
              "[20 rows x 7 columns]"
            ]
          },
          "metadata": {},
          "execution_count": 57
        }
      ]
    },
    {
      "cell_type": "code",
      "metadata": {
        "id": "EciF2s0sMH_T"
      },
      "source": [
        "#droping columns where Book title is Null\n",
        "combine_book_rating = combine_book_rating.dropna(axis = 0, subset = ['Book-Title'])"
      ],
      "execution_count": 58,
      "outputs": []
    },
    {
      "cell_type": "markdown",
      "metadata": {
        "id": "SzGxlZXqKsY6"
      },
      "source": [
        "We then group by book titles and create a new column for total rating count."
      ]
    },
    {
      "cell_type": "code",
      "metadata": {
        "colab": {
          "base_uri": "https://localhost:8080/",
          "height": 204
        },
        "id": "O28ExI6YKk8v",
        "outputId": "fbe4db13-b9f3-4074-ee53-eca41a239c95"
      },
      "source": [
        "book_ratingCount = (combine_book_rating.\n",
        "     groupby(by = ['Book-Title'])['Book-Rating'].\n",
        "     count().\n",
        "     reset_index().\n",
        "     rename(columns = {'Book-Rating': 'TotalRatingCount'})\n",
        "     [['Book-Title', 'TotalRatingCount']]\n",
        "    )\n",
        "book_ratingCount.head()"
      ],
      "execution_count": 59,
      "outputs": [
        {
          "output_type": "execute_result",
          "data": {
            "text/html": [
              "<div>\n",
              "<style scoped>\n",
              "    .dataframe tbody tr th:only-of-type {\n",
              "        vertical-align: middle;\n",
              "    }\n",
              "\n",
              "    .dataframe tbody tr th {\n",
              "        vertical-align: top;\n",
              "    }\n",
              "\n",
              "    .dataframe thead th {\n",
              "        text-align: right;\n",
              "    }\n",
              "</style>\n",
              "<table border=\"1\" class=\"dataframe\">\n",
              "  <thead>\n",
              "    <tr style=\"text-align: right;\">\n",
              "      <th></th>\n",
              "      <th>Book-Title</th>\n",
              "      <th>TotalRatingCount</th>\n",
              "    </tr>\n",
              "  </thead>\n",
              "  <tbody>\n",
              "    <tr>\n",
              "      <th>0</th>\n",
              "      <td>A Light in the Storm: The Civil War Diary of ...</td>\n",
              "      <td>4</td>\n",
              "    </tr>\n",
              "    <tr>\n",
              "      <th>1</th>\n",
              "      <td>Always Have Popsicles</td>\n",
              "      <td>1</td>\n",
              "    </tr>\n",
              "    <tr>\n",
              "      <th>2</th>\n",
              "      <td>Apple Magic (The Collector's series)</td>\n",
              "      <td>1</td>\n",
              "    </tr>\n",
              "    <tr>\n",
              "      <th>3</th>\n",
              "      <td>Ask Lily (Young Women of Faith: Lily Series, ...</td>\n",
              "      <td>1</td>\n",
              "    </tr>\n",
              "    <tr>\n",
              "      <th>4</th>\n",
              "      <td>Beyond IBM: Leadership Marketing and Finance ...</td>\n",
              "      <td>1</td>\n",
              "    </tr>\n",
              "  </tbody>\n",
              "</table>\n",
              "</div>"
            ],
            "text/plain": [
              "                                          Book-Title  TotalRatingCount\n",
              "0   A Light in the Storm: The Civil War Diary of ...                 4\n",
              "1                              Always Have Popsicles                 1\n",
              "2               Apple Magic (The Collector's series)                 1\n",
              "3   Ask Lily (Young Women of Faith: Lily Series, ...                 1\n",
              "4   Beyond IBM: Leadership Marketing and Finance ...                 1"
            ]
          },
          "metadata": {},
          "execution_count": 59
        }
      ]
    },
    {
      "cell_type": "markdown",
      "metadata": {
        "id": "8C77PGg6Uxht"
      },
      "source": [
        "Combine the rating data with the total rating count data, this gives us exactly what we need to find out which books are popular and filter out lesser-known books."
      ]
    },
    {
      "cell_type": "code",
      "metadata": {
        "colab": {
          "base_uri": "https://localhost:8080/",
          "height": 204
        },
        "id": "xDsKrn4kUzJ1",
        "outputId": "d83d80d6-767a-4945-8d65-44603f18d2a8"
      },
      "source": [
        "rating_with_totalRatingCount = combine_book_rating.merge(book_ratingCount, left_on = 'Book-Title', right_on = 'Book-Title', how = 'left')\n",
        "rating_with_totalRatingCount.head()"
      ],
      "execution_count": 60,
      "outputs": [
        {
          "output_type": "execute_result",
          "data": {
            "text/html": [
              "<div>\n",
              "<style scoped>\n",
              "    .dataframe tbody tr th:only-of-type {\n",
              "        vertical-align: middle;\n",
              "    }\n",
              "\n",
              "    .dataframe tbody tr th {\n",
              "        vertical-align: top;\n",
              "    }\n",
              "\n",
              "    .dataframe thead th {\n",
              "        text-align: right;\n",
              "    }\n",
              "</style>\n",
              "<table border=\"1\" class=\"dataframe\">\n",
              "  <thead>\n",
              "    <tr style=\"text-align: right;\">\n",
              "      <th></th>\n",
              "      <th>User-ID</th>\n",
              "      <th>ISBN</th>\n",
              "      <th>Book-Rating</th>\n",
              "      <th>Book-Title</th>\n",
              "      <th>Book-Author</th>\n",
              "      <th>Year-Of-Publication</th>\n",
              "      <th>Publisher</th>\n",
              "      <th>TotalRatingCount</th>\n",
              "    </tr>\n",
              "  </thead>\n",
              "  <tbody>\n",
              "    <tr>\n",
              "      <th>0</th>\n",
              "      <td>276847</td>\n",
              "      <td>0446364193</td>\n",
              "      <td>0</td>\n",
              "      <td>Along Came a Spider (Alex Cross Novels)</td>\n",
              "      <td>James Patterson</td>\n",
              "      <td>1993.0</td>\n",
              "      <td>Warner Books</td>\n",
              "      <td>198</td>\n",
              "    </tr>\n",
              "    <tr>\n",
              "      <th>1</th>\n",
              "      <td>278418</td>\n",
              "      <td>0446364193</td>\n",
              "      <td>0</td>\n",
              "      <td>Along Came a Spider (Alex Cross Novels)</td>\n",
              "      <td>James Patterson</td>\n",
              "      <td>1993.0</td>\n",
              "      <td>Warner Books</td>\n",
              "      <td>198</td>\n",
              "    </tr>\n",
              "    <tr>\n",
              "      <th>2</th>\n",
              "      <td>5483</td>\n",
              "      <td>0446364193</td>\n",
              "      <td>0</td>\n",
              "      <td>Along Came a Spider (Alex Cross Novels)</td>\n",
              "      <td>James Patterson</td>\n",
              "      <td>1993.0</td>\n",
              "      <td>Warner Books</td>\n",
              "      <td>198</td>\n",
              "    </tr>\n",
              "    <tr>\n",
              "      <th>3</th>\n",
              "      <td>7346</td>\n",
              "      <td>0446364193</td>\n",
              "      <td>0</td>\n",
              "      <td>Along Came a Spider (Alex Cross Novels)</td>\n",
              "      <td>James Patterson</td>\n",
              "      <td>1993.0</td>\n",
              "      <td>Warner Books</td>\n",
              "      <td>198</td>\n",
              "    </tr>\n",
              "    <tr>\n",
              "      <th>4</th>\n",
              "      <td>8362</td>\n",
              "      <td>0446364193</td>\n",
              "      <td>0</td>\n",
              "      <td>Along Came a Spider (Alex Cross Novels)</td>\n",
              "      <td>James Patterson</td>\n",
              "      <td>1993.0</td>\n",
              "      <td>Warner Books</td>\n",
              "      <td>198</td>\n",
              "    </tr>\n",
              "  </tbody>\n",
              "</table>\n",
              "</div>"
            ],
            "text/plain": [
              "   User-ID        ISBN  ...     Publisher TotalRatingCount\n",
              "0   276847  0446364193  ...  Warner Books              198\n",
              "1   278418  0446364193  ...  Warner Books              198\n",
              "2     5483  0446364193  ...  Warner Books              198\n",
              "3     7346  0446364193  ...  Warner Books              198\n",
              "4     8362  0446364193  ...  Warner Books              198\n",
              "\n",
              "[5 rows x 8 columns]"
            ]
          },
          "metadata": {},
          "execution_count": 60
        }
      ]
    },
    {
      "cell_type": "code",
      "metadata": {
        "colab": {
          "base_uri": "https://localhost:8080/"
        },
        "id": "9WPBKbnMCVf5",
        "outputId": "1a11d59a-0b5a-4953-dbb7-2e2ee2d34c2d"
      },
      "source": [
        "#describing the new data\n",
        "rating_with_totalRatingCount['TotalRatingCount'].describe()"
      ],
      "execution_count": 61,
      "outputs": [
        {
          "output_type": "execute_result",
          "data": {
            "text/plain": [
              "count    703434.000000\n",
              "mean         35.008956\n",
              "std          68.959965\n",
              "min           1.000000\n",
              "25%           2.000000\n",
              "50%           8.000000\n",
              "75%          34.000000\n",
              "max         852.000000\n",
              "Name: TotalRatingCount, dtype: float64"
            ]
          },
          "metadata": {},
          "execution_count": 61
        }
      ]
    },
    {
      "cell_type": "code",
      "metadata": {
        "colab": {
          "base_uri": "https://localhost:8080/"
        },
        "id": "V_3wMLyTJ62p",
        "outputId": "0980c81c-319c-4122-a022-e7204e082aff"
      },
      "source": [
        "# Converting the values into float data type.\n",
        "pd.set_option('display.float_format', lambda x: '%.2f' % x)\n",
        "\n",
        "# It provides the descriptive statistcs of the data.\n",
        "print(book_ratingCount['TotalRatingCount'].describe())"
      ],
      "execution_count": 62,
      "outputs": [
        {
          "output_type": "stream",
          "name": "stdout",
          "text": [
            "count   199187.00\n",
            "mean         3.53\n",
            "std         10.54\n",
            "min          1.00\n",
            "25%          1.00\n",
            "50%          1.00\n",
            "75%          3.00\n",
            "max        852.00\n",
            "Name: TotalRatingCount, dtype: float64\n"
          ]
        }
      ]
    },
    {
      "cell_type": "markdown",
      "metadata": {
        "id": "D0_MiqeeVkku"
      },
      "source": [
        "observation\n",
        "* The median book has been rated only once. "
      ]
    },
    {
      "cell_type": "markdown",
      "metadata": {
        "id": "oD7uyhVbV56a"
      },
      "source": [
        "Let’s look at from 90% to 99% to identify the TotalRatingCounts for each of the quantile."
      ]
    },
    {
      "cell_type": "code",
      "metadata": {
        "colab": {
          "base_uri": "https://localhost:8080/"
        },
        "id": "FXNiwtaCVmk0",
        "outputId": "ad178d0e-f78f-47ce-fe39-55410451490e"
      },
      "source": [
        "print(book_ratingCount['TotalRatingCount'].quantile(np.arange(.9, 1, .01)))"
      ],
      "execution_count": 63,
      "outputs": [
        {
          "output_type": "stream",
          "name": "stdout",
          "text": [
            "0.90    6.00\n",
            "0.91    7.00\n",
            "0.92    7.00\n",
            "0.93    8.00\n",
            "0.94    9.00\n",
            "0.95   11.00\n",
            "0.96   13.00\n",
            "0.97   17.00\n",
            "0.98   23.00\n",
            "0.99   39.00\n",
            "Name: TotalRatingCount, dtype: float64\n"
          ]
        }
      ]
    },
    {
      "cell_type": "markdown",
      "metadata": {
        "id": "VQi37kREQRye"
      },
      "source": [
        "observation\n",
        "* We can see about 99% of books received below 31 ratings.\n",
        "* Only about 1% of books recieved 31 or more ratings.\n",
        "\n",
        "As we have so many books in our data, we will limit to above 30 ratings only."
      ]
    },
    {
      "cell_type": "code",
      "metadata": {
        "colab": {
          "base_uri": "https://localhost:8080/",
          "height": 204
        },
        "id": "ZpQJmYyyV-5z",
        "outputId": "22f38783-9e3f-44f4-f985-73c699041714"
      },
      "source": [
        "# Limiting TotalRatingCount above 30 ratings.\n",
        "popularity_threshold = 30\n",
        "rating_popular_book = rating_with_totalRatingCount.query('TotalRatingCount >= @popularity_threshold')\n",
        "rating_popular_book.head()"
      ],
      "execution_count": 64,
      "outputs": [
        {
          "output_type": "execute_result",
          "data": {
            "text/html": [
              "<div>\n",
              "<style scoped>\n",
              "    .dataframe tbody tr th:only-of-type {\n",
              "        vertical-align: middle;\n",
              "    }\n",
              "\n",
              "    .dataframe tbody tr th {\n",
              "        vertical-align: top;\n",
              "    }\n",
              "\n",
              "    .dataframe thead th {\n",
              "        text-align: right;\n",
              "    }\n",
              "</style>\n",
              "<table border=\"1\" class=\"dataframe\">\n",
              "  <thead>\n",
              "    <tr style=\"text-align: right;\">\n",
              "      <th></th>\n",
              "      <th>User-ID</th>\n",
              "      <th>ISBN</th>\n",
              "      <th>Book-Rating</th>\n",
              "      <th>Book-Title</th>\n",
              "      <th>Book-Author</th>\n",
              "      <th>Year-Of-Publication</th>\n",
              "      <th>Publisher</th>\n",
              "      <th>TotalRatingCount</th>\n",
              "    </tr>\n",
              "  </thead>\n",
              "  <tbody>\n",
              "    <tr>\n",
              "      <th>0</th>\n",
              "      <td>276847</td>\n",
              "      <td>0446364193</td>\n",
              "      <td>0</td>\n",
              "      <td>Along Came a Spider (Alex Cross Novels)</td>\n",
              "      <td>James Patterson</td>\n",
              "      <td>1993.00</td>\n",
              "      <td>Warner Books</td>\n",
              "      <td>198</td>\n",
              "    </tr>\n",
              "    <tr>\n",
              "      <th>1</th>\n",
              "      <td>278418</td>\n",
              "      <td>0446364193</td>\n",
              "      <td>0</td>\n",
              "      <td>Along Came a Spider (Alex Cross Novels)</td>\n",
              "      <td>James Patterson</td>\n",
              "      <td>1993.00</td>\n",
              "      <td>Warner Books</td>\n",
              "      <td>198</td>\n",
              "    </tr>\n",
              "    <tr>\n",
              "      <th>2</th>\n",
              "      <td>5483</td>\n",
              "      <td>0446364193</td>\n",
              "      <td>0</td>\n",
              "      <td>Along Came a Spider (Alex Cross Novels)</td>\n",
              "      <td>James Patterson</td>\n",
              "      <td>1993.00</td>\n",
              "      <td>Warner Books</td>\n",
              "      <td>198</td>\n",
              "    </tr>\n",
              "    <tr>\n",
              "      <th>3</th>\n",
              "      <td>7346</td>\n",
              "      <td>0446364193</td>\n",
              "      <td>0</td>\n",
              "      <td>Along Came a Spider (Alex Cross Novels)</td>\n",
              "      <td>James Patterson</td>\n",
              "      <td>1993.00</td>\n",
              "      <td>Warner Books</td>\n",
              "      <td>198</td>\n",
              "    </tr>\n",
              "    <tr>\n",
              "      <th>4</th>\n",
              "      <td>8362</td>\n",
              "      <td>0446364193</td>\n",
              "      <td>0</td>\n",
              "      <td>Along Came a Spider (Alex Cross Novels)</td>\n",
              "      <td>James Patterson</td>\n",
              "      <td>1993.00</td>\n",
              "      <td>Warner Books</td>\n",
              "      <td>198</td>\n",
              "    </tr>\n",
              "  </tbody>\n",
              "</table>\n",
              "</div>"
            ],
            "text/plain": [
              "   User-ID        ISBN  ...     Publisher TotalRatingCount\n",
              "0   276847  0446364193  ...  Warner Books              198\n",
              "1   278418  0446364193  ...  Warner Books              198\n",
              "2     5483  0446364193  ...  Warner Books              198\n",
              "3     7346  0446364193  ...  Warner Books              198\n",
              "4     8362  0446364193  ...  Warner Books              198\n",
              "\n",
              "[5 rows x 8 columns]"
            ]
          },
          "metadata": {},
          "execution_count": 64
        }
      ]
    },
    {
      "cell_type": "code",
      "metadata": {
        "colab": {
          "base_uri": "https://localhost:8080/"
        },
        "id": "8MLzjp_OWcom",
        "outputId": "b67d72ea-ebfc-4f3c-e485-25b9ef4deb30"
      },
      "source": [
        "# Checking the total size of rating_popular_book.\n",
        "rating_popular_book.shape"
      ],
      "execution_count": 65,
      "outputs": [
        {
          "output_type": "execute_result",
          "data": {
            "text/plain": [
              "(192670, 8)"
            ]
          },
          "metadata": {},
          "execution_count": 65
        }
      ]
    },
    {
      "cell_type": "markdown",
      "metadata": {
        "id": "315kWEh4Vps_"
      },
      "source": [
        "Check the number of unique books with respect to the ISBN"
      ]
    },
    {
      "cell_type": "code",
      "metadata": {
        "colab": {
          "base_uri": "https://localhost:8080/"
        },
        "id": "L3Fa7fEKV3i2",
        "outputId": "34e15c2c-169f-40ac-8c62-f40bbdc87683"
      },
      "source": [
        "rating_popular_book['ISBN'].nunique()"
      ],
      "execution_count": 66,
      "outputs": [
        {
          "output_type": "execute_result",
          "data": {
            "text/plain": [
              "7653"
            ]
          },
          "metadata": {},
          "execution_count": 66
        }
      ]
    },
    {
      "cell_type": "markdown",
      "metadata": {
        "id": "LCowyzr3OXw0"
      },
      "source": [
        "# **Filter to users in US**"
      ]
    },
    {
      "cell_type": "markdown",
      "metadata": {
        "id": "iGcFUvYbOXw1"
      },
      "source": [
        "In order to improve computing speed, and not run into the 'MemoryError' issue we will limit our users data to those in the US. Then combine the user data with rating data and total rating count data."
      ]
    },
    {
      "cell_type": "code",
      "metadata": {
        "colab": {
          "base_uri": "https://localhost:8080/",
          "height": 606
        },
        "id": "PysIWUPROXw1",
        "outputId": "691ade06-e3fb-470c-e2bd-25e8c7ede212"
      },
      "source": [
        "combined = rating_popular_book.merge(users_df, left_on = 'User-ID', right_on = 'User-ID', how = 'left')\n",
        "\n",
        "us_user_rating = combined[combined['Location'].str.contains(\"usa\")]\n",
        "us_user_rating=us_user_rating.drop('Age', axis=1)\n",
        "us_user_rating"
      ],
      "execution_count": 67,
      "outputs": [
        {
          "output_type": "execute_result",
          "data": {
            "text/html": [
              "<div>\n",
              "<style scoped>\n",
              "    .dataframe tbody tr th:only-of-type {\n",
              "        vertical-align: middle;\n",
              "    }\n",
              "\n",
              "    .dataframe tbody tr th {\n",
              "        vertical-align: top;\n",
              "    }\n",
              "\n",
              "    .dataframe thead th {\n",
              "        text-align: right;\n",
              "    }\n",
              "</style>\n",
              "<table border=\"1\" class=\"dataframe\">\n",
              "  <thead>\n",
              "    <tr style=\"text-align: right;\">\n",
              "      <th></th>\n",
              "      <th>User-ID</th>\n",
              "      <th>ISBN</th>\n",
              "      <th>Book-Rating</th>\n",
              "      <th>Book-Title</th>\n",
              "      <th>Book-Author</th>\n",
              "      <th>Year-Of-Publication</th>\n",
              "      <th>Publisher</th>\n",
              "      <th>TotalRatingCount</th>\n",
              "      <th>Location</th>\n",
              "    </tr>\n",
              "  </thead>\n",
              "  <tbody>\n",
              "    <tr>\n",
              "      <th>1</th>\n",
              "      <td>278418</td>\n",
              "      <td>0446364193</td>\n",
              "      <td>0</td>\n",
              "      <td>Along Came a Spider (Alex Cross Novels)</td>\n",
              "      <td>James Patterson</td>\n",
              "      <td>1993.00</td>\n",
              "      <td>Warner Books</td>\n",
              "      <td>198</td>\n",
              "      <td>omaha, nebraska, usa</td>\n",
              "    </tr>\n",
              "    <tr>\n",
              "      <th>3</th>\n",
              "      <td>7346</td>\n",
              "      <td>0446364193</td>\n",
              "      <td>0</td>\n",
              "      <td>Along Came a Spider (Alex Cross Novels)</td>\n",
              "      <td>James Patterson</td>\n",
              "      <td>1993.00</td>\n",
              "      <td>Warner Books</td>\n",
              "      <td>198</td>\n",
              "      <td>sunnyvale, california, usa</td>\n",
              "    </tr>\n",
              "    <tr>\n",
              "      <th>4</th>\n",
              "      <td>8362</td>\n",
              "      <td>0446364193</td>\n",
              "      <td>0</td>\n",
              "      <td>Along Came a Spider (Alex Cross Novels)</td>\n",
              "      <td>James Patterson</td>\n",
              "      <td>1993.00</td>\n",
              "      <td>Warner Books</td>\n",
              "      <td>198</td>\n",
              "      <td>los angeles, california, usa</td>\n",
              "    </tr>\n",
              "    <tr>\n",
              "      <th>8</th>\n",
              "      <td>14521</td>\n",
              "      <td>0446364193</td>\n",
              "      <td>0</td>\n",
              "      <td>Along Came a Spider (Alex Cross Novels)</td>\n",
              "      <td>James Patterson</td>\n",
              "      <td>1993.00</td>\n",
              "      <td>Warner Books</td>\n",
              "      <td>198</td>\n",
              "      <td>providence, rhode island, usa</td>\n",
              "    </tr>\n",
              "    <tr>\n",
              "      <th>10</th>\n",
              "      <td>16795</td>\n",
              "      <td>0446364193</td>\n",
              "      <td>8</td>\n",
              "      <td>Along Came a Spider (Alex Cross Novels)</td>\n",
              "      <td>James Patterson</td>\n",
              "      <td>1993.00</td>\n",
              "      <td>Warner Books</td>\n",
              "      <td>198</td>\n",
              "      <td>mechanicsville, maryland, usa</td>\n",
              "    </tr>\n",
              "    <tr>\n",
              "      <th>...</th>\n",
              "      <td>...</td>\n",
              "      <td>...</td>\n",
              "      <td>...</td>\n",
              "      <td>...</td>\n",
              "      <td>...</td>\n",
              "      <td>...</td>\n",
              "      <td>...</td>\n",
              "      <td>...</td>\n",
              "      <td>...</td>\n",
              "    </tr>\n",
              "    <tr>\n",
              "      <th>192665</th>\n",
              "      <td>275970</td>\n",
              "      <td>051756338X</td>\n",
              "      <td>0</td>\n",
              "      <td>Sarum: The Novel of England</td>\n",
              "      <td>Edward Rutherfurd</td>\n",
              "      <td>1987.00</td>\n",
              "      <td>Random House Inc</td>\n",
              "      <td>45</td>\n",
              "      <td>pittsburgh, pennsylvania, usa</td>\n",
              "    </tr>\n",
              "    <tr>\n",
              "      <th>192666</th>\n",
              "      <td>275970</td>\n",
              "      <td>0865714215</td>\n",
              "      <td>0</td>\n",
              "      <td>Stormy Weather</td>\n",
              "      <td>Guy Dauncey</td>\n",
              "      <td>2001.00</td>\n",
              "      <td>New Society Publishers</td>\n",
              "      <td>59</td>\n",
              "      <td>pittsburgh, pennsylvania, usa</td>\n",
              "    </tr>\n",
              "    <tr>\n",
              "      <th>192667</th>\n",
              "      <td>275970</td>\n",
              "      <td>1586210661</td>\n",
              "      <td>9</td>\n",
              "      <td>Me Talk Pretty One Day</td>\n",
              "      <td>David Sedaris</td>\n",
              "      <td>2001.00</td>\n",
              "      <td>Time Warner Audio Major</td>\n",
              "      <td>257</td>\n",
              "      <td>pittsburgh, pennsylvania, usa</td>\n",
              "    </tr>\n",
              "    <tr>\n",
              "      <th>192668</th>\n",
              "      <td>276688</td>\n",
              "      <td>0517145553</td>\n",
              "      <td>0</td>\n",
              "      <td>Mostly Harmless</td>\n",
              "      <td>Douglas Adams</td>\n",
              "      <td>1995.00</td>\n",
              "      <td>Random House Value Pub</td>\n",
              "      <td>30</td>\n",
              "      <td>fort lee, new jersey, usa</td>\n",
              "    </tr>\n",
              "    <tr>\n",
              "      <th>192669</th>\n",
              "      <td>276688</td>\n",
              "      <td>0788192043</td>\n",
              "      <td>0</td>\n",
              "      <td>The Hundred Secret Senses</td>\n",
              "      <td>Amy Tan</td>\n",
              "      <td>2000.00</td>\n",
              "      <td>DIANE Publishing Company</td>\n",
              "      <td>202</td>\n",
              "      <td>fort lee, new jersey, usa</td>\n",
              "    </tr>\n",
              "  </tbody>\n",
              "</table>\n",
              "<p>151815 rows × 9 columns</p>\n",
              "</div>"
            ],
            "text/plain": [
              "        User-ID        ISBN  ...  TotalRatingCount                       Location\n",
              "1        278418  0446364193  ...               198           omaha, nebraska, usa\n",
              "3          7346  0446364193  ...               198     sunnyvale, california, usa\n",
              "4          8362  0446364193  ...               198   los angeles, california, usa\n",
              "8         14521  0446364193  ...               198  providence, rhode island, usa\n",
              "10        16795  0446364193  ...               198  mechanicsville, maryland, usa\n",
              "...         ...         ...  ...               ...                            ...\n",
              "192665   275970  051756338X  ...                45  pittsburgh, pennsylvania, usa\n",
              "192666   275970  0865714215  ...                59  pittsburgh, pennsylvania, usa\n",
              "192667   275970  1586210661  ...               257  pittsburgh, pennsylvania, usa\n",
              "192668   276688  0517145553  ...                30      fort lee, new jersey, usa\n",
              "192669   276688  0788192043  ...               202      fort lee, new jersey, usa\n",
              "\n",
              "[151815 rows x 9 columns]"
            ]
          },
          "metadata": {},
          "execution_count": 67
        }
      ]
    },
    {
      "cell_type": "markdown",
      "metadata": {
        "id": "OfhHW0zMOXw1"
      },
      "source": [
        "Remove the duplicates present in rating popular book data."
      ]
    },
    {
      "cell_type": "code",
      "metadata": {
        "colab": {
          "base_uri": "https://localhost:8080/"
        },
        "id": "OEkAllZjOXw1",
        "outputId": "36c924b8-9b8e-4e55-ebff-0c748dc1136e"
      },
      "source": [
        "if not rating_popular_book[rating_popular_book.duplicated(['User-ID', 'Book-Title'])].empty:\n",
        "\n",
        "    # Identifying number of rows corresponding to the US.\n",
        "    print('Actual rating_popular_book shape {0}'.format(rating_popular_book.shape))\n",
        "\n",
        "    rating_popular_book = rating_popular_book.drop_duplicates(['User-ID', 'Book-Title'])\n",
        "\n",
        "    # Identifying number of rows corresponding to the US duplicates.\n",
        "    print('Rating_popular_book shape after removing the duplicates  {0}'.format(rating_popular_book.shape))"
      ],
      "execution_count": 68,
      "outputs": [
        {
          "output_type": "stream",
          "name": "stdout",
          "text": [
            "Actual rating_popular_book shape (192670, 8)\n",
            "Rating_popular_book shape after removing the duplicates  (189333, 8)\n"
          ]
        }
      ]
    },
    {
      "cell_type": "markdown",
      "metadata": {
        "id": "GeQfq-QvOfYd"
      },
      "source": [
        "# **Implementing kNN**"
      ]
    },
    {
      "cell_type": "markdown",
      "metadata": {
        "id": "mwdoht4WOfYd"
      },
      "source": [
        "We convert our table to a 2D matrix, and fill the missing values with zeros (since we will calculate distances between rating vectors). We then transform the values(ratings) of the matrix dataframe into a scipy sparse matrix for more efficient calculations.\n",
        "\n",
        "Finding the Nearest Neighbors We use unsupervised algorithms with sklearn.neighbors. The algorithm we use to compute the nearest neighbors is “auto”, and we specify “metric=minkowski”. Finally, we fit the model."
      ]
    },
    {
      "cell_type": "markdown",
      "metadata": {
        "id": "d6YUWh1NOfYe"
      },
      "source": [
        "At first create a pivote table."
      ]
    },
    {
      "cell_type": "code",
      "metadata": {
        "id": "Q1ng5rYaOfYe"
      },
      "source": [
        "#creating Pivot Table\n",
        "from scipy.sparse import csr_matrix\n",
        "us_user_rating_pivot = rating_popular_book.pivot(index = 'Book-Title',columns = 'User-ID', values = 'Book-Rating').fillna(0)\n",
        "us_user_rating_matrix = csr_matrix(us_user_rating_pivot.values)"
      ],
      "execution_count": 69,
      "outputs": []
    },
    {
      "cell_type": "markdown",
      "metadata": {
        "id": "9PzCS1qSOfYe"
      },
      "source": [
        "**Finding the Nearest Neighbors**"
      ]
    },
    {
      "cell_type": "code",
      "metadata": {
        "colab": {
          "base_uri": "https://localhost:8080/"
        },
        "id": "Hridoq0KOfYf",
        "outputId": "3a559e63-fff1-46a9-a31e-5cd3bf44edb8"
      },
      "source": [
        "#importing KNN \n",
        "from sklearn.neighbors import NearestNeighbors\n",
        "#creating instance of KNN\n",
        "model_knn = NearestNeighbors(metric = 'cosine', algorithm = 'brute')\n",
        "#Fitting KNN\n",
        "model_knn.fit(us_user_rating_matrix)"
      ],
      "execution_count": 70,
      "outputs": [
        {
          "output_type": "execute_result",
          "data": {
            "text/plain": [
              "NearestNeighbors(algorithm='brute', leaf_size=30, metric='cosine',\n",
              "                 metric_params=None, n_jobs=None, n_neighbors=5, p=2,\n",
              "                 radius=1.0)"
            ]
          },
          "metadata": {},
          "execution_count": 70
        }
      ]
    },
    {
      "cell_type": "markdown",
      "metadata": {
        "id": "rrxmWVvIOfYf"
      },
      "source": [
        "**Test our model and make few recommendation**"
      ]
    },
    {
      "cell_type": "code",
      "metadata": {
        "colab": {
          "base_uri": "https://localhost:8080/"
        },
        "id": "KhuaJwu5OfYf",
        "outputId": "2a41f3bc-42cd-40aa-ba17-f554cb127e4e"
      },
      "source": [
        "query_index = np.random.choice(us_user_rating_pivot.shape[0])\n",
        "print(query_index)\n"
      ],
      "execution_count": 71,
      "outputs": [
        {
          "output_type": "stream",
          "name": "stdout",
          "text": [
            "147\n"
          ]
        }
      ]
    },
    {
      "cell_type": "code",
      "metadata": {
        "id": "mxTTcdi7OfYf"
      },
      "source": [
        "distances, indices = model_knn.kneighbors(us_user_rating_pivot.iloc[query_index,:].values.reshape(1, -1), n_neighbors = 6)"
      ],
      "execution_count": 72,
      "outputs": []
    },
    {
      "cell_type": "code",
      "metadata": {
        "colab": {
          "base_uri": "https://localhost:8080/",
          "height": 35
        },
        "id": "L2Clcmp9OfYg",
        "outputId": "8492d3ec-2344-4f66-e245-ff3883bd39b8"
      },
      "source": [
        "us_user_rating_pivot.index[query_index]"
      ],
      "execution_count": 73,
      "outputs": [
        {
          "output_type": "execute_result",
          "data": {
            "application/vnd.google.colaboratory.intrinsic+json": {
              "type": "string"
            },
            "text/plain": [
              "'All He Ever Wanted'"
            ]
          },
          "metadata": {},
          "execution_count": 73
        }
      ]
    },
    {
      "cell_type": "code",
      "metadata": {
        "colab": {
          "base_uri": "https://localhost:8080/"
        },
        "id": "R055LrTUOfYg",
        "outputId": "a11937bb-1200-4ada-a93d-53de347af022"
      },
      "source": [
        "for i in range(0, len(distances.flatten())):\n",
        "    if i == 0:\n",
        "        print('Recommendations for {0}:\\n'.format(us_user_rating_pivot.index[query_index]))\n",
        "    else:\n",
        "        print('{0}: {1}, with distance of {2}:'.format(i, us_user_rating_pivot.index[indices.flatten()[i]], distances.flatten()[i]))"
      ],
      "execution_count": 74,
      "outputs": [
        {
          "output_type": "stream",
          "name": "stdout",
          "text": [
            "Recommendations for All He Ever Wanted:\n",
            "\n",
            "1: Sea Glass: A Novel, with distance of 0.6893473493118667:\n",
            "2: The Last Time They Met : A Novel, with distance of 0.7497396755303362:\n",
            "3: Windy City Blues (V.I. Warshawski Novels (Paperback)), with distance of 0.7712071195436653:\n",
            "4: Before Women Had Wings (Ballantine Reader's Circle), with distance of 0.7881653945968369:\n",
            "5: The Fiery Cross, with distance of 0.7922577482627976:\n"
          ]
        }
      ]
    },
    {
      "cell_type": "markdown",
      "metadata": {
        "id": "BYl79iTfOfYg"
      },
      "source": [
        "**We are only considering those ratings that are not eqaul to 0.**"
      ]
    },
    {
      "cell_type": "code",
      "metadata": {
        "colab": {
          "base_uri": "https://localhost:8080/"
        },
        "id": "bdRzuetbOfYh",
        "outputId": "b2f840d7-2f29-489a-c1e8-4ad2de673c9b"
      },
      "source": [
        "#shape of US based User\n",
        "us_user_rating.shape"
      ],
      "execution_count": 75,
      "outputs": [
        {
          "output_type": "execute_result",
          "data": {
            "text/plain": [
              "(151815, 9)"
            ]
          },
          "metadata": {},
          "execution_count": 75
        }
      ]
    },
    {
      "cell_type": "code",
      "metadata": {
        "id": "_XeRzkkDOfYh"
      },
      "source": [
        "# Ratings that are not 0.\n",
        "us_user_rating= us_user_rating[us_user_rating['Book-Rating'] != 0]"
      ],
      "execution_count": 76,
      "outputs": []
    },
    {
      "cell_type": "code",
      "metadata": {
        "colab": {
          "base_uri": "https://localhost:8080/"
        },
        "id": "9uino2w6OfYh",
        "outputId": "b7be00b0-fe5e-4ac7-dfef-523d2e511f89"
      },
      "source": [
        "us_user_rating.shape"
      ],
      "execution_count": 77,
      "outputs": [
        {
          "output_type": "execute_result",
          "data": {
            "text/plain": [
              "(42020, 9)"
            ]
          },
          "metadata": {},
          "execution_count": 77
        }
      ]
    },
    {
      "cell_type": "code",
      "metadata": {
        "colab": {
          "base_uri": "https://localhost:8080/",
          "height": 306
        },
        "id": "zO3CXPAHOfYh",
        "outputId": "625fafaf-91fd-4c03-fcc3-a296cbf2491b"
      },
      "source": [
        "us_user_rating.head()"
      ],
      "execution_count": 78,
      "outputs": [
        {
          "output_type": "execute_result",
          "data": {
            "text/html": [
              "<div>\n",
              "<style scoped>\n",
              "    .dataframe tbody tr th:only-of-type {\n",
              "        vertical-align: middle;\n",
              "    }\n",
              "\n",
              "    .dataframe tbody tr th {\n",
              "        vertical-align: top;\n",
              "    }\n",
              "\n",
              "    .dataframe thead th {\n",
              "        text-align: right;\n",
              "    }\n",
              "</style>\n",
              "<table border=\"1\" class=\"dataframe\">\n",
              "  <thead>\n",
              "    <tr style=\"text-align: right;\">\n",
              "      <th></th>\n",
              "      <th>User-ID</th>\n",
              "      <th>ISBN</th>\n",
              "      <th>Book-Rating</th>\n",
              "      <th>Book-Title</th>\n",
              "      <th>Book-Author</th>\n",
              "      <th>Year-Of-Publication</th>\n",
              "      <th>Publisher</th>\n",
              "      <th>TotalRatingCount</th>\n",
              "      <th>Location</th>\n",
              "    </tr>\n",
              "  </thead>\n",
              "  <tbody>\n",
              "    <tr>\n",
              "      <th>10</th>\n",
              "      <td>16795</td>\n",
              "      <td>0446364193</td>\n",
              "      <td>8</td>\n",
              "      <td>Along Came a Spider (Alex Cross Novels)</td>\n",
              "      <td>James Patterson</td>\n",
              "      <td>1993.00</td>\n",
              "      <td>Warner Books</td>\n",
              "      <td>198</td>\n",
              "      <td>mechanicsville, maryland, usa</td>\n",
              "    </tr>\n",
              "    <tr>\n",
              "      <th>12</th>\n",
              "      <td>18082</td>\n",
              "      <td>0446364193</td>\n",
              "      <td>7</td>\n",
              "      <td>Along Came a Spider (Alex Cross Novels)</td>\n",
              "      <td>James Patterson</td>\n",
              "      <td>1993.00</td>\n",
              "      <td>Warner Books</td>\n",
              "      <td>198</td>\n",
              "      <td>southern, california, usa</td>\n",
              "    </tr>\n",
              "    <tr>\n",
              "      <th>13</th>\n",
              "      <td>19085</td>\n",
              "      <td>0446364193</td>\n",
              "      <td>8</td>\n",
              "      <td>Along Came a Spider (Alex Cross Novels)</td>\n",
              "      <td>James Patterson</td>\n",
              "      <td>1993.00</td>\n",
              "      <td>Warner Books</td>\n",
              "      <td>198</td>\n",
              "      <td>menomonie, wisconsin, usa</td>\n",
              "    </tr>\n",
              "    <tr>\n",
              "      <th>14</th>\n",
              "      <td>21031</td>\n",
              "      <td>0446364193</td>\n",
              "      <td>10</td>\n",
              "      <td>Along Came a Spider (Alex Cross Novels)</td>\n",
              "      <td>James Patterson</td>\n",
              "      <td>1993.00</td>\n",
              "      <td>Warner Books</td>\n",
              "      <td>198</td>\n",
              "      <td>alexandria, virginia, usa</td>\n",
              "    </tr>\n",
              "    <tr>\n",
              "      <th>18</th>\n",
              "      <td>28177</td>\n",
              "      <td>0446364193</td>\n",
              "      <td>7</td>\n",
              "      <td>Along Came a Spider (Alex Cross Novels)</td>\n",
              "      <td>James Patterson</td>\n",
              "      <td>1993.00</td>\n",
              "      <td>Warner Books</td>\n",
              "      <td>198</td>\n",
              "      <td>grand rapids, michigan, usa</td>\n",
              "    </tr>\n",
              "  </tbody>\n",
              "</table>\n",
              "</div>"
            ],
            "text/plain": [
              "    User-ID        ISBN  ...  TotalRatingCount                       Location\n",
              "10    16795  0446364193  ...               198  mechanicsville, maryland, usa\n",
              "12    18082  0446364193  ...               198      southern, california, usa\n",
              "13    19085  0446364193  ...               198      menomonie, wisconsin, usa\n",
              "14    21031  0446364193  ...               198      alexandria, virginia, usa\n",
              "18    28177  0446364193  ...               198    grand rapids, michigan, usa\n",
              "\n",
              "[5 rows x 9 columns]"
            ]
          },
          "metadata": {},
          "execution_count": 78
        }
      ]
    },
    {
      "cell_type": "markdown",
      "metadata": {
        "id": "V26qF_jkOkTd"
      },
      "source": [
        "# **Filtering users with atleast 10 interaction**"
      ]
    },
    {
      "cell_type": "code",
      "metadata": {
        "colab": {
          "base_uri": "https://localhost:8080/"
        },
        "id": "D81DF9gjOkTd",
        "outputId": "de4c9c55-9d4b-4763-f3e0-15a3673eeaed"
      },
      "source": [
        "users_interactions_count_df = us_user_rating.groupby(['ISBN', 'User-ID']).size().groupby('User-ID').size()\n",
        "print('Number of users: %d' % len(users_interactions_count_df))\n",
        "\n",
        "users_with_enough_interactions_df = users_interactions_count_df[users_interactions_count_df >= 10].reset_index()[['User-ID']]\n",
        "print('Number of users with at least 10 interactions: %d' % len(users_with_enough_interactions_df))"
      ],
      "execution_count": 79,
      "outputs": [
        {
          "output_type": "stream",
          "name": "stdout",
          "text": [
            "Number of users: 2022\n",
            "Number of users with at least 10 interactions: 1310\n"
          ]
        }
      ]
    },
    {
      "cell_type": "code",
      "metadata": {
        "colab": {
          "base_uri": "https://localhost:8080/"
        },
        "id": "pOq1UhYkOkTd",
        "outputId": "1c39b2cf-4712-4757-9ee9-66d7ba6eafbd"
      },
      "source": [
        "print('Number of interactions: %d' % len(us_user_rating))\n",
        "interactions_from_selected_users_df = us_user_rating.merge(users_with_enough_interactions_df, \n",
        "               how = 'right',\n",
        "               left_on = 'User-ID',\n",
        "               right_on = 'User-ID')\n",
        "print('Number of interactions from users with at least 10 interactions: %d' % len(interactions_from_selected_users_df))"
      ],
      "execution_count": 80,
      "outputs": [
        {
          "output_type": "stream",
          "name": "stdout",
          "text": [
            "Number of interactions: 42020\n",
            "Number of interactions from users with at least 10 interactions: 38473\n"
          ]
        }
      ]
    },
    {
      "cell_type": "code",
      "metadata": {
        "colab": {
          "base_uri": "https://localhost:8080/",
          "height": 546
        },
        "id": "T_WsJTdXOkTd",
        "outputId": "bc15afdb-bec1-48fb-c2fa-975ac6ea4206"
      },
      "source": [
        "interactions_from_selected_users_df.head(10)"
      ],
      "execution_count": 81,
      "outputs": [
        {
          "output_type": "execute_result",
          "data": {
            "text/html": [
              "<div>\n",
              "<style scoped>\n",
              "    .dataframe tbody tr th:only-of-type {\n",
              "        vertical-align: middle;\n",
              "    }\n",
              "\n",
              "    .dataframe tbody tr th {\n",
              "        vertical-align: top;\n",
              "    }\n",
              "\n",
              "    .dataframe thead th {\n",
              "        text-align: right;\n",
              "    }\n",
              "</style>\n",
              "<table border=\"1\" class=\"dataframe\">\n",
              "  <thead>\n",
              "    <tr style=\"text-align: right;\">\n",
              "      <th></th>\n",
              "      <th>User-ID</th>\n",
              "      <th>ISBN</th>\n",
              "      <th>Book-Rating</th>\n",
              "      <th>Book-Title</th>\n",
              "      <th>Book-Author</th>\n",
              "      <th>Year-Of-Publication</th>\n",
              "      <th>Publisher</th>\n",
              "      <th>TotalRatingCount</th>\n",
              "      <th>Location</th>\n",
              "    </tr>\n",
              "  </thead>\n",
              "  <tbody>\n",
              "    <tr>\n",
              "      <th>0</th>\n",
              "      <td>243</td>\n",
              "      <td>0446606383</td>\n",
              "      <td>6</td>\n",
              "      <td>The Midnight Club</td>\n",
              "      <td>James Patterson</td>\n",
              "      <td>1999.00</td>\n",
              "      <td>Warner Vision</td>\n",
              "      <td>73</td>\n",
              "      <td>arden hills, minnesota, usa</td>\n",
              "    </tr>\n",
              "    <tr>\n",
              "      <th>1</th>\n",
              "      <td>243</td>\n",
              "      <td>0316776963</td>\n",
              "      <td>9</td>\n",
              "      <td>Me Talk Pretty One Day</td>\n",
              "      <td>David Sedaris</td>\n",
              "      <td>2001.00</td>\n",
              "      <td>Back Bay Books</td>\n",
              "      <td>257</td>\n",
              "      <td>arden hills, minnesota, usa</td>\n",
              "    </tr>\n",
              "    <tr>\n",
              "      <th>2</th>\n",
              "      <td>243</td>\n",
              "      <td>0375400117</td>\n",
              "      <td>10</td>\n",
              "      <td>Memoirs of a Geisha</td>\n",
              "      <td>Arthur Golden</td>\n",
              "      <td>1997.00</td>\n",
              "      <td>Alfred A. Knopf</td>\n",
              "      <td>47</td>\n",
              "      <td>arden hills, minnesota, usa</td>\n",
              "    </tr>\n",
              "    <tr>\n",
              "      <th>3</th>\n",
              "      <td>243</td>\n",
              "      <td>0449006522</td>\n",
              "      <td>6</td>\n",
              "      <td>Manhattan Hunt Club</td>\n",
              "      <td>JOHN SAUL</td>\n",
              "      <td>2002.00</td>\n",
              "      <td>Ballantine Books</td>\n",
              "      <td>58</td>\n",
              "      <td>arden hills, minnesota, usa</td>\n",
              "    </tr>\n",
              "    <tr>\n",
              "      <th>4</th>\n",
              "      <td>243</td>\n",
              "      <td>0316601950</td>\n",
              "      <td>9</td>\n",
              "      <td>The Pilot's Wife : A Novel</td>\n",
              "      <td>Anita Shreve</td>\n",
              "      <td>1999.00</td>\n",
              "      <td>Back Bay Books</td>\n",
              "      <td>290</td>\n",
              "      <td>arden hills, minnesota, usa</td>\n",
              "    </tr>\n",
              "    <tr>\n",
              "      <th>5</th>\n",
              "      <td>243</td>\n",
              "      <td>044023722X</td>\n",
              "      <td>7</td>\n",
              "      <td>A Painted House</td>\n",
              "      <td>John Grisham</td>\n",
              "      <td>2001.00</td>\n",
              "      <td>Dell Publishing Company</td>\n",
              "      <td>390</td>\n",
              "      <td>arden hills, minnesota, usa</td>\n",
              "    </tr>\n",
              "    <tr>\n",
              "      <th>6</th>\n",
              "      <td>243</td>\n",
              "      <td>0446364800</td>\n",
              "      <td>9</td>\n",
              "      <td>The General's Daughter</td>\n",
              "      <td>Nelson DeMille</td>\n",
              "      <td>1993.00</td>\n",
              "      <td>Warner Books</td>\n",
              "      <td>104</td>\n",
              "      <td>arden hills, minnesota, usa</td>\n",
              "    </tr>\n",
              "    <tr>\n",
              "      <th>7</th>\n",
              "      <td>243</td>\n",
              "      <td>0316899984</td>\n",
              "      <td>7</td>\n",
              "      <td>River, Cross My Heart</td>\n",
              "      <td>Breena Clarke</td>\n",
              "      <td>1999.00</td>\n",
              "      <td>Little Brown &amp;amp; Company</td>\n",
              "      <td>125</td>\n",
              "      <td>arden hills, minnesota, usa</td>\n",
              "    </tr>\n",
              "    <tr>\n",
              "      <th>8</th>\n",
              "      <td>243</td>\n",
              "      <td>0060915544</td>\n",
              "      <td>10</td>\n",
              "      <td>The Bean Trees</td>\n",
              "      <td>Barbara Kingsolver</td>\n",
              "      <td>1989.00</td>\n",
              "      <td>Perennial</td>\n",
              "      <td>208</td>\n",
              "      <td>arden hills, minnesota, usa</td>\n",
              "    </tr>\n",
              "    <tr>\n",
              "      <th>9</th>\n",
              "      <td>243</td>\n",
              "      <td>0060977493</td>\n",
              "      <td>7</td>\n",
              "      <td>The God of Small Things</td>\n",
              "      <td>Arundhati Roy</td>\n",
              "      <td>1998.00</td>\n",
              "      <td>Perennial</td>\n",
              "      <td>153</td>\n",
              "      <td>arden hills, minnesota, usa</td>\n",
              "    </tr>\n",
              "  </tbody>\n",
              "</table>\n",
              "</div>"
            ],
            "text/plain": [
              "   User-ID        ISBN  ...  TotalRatingCount                     Location\n",
              "0      243  0446606383  ...                73  arden hills, minnesota, usa\n",
              "1      243  0316776963  ...               257  arden hills, minnesota, usa\n",
              "2      243  0375400117  ...                47  arden hills, minnesota, usa\n",
              "3      243  0449006522  ...                58  arden hills, minnesota, usa\n",
              "4      243  0316601950  ...               290  arden hills, minnesota, usa\n",
              "5      243  044023722X  ...               390  arden hills, minnesota, usa\n",
              "6      243  0446364800  ...               104  arden hills, minnesota, usa\n",
              "7      243  0316899984  ...               125  arden hills, minnesota, usa\n",
              "8      243  0060915544  ...               208  arden hills, minnesota, usa\n",
              "9      243  0060977493  ...               153  arden hills, minnesota, usa\n",
              "\n",
              "[10 rows x 9 columns]"
            ]
          },
          "metadata": {},
          "execution_count": 81
        }
      ]
    },
    {
      "cell_type": "markdown",
      "metadata": {
        "id": "t3McmME6OkTd"
      },
      "source": [
        "## **We are applying log transformation to smooth the distribution!!**"
      ]
    },
    {
      "cell_type": "code",
      "metadata": {
        "colab": {
          "base_uri": "https://localhost:8080/",
          "height": 334
        },
        "id": "9EhsNHduOkTe",
        "outputId": "a707d482-f561-47e7-8201-e40d88db3c7d"
      },
      "source": [
        "# Before log transformation\n",
        "plt.figure(figsize=(8, 5))\n",
        "sns.histplot(interactions_from_selected_users_df.groupby(['ISBN', 'User-ID'])['Book-Rating'].sum(), kde=True)\n",
        "plt.show()"
      ],
      "execution_count": 82,
      "outputs": [
        {
          "output_type": "display_data",
          "data": {
            "image/png": "[encoded data removed]",
            "text/plain": [
              "<Figure size 576x360 with 1 Axes>"
            ]
          },
          "metadata": {
            "needs_background": "light"
          }
        }
      ]
    },
    {
      "cell_type": "code",
      "metadata": {
        "colab": {
          "base_uri": "https://localhost:8080/",
          "height": 221
        },
        "id": "TOznW_m8OkTe",
        "outputId": "702a14a9-160a-4008-afa0-222bd1a8d430"
      },
      "source": [
        "import math\n",
        "def smooth_user_preference(x):\n",
        "    return math.log(1+x, 2)\n",
        "    \n",
        "interactions_full_df = interactions_from_selected_users_df.groupby(['ISBN', 'User-ID'])['Book-Rating'].sum().apply(smooth_user_preference).reset_index()\n",
        "print('Number of unique user/item interactions: %d' % len(interactions_full_df))\n",
        "interactions_full_df.head()"
      ],
      "execution_count": 83,
      "outputs": [
        {
          "output_type": "stream",
          "name": "stdout",
          "text": [
            "Number of unique user/item interactions: 38473\n"
          ]
        },
        {
          "output_type": "execute_result",
          "data": {
            "text/html": [
              "<div>\n",
              "<style scoped>\n",
              "    .dataframe tbody tr th:only-of-type {\n",
              "        vertical-align: middle;\n",
              "    }\n",
              "\n",
              "    .dataframe tbody tr th {\n",
              "        vertical-align: top;\n",
              "    }\n",
              "\n",
              "    .dataframe thead th {\n",
              "        text-align: right;\n",
              "    }\n",
              "</style>\n",
              "<table border=\"1\" class=\"dataframe\">\n",
              "  <thead>\n",
              "    <tr style=\"text-align: right;\">\n",
              "      <th></th>\n",
              "      <th>ISBN</th>\n",
              "      <th>User-ID</th>\n",
              "      <th>Book-Rating</th>\n",
              "    </tr>\n",
              "  </thead>\n",
              "  <tbody>\n",
              "    <tr>\n",
              "      <th>0</th>\n",
              "      <td>0020198906</td>\n",
              "      <td>7346</td>\n",
              "      <td>3.17</td>\n",
              "    </tr>\n",
              "    <tr>\n",
              "      <th>1</th>\n",
              "      <td>0020198906</td>\n",
              "      <td>14422</td>\n",
              "      <td>3.32</td>\n",
              "    </tr>\n",
              "    <tr>\n",
              "      <th>2</th>\n",
              "      <td>0020198906</td>\n",
              "      <td>108352</td>\n",
              "      <td>3.00</td>\n",
              "    </tr>\n",
              "    <tr>\n",
              "      <th>3</th>\n",
              "      <td>0020198906</td>\n",
              "      <td>140036</td>\n",
              "      <td>3.17</td>\n",
              "    </tr>\n",
              "    <tr>\n",
              "      <th>4</th>\n",
              "      <td>0020198906</td>\n",
              "      <td>157273</td>\n",
              "      <td>3.17</td>\n",
              "    </tr>\n",
              "  </tbody>\n",
              "</table>\n",
              "</div>"
            ],
            "text/plain": [
              "         ISBN  User-ID  Book-Rating\n",
              "0  0020198906     7346         3.17\n",
              "1  0020198906    14422         3.32\n",
              "2  0020198906   108352         3.00\n",
              "3  0020198906   140036         3.17\n",
              "4  0020198906   157273         3.17"
            ]
          },
          "metadata": {},
          "execution_count": 83
        }
      ]
    },
    {
      "cell_type": "code",
      "metadata": {
        "colab": {
          "base_uri": "https://localhost:8080/",
          "height": 334
        },
        "id": "sOgHmXv3OkTe",
        "outputId": "40a63dcb-129d-40de-a0c4-941b2dada942"
      },
      "source": [
        "# After log transformation\n",
        "plt.figure(figsize=(8, 5))\n",
        "sns.histplot(interactions_from_selected_users_df.groupby(['ISBN', 'User-ID'])['Book-Rating'].sum(), kde=True)\n",
        "plt.show()"
      ],
      "execution_count": 84,
      "outputs": [
        {
          "output_type": "display_data",
          "data": {
            "image/png": "[encoded data removed]",
            "text/plain": [
              "<Figure size 576x360 with 1 Axes>"
            ]
          },
          "metadata": {
            "needs_background": "light"
          }
        }
      ]
    },
    {
      "cell_type": "markdown",
      "metadata": {
        "id": "TSASrTYQOpOm"
      },
      "source": [
        "# **Splitting data into Train And Test Dataset**"
      ]
    },
    {
      "cell_type": "code",
      "metadata": {
        "colab": {
          "base_uri": "https://localhost:8080/"
        },
        "id": "kQRw5Y_POpOm",
        "outputId": "7f1cfec2-1b45-41f0-9504-0a0d56bb6241"
      },
      "source": [
        "from sklearn.model_selection import train_test_split\n",
        "\n",
        "interactions_train_df, interactions_test_df = train_test_split(interactions_full_df,\n",
        "                                   stratify=interactions_full_df['User-ID'], \n",
        "                                   test_size=0.20,\n",
        "                                   random_state=42)\n",
        "\n",
        "print('Number interactions on Train set: %d' % len(interactions_train_df))\n",
        "print('Number interactions on Test set: %d' % len(interactions_test_df))"
      ],
      "execution_count": 85,
      "outputs": [
        {
          "output_type": "stream",
          "name": "stdout",
          "text": [
            "Number interactions on Train set: 30778\n",
            "Number interactions on Test set: 7695\n"
          ]
        }
      ]
    },
    {
      "cell_type": "code",
      "metadata": {
        "colab": {
          "base_uri": "https://localhost:8080/",
          "height": 204
        },
        "id": "LWvO5cqIOpOn",
        "outputId": "02919655-de75-462a-f6b5-8cad6fa995b6"
      },
      "source": [
        "interactions_test_df.head()"
      ],
      "execution_count": 86,
      "outputs": [
        {
          "output_type": "execute_result",
          "data": {
            "text/html": [
              "<div>\n",
              "<style scoped>\n",
              "    .dataframe tbody tr th:only-of-type {\n",
              "        vertical-align: middle;\n",
              "    }\n",
              "\n",
              "    .dataframe tbody tr th {\n",
              "        vertical-align: top;\n",
              "    }\n",
              "\n",
              "    .dataframe thead th {\n",
              "        text-align: right;\n",
              "    }\n",
              "</style>\n",
              "<table border=\"1\" class=\"dataframe\">\n",
              "  <thead>\n",
              "    <tr style=\"text-align: right;\">\n",
              "      <th></th>\n",
              "      <th>ISBN</th>\n",
              "      <th>User-ID</th>\n",
              "      <th>Book-Rating</th>\n",
              "    </tr>\n",
              "  </thead>\n",
              "  <tbody>\n",
              "    <tr>\n",
              "      <th>22522</th>\n",
              "      <td>0449912558</td>\n",
              "      <td>2891</td>\n",
              "      <td>3.32</td>\n",
              "    </tr>\n",
              "    <tr>\n",
              "      <th>32046</th>\n",
              "      <td>0671759345</td>\n",
              "      <td>147847</td>\n",
              "      <td>3.32</td>\n",
              "    </tr>\n",
              "    <tr>\n",
              "      <th>29954</th>\n",
              "      <td>0670865796</td>\n",
              "      <td>251140</td>\n",
              "      <td>3.00</td>\n",
              "    </tr>\n",
              "    <tr>\n",
              "      <th>19007</th>\n",
              "      <td>0440498058</td>\n",
              "      <td>76168</td>\n",
              "      <td>3.32</td>\n",
              "    </tr>\n",
              "    <tr>\n",
              "      <th>23228</th>\n",
              "      <td>0451173317</td>\n",
              "      <td>55490</td>\n",
              "      <td>3.46</td>\n",
              "    </tr>\n",
              "  </tbody>\n",
              "</table>\n",
              "</div>"
            ],
            "text/plain": [
              "             ISBN  User-ID  Book-Rating\n",
              "22522  0449912558     2891         3.32\n",
              "32046  0671759345   147847         3.32\n",
              "29954  0670865796   251140         3.00\n",
              "19007  0440498058    76168         3.32\n",
              "23228  0451173317    55490         3.46"
            ]
          },
          "metadata": {},
          "execution_count": 86
        }
      ]
    },
    {
      "cell_type": "code",
      "metadata": {
        "colab": {
          "base_uri": "https://localhost:8080/",
          "height": 301
        },
        "id": "NSrwtrCGOpOn",
        "outputId": "c4c2aa18-6b0c-4714-a486-4ef14e16cd11"
      },
      "source": [
        "#Creating a sparse pivot table with users in rows and items in columns\n",
        "users_items_pivot_matrix_df = interactions_train_df.pivot(index='User-ID', \n",
        "                                                          columns='ISBN', \n",
        "                                                          values='Book-Rating').fillna(0)\n",
        "\n",
        "users_items_pivot_matrix_df.head()"
      ],
      "execution_count": 87,
      "outputs": [
        {
          "output_type": "execute_result",
          "data": {
            "text/html": [
              "<div>\n",
              "<style scoped>\n",
              "    .dataframe tbody tr th:only-of-type {\n",
              "        vertical-align: middle;\n",
              "    }\n",
              "\n",
              "    .dataframe tbody tr th {\n",
              "        vertical-align: top;\n",
              "    }\n",
              "\n",
              "    .dataframe thead th {\n",
              "        text-align: right;\n",
              "    }\n",
              "</style>\n",
              "<table border=\"1\" class=\"dataframe\">\n",
              "  <thead>\n",
              "    <tr style=\"text-align: right;\">\n",
              "      <th>ISBN</th>\n",
              "      <th>0020198906</th>\n",
              "      <th>002026478X</th>\n",
              "      <th>0020412401</th>\n",
              "      <th>0020442203</th>\n",
              "      <th>0020442408</th>\n",
              "      <th>0020442505</th>\n",
              "      <th>0020442602</th>\n",
              "      <th>002542730X</th>\n",
              "      <th>0027701301</th>\n",
              "      <th>0028604199</th>\n",
              "      <th>0028604202</th>\n",
              "      <th>0030615534</th>\n",
              "      <th>0060001453</th>\n",
              "      <th>0060001941</th>\n",
              "      <th>006000438X</th>\n",
              "      <th>0060008024</th>\n",
              "      <th>0060008032</th>\n",
              "      <th>0060008245</th>\n",
              "      <th>0060008296</th>\n",
              "      <th>0060008776</th>\n",
              "      <th>0060009241</th>\n",
              "      <th>0060011173</th>\n",
              "      <th>006001203X</th>\n",
              "      <th>0060013117</th>\n",
              "      <th>0060013125</th>\n",
              "      <th>0060080841</th>\n",
              "      <th>0060083948</th>\n",
              "      <th>0060085444</th>\n",
              "      <th>0060085452</th>\n",
              "      <th>0060086246</th>\n",
              "      <th>0060086386</th>\n",
              "      <th>0060089539</th>\n",
              "      <th>0060090367</th>\n",
              "      <th>0060090375</th>\n",
              "      <th>0060090383</th>\n",
              "      <th>0060092572</th>\n",
              "      <th>0060092645</th>\n",
              "      <th>0060093595</th>\n",
              "      <th>0060095628</th>\n",
              "      <th>0060096195</th>\n",
              "      <th>...</th>\n",
              "      <th>1575667614</th>\n",
              "      <th>1576736083</th>\n",
              "      <th>1576737330</th>\n",
              "      <th>1578150450</th>\n",
              "      <th>157815054X</th>\n",
              "      <th>1586210661</th>\n",
              "      <th>1586212230</th>\n",
              "      <th>1586214055</th>\n",
              "      <th>1586214497</th>\n",
              "      <th>1586215027</th>\n",
              "      <th>1586215981</th>\n",
              "      <th>1587882337</th>\n",
              "      <th>1587883643</th>\n",
              "      <th>1587887789</th>\n",
              "      <th>1590071352</th>\n",
              "      <th>1590580362</th>\n",
              "      <th>1590863518</th>\n",
              "      <th>1590864670</th>\n",
              "      <th>1592400876</th>\n",
              "      <th>1593551649</th>\n",
              "      <th>1594140979</th>\n",
              "      <th>1841954608</th>\n",
              "      <th>1842322761</th>\n",
              "      <th>1860462588</th>\n",
              "      <th>1878424319</th>\n",
              "      <th>1878448900</th>\n",
              "      <th>1882723007</th>\n",
              "      <th>1885171080</th>\n",
              "      <th>1895565669</th>\n",
              "      <th>1896095011</th>\n",
              "      <th>1896860982</th>\n",
              "      <th>1898901147</th>\n",
              "      <th>1930252250</th>\n",
              "      <th>1931056323</th>\n",
              "      <th>193156146X</th>\n",
              "      <th>1931561648</th>\n",
              "      <th>555053150X</th>\n",
              "      <th>9500704447</th>\n",
              "      <th>B0000T6KHI</th>\n",
              "      <th>B0001GMSV2</th>\n",
              "    </tr>\n",
              "    <tr>\n",
              "      <th>User-ID</th>\n",
              "      <th></th>\n",
              "      <th></th>\n",
              "      <th></th>\n",
              "      <th></th>\n",
              "      <th></th>\n",
              "      <th></th>\n",
              "      <th></th>\n",
              "      <th></th>\n",
              "      <th></th>\n",
              "      <th></th>\n",
              "      <th></th>\n",
              "      <th></th>\n",
              "      <th></th>\n",
              "      <th></th>\n",
              "      <th></th>\n",
              "      <th></th>\n",
              "      <th></th>\n",
              "      <th></th>\n",
              "      <th></th>\n",
              "      <th></th>\n",
              "      <th></th>\n",
              "      <th></th>\n",
              "      <th></th>\n",
              "      <th></th>\n",
              "      <th></th>\n",
              "      <th></th>\n",
              "      <th></th>\n",
              "      <th></th>\n",
              "      <th></th>\n",
              "      <th></th>\n",
              "      <th></th>\n",
              "      <th></th>\n",
              "      <th></th>\n",
              "      <th></th>\n",
              "      <th></th>\n",
              "      <th></th>\n",
              "      <th></th>\n",
              "      <th></th>\n",
              "      <th></th>\n",
              "      <th></th>\n",
              "      <th></th>\n",
              "      <th></th>\n",
              "      <th></th>\n",
              "      <th></th>\n",
              "      <th></th>\n",
              "      <th></th>\n",
              "      <th></th>\n",
              "      <th></th>\n",
              "      <th></th>\n",
              "      <th></th>\n",
              "      <th></th>\n",
              "      <th></th>\n",
              "      <th></th>\n",
              "      <th></th>\n",
              "      <th></th>\n",
              "      <th></th>\n",
              "      <th></th>\n",
              "      <th></th>\n",
              "      <th></th>\n",
              "      <th></th>\n",
              "      <th></th>\n",
              "      <th></th>\n",
              "      <th></th>\n",
              "      <th></th>\n",
              "      <th></th>\n",
              "      <th></th>\n",
              "      <th></th>\n",
              "      <th></th>\n",
              "      <th></th>\n",
              "      <th></th>\n",
              "      <th></th>\n",
              "      <th></th>\n",
              "      <th></th>\n",
              "      <th></th>\n",
              "      <th></th>\n",
              "      <th></th>\n",
              "      <th></th>\n",
              "      <th></th>\n",
              "      <th></th>\n",
              "      <th></th>\n",
              "      <th></th>\n",
              "    </tr>\n",
              "  </thead>\n",
              "  <tbody>\n",
              "    <tr>\n",
              "      <th>243</th>\n",
              "      <td>0.00</td>\n",
              "      <td>0.00</td>\n",
              "      <td>0.00</td>\n",
              "      <td>0.00</td>\n",
              "      <td>0.00</td>\n",
              "      <td>0.00</td>\n",
              "      <td>0.00</td>\n",
              "      <td>0.00</td>\n",
              "      <td>0.00</td>\n",
              "      <td>0.00</td>\n",
              "      <td>0.00</td>\n",
              "      <td>0.00</td>\n",
              "      <td>0.00</td>\n",
              "      <td>0.00</td>\n",
              "      <td>0.00</td>\n",
              "      <td>0.00</td>\n",
              "      <td>0.00</td>\n",
              "      <td>0.00</td>\n",
              "      <td>0.00</td>\n",
              "      <td>0.00</td>\n",
              "      <td>0.00</td>\n",
              "      <td>0.00</td>\n",
              "      <td>0.00</td>\n",
              "      <td>0.00</td>\n",
              "      <td>0.00</td>\n",
              "      <td>0.00</td>\n",
              "      <td>0.00</td>\n",
              "      <td>0.00</td>\n",
              "      <td>0.00</td>\n",
              "      <td>0.00</td>\n",
              "      <td>0.00</td>\n",
              "      <td>0.00</td>\n",
              "      <td>0.00</td>\n",
              "      <td>0.00</td>\n",
              "      <td>0.00</td>\n",
              "      <td>0.00</td>\n",
              "      <td>0.00</td>\n",
              "      <td>0.00</td>\n",
              "      <td>0.00</td>\n",
              "      <td>0.00</td>\n",
              "      <td>...</td>\n",
              "      <td>0.00</td>\n",
              "      <td>0.00</td>\n",
              "      <td>0.00</td>\n",
              "      <td>0.00</td>\n",
              "      <td>0.00</td>\n",
              "      <td>0.00</td>\n",
              "      <td>0.00</td>\n",
              "      <td>0.00</td>\n",
              "      <td>0.00</td>\n",
              "      <td>0.00</td>\n",
              "      <td>0.00</td>\n",
              "      <td>0.00</td>\n",
              "      <td>0.00</td>\n",
              "      <td>0.00</td>\n",
              "      <td>0.00</td>\n",
              "      <td>0.00</td>\n",
              "      <td>0.00</td>\n",
              "      <td>0.00</td>\n",
              "      <td>0.00</td>\n",
              "      <td>0.00</td>\n",
              "      <td>0.00</td>\n",
              "      <td>0.00</td>\n",
              "      <td>0.00</td>\n",
              "      <td>0.00</td>\n",
              "      <td>0.00</td>\n",
              "      <td>0.00</td>\n",
              "      <td>0.00</td>\n",
              "      <td>0.00</td>\n",
              "      <td>0.00</td>\n",
              "      <td>0.00</td>\n",
              "      <td>0.00</td>\n",
              "      <td>0.00</td>\n",
              "      <td>0.00</td>\n",
              "      <td>0.00</td>\n",
              "      <td>0.00</td>\n",
              "      <td>0.00</td>\n",
              "      <td>0.00</td>\n",
              "      <td>0.00</td>\n",
              "      <td>0.00</td>\n",
              "      <td>0.00</td>\n",
              "    </tr>\n",
              "    <tr>\n",
              "      <th>254</th>\n",
              "      <td>0.00</td>\n",
              "      <td>0.00</td>\n",
              "      <td>0.00</td>\n",
              "      <td>0.00</td>\n",
              "      <td>0.00</td>\n",
              "      <td>0.00</td>\n",
              "      <td>0.00</td>\n",
              "      <td>0.00</td>\n",
              "      <td>0.00</td>\n",
              "      <td>0.00</td>\n",
              "      <td>0.00</td>\n",
              "      <td>0.00</td>\n",
              "      <td>0.00</td>\n",
              "      <td>0.00</td>\n",
              "      <td>0.00</td>\n",
              "      <td>0.00</td>\n",
              "      <td>0.00</td>\n",
              "      <td>0.00</td>\n",
              "      <td>0.00</td>\n",
              "      <td>0.00</td>\n",
              "      <td>0.00</td>\n",
              "      <td>0.00</td>\n",
              "      <td>0.00</td>\n",
              "      <td>0.00</td>\n",
              "      <td>0.00</td>\n",
              "      <td>0.00</td>\n",
              "      <td>0.00</td>\n",
              "      <td>0.00</td>\n",
              "      <td>0.00</td>\n",
              "      <td>0.00</td>\n",
              "      <td>0.00</td>\n",
              "      <td>0.00</td>\n",
              "      <td>0.00</td>\n",
              "      <td>0.00</td>\n",
              "      <td>0.00</td>\n",
              "      <td>0.00</td>\n",
              "      <td>0.00</td>\n",
              "      <td>0.00</td>\n",
              "      <td>0.00</td>\n",
              "      <td>0.00</td>\n",
              "      <td>...</td>\n",
              "      <td>0.00</td>\n",
              "      <td>0.00</td>\n",
              "      <td>0.00</td>\n",
              "      <td>0.00</td>\n",
              "      <td>0.00</td>\n",
              "      <td>0.00</td>\n",
              "      <td>0.00</td>\n",
              "      <td>0.00</td>\n",
              "      <td>0.00</td>\n",
              "      <td>0.00</td>\n",
              "      <td>0.00</td>\n",
              "      <td>0.00</td>\n",
              "      <td>0.00</td>\n",
              "      <td>0.00</td>\n",
              "      <td>0.00</td>\n",
              "      <td>0.00</td>\n",
              "      <td>0.00</td>\n",
              "      <td>0.00</td>\n",
              "      <td>0.00</td>\n",
              "      <td>0.00</td>\n",
              "      <td>0.00</td>\n",
              "      <td>0.00</td>\n",
              "      <td>0.00</td>\n",
              "      <td>0.00</td>\n",
              "      <td>0.00</td>\n",
              "      <td>0.00</td>\n",
              "      <td>0.00</td>\n",
              "      <td>0.00</td>\n",
              "      <td>0.00</td>\n",
              "      <td>0.00</td>\n",
              "      <td>0.00</td>\n",
              "      <td>0.00</td>\n",
              "      <td>0.00</td>\n",
              "      <td>0.00</td>\n",
              "      <td>0.00</td>\n",
              "      <td>0.00</td>\n",
              "      <td>0.00</td>\n",
              "      <td>0.00</td>\n",
              "      <td>0.00</td>\n",
              "      <td>0.00</td>\n",
              "    </tr>\n",
              "    <tr>\n",
              "      <th>507</th>\n",
              "      <td>0.00</td>\n",
              "      <td>0.00</td>\n",
              "      <td>0.00</td>\n",
              "      <td>0.00</td>\n",
              "      <td>0.00</td>\n",
              "      <td>0.00</td>\n",
              "      <td>0.00</td>\n",
              "      <td>0.00</td>\n",
              "      <td>0.00</td>\n",
              "      <td>0.00</td>\n",
              "      <td>0.00</td>\n",
              "      <td>0.00</td>\n",
              "      <td>0.00</td>\n",
              "      <td>0.00</td>\n",
              "      <td>0.00</td>\n",
              "      <td>0.00</td>\n",
              "      <td>0.00</td>\n",
              "      <td>0.00</td>\n",
              "      <td>0.00</td>\n",
              "      <td>0.00</td>\n",
              "      <td>0.00</td>\n",
              "      <td>0.00</td>\n",
              "      <td>0.00</td>\n",
              "      <td>0.00</td>\n",
              "      <td>0.00</td>\n",
              "      <td>0.00</td>\n",
              "      <td>0.00</td>\n",
              "      <td>0.00</td>\n",
              "      <td>0.00</td>\n",
              "      <td>0.00</td>\n",
              "      <td>0.00</td>\n",
              "      <td>0.00</td>\n",
              "      <td>0.00</td>\n",
              "      <td>0.00</td>\n",
              "      <td>0.00</td>\n",
              "      <td>0.00</td>\n",
              "      <td>0.00</td>\n",
              "      <td>0.00</td>\n",
              "      <td>0.00</td>\n",
              "      <td>0.00</td>\n",
              "      <td>...</td>\n",
              "      <td>0.00</td>\n",
              "      <td>0.00</td>\n",
              "      <td>0.00</td>\n",
              "      <td>0.00</td>\n",
              "      <td>0.00</td>\n",
              "      <td>0.00</td>\n",
              "      <td>0.00</td>\n",
              "      <td>0.00</td>\n",
              "      <td>0.00</td>\n",
              "      <td>0.00</td>\n",
              "      <td>0.00</td>\n",
              "      <td>0.00</td>\n",
              "      <td>0.00</td>\n",
              "      <td>0.00</td>\n",
              "      <td>0.00</td>\n",
              "      <td>0.00</td>\n",
              "      <td>0.00</td>\n",
              "      <td>0.00</td>\n",
              "      <td>0.00</td>\n",
              "      <td>0.00</td>\n",
              "      <td>0.00</td>\n",
              "      <td>0.00</td>\n",
              "      <td>0.00</td>\n",
              "      <td>0.00</td>\n",
              "      <td>0.00</td>\n",
              "      <td>0.00</td>\n",
              "      <td>0.00</td>\n",
              "      <td>0.00</td>\n",
              "      <td>0.00</td>\n",
              "      <td>0.00</td>\n",
              "      <td>0.00</td>\n",
              "      <td>0.00</td>\n",
              "      <td>0.00</td>\n",
              "      <td>0.00</td>\n",
              "      <td>0.00</td>\n",
              "      <td>0.00</td>\n",
              "      <td>0.00</td>\n",
              "      <td>0.00</td>\n",
              "      <td>0.00</td>\n",
              "      <td>0.00</td>\n",
              "    </tr>\n",
              "    <tr>\n",
              "      <th>638</th>\n",
              "      <td>0.00</td>\n",
              "      <td>0.00</td>\n",
              "      <td>0.00</td>\n",
              "      <td>0.00</td>\n",
              "      <td>0.00</td>\n",
              "      <td>0.00</td>\n",
              "      <td>0.00</td>\n",
              "      <td>0.00</td>\n",
              "      <td>0.00</td>\n",
              "      <td>0.00</td>\n",
              "      <td>0.00</td>\n",
              "      <td>0.00</td>\n",
              "      <td>0.00</td>\n",
              "      <td>0.00</td>\n",
              "      <td>0.00</td>\n",
              "      <td>0.00</td>\n",
              "      <td>0.00</td>\n",
              "      <td>0.00</td>\n",
              "      <td>0.00</td>\n",
              "      <td>0.00</td>\n",
              "      <td>0.00</td>\n",
              "      <td>0.00</td>\n",
              "      <td>0.00</td>\n",
              "      <td>0.00</td>\n",
              "      <td>0.00</td>\n",
              "      <td>0.00</td>\n",
              "      <td>0.00</td>\n",
              "      <td>0.00</td>\n",
              "      <td>0.00</td>\n",
              "      <td>0.00</td>\n",
              "      <td>0.00</td>\n",
              "      <td>0.00</td>\n",
              "      <td>0.00</td>\n",
              "      <td>0.00</td>\n",
              "      <td>0.00</td>\n",
              "      <td>0.00</td>\n",
              "      <td>0.00</td>\n",
              "      <td>0.00</td>\n",
              "      <td>0.00</td>\n",
              "      <td>0.00</td>\n",
              "      <td>...</td>\n",
              "      <td>0.00</td>\n",
              "      <td>0.00</td>\n",
              "      <td>0.00</td>\n",
              "      <td>0.00</td>\n",
              "      <td>0.00</td>\n",
              "      <td>0.00</td>\n",
              "      <td>0.00</td>\n",
              "      <td>0.00</td>\n",
              "      <td>0.00</td>\n",
              "      <td>0.00</td>\n",
              "      <td>0.00</td>\n",
              "      <td>0.00</td>\n",
              "      <td>0.00</td>\n",
              "      <td>0.00</td>\n",
              "      <td>0.00</td>\n",
              "      <td>0.00</td>\n",
              "      <td>0.00</td>\n",
              "      <td>0.00</td>\n",
              "      <td>0.00</td>\n",
              "      <td>0.00</td>\n",
              "      <td>0.00</td>\n",
              "      <td>0.00</td>\n",
              "      <td>0.00</td>\n",
              "      <td>0.00</td>\n",
              "      <td>0.00</td>\n",
              "      <td>0.00</td>\n",
              "      <td>0.00</td>\n",
              "      <td>0.00</td>\n",
              "      <td>0.00</td>\n",
              "      <td>0.00</td>\n",
              "      <td>0.00</td>\n",
              "      <td>0.00</td>\n",
              "      <td>0.00</td>\n",
              "      <td>0.00</td>\n",
              "      <td>0.00</td>\n",
              "      <td>0.00</td>\n",
              "      <td>0.00</td>\n",
              "      <td>0.00</td>\n",
              "      <td>0.00</td>\n",
              "      <td>0.00</td>\n",
              "    </tr>\n",
              "    <tr>\n",
              "      <th>882</th>\n",
              "      <td>0.00</td>\n",
              "      <td>0.00</td>\n",
              "      <td>0.00</td>\n",
              "      <td>0.00</td>\n",
              "      <td>0.00</td>\n",
              "      <td>0.00</td>\n",
              "      <td>0.00</td>\n",
              "      <td>0.00</td>\n",
              "      <td>0.00</td>\n",
              "      <td>0.00</td>\n",
              "      <td>0.00</td>\n",
              "      <td>0.00</td>\n",
              "      <td>0.00</td>\n",
              "      <td>0.00</td>\n",
              "      <td>0.00</td>\n",
              "      <td>0.00</td>\n",
              "      <td>0.00</td>\n",
              "      <td>0.00</td>\n",
              "      <td>0.00</td>\n",
              "      <td>0.00</td>\n",
              "      <td>0.00</td>\n",
              "      <td>0.00</td>\n",
              "      <td>0.00</td>\n",
              "      <td>0.00</td>\n",
              "      <td>0.00</td>\n",
              "      <td>0.00</td>\n",
              "      <td>0.00</td>\n",
              "      <td>0.00</td>\n",
              "      <td>0.00</td>\n",
              "      <td>0.00</td>\n",
              "      <td>0.00</td>\n",
              "      <td>0.00</td>\n",
              "      <td>0.00</td>\n",
              "      <td>0.00</td>\n",
              "      <td>0.00</td>\n",
              "      <td>0.00</td>\n",
              "      <td>0.00</td>\n",
              "      <td>0.00</td>\n",
              "      <td>0.00</td>\n",
              "      <td>0.00</td>\n",
              "      <td>...</td>\n",
              "      <td>0.00</td>\n",
              "      <td>0.00</td>\n",
              "      <td>0.00</td>\n",
              "      <td>0.00</td>\n",
              "      <td>0.00</td>\n",
              "      <td>0.00</td>\n",
              "      <td>0.00</td>\n",
              "      <td>0.00</td>\n",
              "      <td>0.00</td>\n",
              "      <td>0.00</td>\n",
              "      <td>0.00</td>\n",
              "      <td>0.00</td>\n",
              "      <td>0.00</td>\n",
              "      <td>0.00</td>\n",
              "      <td>0.00</td>\n",
              "      <td>0.00</td>\n",
              "      <td>0.00</td>\n",
              "      <td>0.00</td>\n",
              "      <td>0.00</td>\n",
              "      <td>0.00</td>\n",
              "      <td>0.00</td>\n",
              "      <td>0.00</td>\n",
              "      <td>0.00</td>\n",
              "      <td>0.00</td>\n",
              "      <td>0.00</td>\n",
              "      <td>0.00</td>\n",
              "      <td>0.00</td>\n",
              "      <td>0.00</td>\n",
              "      <td>0.00</td>\n",
              "      <td>0.00</td>\n",
              "      <td>0.00</td>\n",
              "      <td>0.00</td>\n",
              "      <td>0.00</td>\n",
              "      <td>0.00</td>\n",
              "      <td>0.00</td>\n",
              "      <td>0.00</td>\n",
              "      <td>0.00</td>\n",
              "      <td>0.00</td>\n",
              "      <td>0.00</td>\n",
              "      <td>0.00</td>\n",
              "    </tr>\n",
              "  </tbody>\n",
              "</table>\n",
              "<p>5 rows × 5025 columns</p>\n",
              "</div>"
            ],
            "text/plain": [
              "ISBN     0020198906  002026478X  0020412401  ...  9500704447  B0000T6KHI  B0001GMSV2\n",
              "User-ID                                      ...                                    \n",
              "243            0.00        0.00        0.00  ...        0.00        0.00        0.00\n",
              "254            0.00        0.00        0.00  ...        0.00        0.00        0.00\n",
              "507            0.00        0.00        0.00  ...        0.00        0.00        0.00\n",
              "638            0.00        0.00        0.00  ...        0.00        0.00        0.00\n",
              "882            0.00        0.00        0.00  ...        0.00        0.00        0.00\n",
              "\n",
              "[5 rows x 5025 columns]"
            ]
          },
          "metadata": {},
          "execution_count": 87
        }
      ]
    },
    {
      "cell_type": "code",
      "metadata": {
        "colab": {
          "base_uri": "https://localhost:8080/"
        },
        "id": "LvgdX9KLOpOn",
        "outputId": "34426537-8b00-44fe-b923-3275d13bd513"
      },
      "source": [
        "users_items_pivot_matrix = users_items_pivot_matrix_df.values\n",
        "users_items_pivot_matrix[:10]"
      ],
      "execution_count": 88,
      "outputs": [
        {
          "output_type": "execute_result",
          "data": {
            "text/plain": [
              "array([[0., 0., 0., ..., 0., 0., 0.],\n",
              "       [0., 0., 0., ..., 0., 0., 0.],\n",
              "       [0., 0., 0., ..., 0., 0., 0.],\n",
              "       ...,\n",
              "       [0., 0., 0., ..., 0., 0., 0.],\n",
              "       [0., 0., 0., ..., 0., 0., 0.],\n",
              "       [0., 0., 0., ..., 0., 0., 0.]])"
            ]
          },
          "metadata": {},
          "execution_count": 88
        }
      ]
    },
    {
      "cell_type": "code",
      "metadata": {
        "colab": {
          "base_uri": "https://localhost:8080/"
        },
        "id": "tZa0tZTcOpOn",
        "outputId": "e06753f7-7280-4d6a-83db-a0c7ba1bfde7"
      },
      "source": [
        "# Check the list of user id of the users\n",
        "users_ids = list(users_items_pivot_matrix_df.index)\n",
        "users_ids[:10]"
      ],
      "execution_count": 89,
      "outputs": [
        {
          "output_type": "execute_result",
          "data": {
            "text/plain": [
              "[243, 254, 507, 638, 882, 1435, 1733, 1848, 2033, 2110]"
            ]
          },
          "metadata": {},
          "execution_count": 89
        }
      ]
    },
    {
      "cell_type": "markdown",
      "metadata": {
        "id": "P0iXImWxOt8B"
      },
      "source": [
        "# **SVD - Model Based Collaborative Filtering**\n",
        "\n",
        "The Singular-Value Decomposition, or SVD for short, is a matrix decomposition method for reducing a matrix to its constituent parts in order to make certain subsequent matrix calculations simpler. It provides another way to factorize a matrix, into singular vectors and singular values."
      ]
    },
    {
      "cell_type": "markdown",
      "metadata": {
        "id": "UAbp0XRnOw_I"
      },
      "source": [
        "# **A=U.Sigma.VT**"
      ]
    },
    {
      "cell_type": "code",
      "metadata": {
        "id": "h6FgC3nzOw_J"
      },
      "source": [
        "#importing cosine_similarity\n",
        "from sklearn.metrics.pairwise import cosine_similarity\n",
        "from scipy.sparse.linalg import svds"
      ],
      "execution_count": 90,
      "outputs": []
    },
    {
      "cell_type": "code",
      "metadata": {
        "id": "zWV9aUfUOw_J"
      },
      "source": [
        "# The number of factors to factor the user-item matrix.\n",
        "NUMBER_OF_FACTORS_MF = 15\n",
        "\n",
        "#Performs matrix factorization of the original user item matrix\n",
        "U, sigma, Vt = svds(users_items_pivot_matrix, k = NUMBER_OF_FACTORS_MF)"
      ],
      "execution_count": 91,
      "outputs": []
    },
    {
      "cell_type": "code",
      "metadata": {
        "colab": {
          "base_uri": "https://localhost:8080/"
        },
        "id": "GoGBiGR_Ow_K",
        "outputId": "4594d2d7-6d5d-4ed0-fa8e-f3910ad339a2"
      },
      "source": [
        "users_items_pivot_matrix.shape"
      ],
      "execution_count": 92,
      "outputs": [
        {
          "output_type": "execute_result",
          "data": {
            "text/plain": [
              "(1310, 5025)"
            ]
          },
          "metadata": {},
          "execution_count": 92
        }
      ]
    },
    {
      "cell_type": "code",
      "metadata": {
        "colab": {
          "base_uri": "https://localhost:8080/"
        },
        "id": "zS0evXTGOw_K",
        "outputId": "36c4fa55-d023-465a-dd5e-ad0c92e92e1c"
      },
      "source": [
        "U.shape"
      ],
      "execution_count": 93,
      "outputs": [
        {
          "output_type": "execute_result",
          "data": {
            "text/plain": [
              "(1310, 15)"
            ]
          },
          "metadata": {},
          "execution_count": 93
        }
      ]
    },
    {
      "cell_type": "code",
      "metadata": {
        "colab": {
          "base_uri": "https://localhost:8080/"
        },
        "id": "PR2Vs6l9Ow_K",
        "outputId": "820f81b8-7791-4915-cacb-6f83ebb50bfc"
      },
      "source": [
        "sigma = np.diag(sigma)\n",
        "sigma.shape"
      ],
      "execution_count": 94,
      "outputs": [
        {
          "output_type": "execute_result",
          "data": {
            "text/plain": [
              "(15, 15)"
            ]
          },
          "metadata": {},
          "execution_count": 94
        }
      ]
    },
    {
      "cell_type": "code",
      "metadata": {
        "colab": {
          "base_uri": "https://localhost:8080/"
        },
        "id": "z01e9MmrOw_L",
        "outputId": "002f9d7d-5a94-4dad-8d1c-359e71f73fb2"
      },
      "source": [
        "Vt.shape"
      ],
      "execution_count": 95,
      "outputs": [
        {
          "output_type": "execute_result",
          "data": {
            "text/plain": [
              "(15, 5025)"
            ]
          },
          "metadata": {},
          "execution_count": 95
        }
      ]
    },
    {
      "cell_type": "markdown",
      "metadata": {
        "id": "shBBucxuOw_L"
      },
      "source": [
        "**After the factorization, we try to to reconstruct the original matrix by multiplying its factors. The resulting matrix is not sparse any more. It was generated predictions for items the user have not yet interaction, which we will exploit for recommendations.**"
      ]
    },
    {
      "cell_type": "code",
      "metadata": {
        "colab": {
          "base_uri": "https://localhost:8080/"
        },
        "id": "_YZ9jDraOw_L",
        "outputId": "e7dde75d-635d-46b4-8d71-897d9816d342"
      },
      "source": [
        "all_user_predicted_ratings = np.dot(np.dot(U, sigma), Vt) \n",
        "all_user_predicted_ratings"
      ],
      "execution_count": 96,
      "outputs": [
        {
          "output_type": "execute_result",
          "data": {
            "text/plain": [
              "array([[ 1.91190667e-02,  2.26021928e-02,  1.01822675e-03, ...,\n",
              "         2.87086985e-03,  1.56326301e-02, -2.97755473e-04],\n",
              "       [ 5.21664643e-03,  1.13783671e-02,  7.50119278e-03, ...,\n",
              "         8.90930668e-03, -1.64022879e-02,  1.94177767e-03],\n",
              "       [ 6.46062370e-03, -2.33151808e-02,  3.56524970e-04, ...,\n",
              "        -8.80802917e-04,  3.81536971e-03,  5.11459951e-05],\n",
              "       ...,\n",
              "       [ 3.30463341e-02, -1.97329475e-02,  6.73288850e-04, ...,\n",
              "        -9.48356969e-03, -1.49806243e-02,  1.77394962e-04],\n",
              "       [ 4.61456533e-03,  5.38652349e-02,  4.38433014e-03, ...,\n",
              "         2.30263565e-02,  4.62369888e-02, -1.40004446e-03],\n",
              "       [ 3.54610025e-03,  1.93427821e-02,  2.35286560e-03, ...,\n",
              "        -3.85122630e-04,  5.09639620e-03,  2.39864772e-04]])"
            ]
          },
          "metadata": {},
          "execution_count": 96
        }
      ]
    },
    {
      "cell_type": "code",
      "metadata": {
        "colab": {
          "base_uri": "https://localhost:8080/"
        },
        "id": "Fdh6vp7mOw_M",
        "outputId": "1b213652-fd06-4d4f-fd6a-976035e7fc8d"
      },
      "source": [
        "all_user_predicted_ratings.shape"
      ],
      "execution_count": 97,
      "outputs": [
        {
          "output_type": "execute_result",
          "data": {
            "text/plain": [
              "(1310, 5025)"
            ]
          },
          "metadata": {},
          "execution_count": 97
        }
      ]
    },
    {
      "cell_type": "markdown",
      "metadata": {
        "id": "PKK6vv55Ow_M"
      },
      "source": [
        "**Making DataFrame from our predicted ratings.**"
      ]
    },
    {
      "cell_type": "code",
      "metadata": {
        "colab": {
          "base_uri": "https://localhost:8080/",
          "height": 284
        },
        "id": "fvx8ysfsOw_M",
        "outputId": "831faca8-8c20-4738-90c0-5070386fb6b8"
      },
      "source": [
        "#Converting the reconstructed matrix back to a Pandas dataframe\n",
        "cf_preds_df = pd.DataFrame(all_user_predicted_ratings, columns = users_items_pivot_matrix_df.columns, index=users_ids).transpose()\n",
        "cf_preds_df.head()"
      ],
      "execution_count": 98,
      "outputs": [
        {
          "output_type": "execute_result",
          "data": {
            "text/html": [
              "<div>\n",
              "<style scoped>\n",
              "    .dataframe tbody tr th:only-of-type {\n",
              "        vertical-align: middle;\n",
              "    }\n",
              "\n",
              "    .dataframe tbody tr th {\n",
              "        vertical-align: top;\n",
              "    }\n",
              "\n",
              "    .dataframe thead th {\n",
              "        text-align: right;\n",
              "    }\n",
              "</style>\n",
              "<table border=\"1\" class=\"dataframe\">\n",
              "  <thead>\n",
              "    <tr style=\"text-align: right;\">\n",
              "      <th></th>\n",
              "      <th>243</th>\n",
              "      <th>254</th>\n",
              "      <th>507</th>\n",
              "      <th>638</th>\n",
              "      <th>882</th>\n",
              "      <th>1435</th>\n",
              "      <th>1733</th>\n",
              "      <th>1848</th>\n",
              "      <th>2033</th>\n",
              "      <th>2110</th>\n",
              "      <th>2276</th>\n",
              "      <th>2766</th>\n",
              "      <th>2891</th>\n",
              "      <th>2977</th>\n",
              "      <th>3145</th>\n",
              "      <th>3167</th>\n",
              "      <th>3363</th>\n",
              "      <th>3371</th>\n",
              "      <th>3373</th>\n",
              "      <th>3827</th>\n",
              "      <th>4017</th>\n",
              "      <th>4938</th>\n",
              "      <th>5539</th>\n",
              "      <th>5582</th>\n",
              "      <th>6073</th>\n",
              "      <th>6251</th>\n",
              "      <th>6323</th>\n",
              "      <th>6543</th>\n",
              "      <th>6563</th>\n",
              "      <th>6575</th>\n",
              "      <th>7125</th>\n",
              "      <th>7158</th>\n",
              "      <th>7283</th>\n",
              "      <th>7346</th>\n",
              "      <th>7915</th>\n",
              "      <th>8066</th>\n",
              "      <th>8067</th>\n",
              "      <th>8245</th>\n",
              "      <th>8253</th>\n",
              "      <th>8362</th>\n",
              "      <th>...</th>\n",
              "      <th>269835</th>\n",
              "      <th>269890</th>\n",
              "      <th>270352</th>\n",
              "      <th>270605</th>\n",
              "      <th>270801</th>\n",
              "      <th>270820</th>\n",
              "      <th>270838</th>\n",
              "      <th>270906</th>\n",
              "      <th>271144</th>\n",
              "      <th>271176</th>\n",
              "      <th>271195</th>\n",
              "      <th>271448</th>\n",
              "      <th>271538</th>\n",
              "      <th>271558</th>\n",
              "      <th>271705</th>\n",
              "      <th>272573</th>\n",
              "      <th>273086</th>\n",
              "      <th>273113</th>\n",
              "      <th>273979</th>\n",
              "      <th>274056</th>\n",
              "      <th>274061</th>\n",
              "      <th>274308</th>\n",
              "      <th>274549</th>\n",
              "      <th>274634</th>\n",
              "      <th>274808</th>\n",
              "      <th>275970</th>\n",
              "      <th>276050</th>\n",
              "      <th>276165</th>\n",
              "      <th>276231</th>\n",
              "      <th>276463</th>\n",
              "      <th>276680</th>\n",
              "      <th>277427</th>\n",
              "      <th>277639</th>\n",
              "      <th>278026</th>\n",
              "      <th>278137</th>\n",
              "      <th>278188</th>\n",
              "      <th>278418</th>\n",
              "      <th>278582</th>\n",
              "      <th>278633</th>\n",
              "      <th>278843</th>\n",
              "    </tr>\n",
              "    <tr>\n",
              "      <th>ISBN</th>\n",
              "      <th></th>\n",
              "      <th></th>\n",
              "      <th></th>\n",
              "      <th></th>\n",
              "      <th></th>\n",
              "      <th></th>\n",
              "      <th></th>\n",
              "      <th></th>\n",
              "      <th></th>\n",
              "      <th></th>\n",
              "      <th></th>\n",
              "      <th></th>\n",
              "      <th></th>\n",
              "      <th></th>\n",
              "      <th></th>\n",
              "      <th></th>\n",
              "      <th></th>\n",
              "      <th></th>\n",
              "      <th></th>\n",
              "      <th></th>\n",
              "      <th></th>\n",
              "      <th></th>\n",
              "      <th></th>\n",
              "      <th></th>\n",
              "      <th></th>\n",
              "      <th></th>\n",
              "      <th></th>\n",
              "      <th></th>\n",
              "      <th></th>\n",
              "      <th></th>\n",
              "      <th></th>\n",
              "      <th></th>\n",
              "      <th></th>\n",
              "      <th></th>\n",
              "      <th></th>\n",
              "      <th></th>\n",
              "      <th></th>\n",
              "      <th></th>\n",
              "      <th></th>\n",
              "      <th></th>\n",
              "      <th></th>\n",
              "      <th></th>\n",
              "      <th></th>\n",
              "      <th></th>\n",
              "      <th></th>\n",
              "      <th></th>\n",
              "      <th></th>\n",
              "      <th></th>\n",
              "      <th></th>\n",
              "      <th></th>\n",
              "      <th></th>\n",
              "      <th></th>\n",
              "      <th></th>\n",
              "      <th></th>\n",
              "      <th></th>\n",
              "      <th></th>\n",
              "      <th></th>\n",
              "      <th></th>\n",
              "      <th></th>\n",
              "      <th></th>\n",
              "      <th></th>\n",
              "      <th></th>\n",
              "      <th></th>\n",
              "      <th></th>\n",
              "      <th></th>\n",
              "      <th></th>\n",
              "      <th></th>\n",
              "      <th></th>\n",
              "      <th></th>\n",
              "      <th></th>\n",
              "      <th></th>\n",
              "      <th></th>\n",
              "      <th></th>\n",
              "      <th></th>\n",
              "      <th></th>\n",
              "      <th></th>\n",
              "      <th></th>\n",
              "      <th></th>\n",
              "      <th></th>\n",
              "      <th></th>\n",
              "      <th></th>\n",
              "    </tr>\n",
              "  </thead>\n",
              "  <tbody>\n",
              "    <tr>\n",
              "      <th>0020198906</th>\n",
              "      <td>0.02</td>\n",
              "      <td>0.01</td>\n",
              "      <td>0.01</td>\n",
              "      <td>0.00</td>\n",
              "      <td>0.00</td>\n",
              "      <td>0.01</td>\n",
              "      <td>0.00</td>\n",
              "      <td>-0.00</td>\n",
              "      <td>0.01</td>\n",
              "      <td>0.01</td>\n",
              "      <td>0.03</td>\n",
              "      <td>0.01</td>\n",
              "      <td>0.01</td>\n",
              "      <td>0.00</td>\n",
              "      <td>0.01</td>\n",
              "      <td>0.00</td>\n",
              "      <td>0.01</td>\n",
              "      <td>0.00</td>\n",
              "      <td>0.01</td>\n",
              "      <td>0.00</td>\n",
              "      <td>0.03</td>\n",
              "      <td>-0.00</td>\n",
              "      <td>0.00</td>\n",
              "      <td>0.02</td>\n",
              "      <td>0.01</td>\n",
              "      <td>0.05</td>\n",
              "      <td>0.00</td>\n",
              "      <td>0.06</td>\n",
              "      <td>0.04</td>\n",
              "      <td>0.13</td>\n",
              "      <td>0.01</td>\n",
              "      <td>0.00</td>\n",
              "      <td>0.02</td>\n",
              "      <td>0.19</td>\n",
              "      <td>0.05</td>\n",
              "      <td>0.02</td>\n",
              "      <td>0.09</td>\n",
              "      <td>0.02</td>\n",
              "      <td>0.04</td>\n",
              "      <td>0.01</td>\n",
              "      <td>...</td>\n",
              "      <td>-0.00</td>\n",
              "      <td>0.01</td>\n",
              "      <td>-0.00</td>\n",
              "      <td>0.02</td>\n",
              "      <td>0.02</td>\n",
              "      <td>0.01</td>\n",
              "      <td>-0.00</td>\n",
              "      <td>0.00</td>\n",
              "      <td>0.00</td>\n",
              "      <td>0.01</td>\n",
              "      <td>0.01</td>\n",
              "      <td>0.05</td>\n",
              "      <td>0.01</td>\n",
              "      <td>0.02</td>\n",
              "      <td>0.02</td>\n",
              "      <td>0.04</td>\n",
              "      <td>0.01</td>\n",
              "      <td>-0.01</td>\n",
              "      <td>0.02</td>\n",
              "      <td>0.01</td>\n",
              "      <td>-0.02</td>\n",
              "      <td>0.02</td>\n",
              "      <td>0.01</td>\n",
              "      <td>-0.00</td>\n",
              "      <td>0.01</td>\n",
              "      <td>0.01</td>\n",
              "      <td>0.01</td>\n",
              "      <td>0.01</td>\n",
              "      <td>0.02</td>\n",
              "      <td>0.01</td>\n",
              "      <td>0.00</td>\n",
              "      <td>0.03</td>\n",
              "      <td>0.01</td>\n",
              "      <td>0.02</td>\n",
              "      <td>0.00</td>\n",
              "      <td>0.01</td>\n",
              "      <td>0.00</td>\n",
              "      <td>0.03</td>\n",
              "      <td>0.00</td>\n",
              "      <td>0.00</td>\n",
              "    </tr>\n",
              "    <tr>\n",
              "      <th>002026478X</th>\n",
              "      <td>0.02</td>\n",
              "      <td>0.01</td>\n",
              "      <td>-0.02</td>\n",
              "      <td>-0.04</td>\n",
              "      <td>0.01</td>\n",
              "      <td>0.02</td>\n",
              "      <td>-0.01</td>\n",
              "      <td>-0.02</td>\n",
              "      <td>0.02</td>\n",
              "      <td>-0.02</td>\n",
              "      <td>-0.01</td>\n",
              "      <td>0.02</td>\n",
              "      <td>0.02</td>\n",
              "      <td>-0.01</td>\n",
              "      <td>-0.01</td>\n",
              "      <td>0.06</td>\n",
              "      <td>0.04</td>\n",
              "      <td>0.01</td>\n",
              "      <td>0.02</td>\n",
              "      <td>-0.00</td>\n",
              "      <td>0.13</td>\n",
              "      <td>0.02</td>\n",
              "      <td>0.01</td>\n",
              "      <td>-0.01</td>\n",
              "      <td>-0.01</td>\n",
              "      <td>-0.02</td>\n",
              "      <td>-0.02</td>\n",
              "      <td>-0.02</td>\n",
              "      <td>0.00</td>\n",
              "      <td>-0.11</td>\n",
              "      <td>0.02</td>\n",
              "      <td>0.01</td>\n",
              "      <td>0.06</td>\n",
              "      <td>0.17</td>\n",
              "      <td>0.01</td>\n",
              "      <td>0.01</td>\n",
              "      <td>0.07</td>\n",
              "      <td>0.02</td>\n",
              "      <td>0.11</td>\n",
              "      <td>0.02</td>\n",
              "      <td>...</td>\n",
              "      <td>-0.01</td>\n",
              "      <td>-0.01</td>\n",
              "      <td>0.00</td>\n",
              "      <td>0.04</td>\n",
              "      <td>-0.01</td>\n",
              "      <td>-0.03</td>\n",
              "      <td>0.02</td>\n",
              "      <td>-0.01</td>\n",
              "      <td>0.05</td>\n",
              "      <td>-0.05</td>\n",
              "      <td>-0.03</td>\n",
              "      <td>-0.00</td>\n",
              "      <td>0.01</td>\n",
              "      <td>-0.01</td>\n",
              "      <td>0.06</td>\n",
              "      <td>0.02</td>\n",
              "      <td>0.03</td>\n",
              "      <td>0.00</td>\n",
              "      <td>0.10</td>\n",
              "      <td>0.03</td>\n",
              "      <td>0.04</td>\n",
              "      <td>-0.02</td>\n",
              "      <td>-0.01</td>\n",
              "      <td>-0.01</td>\n",
              "      <td>0.03</td>\n",
              "      <td>0.01</td>\n",
              "      <td>0.01</td>\n",
              "      <td>-0.03</td>\n",
              "      <td>0.06</td>\n",
              "      <td>0.00</td>\n",
              "      <td>0.00</td>\n",
              "      <td>0.07</td>\n",
              "      <td>0.01</td>\n",
              "      <td>0.02</td>\n",
              "      <td>-0.02</td>\n",
              "      <td>0.01</td>\n",
              "      <td>0.02</td>\n",
              "      <td>-0.02</td>\n",
              "      <td>0.05</td>\n",
              "      <td>0.02</td>\n",
              "    </tr>\n",
              "    <tr>\n",
              "      <th>0020412401</th>\n",
              "      <td>0.00</td>\n",
              "      <td>0.01</td>\n",
              "      <td>0.00</td>\n",
              "      <td>0.00</td>\n",
              "      <td>0.00</td>\n",
              "      <td>0.00</td>\n",
              "      <td>0.00</td>\n",
              "      <td>-0.00</td>\n",
              "      <td>0.01</td>\n",
              "      <td>0.00</td>\n",
              "      <td>0.00</td>\n",
              "      <td>0.00</td>\n",
              "      <td>0.00</td>\n",
              "      <td>0.00</td>\n",
              "      <td>0.00</td>\n",
              "      <td>-0.00</td>\n",
              "      <td>0.00</td>\n",
              "      <td>-0.00</td>\n",
              "      <td>0.00</td>\n",
              "      <td>0.00</td>\n",
              "      <td>0.00</td>\n",
              "      <td>0.00</td>\n",
              "      <td>0.00</td>\n",
              "      <td>0.00</td>\n",
              "      <td>0.00</td>\n",
              "      <td>0.01</td>\n",
              "      <td>0.00</td>\n",
              "      <td>0.00</td>\n",
              "      <td>0.00</td>\n",
              "      <td>-0.01</td>\n",
              "      <td>-0.00</td>\n",
              "      <td>0.00</td>\n",
              "      <td>0.00</td>\n",
              "      <td>0.01</td>\n",
              "      <td>0.00</td>\n",
              "      <td>0.00</td>\n",
              "      <td>0.00</td>\n",
              "      <td>-0.00</td>\n",
              "      <td>0.01</td>\n",
              "      <td>0.00</td>\n",
              "      <td>...</td>\n",
              "      <td>0.00</td>\n",
              "      <td>-0.00</td>\n",
              "      <td>0.00</td>\n",
              "      <td>0.00</td>\n",
              "      <td>-0.00</td>\n",
              "      <td>0.00</td>\n",
              "      <td>0.00</td>\n",
              "      <td>0.00</td>\n",
              "      <td>-0.00</td>\n",
              "      <td>0.01</td>\n",
              "      <td>-0.00</td>\n",
              "      <td>0.01</td>\n",
              "      <td>0.00</td>\n",
              "      <td>-0.00</td>\n",
              "      <td>0.00</td>\n",
              "      <td>0.01</td>\n",
              "      <td>-0.00</td>\n",
              "      <td>0.01</td>\n",
              "      <td>0.00</td>\n",
              "      <td>0.00</td>\n",
              "      <td>0.00</td>\n",
              "      <td>0.00</td>\n",
              "      <td>0.00</td>\n",
              "      <td>0.00</td>\n",
              "      <td>0.00</td>\n",
              "      <td>-0.00</td>\n",
              "      <td>-0.00</td>\n",
              "      <td>0.01</td>\n",
              "      <td>0.00</td>\n",
              "      <td>0.00</td>\n",
              "      <td>0.00</td>\n",
              "      <td>-0.00</td>\n",
              "      <td>0.00</td>\n",
              "      <td>0.00</td>\n",
              "      <td>0.00</td>\n",
              "      <td>0.00</td>\n",
              "      <td>0.00</td>\n",
              "      <td>0.00</td>\n",
              "      <td>0.00</td>\n",
              "      <td>0.00</td>\n",
              "    </tr>\n",
              "    <tr>\n",
              "      <th>0020442203</th>\n",
              "      <td>-0.00</td>\n",
              "      <td>0.07</td>\n",
              "      <td>-0.00</td>\n",
              "      <td>0.01</td>\n",
              "      <td>0.01</td>\n",
              "      <td>0.00</td>\n",
              "      <td>0.01</td>\n",
              "      <td>0.01</td>\n",
              "      <td>0.06</td>\n",
              "      <td>0.01</td>\n",
              "      <td>0.00</td>\n",
              "      <td>0.00</td>\n",
              "      <td>0.00</td>\n",
              "      <td>0.00</td>\n",
              "      <td>0.00</td>\n",
              "      <td>0.01</td>\n",
              "      <td>0.00</td>\n",
              "      <td>0.00</td>\n",
              "      <td>0.00</td>\n",
              "      <td>0.01</td>\n",
              "      <td>-0.01</td>\n",
              "      <td>0.01</td>\n",
              "      <td>0.00</td>\n",
              "      <td>0.01</td>\n",
              "      <td>0.01</td>\n",
              "      <td>0.07</td>\n",
              "      <td>0.01</td>\n",
              "      <td>-0.00</td>\n",
              "      <td>0.01</td>\n",
              "      <td>-0.01</td>\n",
              "      <td>-0.01</td>\n",
              "      <td>-0.00</td>\n",
              "      <td>0.00</td>\n",
              "      <td>0.02</td>\n",
              "      <td>-0.00</td>\n",
              "      <td>-0.00</td>\n",
              "      <td>-0.01</td>\n",
              "      <td>0.01</td>\n",
              "      <td>0.02</td>\n",
              "      <td>0.00</td>\n",
              "      <td>...</td>\n",
              "      <td>0.01</td>\n",
              "      <td>0.00</td>\n",
              "      <td>0.00</td>\n",
              "      <td>0.01</td>\n",
              "      <td>-0.00</td>\n",
              "      <td>0.01</td>\n",
              "      <td>0.00</td>\n",
              "      <td>0.00</td>\n",
              "      <td>0.01</td>\n",
              "      <td>0.09</td>\n",
              "      <td>0.02</td>\n",
              "      <td>0.01</td>\n",
              "      <td>0.01</td>\n",
              "      <td>0.01</td>\n",
              "      <td>0.03</td>\n",
              "      <td>0.01</td>\n",
              "      <td>0.01</td>\n",
              "      <td>-0.03</td>\n",
              "      <td>0.00</td>\n",
              "      <td>0.01</td>\n",
              "      <td>0.05</td>\n",
              "      <td>0.01</td>\n",
              "      <td>0.00</td>\n",
              "      <td>0.01</td>\n",
              "      <td>0.00</td>\n",
              "      <td>0.01</td>\n",
              "      <td>0.01</td>\n",
              "      <td>0.08</td>\n",
              "      <td>0.00</td>\n",
              "      <td>0.01</td>\n",
              "      <td>0.00</td>\n",
              "      <td>0.00</td>\n",
              "      <td>0.00</td>\n",
              "      <td>-0.00</td>\n",
              "      <td>0.01</td>\n",
              "      <td>-0.00</td>\n",
              "      <td>0.00</td>\n",
              "      <td>-0.00</td>\n",
              "      <td>-0.00</td>\n",
              "      <td>0.02</td>\n",
              "    </tr>\n",
              "    <tr>\n",
              "      <th>0020442408</th>\n",
              "      <td>0.00</td>\n",
              "      <td>0.02</td>\n",
              "      <td>-0.00</td>\n",
              "      <td>-0.00</td>\n",
              "      <td>0.01</td>\n",
              "      <td>0.00</td>\n",
              "      <td>0.01</td>\n",
              "      <td>0.00</td>\n",
              "      <td>0.01</td>\n",
              "      <td>0.01</td>\n",
              "      <td>0.01</td>\n",
              "      <td>-0.00</td>\n",
              "      <td>0.00</td>\n",
              "      <td>0.00</td>\n",
              "      <td>0.00</td>\n",
              "      <td>0.01</td>\n",
              "      <td>-0.00</td>\n",
              "      <td>0.00</td>\n",
              "      <td>0.00</td>\n",
              "      <td>0.01</td>\n",
              "      <td>0.00</td>\n",
              "      <td>0.01</td>\n",
              "      <td>0.00</td>\n",
              "      <td>0.00</td>\n",
              "      <td>0.01</td>\n",
              "      <td>0.01</td>\n",
              "      <td>0.01</td>\n",
              "      <td>-0.00</td>\n",
              "      <td>0.01</td>\n",
              "      <td>-0.01</td>\n",
              "      <td>-0.00</td>\n",
              "      <td>-0.00</td>\n",
              "      <td>0.01</td>\n",
              "      <td>0.02</td>\n",
              "      <td>-0.01</td>\n",
              "      <td>0.00</td>\n",
              "      <td>-0.02</td>\n",
              "      <td>0.01</td>\n",
              "      <td>0.01</td>\n",
              "      <td>0.00</td>\n",
              "      <td>...</td>\n",
              "      <td>0.00</td>\n",
              "      <td>0.00</td>\n",
              "      <td>0.00</td>\n",
              "      <td>0.01</td>\n",
              "      <td>-0.00</td>\n",
              "      <td>0.02</td>\n",
              "      <td>0.01</td>\n",
              "      <td>0.00</td>\n",
              "      <td>0.01</td>\n",
              "      <td>0.01</td>\n",
              "      <td>0.02</td>\n",
              "      <td>-0.01</td>\n",
              "      <td>0.01</td>\n",
              "      <td>0.02</td>\n",
              "      <td>0.02</td>\n",
              "      <td>0.01</td>\n",
              "      <td>0.01</td>\n",
              "      <td>-0.03</td>\n",
              "      <td>0.01</td>\n",
              "      <td>0.01</td>\n",
              "      <td>0.04</td>\n",
              "      <td>0.02</td>\n",
              "      <td>0.00</td>\n",
              "      <td>0.01</td>\n",
              "      <td>0.00</td>\n",
              "      <td>0.01</td>\n",
              "      <td>0.01</td>\n",
              "      <td>0.01</td>\n",
              "      <td>0.01</td>\n",
              "      <td>0.00</td>\n",
              "      <td>-0.00</td>\n",
              "      <td>0.01</td>\n",
              "      <td>0.01</td>\n",
              "      <td>-0.00</td>\n",
              "      <td>0.00</td>\n",
              "      <td>0.00</td>\n",
              "      <td>0.00</td>\n",
              "      <td>-0.01</td>\n",
              "      <td>-0.00</td>\n",
              "      <td>0.01</td>\n",
              "    </tr>\n",
              "  </tbody>\n",
              "</table>\n",
              "<p>5 rows × 1310 columns</p>\n",
              "</div>"
            ],
            "text/plain": [
              "            243     254     507     638     ...  278418  278582  278633  278843\n",
              "ISBN                                        ...                                \n",
              "0020198906    0.02    0.01    0.01    0.00  ...    0.00    0.03    0.00    0.00\n",
              "002026478X    0.02    0.01   -0.02   -0.04  ...    0.02   -0.02    0.05    0.02\n",
              "0020412401    0.00    0.01    0.00    0.00  ...    0.00    0.00    0.00    0.00\n",
              "0020442203   -0.00    0.07   -0.00    0.01  ...    0.00   -0.00   -0.00    0.02\n",
              "0020442408    0.00    0.02   -0.00   -0.00  ...    0.00   -0.01   -0.00    0.01\n",
              "\n",
              "[5 rows x 1310 columns]"
            ]
          },
          "metadata": {},
          "execution_count": 98
        }
      ]
    },
    {
      "cell_type": "code",
      "metadata": {
        "colab": {
          "base_uri": "https://localhost:8080/"
        },
        "id": "hOopSPbIOw_M",
        "outputId": "b3317fb5-4e04-4402-ed12-fb897b55d969"
      },
      "source": [
        "len(cf_preds_df.columns)"
      ],
      "execution_count": 99,
      "outputs": [
        {
          "output_type": "execute_result",
          "data": {
            "text/plain": [
              "1310"
            ]
          },
          "metadata": {},
          "execution_count": 99
        }
      ]
    },
    {
      "cell_type": "code",
      "metadata": {
        "colab": {
          "base_uri": "https://localhost:8080/",
          "height": 204
        },
        "id": "t3IGzdCVOw_N",
        "outputId": "a3651661-950d-4f94-d83d-24d35121d48b"
      },
      "source": [
        "global books_df\n",
        "books_df.head()"
      ],
      "execution_count": 100,
      "outputs": [
        {
          "output_type": "execute_result",
          "data": {
            "text/html": [
              "<div>\n",
              "<style scoped>\n",
              "    .dataframe tbody tr th:only-of-type {\n",
              "        vertical-align: middle;\n",
              "    }\n",
              "\n",
              "    .dataframe tbody tr th {\n",
              "        vertical-align: top;\n",
              "    }\n",
              "\n",
              "    .dataframe thead th {\n",
              "        text-align: right;\n",
              "    }\n",
              "</style>\n",
              "<table border=\"1\" class=\"dataframe\">\n",
              "  <thead>\n",
              "    <tr style=\"text-align: right;\">\n",
              "      <th></th>\n",
              "      <th>ISBN</th>\n",
              "      <th>Book-Title</th>\n",
              "      <th>Book-Author</th>\n",
              "      <th>Year-Of-Publication</th>\n",
              "      <th>Publisher</th>\n",
              "    </tr>\n",
              "  </thead>\n",
              "  <tbody>\n",
              "    <tr>\n",
              "      <th>0</th>\n",
              "      <td>0195153448</td>\n",
              "      <td>Classical Mythology</td>\n",
              "      <td>Mark P. O. Morford</td>\n",
              "      <td>2002.00</td>\n",
              "      <td>Oxford University Press</td>\n",
              "    </tr>\n",
              "    <tr>\n",
              "      <th>1</th>\n",
              "      <td>0002005018</td>\n",
              "      <td>Clara Callan</td>\n",
              "      <td>Richard Bruce Wright</td>\n",
              "      <td>2001.00</td>\n",
              "      <td>HarperFlamingo Canada</td>\n",
              "    </tr>\n",
              "    <tr>\n",
              "      <th>2</th>\n",
              "      <td>0060973129</td>\n",
              "      <td>Decision in Normandy</td>\n",
              "      <td>Carlo D'Este</td>\n",
              "      <td>1991.00</td>\n",
              "      <td>HarperPerennial</td>\n",
              "    </tr>\n",
              "    <tr>\n",
              "      <th>3</th>\n",
              "      <td>0374157065</td>\n",
              "      <td>Flu: The Story of the Great Influenza Pandemic...</td>\n",
              "      <td>Gina Bari Kolata</td>\n",
              "      <td>1999.00</td>\n",
              "      <td>Farrar Straus Giroux</td>\n",
              "    </tr>\n",
              "    <tr>\n",
              "      <th>4</th>\n",
              "      <td>0393045218</td>\n",
              "      <td>The Mummies of Urumchi</td>\n",
              "      <td>E. J. W. Barber</td>\n",
              "      <td>1999.00</td>\n",
              "      <td>W. W. Norton &amp;amp; Company</td>\n",
              "    </tr>\n",
              "  </tbody>\n",
              "</table>\n",
              "</div>"
            ],
            "text/plain": [
              "         ISBN  ...                   Publisher\n",
              "0  0195153448  ...     Oxford University Press\n",
              "1  0002005018  ...       HarperFlamingo Canada\n",
              "2  0060973129  ...             HarperPerennial\n",
              "3  0374157065  ...        Farrar Straus Giroux\n",
              "4  0393045218  ...  W. W. Norton &amp; Company\n",
              "\n",
              "[5 rows x 5 columns]"
            ]
          },
          "metadata": {},
          "execution_count": 100
        }
      ]
    },
    {
      "cell_type": "markdown",
      "metadata": {
        "id": "JJvYlryuOw_N"
      },
      "source": [
        "### **Colaborative Filtering Recommender Class**"
      ]
    },
    {
      "cell_type": "code",
      "metadata": {
        "id": "_3OKdekUOw_N"
      },
      "source": [
        "import random"
      ],
      "execution_count": 101,
      "outputs": []
    },
    {
      "cell_type": "code",
      "metadata": {
        "id": "93qkN1qbOw_N"
      },
      "source": [
        "# creating class for collaborative Filtering\n",
        "class CFRecommender:\n",
        "    \n",
        "    MODEL_NAME = 'Collaborative Filtering'\n",
        "    \n",
        "    def __init__(self, cf_predictions_df):\n",
        "        self.cf_predictions_df = cf_predictions_df\n",
        "        \n",
        "    def get_model_name(self):\n",
        "        return self.MODEL_NAME\n",
        "        \n",
        "    def recommend_items(self, user_id, items_to_ignore=[], topn=10):\n",
        "        # Get and sort the user's predictions\n",
        "        sorted_user_predictions = self.cf_predictions_df[user_id].sort_values(ascending=False).reset_index().rename(columns={user_id: 'recStrength'})\n",
        "\n",
        "        # Recommend the highest predicted rating content that the user hasn't seen yet.\n",
        "        recommendations_df = sorted_user_predictions[~sorted_user_predictions['ISBN'].isin(items_to_ignore)].sort_values('recStrength', ascending = False).head(topn)\n",
        "        recommendations_df=recommendations_df.merge(books_df,on='ISBN',how='inner')\n",
        "        recommendations_df=recommendations_df[['ISBN','Book-Title','recStrength']]\n",
        "\n",
        "        return recommendations_df\n",
        "\n",
        "\n",
        "\n",
        "cf_recommender_model = CFRecommender(cf_preds_df)"
      ],
      "execution_count": 102,
      "outputs": []
    },
    {
      "cell_type": "code",
      "metadata": {
        "id": "BpudF_BYO8Y3"
      },
      "source": [
        ""
      ],
      "execution_count": 102,
      "outputs": []
    },
    {
      "cell_type": "markdown",
      "metadata": {
        "id": "gSR5_sQ9O8vi"
      },
      "source": [
        "# **Evaluation**\n",
        "\n",
        "### In Recommender Systems, there are a set metrics commonly used for evaluation. We choose to work with **Top-N accuracy metrics**, which evaluates the accuracy of the top recommendations provided to a user, comparing to the items the user has actually interacted in test set.\n",
        "\n",
        "### This evaluation method works as follows:\n",
        "\n",
        "* ### For each user\n",
        "    * ### For each item the user has interacted in test set\n",
        "        * ### Sample 100 other items the user has never interacted.   \n",
        "        * ### Ask the recommender model to produce a ranked list of recommended items, from a set composed of one interacted item and the 100 non-interacted items\n",
        "        * ### Compute the Top-N accuracy metrics for this user and interacted item from the recommendations ranked list\n",
        "* ### Aggregate the global Top-N accuracy metrics"
      ]
    },
    {
      "cell_type": "code",
      "metadata": {
        "id": "WapGJZRhO8vj"
      },
      "source": [
        "#Indexing by personId to speed up the searches during evaluation\n",
        "interactions_full_indexed_df = interactions_full_df.set_index('User-ID')\n",
        "interactions_train_indexed_df = interactions_train_df.set_index('User-ID')\n",
        "interactions_test_indexed_df = interactions_test_df.set_index('User-ID')"
      ],
      "execution_count": 103,
      "outputs": []
    },
    {
      "cell_type": "markdown",
      "metadata": {
        "id": "0uCHvC2oO8vj"
      },
      "source": [
        "The Top-N accuracy metric choosen was **Recall@N** which evaluates whether the interacted item is among the top N items (hit) in the ranked list of 101 recommendations for a user."
      ]
    },
    {
      "cell_type": "code",
      "metadata": {
        "id": "DfOh4DWhO8vk"
      },
      "source": [
        "def get_items_interacted(UserID, interactions_df):\n",
        "    interacted_items = interactions_df.loc[UserID]['ISBN']\n",
        "    return set(interacted_items if type(interacted_items) == pd.Series else [interacted_items])"
      ],
      "execution_count": 104,
      "outputs": []
    },
    {
      "cell_type": "code",
      "metadata": {
        "id": "N_tW_c4-O8vk"
      },
      "source": [
        "class ModelRecommender:\n",
        "\n",
        "    # Function for getting the set of items which a user has not interacted with\n",
        "    def get_not_interacted_items_sample(self, UserID, sample_size, seed=42):\n",
        "        interacted_items = get_items_interacted(UserID, interactions_full_indexed_df)\n",
        "        all_items = set(us_user_rating['ISBN'])\n",
        "        non_interacted_items = all_items - interacted_items\n",
        "\n",
        "        random.seed(seed)\n",
        "        non_interacted_items_sample = random.sample(non_interacted_items, sample_size)\n",
        "        return set(non_interacted_items_sample)\n",
        "\n",
        "    # Function to verify whether a particular item_id was present in the set of top N recommended items\n",
        "    def _verify_hit_top_n(self, item_id, recommended_items, topn):        \n",
        "            try:\n",
        "                index = next(i for i, c in enumerate(recommended_items) if c == item_id)\n",
        "            except:\n",
        "                index = -1\n",
        "            hit = int(index in range(0, topn))\n",
        "            return hit, index\n",
        "    \n",
        "    # Function to evaluate the performance of model for each user\n",
        "    def evaluate_model_for_user(self, model, person_id):\n",
        "        \n",
        "        # Getting the items in test set\n",
        "        interacted_values_testset = interactions_test_indexed_df.loc[person_id]\n",
        "        \n",
        "        if type(interacted_values_testset['ISBN']) == pd.Series:\n",
        "            person_interacted_items_testset = set(interacted_values_testset['ISBN'])\n",
        "        else:\n",
        "            person_interacted_items_testset = set([str(interacted_values_testset['ISBN'])])\n",
        "            \n",
        "        interacted_items_count_testset = len(person_interacted_items_testset) \n",
        "\n",
        "        # Getting a ranked recommendation list from the model for a given user\n",
        "        person_recs_df = model.recommend_items(person_id, items_to_ignore=get_items_interacted(person_id, interactions_train_indexed_df),topn=10000000000)\n",
        "        print('Recommendation for User-ID = ',person_id)\n",
        "        print(person_recs_df.head(10))\n",
        "\n",
        "        # Function to evaluate the performance of model at overall level\n",
        "    def recommend_book(self, model ,userid):\n",
        "        \n",
        "        person_metrics = self.evaluate_model_for_user(model, userid)  \n",
        "        return\n",
        "\n",
        "model_recommender = ModelRecommender()"
      ],
      "execution_count": 105,
      "outputs": []
    },
    {
      "cell_type": "code",
      "metadata": {
        "colab": {
          "base_uri": "https://localhost:8080/"
        },
        "id": "ymFDgYwGO8vk",
        "outputId": "883bf903-3782-4267-d36e-52f5dba04b03"
      },
      "source": [
        "#printing the interaction's index no.\n",
        "print(list(interactions_full_indexed_df.index.values))"
      ],
      "execution_count": 106,
      "outputs": [
        {
          "output_type": "stream",
          "name": "stdout",
          "text": [
            "[7346, 14422, 108352, 140036, 157273, 68943, 95359, 104113, 248718, 264947, 271448, 190708, 16634, 55492, 96448, 114414, 122429, 173291, 197687, 203240, 228998, 16634, 38023, 66878, 126736, 38023, 93363, 228021, 16634, 88733, 228021, 243294, 257028, 10030, 12538, 16996, 41084, 52584, 71712, 110934, 113270, 128835, 150979, 171602, 173291, 174216, 175117, 179734, 183995, 208671, 225763, 229741, 269566, 277427, 12538, 123257, 130554, 7346, 52584, 150979, 155147, 249894, 23571, 52584, 113904, 125519, 128835, 196160, 249894, 251843, 172742, 37208, 98391, 107784, 176214, 261998, 269321, 193676, 4017, 6575, 8454, 10560, 17003, 89602, 104113, 115435, 201042, 224349, 259626, 29526, 44845, 93426, 135149, 142715, 165308, 205980, 227836, 265115, 271705, 98391, 27472, 261829, 98391, 174216, 229011, 254377, 258185, 265115, 203799, 13552, 16795, 31315, 61854, 131046, 235282, 242106, 93047, 94951, 98391, 114988, 271558, 254899, 123790, 169233, 202277, 216466, 249894, 40415, 69378, 124487, 187574, 214786, 242299, 267635, 6563, 13552, 117251, 144531, 148712, 149934, 182993, 207148, 258185, 276165, 13552, 114581, 127359, 136348, 155219, 161974, 165308, 182993, 226545, 246507, 258185, 93426, 229011, 264543, 265115, 7125, 25409, 31315, 62966, 64436, 114414, 171970, 190925, 246513, 254144, 87141, 56554, 105979, 117251, 125519, 160819, 162780, 196077, 209756, 56554, 91113, 127233, 144531, 229011, 56554, 91113, 229011, 242299, 41084, 98391, 153662, 176214, 190925, 209817, 229011, 6543, 98391, 138441, 7125, 7346, 8067, 13552, 15819, 25409, 93426, 95173, 95359, 125692, 127359, 155141, 181687, 228868, 246507, 251422, 269738, 115490, 93629, 175117, 32627, 270820, 55892, 246247, 31315, 31315, 85656, 235105, 20462, 36554, 113270, 146803, 218608, 251495, 13850, 15049, 16634, 31556, 39281, 96440, 141491, 144478, 145369, 165308, 201017, 246513, 255092, 257204, 6251, 39773, 150979, 92979, 211919, 8362, 29526, 76483, 78448, 83496, 86189, 110382, 110912, 133747, 137589, 141710, 145641, 196502, 222035, 240219, 276050, 278843, 197659, 21014, 55187, 69078, 95359, 100459, 105214, 110912, 130571, 138578, 145737, 146803, 150979, 201677, 40943, 136071, 254201, 4017, 69078, 89602, 95173, 100906, 101305, 114988, 115003, 204864, 218068, 239626, 43910, 70415, 187613, 235282, 16795, 50225, 241565, 147847, 264543, 66680, 152354, 189835, 190844, 203401, 203401, 64310, 158295, 88733, 174216, 260944, 265313, 201677, 154345, 260944, 53220, 172742, 98391, 235105, 6563, 98391, 218241, 112001, 184513, 248464, 251140, 270838, 166123, 10447, 20462, 69078, 69378, 117873, 136348, 173415, 246311, 251613, 79977, 89602, 95903, 206534, 211344, 264082, 274549, 110373, 158295, 27740, 31556, 88733, 128835, 235105, 37712, 39646, 69078, 77809, 136071, 178920, 201677, 218552, 248464, 250184, 98391, 184513, 245650, 42323, 182527, 254053, 115003, 158254, 186762, 253871, 31315, 260944, 21011, 23768, 130571, 136139, 212142, 6575, 10447, 31846, 52853, 91058, 154730, 201677, 224349, 21356, 31315, 149069, 227520, 136491, 6563, 8245, 28177, 29526, 36554, 48046, 55187, 69078, 100459, 110912, 111174, 116904, 142524, 236757, 242299, 96448, 69078, 29259, 69078, 118533, 129716, 143253, 156150, 179978, 197659, 203075, 205735, 211426, 249894, 265313, 266865, 2033, 146348, 208671, 31826, 129716, 156150, 249958, 16795, 123095, 100906, 156150, 156150, 189835, 31556, 55492, 55892, 225078, 276680, 130554, 248477, 225078, 225078, 114988, 225595, 8253, 31393, 43910, 46398, 48046, 63938, 69389, 90616, 101876, 108005, 124874, 126604, 141491, 172742, 195904, 206563, 226965, 235282, 264543, 81492, 185233, 6251, 16634, 17003, 23571, 25131, 34588, 35704, 51883, 56856, 60244, 60337, 62966, 63956, 68984, 75591, 76530, 80203, 81977, 85757, 87555, 94347, 95173, 95359, 100459, 106007, 110912, 126604, 142524, 145641, 154070, 157273, 157811, 178199, 182334, 183995, 187762, 201017, 218568, 222296, 225763, 234828, 240370, 245410, 271538, 8454, 135149, 212142, 6575, 8066, 13850, 20180, 21576, 22074, 29259, 30735, 35859, 36609, 51450, 55492, 57398, 60244, 64436, 76818, 96320, 98904, 104429, 110934, 110973, 135045, 137589, 139828, 140223, 141710, 149069, 149661, 153662, 154070, 160819, 172742, 177090, 177091, 178667, 196077, 211344, 220240, 220278, 221948, 228764, 244627, 263460, 269890, 271705, 40914, 88793, 138010, 141493, 150968, 162639, 235282, 69721, 110373, 16996, 98930, 103336, 167812, 240567, 271176, 275970, 81492, 98391, 153662, 207349, 216466, 225996, 258185, 261998, 67840, 124310, 210587, 4017, 52584, 96357, 110382, 135149, 202277, 246634, 278843, 213126, 270801, 143175, 16795, 37712, 95359, 144531, 153797, 210485, 218552, 224430, 187145, 240567, 17282, 30276, 98391, 114368, 190925, 234359, 247447, 247752, 277427, 81492, 98391, 107021, 247447, 21576, 114544, 125519, 159732, 77181, 181176, 190844, 7125, 110440, 225686, 3363, 8454, 101851, 121170, 126604, 208406, 257028, 258534, 44893, 179734, 201447, 56959, 76710, 95250, 104636, 135149, 184424, 200422, 256402, 148744, 218121, 32773, 87555, 112083, 146932, 177432, 185722, 201042, 224349, 229741, 257204, 30081, 37400, 56447, 162738, 167746, 196502, 201042, 243360, 236058, 81771, 86189, 93179, 134483, 174596, 201042, 243, 1435, 4017, 6563, 8253, 10447, 11601, 12538, 16488, 17003, 21011, 21014, 30994, 36554, 46443, 69078, 76352, 88733, 92979, 95359, 104113, 105979, 112026, 113270, 115003, 138777, 142623, 143415, 155147, 168144, 174216, 221445, 230522, 232131, 235935, 236757, 243942, 264543, 271144, 274808, 51883, 83637, 107784, 115490, 192093, 231210, 232959, 259629, 10447, 21618, 23872, 37400, 60337, 66878, 94347, 95359, 129716, 144038, 157811, 162738, 169682, 175052, 204864, 209817, 217375, 224809, 229741, 244286, 271144, 275970, 61427, 76352, 89602, 105979, 146932, 230522, 260897, 22818, 76530, 89602, 93047, 114988, 156150, 173415, 232131, 243328, 266865, 17003, 19664, 21014, 22365, 36554, 69078, 76352, 76499, 88937, 115003, 143415, 144038, 187256, 187613, 232131, 242299, 17003, 30994, 36606, 39281, 62891, 75591, 76352, 78783, 95359, 105937, 110912, 144038, 172742, 185147, 228681, 6575, 102967, 150979, 155147, 168144, 269835, 178667, 271705, 36554, 43619, 83637, 113270, 143837, 144038, 195904, 258482, 266865, 2891, 6575, 8253, 10447, 12824, 14422, 19842, 20180, 21014, 21364, 21576, 22365, 26621, 27472, 28523, 30972, 35445, 36256, 36606, 40889, 49980, 52917, 53392, 53418, 55548, 56391, 56447, 57398, 60244, 62464, 62862, 68555, 77809, 83637, 88733, 88937, 95932, 96357, 103336, 110912, 114544, 120908, 125411, 126492, 128085, 135045, 137211, 137589, 142715, 143163, 147141, 158254, 165308, 172512, 174596, 182459, 182993, 187256, 190925, 192211, 193676, 195694, 196077, 202277, 203240, 204864, 206563, 209373, 212923, 215006, 216670, 218552, 221445, 222220, 228311, 229741, 236757, 242299, 243236, 253871, 254201, 260897, 268032, 268110, 271448, 271538, 276231, 6575, 8253, 69078, 76499, 89602, 129716, 146932, 160819, 168954, 206944, 260897, 4017, 8253, 23768, 55490, 68436, 69078, 75149, 115435, 126492, 144531, 203075, 219683, 228021, 240567, 266226, 266865, 37644, 73330, 117251, 136348, 142623, 143415, 156150, 206944, 233911, 266226, 69971, 4017, 46398, 55927, 66574, 76499, 121170, 123883, 125736, 200643, 203075, 206944, 215988, 7125, 8253, 13273, 16795, 20180, 22074, 22625, 28177, 30533, 30994, 31393, 43619, 62862, 75149, 77809, 103336, 105979, 107784, 112001, 113270, 113904, 114544, 115572, 116758, 124874, 135149, 137589, 138543, 141491, 141493, 142121, 142479, 144038, 145641, 158254, 160558, 188513, 204864, 206944, 234828, 236757, 271195, 23768, 27472, 76499, 95359, 138543, 163488, 192093, 194669, 226965, 21014, 31393, 53418, 81771, 111174, 142121, 144555, 187256, 6575, 7283, 23768, 35859, 37712, 41781, 51526, 64436, 75149, 76352, 77181, 89602, 91832, 95359, 101305, 113270, 120908, 122801, 130571, 132375, 148744, 149084, 150979, 151589, 154345, 155147, 168144, 168954, 173415, 175052, 181687, 190741, 195904, 206534, 212923, 223087, 224764, 232131, 236757, 240267, 252695, 255489, 264657, 267033, 273086, 273979, 114988, 124876, 142524, 218552, 232211, 234359, 31826, 55927, 165308, 169682, 183101, 203240, 228681, 271195, 182334, 211426, 13273, 90391, 113519, 146932, 210485, 266865, 11601, 17003, 27812, 30487, 35918, 48046, 69078, 87555, 87964, 108155, 117873, 126388, 126604, 147141, 160558, 165319, 174596, 178667, 178920, 187613, 192119, 210485, 218552, 220688, 222035, 227447, 237748, 240370, 240401, 243360, 244286, 246513, 249894, 258534, 259626, 265313, 266865, 96440, 236058, 184424, 271705, 2766, 20172, 21011, 50225, 53241, 56447, 73330, 110934, 113519, 121170, 137688, 159033, 218121, 229741, 271705, 89602, 218552, 264657, 21014, 37712, 46443, 51742, 88733, 89602, 91113, 110912, 122801, 127914, 129084, 135831, 138777, 158254, 165308, 189835, 223154, 240567, 268110, 271144, 29209, 76499, 114414, 141491, 224138, 264311, 270605, 271195, 4017, 60337, 69156, 75591, 86189, 94787, 141493, 144531, 149661, 153513, 231210, 243360, 243942, 154992, 174848, 10447, 89602, 109461, 223787, 8066, 75081, 83637, 207246, 81977, 143415, 206534, 222296, 239584, 10314, 10447, 11724, 14422, 16795, 19664, 20180, 28177, 38273, 40914, 53241, 55927, 56391, 61854, 75081, 75591, 77181, 85757, 91832, 95359, 101876, 103336, 105979, 106007, 110912, 110973, 117251, 122429, 125287, 126395, 127233, 146932, 154730, 162639, 172512, 172742, 183101, 193676, 204864, 206534, 206567, 209756, 211344, 212923, 223154, 235935, 240219, 243294, 251495, 254201, 254299, 263460, 264031, 265115, 268622, 270605, 276231, 1435, 30487, 46398, 95359, 121170, 159033, 185176, 243, 8253, 8454, 22625, 28177, 81977, 101305, 115003, 115435, 143415, 145449, 167812, 168144, 203240, 206563, 206944, 243879, 263163, 43910, 51992, 60244, 77480, 83637, 97754, 215988, 230522, 2977, 6073, 52584, 113519, 156150, 204864, 224764, 246311, 42093, 69684, 143175, 150979, 171818, 209817, 266840, 6543, 6563, 6575, 7283, 7346, 8454, 16106, 23511, 28177, 37712, 60244, 63394, 68185, 77809, 79285, 89602, 91113, 95250, 96440, 96448, 104113, 110934, 115003, 115435, 121170, 125039, 129851, 130571, 135351, 142524, 147141, 150979, 153513, 162639, 165308, 168047, 170513, 184299, 206567, 212142, 220688, 224430, 225763, 227520, 228021, 229741, 230708, 232959, 234359, 254299, 255489, 259930, 264311, 264657, 271448, 5582, 66574, 95359, 126604, 170513, 182993, 264031, 266840, 2110, 6563, 8454, 10447, 20172, 37644, 49460, 53241, 78783, 89602, 94787, 95359, 95932, 96440, 96448, 105214, 110934, 114444, 121170, 121986, 123790, 135149, 138543, 142121, 144038, 150896, 157273, 165308, 171445, 196466, 196502, 203240, 204864, 209817, 210485, 224430, 259930, 266865, 271195, 271538, 8454, 22625, 30994, 31391, 41364, 44893, 53241, 62542, 110934, 113270, 114544, 126196, 138010, 140358, 220688, 223154, 224764, 229313, 230522, 231210, 232131, 235282, 264031, 266056, 276680, 278633, 3363, 25409, 29526, 65258, 73923, 97721, 114988, 133747, 137589, 216683, 222220, 223087, 25409, 46398, 52917, 86189, 129084, 135609, 138097, 138777, 153054, 160819, 204864, 239584, 240403, 242083, 245645, 14521, 88733, 178199, 197659, 235105, 11224, 22365, 31556, 88652, 102647, 124487, 128835, 156269, 162827, 31556, 38023, 127200, 158295, 159858, 196160, 245650, 235105, 241666, 245088, 21014, 95359, 190925, 35859, 46398, 93629, 128835, 131837, 234828, 163307, 193676, 221732, 51883, 6251, 6543, 7915, 8067, 11224, 16795, 22818, 23768, 27875, 30276, 35859, 40914, 42093, 46443, 56391, 59390, 64436, 69156, 88793, 95359, 101620, 104144, 104636, 104665, 115003, 130571, 133571, 135149, 136326, 145641, 146113, 153662, 165308, 179433, 184279, 193778, 202277, 218568, 226553, 236757, 239584, 242299, 245410, 250184, 259260, 277427, 278026, 96320, 268622, 104636, 212467, 39345, 106007, 139828, 177040, 232945, 55892, 112001, 135149, 178199, 189558, 223201, 242646, 50730, 55607, 92810, 224809, 234828, 4938, 14521, 15408, 19664, 28177, 31393, 32627, 62891, 70666, 78448, 91103, 93047, 95932, 101305, 110373, 115692, 129851, 135609, 136252, 138995, 153662, 158433, 162052, 179075, 179288, 181176, 185233, 207259, 214786, 218608, 232131, 249628, 264031, 272573, 193499, 14521, 76710, 143415, 5582, 20180, 41781, 43687, 55492, 56307, 65584, 76530, 86145, 118533, 137688, 138995, 142121, 160558, 178199, 273086, 93047, 94951, 129716, 140036, 256402, 275970, 22521, 60244, 94787, 108799, 124078, 135351, 213126, 221732, 226006, 254899, 37512, 89602, 108799, 133935, 214786, 221732, 234828, 265313, 6543, 37512, 40943, 58594, 108799, 221732, 234828, 236058, 254899, 265313, 270352, 38273, 53220, 67840, 92810, 120396, 139913, 140036, 190741, 38273, 225886, 2276, 93426, 135609, 172742, 190925, 193898, 255489, 257028, 31846, 91113, 156467, 207259, 207349, 227520, 266056, 95991, 126736, 252843, 14422, 53220, 60621, 84024, 139913, 158295, 201684, 223154, 278026, 140358, 158295, 185634, 232945, 130571, 162639, 176214, 208147, 270820, 104144, 170947, 266056, 128085, 1733, 60621, 68555, 107784, 112001, 163804, 177375, 52917, 73394, 114368, 184513, 68555, 92810, 97754, 156214, 227447, 232131, 53174, 69355, 114444, 172760, 162639, 12824, 111947, 150896, 234828, 250330, 110973, 137211, 265313, 102967, 136205, 30276, 114368, 104144, 158295, 234828, 245410, 56447, 113270, 210717, 219683, 87141, 159506, 173415, 207825, 8245, 85656, 184513, 190925, 251140, 266056, 114444, 143175, 172760, 248718, 79977, 111190, 126736, 196738, 241666, 249628, 14422, 47316, 49842, 147847, 255546, 61028, 122429, 238781, 9856, 22521, 94951, 108799, 172676, 204864, 214786, 221732, 232131, 146113, 60707, 83287, 84024, 128835, 136252, 149934, 221445, 226965, 30533, 30972, 60707, 67840, 88652, 95991, 101876, 128835, 245650, 60707, 95991, 185147, 234828, 271558, 91113, 95359, 149934, 235105, 201677, 240567, 260944, 21356, 116904, 121986, 147847, 121986, 211351, 25981, 52917, 76102, 76710, 190923, 213531, 102967, 107784, 148744, 208406, 265313, 70666, 102647, 216466, 236172, 278026, 190925, 18082, 60621, 102275, 104636, 27812, 162639, 190708, 190741, 206567, 242299, 254377, 1733, 66680, 159033, 145449, 162639, 206567, 221705, 223154, 228681, 266056, 267033, 13082, 67840, 221705, 19842, 23872, 52917, 88738, 126492, 185634, 191523, 224764, 232131, 232945, 6563, 19842, 28177, 37712, 62862, 95359, 106225, 114544, 127826, 139913, 144531, 147847, 162639, 163804, 169699, 177375, 202277, 224138, 237990, 250184, 255489, 260897, 260944, 263460, 30716, 31556, 44893, 95359, 97721, 105979, 113519, 170513, 211426, 212142, 246311, 263163, 271195, 21014, 30972, 162639, 206567, 242299, 251140, 266056, 184424, 206567, 251140, 31556, 55892, 60707, 88652, 164728, 185147, 199515, 252695, 39281, 52917, 58594, 60707, 122429, 127200, 135149, 232131, 106007, 56959, 67840, 138995, 158295, 106225, 190708, 223087, 223154, 252843, 16106, 55187, 56959, 97721, 170513, 218568, 254299, 259118, 264996, 266056, 271144, 88652, 101876, 135149, 156269, 158606, 232131, 6543, 182459, 245410, 259629, 60707, 156269, 162827, 205980, 214786, 121986, 188273, 190925, 201058, 201677, 204457, 44845, 232131, 31556, 56959, 60707, 156269, 196738, 222941, 248850, 31315, 124487, 158295, 184513, 6543, 30735, 41084, 171602, 204457, 223087, 19842, 22625, 48975, 241548, 41781, 96320, 112001, 142479, 157811, 190923, 190925, 268622, 8245, 17859, 66680, 93629, 162639, 192710, 196077, 254465, 69355, 124874, 225763, 16795, 37712, 87555, 111174, 114988, 128325, 129716, 136252, 139359, 174596, 186762, 187574, 198046, 234359, 239584, 243328, 269799, 270605, 28177, 271195, 172742, 255092, 11993, 21014, 38023, 40943, 46443, 88937, 95932, 101209, 104636, 110934, 130554, 174304, 179730, 208555, 238065, 8245, 11993, 21014, 24194, 31315, 100906, 104636, 110934, 114368, 230522, 269566, 11993, 21014, 46443, 104636, 114368, 128835, 130554, 138777, 162639, 174304, 179288, 208555, 273979, 11993, 21014, 35859, 69355, 75591, 100906, 104636, 110934, 114368, 174304, 273979, 11993, 16488, 21014, 59038, 104636, 110934, 114368, 198012, 11993, 21014, 33974, 95932, 114368, 201684, 36606, 189835, 10354, 15049, 21014, 48494, 73330, 88733, 100459, 100906, 104399, 104636, 110934, 115572, 155014, 155147, 179734, 196502, 197659, 223190, 263163, 265313, 269566, 275970, 6251, 48494, 51883, 88733, 110934, 150979, 263163, 12538, 16996, 36327, 93629, 127359, 155014, 189835, 206534, 209756, 882, 60244, 104636, 115572, 123883, 128835, 153662, 154345, 165319, 189835, 37644, 95359, 168047, 174304, 16795, 21014, 49212, 76499, 78553, 115572, 153662, 174304, 182442, 212142, 226965, 239584, 254465, 106225, 110934, 125039, 249628, 63394, 88733, 189835, 56959, 31556, 3363, 37644, 46443, 60244, 104636, 189835, 248477, 55927, 60244, 76499, 85656, 123257, 141493, 168954, 189835, 201684, 263163, 40943, 56447, 60244, 110934, 111578, 208555, 209756, 218121, 274808, 14521, 16795, 17667, 21014, 30273, 31556, 32773, 49460, 55492, 55892, 68249, 81977, 85426, 93047, 104657, 110934, 126492, 135149, 135351, 137688, 138543, 147141, 150979, 153513, 165308, 170634, 174596, 178920, 179734, 185176, 189115, 198930, 199772, 218121, 225078, 229741, 240403, 245649, 249958, 250184, 266229, 271448, 276463, 276680, 13273, 16795, 85426, 110934, 125039, 126492, 126604, 130554, 135149, 135351, 142524, 143964, 147141, 174596, 179734, 185176, 227447, 228021, 229741, 240403, 55892, 110934, 135149, 135351, 138543, 179734, 218121, 228021, 229741, 240403, 249958, 276463, 55892, 85426, 110934, 126492, 131046, 135149, 179734, 225078, 228021, 240403, 110934, 135149, 153054, 179734, 185176, 240403, 249958, 276463, 85426, 110934, 126492, 135149, 179734, 185176, 240403, 240700, 249958, 110934, 114988, 126492, 179734, 185176, 228021, 240403, 240700, 249958, 153662, 85426, 96448, 110934, 114414, 174848, 185176, 249958, 254, 7346, 23571, 27875, 60244, 69721, 83496, 104636, 104665, 124876, 136205, 162639, 195694, 201684, 206534, 208555, 211919, 226965, 229741, 269799, 11993, 23571, 53174, 115572, 120093, 136205, 203240, 226965, 229741, 245645, 11993, 206074, 226965, 229741, 269799, 60244, 83496, 170513, 195694, 208555, 218121, 226965, 228021, 229741, 22521, 104657, 198930, 7346, 12538, 13082, 27472, 55892, 78834, 85426, 96448, 123257, 124363, 125736, 142623, 156150, 165308, 179730, 196077, 217375, 224430, 226545, 227702, 240700, 271448, 3363, 40943, 60707, 73651, 75591, 88793, 125736, 168954, 190708, 240700, 248477, 251140, 135265, 36606, 3363, 28523, 165308, 117251, 69078, 13273, 151098, 264543, 16634, 69078, 213126, 235105, 16795, 253871, 39773, 41084, 51526, 61910, 65663, 71234, 75089, 75819, 98391, 104362, 110973, 111578, 135149, 143211, 154529, 155580, 185275, 192119, 209875, 234828, 264031, 270838, 274308, 7158, 52614, 103304, 187145, 204457, 223501, 265487, 3371, 16488, 16795, 20180, 21014, 21031, 21356, 23871, 30735, 35859, 37712, 44728, 45557, 51992, 68555, 78448, 81771, 90391, 95359, 110973, 113519, 123094, 124363, 126903, 148744, 150498, 201783, 203240, 204864, 243236, 243360, 251422, 266056, 269719, 271144, 271195, 271705, 69078, 22625, 232211, 102359, 93629, 155147, 196160, 226965, 23872, 53241, 137688, 260067, 49980, 136205, 137589, 168047, 218121, 229011, 242083, 251140, 4017, 9856, 23571, 55492, 69078, 276050, 37712, 150896, 209756, 215006, 224923, 230522, 16488, 83637, 101305, 101876, 128835, 149934, 155147, 177432, 226965, 266226, 270605, 270838, 219683, 213150, 214786, 6251, 21031, 32773, 51526, 55187, 55548, 56447, 58594, 63956, 69355, 101851, 101876, 122801, 147224, 150979, 171295, 172760, 179978, 182442, 189835, 207494, 211426, 219683, 220688, 226965, 249894, 251003, 251422, 179288, 207148, 4017, 30898, 69378, 174216, 21484, 92547, 198930, 209875, 37712, 71853, 101305, 115435, 136139, 160558, 264152, 29855, 39345, 66680, 69721, 128835, 160681, 189080, 190923, 196160, 249223, 29259, 48975, 95991, 247429, 140223, 147847, 203799, 207246, 207782, 230522, 53241, 56447, 62891, 69078, 88937, 89602, 110912, 113270, 115435, 168954, 170513, 186762, 201042, 204864, 242299, 249894, 154345, 155014, 95010, 222296, 246311, 73330, 76818, 93047, 104657, 129716, 133747, 156269, 173415, 234359, 234828, 246311, 268110, 258938, 51742, 60244, 86189, 89602, 6251, 21014, 174304, 189835, 195469, 221948, 137589, 189835, 14521, 16996, 21014, 59038, 62891, 75149, 104880, 146803, 159506, 177432, 189835, 219683, 221948, 240567, 271195, 10314, 16795, 46398, 75591, 95359, 133747, 143968, 172742, 196047, 206534, 213126, 222296, 229741, 235105, 243328, 270605, 13273, 36554, 62464, 66574, 200643, 214786, 218608, 260897, 266840, 37712, 160401, 168954, 204864, 211426, 219683, 234828, 239584, 260897, 271176, 507, 101851, 171295, 172760, 211426, 219683, 220688, 8253, 10314, 21014, 30487, 37712, 46398, 75591, 93629, 95359, 100906, 114544, 125039, 132083, 141710, 149934, 203240, 223154, 243236, 259626, 169663, 69078, 133747, 270605, 36715, 178667, 218608, 4017, 16795, 55075, 62862, 91103, 110973, 113270, 113519, 114544, 178199, 190459, 195904, 238781, 270605, 270801, 278633, 243700, 247852, 7346, 43619, 115003, 196466, 210485, 243942, 6543, 10447, 13273, 29209, 30533, 32773, 34588, 36135, 65258, 68555, 78846, 86189, 102275, 110440, 113270, 127359, 148744, 162639, 168642, 170634, 177590, 204813, 210485, 218121, 224249, 265115, 270605, 7346, 10447, 26517, 34588, 55438, 102275, 113270, 120598, 127826, 148744, 155219, 177590, 251495, 265115, 6251, 6543, 26517, 29209, 34588, 81848, 86189, 102275, 102967, 104429, 113270, 177590, 8253, 271705, 6543, 39281, 55438, 102275, 113270, 177590, 235105, 76499, 86189, 89602, 154345, 6543, 39281, 55438, 102275, 113270, 218608, 243, 104144, 23768, 60244, 86145, 127826, 133747, 196077, 114414, 167812, 171818, 235935, 264311, 158254, 184424, 258185, 4017, 5582, 6575, 8067, 20180, 28634, 30716, 37712, 62891, 68256, 68555, 69211, 78834, 89602, 101305, 101620, 104636, 110912, 112083, 114544, 123257, 126604, 127233, 132083, 143253, 143968, 150968, 153662, 162639, 165308, 178199, 179733, 179734, 184424, 189973, 190925, 196077, 197364, 200643, 207782, 217056, 219546, 220688, 224430, 225763, 229313, 229741, 232131, 238889, 242106, 251140, 254465, 265115, 272573, 278633, 278843, 6543, 23571, 46398, 95250, 113519, 115003, 148712, 211344, 62891, 151589, 203900, 225763, 110382, 133935, 140358, 226553, 246311, 261829, 251843, 13552, 147686, 179733, 5582, 6575, 7125, 8454, 21014, 30081, 31393, 40914, 51450, 52584, 56554, 60244, 69378, 73923, 78783, 94347, 95359, 97721, 105979, 109899, 112559, 120908, 125692, 135149, 141493, 142121, 145641, 155219, 162738, 168642, 193499, 199041, 203240, 206567, 210485, 224430, 228868, 242299, 266056, 270352, 273979, 3827, 6575, 7346, 21014, 36606, 37712, 46443, 60244, 61427, 65663, 76499, 88793, 102967, 106225, 108155, 110912, 121170, 136348, 138543, 144531, 165308, 167812, 181687, 187256, 203240, 211426, 212923, 221445, 229011, 239584, 264657, 265115, 266056, 268622, 271705, 275970, 91103, 95359, 196502, 218241, 239626, 248477, 278633, 6575, 8454, 13552, 20180, 40943, 50073, 60244, 91113, 100906, 101620, 156150, 160819, 168642, 174596, 189973, 199041, 202277, 206944, 212142, 217056, 220688, 224430, 229011, 248718, 251140, 254465, 269835, 271705, 276165, 115572, 271705, 6251, 60244, 88733, 99955, 100906, 105979, 197659, 249628, 263163, 269566, 100459, 16996, 21659, 28523, 123883, 146348, 155495, 184532, 2766, 60707, 76499, 96448, 130554, 170513, 170634, 184532, 251394, 263163, 46443, 60707, 69355, 150979, 189835, 56856, 95359, 133747, 145641, 230522, 271705, 24194, 60244, 95359, 127826, 201684, 218121, 138543, 21014, 35859, 35918, 76499, 130554, 143253, 151589, 153662, 181176, 172061, 60244, 189835, 243294, 44728, 60244, 62881, 69697, 80810, 93629, 99955, 104399, 38023, 74758, 111947, 168816, 227705, 229741, 232945, 2033, 7346, 9856, 26621, 37644, 56959, 60244, 95359, 189835, 203240, 224764, 230708, 249628, 270838, 32773, 135149, 164728, 247429, 7346, 32773, 42914, 71712, 93629, 123544, 124363, 143415, 247429, 271705, 264657, 206534, 37712, 138543, 27472, 95359, 163488, 172676, 185722, 197364, 204864, 211426, 230522, 204813, 216683, 16634, 32773, 52584, 56447, 135609, 150896, 200643, 223566, 240144, 240567, 259930, 271176, 16634, 35445, 62891, 69078, 108155, 162738, 163307, 174304, 177432, 264657, 271705, 14698, 189835, 8066, 30972, 35918, 37644, 51742, 63938, 133747, 135351, 136139, 155219, 168954, 177072, 190741, 196077, 220240, 227705, 264311, 267033, 268032, 6575, 13552, 21484, 30735, 60244, 87555, 93426, 94347, 105979, 124874, 125287, 138543, 142524, 153718, 156150, 178667, 179730, 199041, 217375, 227447, 229011, 232131, 254299, 256843, 260897, 261829, 263163, 25409, 30716, 60244, 85757, 95359, 133747, 145737, 215988, 247447, 252071, 150979, 44728, 89602, 3827, 60244, 88652, 207965, 36327, 82831, 204864, 276463, 56959, 37712, 216683, 60244, 75591, 91832, 104636, 115435, 185275, 206534, 240700, 244286, 248477, 257028, 95359, 98930, 269566, 35859, 150979, 224349, 7158, 8454, 10314, 16795, 31315, 44893, 46398, 48975, 50895, 65258, 74286, 87555, 100459, 108950, 114544, 118677, 122429, 126903, 139359, 140358, 151098, 160819, 172742, 215988, 234359, 240567, 264031, 264082, 266865, 278633, 278843, 8454, 78834, 116758, 217056, 270352, 260897, 2033, 16795, 21014, 59269, 108352, 123608, 159506, 177432, 240567, 123608, 123608, 123608, 270605, 123608, 10314, 35859, 56554, 102275, 113519, 143968, 146113, 213150, 224430, 254377, 2977, 8245, 20462, 22625, 29209, 62862, 71712, 95359, 100906, 101305, 112001, 115003, 117873, 127359, 136348, 138441, 156150, 160819, 169233, 179730, 187256, 224159, 224249, 225763, 244171, 246507, 273979, 254, 507, 2891, 5539, 6543, 6575, 8066, 8454, 8681, 16718, 16795, 21011, 22625, 29259, 31393, 35859, 36606, 37712, 46443, 51450, 55548, 56554, 60244, 60337, 60583, 66878, 69971, 73923, 74286, 75149, 81216, 86189, 88229, 89602, 95173, 106225, 108155, 121170, 124363, 126395, 128325, 129084, 132199, 133296, 135351, 135831, 136205, 136491, 139828, 141491, 146803, 148712, 149661, 152651, 163804, 168047, 171445, 172512, 178199, 178667, 184424, 185275, 187256, 187574, 195904, 199041, 203240, 204813, 206074, 210485, 218568, 220240, 221948, 223154, 226205, 228681, 230522, 232106, 234359, 235935, 240219, 240567, 242299, 243294, 255489, 256843, 259260, 264543, 266283, 266865, 270605, 8454, 20172, 27812, 49460, 61038, 85426, 89602, 96440, 110934, 122801, 168954, 193499, 204813, 204864, 232964, 240144, 259626, 264311, 269890, 270801, 14422, 22625, 81216, 110934, 115003, 142479, 181687, 16106, 25409, 52584, 52917, 56447, 60244, 67547, 95359, 142121, 199772, 224349, 240144, 242083, 246311, 246507, 265115, 265313, 271538, 30081, 57725, 76818, 109899, 112001, 127914, 135360, 155219, 194669, 202277, 217375, 249894, 17003, 21014, 51526, 64436, 68555, 111578, 116758, 129074, 150968, 178199, 182993, 187517, 215986, 217375, 223787, 242646, 256843, 268622, 6543, 44893, 48046, 69378, 114988, 126196, 192093, 232959, 264031, 155141, 207965, 638, 74286, 187145, 21014, 36135, 167812, 185147, 23768, 60244, 153662, 204864, 232106, 187145, 7915, 13273, 14422, 16634, 30273, 39345, 42093, 60244, 67547, 69078, 76482, 81368, 91113, 95359, 97754, 114988, 135149, 142121, 147965, 239584, 242299, 246311, 2110, 16795, 35918, 40415, 55892, 98391, 108005, 113519, 123095, 124874, 127826, 136348, 139913, 169233, 171970, 207782, 223501, 223787, 224249, 232964, 243879, 246311, 246634, 250184, 259626, 271705, 235105, 14422, 204864, 60583, 144038, 88733, 132836, 145449, 178199, 275970, 249862, 179734, 271195, 17190, 20172, 100906, 101851, 271705, 266226, 276680, 8454, 28619, 50073, 75149, 79285, 100459, 184424, 188273, 204457, 207148, 240567, 257028, 278188, 8245, 62862, 100459, 127359, 142479, 150968, 196466, 224249, 240568, 4017, 8454, 28619, 75149, 142479, 188273, 240568, 254299, 255489, 8454, 10314, 21618, 26621, 63938, 86189, 110934, 133571, 153662, 161974, 213126, 219546, 225763, 271448, 275970, 4017, 6575, 132083, 139359, 178199, 186762, 196077, 201677, 224138, 244171, 60244, 83637, 1848, 2891, 8066, 8245, 8454, 21011, 28177, 46398, 48046, 59912, 69971, 74691, 75149, 80810, 81771, 85426, 86189, 90391, 90616, 91113, 95250, 98440, 104657, 115003, 147224, 154730, 158254, 162738, 162827, 165319, 168816, 184424, 187517, 189392, 190459, 192710, 195469, 203240, 204864, 209817, 210597, 217375, 222296, 223566, 224764, 231827, 234359, 244286, 244736, 246247, 251394, 261829, 264657, 266056, 270801, 273086, 73330, 229741, 7125, 7915, 10447, 16106, 37712, 68185, 89602, 108005, 211426, 226545, 237748, 276680, 110934, 6251, 6575, 74691, 81848, 89602, 95250, 129074, 115435, 100459, 125519, 245410, 8245, 37400, 47316, 52199, 55187, 69078, 88733, 92547, 108752, 137589, 138543, 146348, 147141, 150979, 173415, 227447, 55492, 75149, 76499, 100906, 136491, 141710, 159033, 168047, 178920, 76499, 168047, 243360, 268110, 31391, 76482, 142479, 175052, 261998, 266226, 271705, 10447, 19664, 33580, 35859, 36715, 76499, 129716, 134483, 168047, 187613, 129716, 137589, 4017, 76499, 275970, 66680, 194669, 120598, 177432, 38023, 107244, 236283, 257028, 61854, 112001, 153662, 49842, 40889, 41781, 55438, 59038, 93363, 104429, 150124, 169663, 177590, 256407, 257700, 170947, 208671, 123608, 83637, 93047, 40943, 248718, 16634, 55490, 94347, 95932, 6543, 187517, 213150, 226616, 240144, 162639, 195904, 205980, 69078, 69721, 100906, 126604, 127826, 150979, 206567, 243294, 271705, 273086, 11629, 52853, 124078, 149661, 201684, 230522, 251495, 6543, 10447, 21014, 91058, 168144, 267033, 126736, 100846, 12538, 15408, 50225, 102647, 160401, 247429, 204864, 31315, 52853, 149661, 158606, 162639, 192710, 187145, 235105, 88733, 230522, 189835, 6575, 16795, 55892, 89602, 138777, 141710, 149661, 169682, 224809, 268110, 57725, 29526, 55187, 68555, 116758, 146113, 202277, 236757, 268110, 4017, 6575, 8681, 36135, 40914, 86189, 95359, 133571, 142524, 222296, 52199, 3363, 6563, 8245, 30487, 35859, 36609, 60244, 117873, 218552, 223087, 249628, 268110, 6575, 7915, 8245, 8681, 8734, 10314, 10560, 12538, 16795, 20180, 21014, 22074, 22818, 23571, 26544, 29526, 30487, 30735, 35859, 36327, 40415, 43687, 44252, 51992, 53174, 53241, 60244, 62862, 67547, 68555, 70415, 76482, 78846, 81771, 91113, 93629, 95359, 95903, 101305, 105937, 110912, 111190, 113519, 115003, 115572, 116758, 124874, 126604, 127233, 128045, 129716, 135831, 138777, 141493, 141710, 142479, 145619, 145737, 146113, 155014, 155147, 165308, 169699, 172061, 181687, 187256, 187613, 189835, 190925, 196077, 198046, 201677, 204864, 206944, 212328, 223501, 224349, 229313, 236757, 237748, 240567, 242299, 245649, 246634, 255489, 261829, 270605, 270820, 271448, 271705, 27472, 60244, 62862, 97754, 132199, 133571, 144038, 145737, 154070, 161974, 177375, 208671, 224138, 224249, 266865, 271538, 7346, 8253, 38023, 49212, 69971, 82407, 91113, 95359, 115003, 130571, 136348, 152645, 153662, 169663, 196466, 204864, 211426, 245645, 259629, 269799, 7346, 46909, 60244, 62272, 69156, 76151, 157273, 6575, 8066, 20180, 46398, 69078, 95359, 110934, 114544, 181687, 189973, 206563, 215988, 223087, 246507, 246655, 21618, 22625, 48975, 100459, 106225, 136348, 162639, 192710, 201058, 201677, 50225, 76151, 98391, 98723, 140358, 182993, 76151, 114414, 126492, 140358, 61798, 6575, 29526, 50730, 126196, 21356, 27740, 30716, 62966, 77809, 110912, 132173, 142524, 165319, 201674, 250709, 7915, 69156, 69389, 98391, 136326, 157273, 159506, 163804, 166123, 226205, 226545, 8067, 23768, 46909, 62542, 69156, 69389, 76151, 98391, 98723, 100846, 101620, 104636, 136326, 146803, 157273, 159732, 190923, 201684, 203401, 226205, 226553, 235105, 6575, 7346, 13273, 25981, 46909, 60621, 69156, 69389, 76151, 76710, 98391, 114988, 136326, 144531, 145449, 157273, 159732, 193499, 223201, 226879, 227705, 235105, 235392, 235935, 241980, 244171, 256167, 258534, 265115, 274308, 206534, 251843, 3827, 50225, 97754, 114988, 156150, 178667, 185176, 206563, 218568, 231210, 249894, 268032, 269835, 115692, 234828, 6563, 7283, 9747, 16106, 21014, 28523, 35857, 35859, 56447, 60050, 60244, 61854, 62862, 69078, 81492, 85757, 89014, 95359, 95923, 102967, 105979, 122429, 124874, 133747, 135265, 136326, 141493, 143968, 155219, 167812, 174304, 181687, 182993, 196077, 201447, 206567, 211344, 213126, 220278, 220688, 223087, 224430, 228868, 229741, 235105, 240035, 251140, 255489, 260897, 266229, 269890, 271705, 273979, 276050, 6575, 49460, 69078, 76530, 94347, 110934, 124876, 142121, 143415, 145449, 155580, 173415, 214786, 221948, 223501, 228764, 240219, 244286, 246311, 270801, 43910, 56391, 69078, 94347, 223087, 235282, 239584, 271448, 7125, 8067, 17667, 51450, 76151, 98391, 98547, 112001, 120908, 135265, 147686, 174596, 182993, 201674, 224764, 235935, 246655, 40943, 178199, 193676, 206944, 220688, 248464, 85993, 98391, 158295, 6543, 60707, 74056, 88733, 98391, 110912, 131046, 153718, 204813, 210485, 3373, 11993, 16795, 21011, 21364, 28177, 36606, 56554, 68156, 69378, 100264, 108352, 108799, 136139, 160819, 163488, 171445, 179730, 196502, 198046, 206944, 216683, 221948, 238120, 245645, 249894, 251140, 251422, 271448, 276165, 16795, 17003, 20462, 21014, 36135, 36606, 55492, 58594, 69389, 74691, 76482, 81771, 85757, 95359, 98391, 105937, 111578, 121170, 123095, 126196, 133747, 135831, 144038, 170947, 178667, 193898, 206944, 207148, 237748, 243759, 245649, 271448, 6543, 8067, 25981, 41781, 46909, 62542, 69156, 69389, 76151, 76710, 98391, 114988, 129074, 146113, 157273, 165308, 172091, 172760, 218608, 221870, 226553, 232964, 241980, 258185, 6543, 39281, 127359, 162639, 181687, 196077, 220688, 251422, 10447, 60244, 67547, 85757, 90391, 190844, 193499, 244736, 218068, 10447, 31315, 50225, 86189, 123981, 203240, 232211, 246311, 264031, 266283, 271705, 46398, 49460, 56391, 69684, 154345, 162639, 171970, 210597, 223431, 224430, 231210, 270801, 276463, 276680, 17003, 43910, 50225, 51526, 66574, 69971, 90391, 105979, 136139, 168642, 178199, 184424, 196466, 202277, 210485, 210587, 229313, 232959, 235282, 243879, 273979, 276680, 16795, 19711, 21011, 21356, 37712, 73923, 75591, 77181, 78834, 89602, 95359, 105937, 110912, 112001, 127914, 139359, 142121, 144038, 198930, 218608, 244286, 253871, 259260, 264031, 265487, 1848, 226205, 227520, 89602, 142121, 209875, 274061, 227520, 227520, 55490, 274061, 63394, 219683, 194669, 227520, 227520, 7346, 16916, 23872, 28634, 38023, 48025, 53174, 56959, 85426, 87141, 101851, 123981, 126388, 126492, 129084, 140223, 144478, 147847, 158295, 162639, 163202, 185233, 187145, 200674, 209756, 214786, 217986, 219683, 220240, 240035, 241666, 252865, 254206, 258534, 259629, 260067, 266226, 268032, 21014, 31315, 201677, 227702, 245645, 266056, 28634, 184532, 230522, 35857, 236283, 31826, 167800, 274061, 6251, 22365, 41781, 50225, 56959, 126726, 208671, 218121, 35859, 95932, 102967, 204864, 6251, 25981, 43806, 89014, 95903, 173481, 189558, 196738, 203900, 214786, 225595, 52199, 112093, 168047, 169233, 226879, 261998, 23872, 61028, 104636, 147847, 163804, 16795, 41084, 35859, 95932, 114988, 190925, 204864, 114544, 162639, 172061, 184513, 245645, 270352, 25981, 143175, 235935, 241666, 245410, 73651, 226965, 19842, 21014, 114544, 189835, 226965, 139141, 153662, 76942, 86145, 104665, 210485, 115692, 161299, 245650, 196738, 108352, 226965, 259118, 6251, 7915, 25981, 35859, 37208, 43687, 51450, 60244, 62272, 69156, 69389, 84024, 100846, 101620, 104636, 104665, 110934, 126395, 131046, 135045, 136326, 136348, 144318, 144531, 147686, 158295, 159732, 162639, 173415, 179433, 188273, 204457, 208147, 210959, 218568, 221445, 226205, 226553, 226879, 241980, 245410, 247447, 256167, 258534, 271448, 8067, 8245, 85656, 91113, 99347, 114368, 117251, 141493, 162639, 173481, 184513, 187517, 201447, 242083, 251140, 265115, 5582, 6575, 7346, 8067, 16795, 30735, 33974, 44252, 60244, 60621, 69389, 100264, 101620, 104636, 107021, 110934, 126395, 131046, 135045, 136326, 144318, 144531, 146113, 158295, 161299, 163804, 173415, 177090, 177091, 179433, 188273, 201674, 204457, 218552, 222220, 225763, 227520, 241980, 245410, 247447, 258534, 257204, 261829, 69697, 74758, 76151, 91113, 114368, 135149, 174596, 203240, 209756, 242083, 244593, 265115, 8067, 21014, 21659, 25981, 30735, 35859, 37208, 42093, 62272, 69389, 76818, 84024, 101620, 104636, 107021, 110934, 126395, 131046, 135045, 136326, 144318, 146113, 147847, 154070, 158295, 161299, 174726, 179433, 188273, 201674, 201684, 204457, 208147, 218568, 226205, 226553, 231827, 240567, 241980, 245410, 247447, 258534, 69211, 110373, 124487, 154529, 158433, 164675, 178199, 232945, 19085, 25981, 207494, 8245, 17667, 18082, 74758, 91113, 110973, 114368, 162738, 162827, 194676, 221732, 247447, 251140, 261829, 5582, 7346, 7915, 27740, 37208, 38273, 42093, 69389, 76818, 84024, 92810, 100264, 100846, 101620, 104636, 107021, 110934, 126395, 136326, 144318, 146113, 154730, 159506, 179433, 188273, 193898, 196738, 201674, 202277, 204457, 205980, 211426, 226553, 240567, 241980, 245410, 256167, 256843, 258534, 13552, 98547, 98904, 196077, 267635, 8245, 16795, 21014, 31040, 52853, 61901, 104144, 115003, 162639, 190741, 212965, 218121, 245645, 6543, 10314, 30276, 43806, 55492, 74286, 98391, 154070, 155014, 174216, 198046, 223201, 235105, 242646, 248464, 271448, 190925, 101876, 132173, 172742, 204864, 269890, 8067, 12538, 69697, 127359, 141710, 6251, 6543, 6575, 7346, 7915, 8067, 16795, 25981, 35859, 37208, 38273, 41084, 60621, 76151, 101620, 104636, 106007, 107021, 110934, 111190, 144318, 144531, 162639, 177072, 177090, 179433, 190925, 193499, 196077, 201674, 208147, 221705, 226553, 239626, 241980, 245410, 245650, 247447, 249223, 256843, 258534, 265115, 278582, 8067, 17667, 30276, 44728, 51450, 74758, 81492, 107021, 111190, 114368, 134797, 172742, 174596, 236172, 247241, 252843, 256843, 265115, 270906, 28634, 19085, 41781, 110934, 98391, 8067, 13273, 17282, 25981, 37208, 38273, 56307, 60244, 60707, 62542, 67840, 74056, 75860, 88733, 98391, 104636, 131046, 135149, 144531, 156467, 160735, 167349, 193499, 221445, 221705, 226553, 232131, 233911, 235105, 241980, 249223, 254377, 261829, 265115, 8067, 19842, 37208, 46909, 60707, 74056, 76710, 98391, 98723, 107784, 114988, 145449, 156467, 206074, 213150, 221445, 235935, 236757, 241980, 270801, 17282, 25409, 45557, 60707, 65584, 74056, 76710, 135149, 143253, 156467, 168642, 213150, 241980, 258185, 278582, 17282, 25409, 53220, 56307, 60707, 74056, 100846, 135149, 159732, 185634, 193499, 241980, 258185, 40889, 83754, 1733, 16996, 44845, 65584, 73330, 91113, 99347, 107021, 114368, 137589, 155580, 162639, 174216, 236757, 246507, 251140, 54335, 270906, 25409, 25981, 47316, 76818, 91113, 110934, 142121, 144318, 145449, 146113, 162639, 163804, 172742, 177072, 193499, 196077, 208147, 210485, 226879, 232131, 240567, 241980, 245410, 247447, 254465, 256167, 256843, 258534, 278582, 6575, 30994, 40889, 56959, 110912, 146803, 148744, 181687, 188273, 235105, 247447, 254053, 256843, 6575, 44845, 93426, 182993, 208147, 259260, 269890, 6575, 11629, 43687, 46909, 60244, 62272, 76818, 94787, 102647, 104636, 110934, 126395, 143837, 144318, 144531, 153718, 158295, 163804, 177375, 178667, 188273, 196047, 196160, 204457, 222220, 228868, 240567, 241980, 247055, 247447, 249862, 249894, 251843, 258534, 261829, 274308, 278582, 98391, 30735, 60707, 100264, 100846, 104636, 124310, 278582, 3373, 13552, 33580, 54335, 60263, 75089, 75819, 110912, 128085, 177040, 188022, 196738, 202277, 212923, 226205, 226616, 265487, 266056, 151589, 249628, 27875, 75485, 132836, 157273, 201684, 75485, 110382, 230522, 1733, 21014, 28619, 36135, 39281, 50073, 110973, 134797, 154992, 181687, 196466, 218241, 228681, 149661, 3363, 4017, 7346, 12538, 36609, 41364, 60050, 60337, 73923, 81492, 88229, 89014, 91113, 95359, 98930, 104665, 105979, 107784, 114544, 138441, 150979, 167812, 181687, 196466, 207782, 210485, 219546, 222220, 224138, 224809, 225763, 226553, 227447, 235282, 243328, 244736, 246311, 246634, 253871, 256843, 261829, 271705, 278633, 8454, 21618, 35857, 51526, 75149, 93047, 98391, 117251, 136071, 142121, 174216, 235105, 24933, 92810, 27740, 36606, 98391, 155580, 177040, 225595, 235105, 123981, 223501, 25601, 34588, 35859, 114988, 133935, 24933, 90616, 98391, 101304, 223501, 225595, 235105, 274308, 25601, 35859, 155580, 260944, 118677, 133571, 265487, 98391, 156214, 223501, 7158, 16795, 31315, 69389, 88793, 98391, 127359, 135045, 139359, 150979, 153054, 162052, 187145, 198046, 204813, 223787, 224349, 237748, 76818, 78783, 104113, 110382, 153054, 219546, 231264, 240567, 243328, 102359, 210717, 250936, 278188, 23872, 16795, 17859, 53418, 95932, 106007, 223501, 253871, 16634, 21014, 27472, 39441, 45557, 53241, 60244, 65258, 68185, 91103, 95359, 104113, 104636, 106225, 114544, 116758, 126604, 140358, 143968, 145449, 146803, 153662, 153797, 165308, 171445, 173415, 177090, 187256, 196077, 203240, 216670, 225763, 227705, 236058, 260897, 266283, 266865, 270801, 9613, 20060, 67840, 171638, 255546, 2977, 6251, 8253, 8454, 16795, 21014, 29526, 30487, 31846, 46398, 51992, 69389, 70415, 74691, 76151, 76483, 76942, 98904, 103336, 108950, 110973, 115003, 115435, 132375, 133747, 144038, 160819, 161974, 162052, 162311, 182993, 195904, 208671, 218552, 225763, 238699, 240567, 248477, 254299, 258938, 271448, 243, 8253, 8454, 10314, 13273, 14422, 21011, 22625, 26517, 29855, 30276, 30972, 33974, 34588, 35857, 38273, 39646, 52584, 53174, 55438, 63938, 75149, 81298, 88229, 95359, 96357, 101876, 104636, 105979, 110912, 114544, 123608, 126903, 135609, 141010, 142479, 144531, 144555, 145641, 145737, 169663, 172742, 177072, 179288, 187256, 187517, 189973, 193499, 208147, 211919, 215988, 221948, 227884, 229313, 232131, 237990, 240219, 251140, 252865, 254465, 255489, 256407, 258938, 265115, 269566, 270605, 273979, 25981, 53220, 55892, 56554, 76151, 98391, 127359, 135265, 143175, 162738, 187256, 224349, 251843, 21031, 46909, 53220, 55492, 95574, 98391, 101876, 114368, 130474, 163804, 177072, 178199, 195469, 223501, 224764, 225595, 638, 43910, 50895, 55892, 76151, 95574, 98391, 114368, 125519, 130474, 134797, 163804, 218552, 223501, 224809, 225595, 251843, 261829, 51450, 53174, 98391, 101304, 207499, 223501, 241980, 55490, 66878, 73923, 81848, 115692, 140358, 143175, 176214, 178199, 183995, 209373, 218552, 223201, 235392, 638, 2766, 4017, 8253, 10560, 11224, 13273, 16795, 17003, 20971, 22625, 23768, 27472, 28634, 29855, 32195, 35859, 36609, 39646, 40914, 41781, 44252, 46398, 50073, 50895, 52584, 55438, 55927, 56447, 56959, 57725, 60583, 62862, 62891, 69078, 75089, 75819, 76151, 77181, 77809, 78448, 78783, 81492, 81597, 81977, 86189, 88229, 89602, 90616, 91103, 95359, 98391, 98904, 104880, 105979, 106225, 112001, 112026, 112083, 113270, 113519, 114368, 114444, 115003, 116904, 126903, 128045, 130571, 134797, 135351, 138578, 139359, 139913, 141010, 141902, 142715, 143175, 143253, 144531, 144555, 147141, 148744, 148898, 153797, 154070, 155580, 157273, 158295, 160681, 162311, 163804, 167812, 168816, 171968, 172512, 173415, 174304, 180348, 186570, 187256, 190459, 192093, 193499, 196077, 196466, 198046, 204864, 210485, 210587, 210959, 215988, 216670, 216683, 218121, 218568, 220240, 221445, 222035, 222296, 223501, 224159, 224430, 224764, 225595, 225810, 227447, 227884, 228579, 234828, 235105, 235282, 236058, 238120, 239584, 240267, 244593, 244736, 246311, 246507, 246634, 247055, 248477, 251140, 252071, 253821, 254465, 256843, 259118, 260897, 261829, 264031, 264996, 266283, 266865, 268032, 268110, 271448, 272573, 276680, 278633, 8734, 13273, 50225, 95173, 103304, 160401, 162780, 174304, 207148, 239584, 242299, 254299, 20971, 31315, 41084, 53174, 55490, 62272, 114368, 140358, 174848, 207782, 218608, 222220, 246634, 638, 13273, 25601, 31315, 45418, 79977, 87141, 88738, 98391, 114368, 125519, 130474, 138578, 145369, 146386, 201674, 216670, 221445, 234165, 241980, 276231, 638, 31315, 35859, 40415, 53174, 81848, 98391, 114368, 115692, 125519, 130474, 130571, 138578, 149069, 158295, 160401, 162639, 185634, 201674, 225763, 241565, 261829, 7158, 16795, 31315, 35859, 81848, 95359, 105937, 110912, 114368, 145369, 158295, 201674, 225810, 242646, 260944, 264947, 16795, 31315, 62542, 110912, 114368, 138578, 140358, 145369, 149069, 200674, 223154, 62542, 125519, 145369, 149069, 55490, 61798, 65663, 95359, 144555, 145369, 158295, 166123, 218552, 267033, 6563, 31315, 41084, 48975, 62272, 66878, 76151, 177590, 221445, 251843, 100459, 243360, 245088, 35859, 14422, 110973, 154345, 188273, 210587, 240568, 36609, 36749, 60244, 75081, 77809, 98391, 162639, 210587, 223787, 22625, 71853, 178199, 638, 13850, 16795, 22521, 22625, 28591, 31556, 36715, 37400, 37644, 56856, 60244, 61854, 62464, 70666, 71712, 74286, 75819, 78834, 88122, 95359, 96357, 98440, 104113, 108352, 109779, 112559, 121170, 124874, 129716, 136491, 140036, 142623, 150979, 153513, 155014, 158254, 163488, 168954, 171968, 172760, 174304, 177432, 182459, 186570, 189080, 204864, 206944, 208815, 211426, 211919, 219683, 220278, 221732, 226616, 228021, 229741, 240567, 244286, 248477, 255078, 257700, 270605, 271176, 271448, 276165, 76499, 87555, 104113, 116758, 125736, 244171, 266865, 270605, 14521, 30081, 42914, 62558, 76499, 104113, 115435, 146348, 192093, 244171, 243, 638, 6575, 10314, 17003, 21618, 43910, 49460, 56447, 56959, 68256, 69378, 78834, 80683, 82407, 88793, 89602, 91058, 94347, 95173, 95932, 111174, 117873, 118533, 121170, 123460, 123981, 125287, 138777, 146348, 155580, 171445, 174726, 181687, 193499, 210597, 213126, 218568, 220688, 224159, 227836, 229741, 232959, 235282, 239584, 240370, 242083, 248477, 261829, 268622, 277427, 6575, 8245, 11601, 15408, 21364, 25409, 63956, 67547, 75081, 100906, 110934, 129716, 143968, 149661, 189973, 215006, 222220, 225810, 237748, 246634, 267830, 269719, 43910, 49460, 78834, 88793, 114988, 115435, 135149, 142121, 142623, 146348, 220688, 222220, 229741, 235282, 242083, 243328, 244171, 8681, 15408, 21576, 25409, 64436, 75149, 75591, 93047, 94347, 97754, 110934, 126604, 129851, 155141, 222220, 250184, 258534, 638, 6575, 17667, 21618, 35704, 39281, 44893, 55075, 69684, 71853, 87141, 88793, 114988, 222296, 228021, 638, 8454, 15408, 35704, 87555, 196077, 247055, 266865, 8454, 29855, 31315, 51526, 60244, 75591, 95932, 110382, 124874, 129716, 141710, 142524, 162780, 188273, 204457, 236757, 256407, 258482, 16795, 98391, 113270, 121170, 162780, 210717, 230522, 10314, 14422, 21014, 29855, 102967, 126196, 135149, 185147, 224809, 236757, 240568, 242106, 251843, 252848, 255489, 11224, 14422, 16795, 21014, 22625, 28619, 53174, 60583, 70415, 98391, 135149, 145737, 149934, 155580, 167800, 184424, 8454, 60858, 62542, 62862, 88793, 116904, 121170, 124874, 132375, 139913, 160401, 165308, 170724, 215988, 236757, 271195, 21014, 28619, 48046, 60244, 98391, 113270, 135149, 155580, 201677, 223787, 258534, 16795, 30533, 39281, 43619, 52584, 62862, 78448, 79285, 100846, 118677, 121170, 136205, 240567, 255489, 21014, 40943, 46398, 52584, 60244, 65663, 89602, 101876, 113270, 127826, 134797, 141710, 157273, 170724, 174216, 188273, 223087, 223501, 236283, 240567, 266865, 638, 10447, 21014, 105979, 110382, 110912, 141710, 143175, 160735, 174216, 187145, 203764, 204457, 224923, 244627, 260944, 4017, 75149, 142479, 154992, 188273, 75819, 189835, 207246, 243, 4017, 22625, 25131, 30985, 74286, 89602, 100459, 105214, 108950, 114544, 116758, 144318, 153662, 209756, 217986, 251422, 264543, 273979, 278633, 35857, 113270, 192093, 258534, 271448, 135360, 187145, 638, 8245, 13850, 26544, 59390, 90616, 101304, 106225, 113270, 141902, 146113, 148898, 170724, 172512, 178667, 181176, 182527, 226205, 227702, 235282, 252071, 30273, 35836, 49109, 98391, 106849, 150498, 156214, 162738, 204457, 208671, 216466, 229313, 230708, 252071, 256843, 55492, 93426, 261829, 24194, 225763, 52917, 138441, 271705, 251140, 196160, 10819, 111578, 138602, 155147, 257204, 271176, 3167, 257204, 47316, 155147, 216683, 224159, 39281, 48579, 78553, 130554, 244171, 251613, 137589, 246634, 82893, 82893, 94951, 25131, 10354, 104665, 138995, 169682, 219683, 226879, 49460, 93179, 235105, 250184, 204864, 49460, 52199, 153662, 248718, 78553, 93363, 138543, 46398, 10030, 40889, 51252, 55490, 80683, 87141, 93629, 128835, 172030, 218608, 233911, 266226, 7346, 10819, 31556, 37644, 216683, 257204, 274061, 31826, 49460, 78553, 167800, 31315, 196738, 82893, 224764, 82893, 5582, 23872, 31315, 98904, 100906, 129716, 135265, 196502, 242299, 276050, 56856, 93629, 95359, 102967, 153662, 160681, 165319, 184299, 207246, 219321, 232964, 238699, 2110, 35859, 249894, 69721, 186570, 197659, 154070, 254206, 46398, 177432, 187762, 196160, 248718, 254206, 254899, 16634, 102647, 177690, 189558, 93047, 107784, 135360, 162052, 225810, 244627, 246000, 261998, 19085, 46398, 85656, 165319, 177432, 184299, 219683, 225763, 245410, 248718, 257204, 4938, 6323, 16634, 21364, 23872, 26621, 29259, 31315, 43687, 48046, 53174, 54453, 55178, 55490, 75485, 87555, 95932, 98783, 101876, 112001, 112093, 114368, 114444, 123094, 126492, 126814, 129716, 135265, 136491, 138543, 138602, 140358, 147141, 152099, 154844, 158295, 163202, 172742, 177432, 180348, 185233, 189115, 197364, 198930, 199515, 211426, 217986, 229313, 236757, 242083, 242106, 243360, 245410, 254201, 255489, 260067, 261998, 266840, 269835, 2110, 10354, 40330, 55490, 76942, 99955, 123544, 124078, 135360, 137336, 160681, 169682, 189516, 219683, 226879, 257204, 271176, 184299, 245410, 49109, 137688, 7346, 78553, 85656, 100906, 196160, 227520, 249894, 46398, 65258, 128060, 159858, 199041, 210959, 254206, 254899, 25981, 31315, 106225, 235105, 2110, 98440, 106225, 111944, 234828, 257204, 269890, 254206, 173291, 7346, 111944, 123257, 135149, 137336, 146113, 210485, 257204, 151589, 159033, 201042, 55548, 68436, 94951, 129690, 203799, 234828, 255078, 274634, 16916, 25981, 68555, 104636, 67198, 106007, 115572, 126388, 135149, 138543, 261829, 6543, 133747, 165319, 246311, 7346, 30735, 49109, 94347, 150968, 174830, 31826, 78553, 36327, 68436, 166123, 184299, 234828, 17859, 158295, 166123, 5582, 56554, 93629, 98783, 103336, 105214, 114368, 138543, 199515, 261998, 271195, 6073, 277639, 2110, 93363, 111944, 234828, 257204, 265313, 31556, 41781, 96448, 100906, 138602, 152099, 187762, 198930, 199041, 96440, 100906, 135045, 183995, 235392, 257204, 96440, 100906, 177432, 226879, 257204, 2033, 3167, 3827, 17003, 20172, 23872, 26240, 29259, 32773, 35836, 43687, 49980, 55490, 59912, 81597, 87555, 88937, 93047, 98783, 103336, 104399, 110373, 110382, 110934, 111174, 112093, 113904, 114368, 115572, 122506, 123094, 123460, 124078, 126492, 126814, 129716, 129851, 133571, 136252, 136491, 140358, 147141, 147847, 153513, 153797, 154844, 155014, 155141, 158254, 163488, 178240, 185233, 189115, 199515, 200674, 211426, 214786, 217986, 223190, 226879, 226965, 227705, 229313, 229741, 230522, 241666, 242083, 243700, 245410, 249862, 249989, 255489, 256167, 259629, 261998, 266840, 271195, 271538, 271558, 272573, 278137, 96440, 100906, 177432, 226879, 257204, 40943, 56447, 78553, 100906, 249894, 257204, 274061, 5539, 22625, 31393, 31556, 40889, 54898, 60244, 63956, 65258, 67198, 68984, 73394, 76818, 81848, 87555, 88122, 88733, 100459, 104880, 110934, 126388, 131154, 135360, 137336, 138995, 140358, 148744, 150124, 152645, 159506, 164926, 166123, 170513, 184279, 189835, 196160, 207246, 208141, 210485, 228021, 232106, 233911, 247429, 249862, 266226, 271176, 272573, 274061, 16795, 22818, 23872, 25981, 54898, 57398, 67198, 81492, 81848, 88937, 98783, 104880, 126388, 131154, 138543, 138995, 142623, 150896, 153662, 155495, 159506, 162738, 171295, 205980, 207246, 208406, 215986, 218552, 228579, 232106, 232131, 243294, 247429, 251394, 254201, 271176, 276050, 638, 36256, 48494, 53174, 54898, 67198, 68436, 104880, 115572, 126388, 133935, 138543, 138995, 155014, 155495, 159506, 162738, 182459, 196160, 215986, 225078, 228579, 232106, 249862, 276050, 276463, 31556, 54898, 57398, 60244, 67198, 68436, 69721, 104880, 109461, 115572, 126388, 131046, 131154, 133935, 135149, 138543, 138995, 155495, 159506, 162738, 164728, 166123, 177432, 179734, 182459, 189835, 190923, 225078, 228579, 232106, 243294, 271176, 276050, 78834, 212142, 212328, 1848, 6543, 13850, 16795, 21356, 21484, 21576, 22521, 23872, 29209, 30533, 32773, 35445, 35859, 38023, 40330, 52199, 60244, 60263, 68436, 69078, 76168, 76352, 81492, 85426, 94347, 111944, 114444, 137589, 137688, 143415, 146932, 152099, 153054, 153662, 159033, 159506, 168144, 172760, 177432, 181176, 187145, 197687, 203075, 213150, 216683, 228021, 228998, 240370, 242639, 246000, 249862, 255078, 260897, 270605, 273086, 147847, 30735, 83287, 123981, 137211, 166123, 207825, 6073, 111944, 128060, 172676, 177432, 211426, 257204, 264082, 274061, 55548, 68436, 100906, 204864, 3827, 7346, 13082, 14422, 21484, 55927, 64436, 69684, 69971, 93629, 106007, 108799, 109779, 117251, 128835, 169779, 185147, 196502, 210485, 218121, 221445, 225686, 228021, 242083, 269799, 271705, 1848, 11629, 30898, 75819, 88937, 129074, 135609, 153662, 159506, 196077, 224138, 234828, 243700, 110973, 177432, 246247, 256402, 8681, 16634, 22625, 30735, 37644, 46398, 49980, 53174, 63956, 81977, 91113, 100906, 103336, 109461, 110973, 115572, 124078, 156150, 160819, 163488, 221948, 225996, 226965, 257204, 261603, 278582, 60337, 69078, 87555, 144478, 171445, 187517, 189835, 204864, 224349, 264152, 266865, 270605, 246634, 3827, 43687, 49980, 54453, 63394, 75485, 87555, 98783, 98930, 114368, 123094, 123544, 126492, 129716, 136491, 138543, 140358, 147141, 154844, 158295, 189115, 199515, 210485, 211426, 235392, 242106, 245410, 249989, 251394, 261998, 266840, 49109, 137589, 82893, 257204, 9856, 41084, 62891, 65663, 69211, 70666, 77480, 104665, 107244, 109899, 123544, 129084, 136348, 137211, 144478, 158433, 159858, 162639, 169779, 170513, 177432, 181176, 187256, 196738, 201684, 208406, 210959, 214786, 227705, 234828, 251422, 259629, 95010, 157273, 192710, 52584, 70666, 98930, 169779, 170513, 206438, 266229, 270838, 28634, 41084, 72523, 78448, 93363, 120598, 123544, 126388, 224349, 56554, 124487, 248718, 38023, 56856, 184299, 196738, 212628, 232964, 254206, 265313, 29259, 38023, 52199, 63394, 89014, 114368, 138602, 140358, 158295, 204864, 257204, 7346, 9856, 23872, 31393, 34588, 37512, 46398, 64436, 68156, 69684, 77480, 80203, 89602, 91113, 95359, 101876, 102647, 105979, 110912, 110934, 122801, 133571, 140223, 142121, 142524, 154529, 167746, 182442, 204864, 212923, 218608, 219321, 232131, 239584, 248464, 255489, 259118, 271195, 8245, 48975, 190925, 197659, 202277, 10819, 25981, 37644, 40943, 85656, 100906, 135351, 212328, 257204, 274061, 193529, 203764, 6575, 8245, 59912, 83637, 86189, 95359, 133571, 137211, 137688, 158295, 169233, 224764, 225763, 247055, 251843, 6575, 8253, 31393, 71853, 76499, 114444, 182442, 197364, 214786, 128835, 196738, 197687, 15408, 69721, 78448, 94347, 115435, 125039, 31040, 40943, 65258, 100906, 135351, 212328, 227520, 249894, 257204, 274061, 35859, 38023, 95359, 110973, 133571, 135045, 138543, 172030, 172760, 195694, 237271, 242106, 259629, 266840, 271558, 3167, 7346, 12824, 14521, 20201, 21014, 23571, 26240, 28634, 29259, 32195, 35857, 37712, 40330, 41084, 43687, 46398, 48579, 49212, 51883, 53418, 62891, 68984, 70666, 76168, 80810, 93629, 95359, 96357, 96448, 104665, 109779, 123544, 123883, 126388, 128835, 135045, 140223, 143211, 158606, 162639, 185233, 187624, 198930, 202277, 208406, 209373, 210485, 214786, 217986, 218568, 223087, 224349, 226545, 226879, 229632, 229741, 231351, 232945, 234828, 238065, 240567, 241666, 245410, 255078, 259629, 261603, 269566, 273086, 21618, 30735, 52584, 53241, 60244, 126736, 162639, 189973, 207148, 216683, 239423, 264862, 271448, 96440, 143415, 149084, 158295, 112001, 153662, 248718, 107784, 6323, 223501, 30972, 101876, 141010, 158295, 69378, 187145, 103336, 179288, 61901, 78783, 177072, 227447, 270605, 1848, 57398, 62891, 65258, 65663, 68436, 70666, 75819, 96357, 100906, 126388, 132375, 140358, 171295, 186570, 224138, 249628, 252695, 1435, 16795, 35857, 52199, 61854, 62891, 70666, 85656, 87141, 88733, 94923, 95359, 102647, 102967, 108285, 155014, 158433, 160558, 169233, 190925, 197659, 210485, 224349, 227705, 231827, 243360, 261603, 272573, 274308, 51883, 64310, 75860, 107784, 23768, 189835, 138602, 249223, 249894, 7283, 7346, 14422, 25981, 51252, 62891, 70666, 72523, 73588, 82497, 93179, 93629, 95359, 95991, 96357, 105979, 107244, 110373, 123460, 126388, 160558, 164728, 171295, 174596, 183995, 203764, 206438, 229011, 234828, 238120, 245410, 246000, 250709, 274056, 93629, 104636, 123981, 125519, 158295, 196738, 222941, 255489, 16795, 31826, 158433, 193529, 214786, 226006, 227705, 232131, 241666, 9856, 16795, 28634, 31826, 42914, 55490, 61910, 106849, 110973, 123981, 135045, 159506, 192119, 193529, 227705, 234828, 244627, 270820, 16795, 19711, 27472, 31826, 39345, 110912, 115490, 123981, 126492, 126726, 126736, 158433, 196738, 231351, 247852, 254465, 31826, 51883, 111174, 193529, 223156, 225595, 227705, 10560, 13552, 27472, 55490, 57398, 67198, 87555, 95932, 106849, 109461, 111174, 126492, 129716, 129851, 135265, 152645, 170513, 187762, 195694, 213126, 225763, 226965, 259629, 261998, 266229, 266840, 271195, 3827, 23872, 34588, 43687, 54453, 55490, 73588, 87555, 98783, 107784, 111947, 114368, 114444, 123094, 126492, 129716, 138543, 140358, 177432, 185233, 186570, 187762, 189115, 199515, 207782, 207825, 208406, 211426, 224764, 226965, 229313, 238120, 240035, 242106, 245410, 251394, 255489, 261998, 266840, 271195, 276050, 7346, 51883, 52853, 100906, 131837, 143415, 167800, 234828, 249894, 257204, 274061, 28634, 31826, 61910, 75089, 158295, 158433, 202711, 225595, 231351, 3373, 68555, 104636, 124487, 126736, 133284, 158295, 185233, 196738, 258884, 4017, 127200, 60707, 82497, 126604, 127233, 130571, 156269, 173415, 235105, 1435, 16488, 16795, 21014, 22625, 30735, 31040, 40889, 52917, 73394, 88122, 88738, 89602, 92810, 144555, 154345, 196077, 216683, 221445, 258938, 261998, 264543, 68555, 256843, 30972, 63394, 163804, 211919, 256407, 94347, 162639, 4017, 6575, 51992, 121264, 204864, 19085, 126492, 135149, 157811, 182459, 261829, 271448, 42914, 110934, 45557, 46398, 71853, 91113, 124259, 76499, 224138, 49109, 70666, 135045, 234828, 7346, 14698, 28634, 42914, 65663, 87141, 87964, 98904, 104144, 123544, 126736, 159033, 159506, 203764, 207259, 209373, 213126, 214786, 216670, 228681, 266056, 267635, 6575, 23872, 37400, 60244, 83496, 95359, 112083, 135351, 177432, 184299, 196160, 211426, 228998, 242083, 246000, 255078, 256402, 268032, 22521, 95359, 114414, 144038, 177432, 201042, 242639, 246000, 6251, 24194, 46398, 62862, 81216, 112083, 128835, 133747, 143415, 174304, 205735, 222220, 231210, 101304, 135149, 6323, 75819, 31826, 35836, 55490, 126492, 135045, 144478, 158433, 178240, 202711, 221870, 223156, 227705, 231351, 232131, 240035, 277639, 212142, 271144, 42914, 110934, 114368, 131046, 138543, 170513, 181176, 207782, 213126, 227705, 242106, 254201, 37712, 57398, 67198, 98783, 115490, 138543, 185233, 187762, 219683, 226879, 226965, 242106, 261998, 269890, 123883, 107244, 158295, 172030, 267635, 41084, 55892, 70666, 107244, 183187, 203764, 214786, 227705, 234828, 252695, 259629, 268032, 3167, 34588, 49109, 51883, 69211, 70666, 77480, 96448, 105937, 123460, 135045, 138543, 159506, 161348, 164926, 181176, 203240, 203764, 209373, 217986, 248850, 259629, 261603, 273086, 3363, 4017, 16795, 43910, 151098, 235282, 48025, 73588, 95359, 126492, 126736, 138578, 181176, 238120, 37712, 67198, 95359, 147141, 167349, 173415, 185233, 187762, 199515, 224764, 226965, 261998, 264082, 31040, 55490, 95359, 102647, 193898, 207259, 95359, 120396, 140358, 196738, 20060, 92810, 193898, 2276, 69933, 75485, 92810, 184424, 69078, 133935, 183995, 41781, 53174, 68555, 94923, 95359, 126736, 140358, 196738, 218121, 10560, 46398, 79285, 90616, 95359, 140358, 169682, 210597, 245410, 32773, 3827, 5582, 23872, 53392, 55490, 71712, 126492, 138543, 140358, 211426, 226965, 245410, 249989, 261998, 266840, 5582, 16795, 31040, 36715, 76499, 85426, 147965, 183995, 53174, 78448, 110973, 123744, 135149, 199515, 244627, 252865, 23571, 59269, 158295, 29259, 189558, 3827, 6575, 27875, 56447, 69684, 69971, 82407, 124874, 128835, 168144, 239423, 239584, 261829, 268110, 271176, 276463, 124874, 168144, 235105, 236757, 239423, 241666, 37512, 69971, 89602, 228021, 240700, 123981, 189973, 201447, 218552, 235282, 251140, 255489, 38273, 50730, 58594, 76530, 79740, 98686, 108285, 124487, 144318, 174216, 178199, 193499, 193529, 196077, 210822, 232945, 240035, 244627, 247852, 258534, 20060, 20971, 35859, 46909, 50073, 58612, 62881, 68760, 126492, 128085, 136252, 173415, 193898, 197364, 204864, 209373, 230013, 235282, 247852, 258534, 16106, 25409, 27812, 50073, 53220, 95359, 127359, 172061, 173415, 187256, 197364, 204864, 222035, 247852, 258534, 22074, 25409, 25601, 31391, 38273, 46909, 65584, 83287, 98686, 102275, 128085, 173415, 193499, 197364, 204864, 223431, 237990, 258534, 261829, 274308, 277427, 87141, 225595, 106849, 204864, 235392, 244627, 6575, 8245, 20060, 29526, 55178, 56447, 56959, 94347, 135831, 136348, 153662, 181687, 224349, 239423, 245410, 246311, 268110, 1848, 16795, 19085, 30994, 34588, 40889, 48494, 53174, 53418, 64310, 69971, 76482, 81492, 92810, 100846, 106007, 115435, 129084, 135149, 159858, 163430, 164675, 177432, 206074, 207259, 213126, 214786, 224349, 225595, 225886, 254144, 255092, 267635, 270838, 74691, 89602, 73651, 254899, 22521, 196160, 242639, 22521, 264657, 56959, 211426, 224249, 8066, 107784, 124487, 178199, 248718, 100846, 101876, 116904, 16634, 110934, 144478, 167349, 196738, 208671, 236058, 261829, 265115, 265313, 23872, 113904, 126492, 138543, 195694, 207494, 226965, 227705, 252071, 261998, 19085, 71712, 126492, 143175, 219683, 226965, 261998, 95359, 103336, 186570, 207494, 207825, 220688, 226965, 128835, 4017, 16795, 41781, 69971, 104636, 251422, 274808, 6575, 110973, 204864, 232959, 251843, 252695, 4017, 14422, 36749, 43910, 78783, 104636, 113270, 136348, 139828, 143415, 155219, 174216, 235282, 266056, 270605, 276680, 3827, 5539, 5582, 10560, 53174, 91113, 121264, 124876, 142524, 153718, 166123, 167349, 195694, 196502, 230522, 235105, 235392, 261998, 274061, 5539, 10560, 166123, 193499, 195694, 235105, 235392, 244627, 261998, 184299, 232964, 254206, 102702, 108752, 2276, 12538, 30994, 80810, 86145, 102702, 124876, 226879, 236058, 248718, 4017, 37512, 115003, 125287, 147224, 151098, 199041, 246634, 270801, 13552, 27472, 42914, 78448, 111190, 226965, 261829, 6073, 52917, 69684, 96357, 126604, 140358, 170513, 172742, 175117, 199515, 214786, 225763, 233911, 270838, 7283, 159506, 85757, 111190, 153662, 187145, 120396, 254206, 267033, 38273, 39646, 54453, 224138, 138543, 272573, 31315, 140358, 162738, 202711, 98391, 241980, 4017, 6575, 115003, 121986, 178199, 224809, 242083, 249894, 98391, 88733, 132173, 235105, 52917, 53220, 172742, 227447, 245650, 25409, 89602, 92810, 101876, 140223, 178920, 214786, 230522, 243236, 23872, 138543, 140358, 217986, 226965, 229313, 230522, 234828, 261998, 10447, 35857, 51992, 60244, 61427, 68555, 69971, 117251, 181687, 202277, 264031, 16795, 29526, 60244, 88229, 104636, 123095, 141491, 151589, 182334, 182527, 188171, 203240, 224430, 251422, 264031, 110934, 124363, 128085, 132173, 245410, 265313, 60858, 73588, 104636, 135149, 164728, 208671, 6543, 8253, 20180, 37712, 51742, 53392, 67547, 77809, 110214, 114988, 128085, 135149, 141493, 158254, 174216, 174304, 187145, 219546, 224764, 239584, 271705, 274808, 276680, 16795, 36327, 36749, 49460, 64436, 73651, 75591, 95359, 103336, 111174, 113270, 115003, 119517, 124874, 129008, 132083, 154992, 155219, 174216, 189973, 203240, 209373, 210485, 223087, 224430, 226553, 228998, 264311, 268110, 11224, 76151, 76818, 162639, 196047, 207148, 16795, 20180, 21011, 22625, 29855, 99347, 104657, 113270, 123981, 144555, 160819, 178667, 230522, 240219, 256843, 264031, 265115, 266865, 195469, 197659, 7283, 19085, 20971, 25981, 48025, 65584, 70931, 89602, 91113, 95359, 129690, 182459, 206074, 207782, 210485, 236283, 276231, 47316, 79266, 116904, 135149, 139913, 223190, 256843, 266056, 16795, 26544, 30487, 39281, 43910, 89602, 90391, 136348, 141493, 157273, 235282, 266283, 95991, 189973, 224764, 264311, 25409, 37712, 103336, 110934, 136348, 201447, 228681, 4017, 20971, 21576, 22625, 25131, 26544, 35857, 62862, 64436, 74286, 78783, 91103, 104665, 113519, 123095, 132083, 137589, 139913, 142715, 148898, 163804, 178199, 189973, 195904, 203240, 208671, 222296, 238781, 251843, 254299, 256844, 258482, 260897, 271448, 271538, 52584, 69355, 105214, 110973, 111947, 124363, 126492, 167746, 170513, 177091, 187624, 197364, 197659, 206074, 220240, 221705, 225595, 234828, 264031, 274061, 276165, 6543, 7346, 16106, 21011, 31393, 36327, 39281, 60244, 73651, 78783, 88793, 111174, 113270, 113519, 117251, 119517, 129008, 136348, 141493, 160819, 162738, 184513, 210485, 265115, 271448, 22074, 101876, 120396, 164926, 206534, 224923, 232131, 267635, 8066, 8245, 43619, 50895, 88733, 100459, 130571, 132375, 135609, 136139, 215988, 244736, 245645, 98391, 76151, 98391, 162639, 1733, 35836, 36606, 65584, 104362, 106225, 128208, 130571, 162738, 181687, 208147, 231210, 232131, 76151, 158295, 2276, 31556, 50895, 76352, 84024, 88738, 112026, 136348, 144318, 155580, 187574, 188022, 208147, 210822, 232131, 268751, 249894, 46398, 101876, 142524, 160401, 243236, 263163, 98391, 216012, 50895, 65584, 146113, 190925, 252843, 254299, 7125, 43910, 60244, 136139, 173415, 210587, 237271, 27740, 35859, 79977, 90616, 95574, 98391, 115692, 120396, 136326, 138578, 178199, 234359, 235105, 27740, 35859, 76151, 90616, 101304, 146803, 167746, 223501, 223787, 225595, 235105, 27812, 46909, 58594, 65584, 76530, 177072, 197364, 201447, 203401, 247852, 98391, 114368, 136348, 184532, 216012, 226545, 235105, 3363, 25409, 56554, 60244, 74758, 75860, 81492, 93426, 117251, 165308, 168954, 8734, 28591, 56307, 251140, 76151, 98391, 123883, 153662, 60621, 153662, 193898, 217375, 222220, 229011, 247447, 252843, 257700, 56307, 138441, 188513, 258185, 98391, 164828, 16106, 60244, 66680, 67547, 112001, 113519, 134797, 148744, 187256, 190459, 196047, 202277, 231210, 235392, 259629, 10314, 141493, 143211, 87141, 98391, 102702, 114368, 229011, 247055, 98391, 158295, 22074, 68555, 77480, 110934, 234359, 10447, 16106, 22818, 44893, 51883, 60244, 62464, 69971, 81771, 94923, 115003, 135351, 153662, 187145, 190844, 193499, 240567, 270801, 98391, 179734, 16634, 7125, 8067, 31315, 179734, 201447, 238889, 38023, 107784, 25981, 212965, 30276, 39616, 46909, 50895, 114368, 123883, 178667, 194676, 204813, 216012, 240756, 249628, 273113, 13552, 25981, 47316, 50073, 82497, 107865, 114368, 123883, 125779, 135149, 154070, 177090, 216012, 259930, 278188, 73651, 101209, 114368, 123883, 127200, 154070, 171638, 194669, 194676, 216012, 221705, 227520, 238699, 273113, 882, 1733, 114368, 123883, 182527, 189516, 216012, 273113, 114368, 120908, 123883, 216012, 238699, 252695, 259930, 273113, 114368, 139141, 216012, 227520, 259930, 273113, 114368, 123883, 125287, 194676, 216012, 227520, 240756, 273113, 53220, 114368, 123883, 150968, 167800, 216012, 261829, 273113, 7158, 54335, 69232, 114368, 123883, 125779, 139141, 216012, 227520, 259930, 14521, 54335, 114368, 123883, 125779, 201017, 204813, 216012, 227520, 273113, 123883, 125779, 153662, 206074, 216012, 227520, 1733, 13552, 26535, 51883, 69697, 114368, 123883, 153718, 177374, 273113, 114368, 123883, 136071, 207349, 227520, 247447, 255546, 264082, 273113, 31050, 114368, 120908, 123883, 132199, 146386, 165308, 177374, 227520, 230708, 254144, 273113, 82497, 114368, 120908, 123883, 153718, 203799, 213531, 273113, 278188, 3363, 39646, 40914, 52584, 75485, 133747, 165308, 168954, 206567, 221445, 3363, 6575, 30716, 56554, 62891, 93426, 121170, 127359, 140358, 144531, 149934, 162639, 179733, 179734, 215988, 220688, 251422, 258938, 30273, 56554, 81492, 93426, 112026, 251422, 25409, 30273, 56554, 62966, 98391, 234359, 247447, 3363, 13552, 25409, 30716, 56554, 127233, 155219, 165308, 3363, 25409, 27813, 56554, 62966, 98391, 99347, 147686, 201447, 218608, 251422, 25409, 30273, 40914, 56554, 62966, 98391, 162639, 172512, 251422, 25409, 30716, 31315, 62966, 70931, 93426, 98391, 251422, 30276, 51450, 114368, 123883, 132173, 153662, 227520, 241565, 273113, 153662, 227250, 102702, 114368, 114368, 9613, 30276, 114368, 123883, 132173, 143253, 153662, 177374, 212965, 227520, 247241, 247447, 264082, 273113, 114368, 123883, 187517, 13552, 51450, 69697, 101209, 114368, 123883, 153662, 153718, 164828, 203799, 247241, 264082, 273113, 111847, 114368, 123883, 132173, 156467, 177374, 189516, 273113, 23871, 40889, 69697, 111847, 114368, 123883, 132173, 212965, 273113, 13552, 26544, 112761, 114368, 123883, 132173, 177374, 210485, 273113, 114368, 123883, 207349, 223190, 273113, 3371, 26544, 30994, 48494, 114368, 120908, 123883, 135265, 136071, 139913, 164828, 177374, 227520, 264082, 273113, 278188, 31315, 104144, 114368, 123883, 130474, 227520, 273113, 882, 13552, 31315, 59189, 68760, 114368, 123883, 140358, 153662, 153718, 165308, 177374, 201017, 216683, 227520, 241565, 273113, 13552, 114368, 123883, 124487, 132173, 254144, 273113, 3371, 21031, 27813, 57398, 69378, 114368, 132199, 139913, 153662, 153718, 177374, 177690, 227520, 264031, 31050, 39616, 109491, 114368, 165308, 177374, 189516, 216683, 227520, 253871, 27813, 52853, 82497, 114368, 123883, 177374, 216012, 261829, 273113, 73651, 153718, 177690, 216683, 227520, 228681, 264947, 273113, 26517, 73651, 153718, 227520, 228681, 273113, 73651, 153718, 177690, 190708, 216683, 227520, 228681, 264947, 273113, 234359, 187517, 17282, 78783, 98723, 120908, 135265, 190925, 261829, 135265, 25981, 52853, 81492, 107784, 143175, 185722, 187517, 197687, 205735, 231264, 235935, 51883, 102275, 156467, 185722, 197687, 83754, 107784, 231264, 185722, 197687, 231264, 249628, 81597, 114368, 156467, 160735, 111847, 114368, 123883, 132173, 252695, 273113, 135265, 149069, 30276, 52614, 69697, 102702, 132173, 238781, 1733, 26240, 16795, 135149, 180348, 234359, 190708, 28591, 52614, 78783, 98547, 114368, 114368, 123883, 124487, 125779, 139141, 194676, 213150, 216012, 227520, 240756, 273113, 2891, 6543, 16795, 76482, 105979, 114544, 133747, 140358, 184424, 206944, 224809, 243879, 75591, 153662, 31846, 75591, 6575, 97754, 141902, 169663, 223787, 224249, 239584, 246311, 264031, 276680, 15408, 21014, 37712, 69078, 69378, 86189, 105979, 187145, 189115, 192710, 260897, 60244, 86189, 213126, 243942, 236757, 223501, 237271, 254206, 20172, 50225, 57725, 69078, 91113, 101305, 108005, 111174, 128085, 141710, 143968, 157273, 169663, 218068, 218552, 224349, 235105, 246634, 254206, 274549, 123460, 115490, 21576, 174848, 57725, 69078, 75591, 101305, 195904, 130554, 263163, 95932, 222296, 40415, 95932, 222296, 95932, 222296, 27472, 35918, 76499, 239423, 244286, 268110, 276463, 12538, 178667, 54453, 16795, 50225, 96357, 117873, 189392, 199772, 206534, 218552, 239584, 268110, 243, 29526, 30487, 46398, 48494, 60583, 72990, 75081, 86189, 108752, 135265, 149069, 212923, 224430, 246634, 254201, 133747, 73923, 79285, 212923, 5582, 8253, 31315, 52199, 55490, 96440, 114368, 138097, 167800, 185233, 245410, 266840, 55490, 145449, 185233, 258534, 266840, 23768, 51992, 122429, 153513, 242299, 94923, 132836, 46398, 31826, 39773, 16795, 67547, 75485, 122429, 224809, 4017, 37712, 69078, 95359, 117873, 129716, 141710, 149661, 169663, 185275, 201677, 36609, 76942, 166123, 136491, 218068, 132836, 6543, 87141, 113270, 173415, 231210, 241666, 4017, 10314, 22625, 46398, 87555, 100459, 120598, 227884, 243759, 76151, 100459, 187517, 6563, 16795, 30487, 43910, 53241, 98391, 113270, 123095, 146113, 147224, 187145, 223787, 230522, 235282, 235935, 239584, 255489, 276680, 8454, 13273, 16795, 52584, 105214, 119517, 124874, 143415, 147224, 218568, 224430, 246311, 268110, 10314, 23768, 57725, 92810, 235105, 255489, 14422, 48025, 90391, 91103, 95173, 110912, 133747, 155219, 156150, 181687, 182993, 216683, 218241, 243328, 77809, 23768, 59189, 165308, 12824, 95359, 178199, 210587, 218121, 85757, 6543, 6575, 21011, 69355, 187256, 40415, 4017, 21014, 24921, 69078, 91113, 91832, 95359, 105979, 139913, 140358, 141491, 177072, 189835, 195904, 196077, 206563, 224430, 232131, 252071, 16795, 253871, 21576, 25131, 99955, 146348, 237990, 266283, 6575, 7158, 16795, 71234, 85757, 97754, 128325, 139913, 143415, 155219, 177590, 203240, 205980, 224249, 267033, 24933, 29259, 136348, 153662, 156269, 10314, 53174, 95359, 108155, 120908, 196077, 239584, 25981, 36606, 55490, 98391, 105214, 110973, 112001, 124876, 126492, 130474, 136326, 140358, 142121, 158295, 184532, 185233, 189835, 197659, 209373, 224809, 274061, 6251, 23768, 35857, 41364, 45557, 60244, 61038, 88733, 105979, 168047, 212923, 260897, 8362, 69078, 167812, 199772, 204864, 223787, 62862, 165308, 184532, 6543, 122429, 108950, 43806, 69389, 80203, 91103, 100459, 106225, 140358, 178667, 187517, 201677, 222296, 237748, 252695, 29526, 114988, 157273, 211426, 226205, 226616, 12824, 219683, 11601, 95932, 152651, 201677, 10314, 10447, 19664, 21014, 26535, 28177, 35859, 35918, 40415, 60244, 67840, 69078, 85426, 95173, 110934, 111190, 112001, 114544, 114988, 115003, 121170, 132375, 135831, 136491, 148744, 160558, 169233, 177375, 178199, 179075, 188273, 190925, 204864, 264543, 266865, 271448, 227447, 16795, 75591, 87555, 95359, 123095, 258938, 276680, 49980, 60244, 73330, 78834, 117873, 121264, 144038, 177375, 228311, 275970, 10314, 28177, 56447, 60244, 89602, 99347, 108155, 115435, 136139, 189080, 224809, 244736, 245649, 257028, 271448, 273979, 10447, 17190, 28177, 30994, 35857, 35859, 39281, 43619, 78834, 94347, 105979, 110973, 142715, 153662, 171818, 171970, 188171, 198046, 203240, 206944, 240568, 243360, 244286, 254465, 273979, 8362, 11601, 16795, 23768, 35857, 46398, 74286, 100846, 109899, 120598, 206944, 224430, 252695, 271448, 278633, 8253, 8681, 17003, 20172, 40415, 55490, 86189, 95359, 98930, 105214, 124078, 162639, 162738, 210959, 215986, 225996, 246311, 60244, 133747, 268110, 8253, 8454, 51742, 82407, 94347, 122429, 125411, 137688, 145737, 158254, 171970, 218068, 264152, 6575, 26544, 50073, 143415, 155219, 2977, 4017, 23768, 28177, 61854, 92979, 100459, 109461, 115435, 137589, 138578, 142715, 153662, 184424, 187145, 229741, 251394, 271448, 23768, 37644, 37712, 53392, 69971, 81771, 113270, 130571, 138543, 207965, 189835, 4017, 6575, 21011, 21014, 53392, 60244, 66680, 69078, 85757, 89602, 101305, 102967, 114544, 128045, 130571, 135149, 136491, 169663, 190925, 218121, 246311, 249628, 252695, 268110, 269835, 30487, 60244, 62862, 95359, 136071, 6575, 28177, 60244, 61038, 101305, 133747, 204864, 243236, 246311, 258482, 270605, 3363, 16106, 165308, 206567, 265115, 6575, 7915, 16795, 22625, 31393, 35857, 36327, 37644, 46398, 64436, 71712, 91058, 92979, 94347, 107784, 113519, 114444, 114544, 115003, 115435, 124874, 130571, 135831, 137589, 141491, 141902, 145641, 147847, 153513, 153662, 160819, 165308, 167746, 177375, 187145, 193499, 196077, 196466, 201677, 210485, 215006, 217375, 224249, 224430, 231210, 238065, 264657, 266056, 273979, 4017, 7283, 16106, 16795, 21014, 28177, 30972, 30994, 35859, 46398, 53174, 55075, 85426, 88229, 95359, 96440, 100846, 113519, 114544, 116758, 152651, 187145, 192093, 195904, 203764, 224249, 238065, 250184, 263163, 271448, 71853, 73330, 75591, 88793, 114544, 152651, 217375, 242299, 100906, 110912, 189392, 239584, 21364, 110912, 133747, 160558, 181212, 184424, 41781, 89602, 93047, 108005, 143415, 223501, 2977, 6251, 6575, 16634, 20462, 40330, 48046, 85757, 88793, 95359, 96440, 105937, 116758, 121170, 125287, 128085, 138010, 150979, 160819, 162052, 187762, 220688, 231210, 243879, 246311, 258534, 260897, 89602, 100906, 187145, 271705, 21014, 130571, 204813, 223154, 270605, 7346, 8253, 16795, 19842, 21014, 21031, 30533, 31391, 64436, 89602, 91113, 95359, 97754, 101305, 110382, 112001, 114544, 115003, 121264, 122801, 123095, 139359, 142479, 142524, 144038, 145449, 145737, 146932, 168954, 177375, 182442, 203240, 204864, 215986, 215988, 222296, 223431, 223501, 224430, 224809, 225763, 243879, 246311, 246634, 254299, 260897, 10314, 75591, 85757, 91113, 136139, 139359, 158254, 167812, 181687, 198046, 207782, 210587, 213126, 276680, 3373, 6251, 7125, 14422, 16795, 21576, 22625, 26517, 28177, 30081, 31315, 35857, 37712, 39281, 48025, 53392, 60244, 62464, 62862, 62966, 63938, 75485, 75591, 81298, 86189, 88937, 89602, 94347, 95359, 100459, 103304, 108950, 114544, 123095, 126196, 126726, 136139, 140358, 147847, 149934, 153662, 160819, 165308, 165319, 171970, 174596, 184513, 204864, 205980, 210485, 210959, 221948, 223501, 224249, 240567, 254299, 256843, 259118, 266283, 273979, 276680, 8681, 43910, 52584, 140358, 158254, 203240, 222296, 227447, 229741, 235282, 13850, 51526, 155219, 258482, 27812, 51742, 60244, 62464, 81977, 94347, 133747, 147224, 156150, 169663, 204813, 206534, 25409, 29526, 36609, 44252, 108799, 165308, 215988, 223087, 6575, 7125, 8067, 10560, 25409, 36609, 39281, 40914, 62966, 73394, 78834, 81848, 83637, 116758, 123981, 128208, 135149, 150979, 195694, 210485, 223087, 223154, 224249, 224349, 225763, 227702, 236172, 239584, 250184, 265115, 124876, 240700, 60244, 2033, 20060, 129716, 240144, 129716, 136348, 142623, 143415, 165319, 211919, 218241, 263163, 8454, 135351, 254, 73330, 254, 16106, 77809, 98391, 130554, 135149, 209875, 274634, 75819, 271448, 22365, 7346, 16795, 21014, 27875, 56856, 74286, 85656, 108285, 115692, 173291, 179978, 247429, 13850, 15408, 20172, 23872, 95173, 177432, 178667, 230522, 24921, 60244, 155495, 211426, 230522, 2276, 6073, 6575, 16634, 16795, 30735, 37644, 69721, 75485, 78834, 85426, 89602, 95932, 98440, 108155, 109461, 123544, 129716, 140223, 156150, 158433, 165319, 172742, 173291, 177432, 189835, 207782, 218121, 218608, 228021, 251140, 254206, 265313, 266229, 271176, 28634, 47316, 93047, 93629, 144038, 170513, 179288, 209373, 246311, 101620, 178240, 240035, 7346, 20172, 26544, 30276, 80683, 115490, 203240, 228681, 251843, 264657, 21618, 3167, 12538, 13082, 24933, 52199, 52917, 56856, 75819, 76499, 96440, 104657, 107784, 137589, 146113, 158254, 179734, 205980, 241548, 115435, 245410, 93179, 183995, 26240, 882, 16634, 31826, 45557, 48494, 51252, 52584, 55075, 55492, 69232, 93629, 147847, 159506, 177590, 216683, 225810, 229741, 230522, 243700, 254465, 255489, 264082, 268032, 2766, 18082, 43806, 69078, 128835, 218568, 31050, 78553, 153662, 223566, 93629, 35918, 203240, 211426, 218121, 230522, 137688, 235105, 95359, 173415, 226879, 218121, 264543, 55187, 93629, 113519, 211426, 241565, 255546, 6251, 31556, 76168, 96448, 130554, 147847, 162052, 165319, 210485, 228021, 230522, 275970, 278137, 55075, 76942, 112001, 190923, 203764, 235105, 7346, 60337, 98547, 158295, 248718, 114414, 136252, 204864, 55490, 68555, 60244, 74056, 140223, 197659, 201017, 201684, 204864, 245649, 30276, 189516, 27472, 35918, 95359, 186570, 37712, 78553, 96448, 130554, 138543, 147847, 204864, 208555, 221445, 234828, 269799, 277427, 51252, 189835, 259629, 48025, 16795, 46398, 83287, 135149, 153797, 158295, 185233, 7346, 55187, 144555, 156150, 224430, 230522, 93629, 61028, 193898, 235105, 104657, 146348, 165308, 266229, 56959, 104665, 135149, 197659, 266229, 60244, 66878, 98930, 138602, 165308, 16795, 31826, 83637, 162639, 251394, 60244, 78553, 95359, 138602, 155141, 172030, 179734, 182993, 269566, 6323, 13552, 21014, 28634, 30972, 59390, 68943, 81597, 85656, 100906, 104636, 123981, 135149, 140358, 143211, 144555, 155014, 182403, 190923, 202462, 231351, 234828, 235392, 236172, 237271, 240567, 241666, 255489, 274308, 7346, 13552, 35857, 40943, 51883, 70415, 190708, 243236, 254899, 11224, 248718, 83287, 132375, 158295, 162639, 173481, 187256, 223566, 241666, 27875, 30985, 38273, 51992, 63394, 104636, 138543, 196502, 218121, 235105, 274808, 108352, 196466, 207259, 235935, 6323, 8936, 30533, 35859, 55490, 59390, 82407, 85993, 100459, 106849, 141902, 156300, 158295, 177072, 182403, 189558, 202462, 207499, 210485, 213531, 222941, 241666, 260944, 8936, 17859, 23511, 29259, 35859, 46909, 62862, 85993, 100459, 104636, 106849, 123981, 156150, 189516, 189558, 190925, 193778, 207499, 222941, 223154, 224430, 231351, 247752, 258534, 8936, 13552, 23768, 29259, 35859, 37644, 39281, 39345, 53220, 73394, 78783, 81597, 95359, 98904, 100459, 104211, 104636, 104665, 129084, 133284, 146113, 156150, 156467, 193778, 204457, 222035, 232106, 235392, 241666, 247752, 271558, 274308, 120396, 143175, 143211, 204457, 258482, 22365, 106225, 133571, 159858, 246311, 13552, 18082, 80810, 104429, 106849, 110973, 113270, 122506, 127359, 38023, 165319, 243759, 69156, 137589, 156269, 169779, 208406, 265115, 53220, 124363, 184513, 102647, 126196, 130571, 132836, 156150, 156269, 187517, 188513, 204864, 207499, 56554, 107784, 172742, 205980, 218241, 16795, 35857, 104636, 123095, 184513, 190741, 235282, 39281, 97754, 120396, 126196, 139828, 156150, 156269, 158295, 204457, 207499, 79740, 104144, 130474, 158295, 210959, 248718, 258534, 266283, 83637, 146113, 147686, 221732, 241980, 7346, 19085, 60244, 107784, 110440, 184279, 201684, 213150, 216683, 232964, 104636, 135265, 143837, 172676, 7346, 97754, 126196, 156269, 188513, 39281, 97754, 120396, 126196, 156150, 156269, 158295, 124487, 236757, 258534, 19711, 127359, 130571, 144555, 203764, 237990, 38273, 135609, 232131, 234828, 2766, 41781, 89602, 202277, 224138, 78783, 130571, 148744, 197687, 211919, 219683, 224430, 256402, 43687, 44893, 85757, 87555, 89602, 93047, 111174, 128835, 156150, 173415, 205980, 260897, 232964, 11629, 31391, 35704, 60244, 91113, 94347, 124874, 136139, 147141, 215988, 235105, 241980, 266865, 104144, 129084, 156269, 181212, 217986, 249894, 276231, 13850, 46398, 51742, 2276, 96357, 232945, 94347, 155147, 187145, 255078, 235282, 4017, 10314, 16795, 22625, 30081, 31846, 66680, 91103, 95359, 110912, 113270, 116758, 118677, 140358, 148744, 184424, 187517, 196047, 218608, 231210, 238781, 81368, 87964, 89602, 236757, 199772, 201677, 204864, 6323, 58594, 82497, 187574, 258534, 36299, 57398, 58594, 158295, 167746, 172742, 177072, 223501, 257028, 258534, 55075, 85426, 239584, 60244, 35836, 44845, 51526, 67840, 81368, 88229, 91113, 92810, 121986, 126196, 136139, 158295, 162639, 163804, 174596, 178199, 182993, 201684, 209373, 224809, 244627, 246311, 277639, 278026, 4017, 31393, 53392, 212923, 218241, 23872, 35859, 120396, 143211, 210822, 235392, 258534, 100906, 207499, 258534, 25409, 30972, 147847, 158295, 178199, 228681, 266056, 13552, 31050, 123883, 172676, 180348, 221732, 274061, 13552, 101620, 135265, 172676, 195694, 212965, 224138, 247447, 274061, 3363, 74056, 102967, 172030, 223087, 13552, 76151, 95923, 143175, 153662, 172676, 180348, 210717, 13552, 78553, 153662, 164828, 172676, 212965, 229011, 13552, 31393, 78553, 135265, 153662, 172676, 13552, 68555, 78553, 101209, 135265, 153662, 172676, 180348, 224138, 274061, 9908, 108285, 112001, 172742, 13552, 123883, 153662, 164828, 172676, 258185, 274061, 104636, 145619, 153662, 172061, 172676, 264082, 95991, 136348, 197659, 204457, 212923, 232131, 240567, 136348, 172091, 197659, 240567, 123430, 207349, 242106, 274061, 153662, 274061, 2276, 14422, 153662, 101209, 123095, 153662, 274061, 1733, 3371, 51450, 123883, 146386, 227520, 274061, 7346, 17282, 37712, 38023, 56856, 102647, 147847, 150896, 153662, 229741, 241565, 271705, 6543, 107784, 120908, 144531, 158295, 168144, 177072, 193778, 242106, 247852, 265115, 269738, 7346, 8067, 146113, 177072, 190925, 193778, 240219, 251422, 26544, 172512, 165319, 172030, 6543, 35859, 127200, 144531, 193778, 196077, 240144, 67840, 244627, 17667, 129716, 157811, 159506, 163202, 164675, 264152, 12824, 13273, 16634, 19085, 26621, 58594, 60263, 67840, 68185, 76102, 89602, 94951, 104362, 110973, 125039, 136205, 165319, 198930, 225886, 228021, 228998, 236058, 242083, 254, 5582, 6251, 29526, 42093, 55490, 56447, 62558, 75860, 81492, 89602, 94951, 95932, 100459, 104362, 109779, 114988, 124078, 124874, 124876, 135360, 142524, 147686, 152099, 152645, 155014, 159858, 165319, 186762, 204864, 206534, 210597, 218068, 224249, 232131, 236058, 271558, 274634, 276463, 28591, 102702, 188513, 227520, 264082, 274061, 37208, 67840, 82497, 132173, 227520, 243759, 274061, 274061, 5582, 30276, 55187, 226006, 5582, 110973, 226006, 100906, 106007, 125039, 143211, 206534, 212142, 264152, 277427, 6543, 43687, 89602, 96440, 108799, 110912, 121264, 136139, 152645, 201674, 215988, 167800, 172676, 10819, 35859, 193778, 240144, 247852, 256402, 111847, 123883, 153662, 189973, 216012, 226965, 273113, 7125, 10447, 29855, 35859, 35918, 52584, 65258, 65584, 78783, 98904, 100459, 121170, 123981, 124310, 136205, 138010, 153662, 160819, 178667, 181687, 184424, 190925, 203240, 216683, 224430, 234828, 240568, 258938, 259626, 268110, 271448, 56959, 83496, 165308, 193898, 218608, 254465, 258185, 267033, 6563, 8245, 73923, 142715, 205980, 218121, 242083, 189973, 207349, 228764, 248718, 153662, 273113, 83637, 158295, 135149, 149934, 165308, 226616, 264996, 98391, 114368, 207349, 226545, 228764, 60263, 89602, 209817, 232211, 245649, 3373, 73651, 221705, 30276, 95991, 110934, 181176, 40914, 93426, 206567, 20060, 88733, 123981, 221705, 223201, 6251, 38544, 50225, 114988, 142524, 153054, 156150, 174596, 218068, 274634, 3371, 107244, 163804, 228764, 256844, 14422, 156467, 164828, 207349, 16795, 23871, 123883, 153662, 172676, 184513, 226545, 229011, 252071, 273113, 49842, 51450, 123883, 172676, 247447, 252695, 6251, 6543, 36609, 46398, 52917, 58594, 64436, 69721, 89602, 95173, 171970, 173415, 181176, 189115, 189392, 203240, 204864, 210959, 235105, 241980, 242083, 242299, 249894, 274634, 3363, 60707, 124078, 125736, 190708, 227447, 238781, 240700, 248477, 8067, 26535, 79266, 98391, 135149, 146113, 156467, 269738, 13552, 153662, 172676, 9908, 95923, 153662, 172676, 252347, 269738, 13552, 123883, 139141, 153662, 172676, 231264, 8454, 31556, 69971, 142121, 147141, 221732, 234359, 241980, 44893, 46398, 91113, 114988, 125039, 127914, 147686, 231264, 239626, 128045, 143163, 177590, 5582, 93426, 106225, 111190, 181687, 254465, 20060, 65584, 95359, 124487, 130571, 143163, 210822, 227447, 228681, 235282, 249223, 258534, 270906, 98391, 238699, 14422, 25409, 40914, 43619, 56554, 93426, 148898, 266056, 76151, 98391, 123883, 78783, 98391, 269321, 38023, 127359, 177090, 5582, 7125, 25409, 83496, 91113, 112026, 196077, 220688, 223154, 254144, 7346, 8245, 88793, 104636, 138010, 165308, 177690, 178199, 25981, 82497, 123883, 139141, 153662, 209817, 227397, 98391, 123883, 135265, 153662, 164828, 227397, 229011, 261998, 269738, 273113, 128085, 130571, 155014, 159858, 190925, 247752, 252843, 278026, 63938, 102967, 114544, 115003, 270352, 8245, 83754, 85656, 224138, 228764, 248718, 148744, 104636, 261829, 100906, 108799, 204864, 225595, 248718, 3363, 89014, 146348, 154992, 156150, 254, 186762, 254, 8681, 8734, 67840, 89602, 98391, 106007, 172760, 206534, 245410, 246311, 207349, 20971, 92810, 48975, 243360, 243360, 89602, 41084, 114988, 162738, 210485, 241666, 78553, 101209, 182527, 226879, 29526, 132173, 29526, 254465, 23571, 129851, 254, 172760, 196502, 98391, 235105, 6575, 7346, 8253, 27472, 42093, 48046, 75591, 81977, 89602, 95932, 172760, 198930, 213126, 228021, 239584, 272573, 275970, 6543, 35704, 39773, 44893, 55892, 60244, 89602, 93047, 111174, 114988, 135045, 181176, 189392, 203240, 213126, 241980, 266865, 31050, 98391, 207349, 95923, 122429, 35859, 123544, 185233, 148712, 21031, 185233, 236283, 35859, 62891, 111847, 120093, 153662, 185233, 236283, 153662, 185233, 6251, 31315, 46398, 51883, 99955, 102359, 179288, 185233, 188171, 236283, 16634, 53174, 75591, 110214, 110973, 128835, 185233, 187624, 189835, 211426, 236283, 254206, 265313, 274061, 59390, 118533, 155014, 155495, 169699, 201447, 265313, 66680, 260944, 74691, 75591, 87555, 92979, 95359, 278843, 20462, 21576, 30487, 75591, 186762, 276680, 19085, 4017, 10314, 29855, 30487, 61427, 69378, 82407, 92979, 95359, 105979, 114544, 115003, 135149, 135609, 138578, 148744, 150979, 161974, 187517, 192093, 213126, 215006, 223154, 223431, 224430, 224809, 226965, 229313, 236757, 237271, 246634, 5582, 75819, 95010, 135149, 163307, 170724, 170724, 16795, 31050, 62272, 168816, 170724, 62272, 248850, 60621, 168816, 114368, 153797, 170724, 174216, 25981, 114368, 135149, 13552, 31315, 112001, 55490, 87141, 101851, 108005, 115692, 133935, 149069, 170513, 182403, 182993, 217986, 242083, 254206, 255489, 258534, 7915, 23871, 128835, 243236, 266283, 8245, 14422, 39616, 68555, 95932, 156150, 177091, 68555, 78553, 39616, 68555, 267635, 62272, 69232, 114368, 170724, 31315, 31315, 69232, 114368, 193676, 51883, 108799, 114368, 9747, 100264, 114368, 130474, 152354, 227884, 13552, 70415, 77809, 114368, 260944, 276680, 210822, 69389, 23872, 114988, 236757, 31315, 50073, 112001, 238781, 39616, 55492, 68555, 123430, 156150, 236757, 16795, 114368, 12538, 89602, 100459, 113270, 147847, 148744, 266283, 25981, 89602, 100459, 142121, 149934, 162639, 175052, 210485, 240219, 264657, 268110, 16795, 25981, 91058, 114368, 153662, 160735, 248477, 253871, 254465, 9747, 114368, 31315, 137589, 276680, 144531, 187145, 114368, 258884, 21014, 67547, 81492, 105937, 111174, 133571, 174216, 218568, 224349, 263460, 16634, 80683, 115490, 123094, 143968, 171295, 206534, 210959, 271144, 112001, 40889, 114368, 235935, 59912, 82407, 127826, 184299, 224138, 8362, 55892, 75485, 75860, 100264, 112001, 135265, 140358, 226965, 227884, 237271, 251843, 270820, 21014, 98391, 156150, 16795, 25981, 39616, 46909, 100264, 114368, 168144, 241548, 250936, 16795, 31315, 114368, 253871, 92810, 115692, 243759, 49109, 112001, 139913, 9747, 114368, 145449, 182527, 243, 23871, 31315, 112001, 75860, 112001, 114368, 130474, 150968, 83754, 251843, 260944, 25981, 100264, 114368, 130474, 170724, 223190, 228764, 36609, 66680, 68555, 104211, 112001, 125692, 237271, 249628, 260944, 35859, 114368, 136139, 143253, 254465, 264031, 21014, 91103, 113519, 115692, 218121, 264947, 36606, 50073, 37712, 75860, 121170, 137688, 212923, 227447, 246655, 21618, 43910, 177072, 235282, 265115, 4017, 10447, 16795, 21014, 51742, 69971, 123095, 138578, 144555, 238065, 24921, 25981, 100264, 114368, 160735, 114368, 136139, 140358, 150498, 170724, 235392, 114368, 23872, 215986, 219683, 16795, 253871, 203799, 227520, 31315, 143175, 238781, 260944, 97754, 156150, 268110, 107784, 16996, 29526, 41781, 189835, 215988, 240219, 264311, 264657, 35859, 114368, 140358, 31315, 40914, 46443, 95359, 154730, 189835, 209373, 193898, 114368, 130474, 146386, 156300, 160735, 170724, 258884, 9747, 23872, 64310, 100264, 130474, 136139, 178667, 4017, 6575, 16795, 22625, 53392, 69078, 94347, 95359, 104144, 182442, 195904, 224138, 234359, 268110, 270605, 271448, 162738, 60244, 62966, 78834, 112026, 114544, 138010, 217056, 229313, 235282, 250184, 42914, 68436, 108352, 142623, 159506, 210597, 210959, 273086, 158606, 113519, 52917, 101305, 157811, 225595, 98904, 128085, 144038, 165308, 207782, 36715, 60244, 124876, 214786, 185233, 52614, 95574, 31315, 36606, 83754, 207965, 112001, 259629, 56391, 98391, 24933, 98391, 144531, 235105, 29526, 8245, 86189, 90391, 121986, 273086, 52584, 66680, 114544, 141491, 181687, 114368, 170724, 258884, 114368, 170724, 189835, 227447, 40889, 114368, 136139, 216012, 25981, 50895, 114368, 130474, 170724, 182527, 216012, 227447, 235935, 6575, 16718, 16996, 19664, 21364, 25409, 26593, 26621, 30081, 40943, 51450, 59727, 61427, 62862, 74056, 78783, 85426, 85757, 98723, 104657, 120908, 122429, 123790, 124310, 125692, 125736, 133747, 143175, 143968, 149084, 157273, 158254, 158295, 181687, 182993, 200643, 201447, 201674, 207148, 225763, 226545, 235935, 246513, 251140, 252071, 258938, 264311, 268110, 276050, 16795, 76151, 114368, 171638, 216012, 114368, 170724, 182527, 90616, 98391, 182993, 204864, 208406, 16795, 76151, 85993, 87141, 114988, 154529, 181687, 182993, 193898, 260944, 278026, 6563, 8067, 21484, 36609, 40914, 46909, 56554, 93426, 95359, 99955, 109491, 138010, 172512, 196077, 215988, 252071, 276050, 7346, 21014, 26593, 40914, 60244, 74056, 78783, 85757, 104657, 105979, 120908, 125736, 127359, 179734, 181687, 182993, 194669, 200643, 215988, 218568, 221445, 223087, 223566, 226545, 229741, 246513, 254465, 258938, 264311, 265115, 276050, 40943, 156150, 156150, 156150, 16718, 65584, 78783, 81216, 91113, 127233, 141493, 200643, 210485, 98391, 25981, 114368, 130474, 145449, 163307, 216012, 256843, 8067, 25409, 67547, 76818, 95359, 105979, 162639, 224430, 229011, 156150, 226545, 31315, 36609, 74056, 81848, 98391, 144531, 162052, 226545, 27740, 69078, 85757, 95250, 113904, 126196, 136491, 204864, 255489, 276680, 16795, 21014, 108005, 132375, 162639, 165308, 177375, 218241, 234359, 116904, 228579, 6563, 31393, 92810, 113519, 135831, 238120, 101851, 114368, 167800, 185176, 235105, 638, 16795, 21014, 29855, 56959, 57725, 105214, 135360, 137589, 169663, 174304, 175052, 178920, 189835, 210485, 212142, 232959, 271144, 276050, 11629, 37712, 40889, 46398, 69971, 78448, 81298, 143415, 174304, 177072, 181176, 193676, 211426, 229741, 261829, 263163, 266865, 45418, 53174, 70666, 81597, 87141, 114368, 130474, 243294, 11224, 45418, 81848, 97754, 101851, 114368, 126903, 137589, 146803, 185176, 213150, 235105, 250936, 6323, 11224, 22074, 36606, 75819, 87141, 114368, 126492, 146803, 150896, 160681, 168816, 170947, 184513, 201783, 235105, 237271, 241548, 241980, 246507, 251003, 40889, 77809, 114368, 123094, 126492, 138010, 143163, 146803, 150498, 158433, 170947, 185176, 207499, 226545, 251003, 254053, 260944, 270820, 277427, 30735, 69078, 162738, 168047, 171295, 178667, 8253, 94347, 113519, 178920, 229741, 67547, 125519, 638, 30533, 81848, 197659, 137589, 162738, 16795, 27812, 31315, 93179, 95359, 114368, 146803, 184513, 193898, 197659, 270820, 274549, 8067, 21659, 26593, 31315, 77480, 87141, 95359, 110440, 114368, 123094, 126492, 140358, 158295, 178240, 184513, 185176, 221445, 224349, 235105, 268622, 31393, 56447, 57398, 76168, 95359, 95923, 101305, 135045, 139913, 141710, 145449, 147224, 153513, 155147, 162052, 181176, 185147, 203900, 210717, 224349, 230522, 245410, 249628, 251495, 266283, 6073, 6575, 23872, 169682, 201042, 217986, 266865, 8734, 75591, 167812, 239584, 17667, 30081, 36606, 69078, 72990, 115435, 126196, 186762, 192710, 204864, 212142, 223201, 231210, 239584, 254299, 162052, 7346, 51992, 62558, 62891, 68156, 75591, 76818, 88738, 95359, 98686, 100906, 107784, 125692, 128835, 135045, 136205, 143837, 152645, 172742, 174304, 203900, 231827, 241666, 242083, 243700, 252071, 264862, 92810, 36554, 37644, 81216, 83637, 146348, 225595, 257028, 95359, 95574, 31315, 10560, 2891, 68555, 115003, 125411, 142524, 172742, 207148, 237748, 271448, 274808, 6251, 6563, 6575, 13552, 13850, 19711, 21576, 22625, 23571, 28177, 28619, 30735, 34588, 40889, 46398, 50225, 61901, 70666, 76151, 76483, 77181, 78448, 87555, 102967, 105979, 106225, 108950, 110912, 124874, 128325, 129074, 137589, 145641, 146348, 147847, 153797, 163804, 174848, 177375, 181687, 183995, 188273, 190708, 210597, 224430, 229313, 232106, 232959, 235282, 236283, 243294, 245645, 251495, 253871, 263163, 266056, 271176, 271195, 270906, 4017, 39281, 46398, 55075, 69971, 76102, 80810, 93047, 95359, 100906, 105937, 130571, 145737, 156150, 159858, 172091, 175117, 185275, 196466, 214786, 222296, 276050, 277427, 2891, 6543, 8066, 10560, 23768, 83287, 113519, 115003, 149661, 174596, 182334, 227702, 5539, 8253, 8681, 23872, 37712, 51742, 69078, 185147, 187613, 198046, 245088, 246311, 246634, 254201, 24194, 63956, 74056, 172512, 204864, 220688, 227705, 228311, 244171, 248718, 273086, 87141, 114368, 126492, 128208, 132375, 140358, 146803, 170947, 184513, 224349, 241980, 251003, 260944, 8681, 23872, 37712, 75591, 95359, 142479, 2977, 6073, 8681, 95359, 242646, 100906, 8681, 8681, 202277, 266865, 10314, 136139, 225078, 4938, 16795, 30533, 49842, 50225, 52584, 69684, 83287, 95173, 95359, 105979, 113270, 115435, 121170, 127826, 128835, 129008, 130571, 133747, 140223, 141710, 158433, 170513, 175052, 195469, 208406, 218121, 228998, 231210, 243328, 246311, 256407, 261829, 266056, 269566, 270820, 112001, 31315, 38544, 87141, 91058, 114368, 115692, 130474, 137589, 140358, 146348, 146803, 153662, 170634, 170947, 197659, 207499, 221445, 232964, 251003, 254053, 30081, 86189, 126604, 224138, 271705, 153513, 206944, 217986, 246311, 76710, 35918, 60244, 220240, 270801, 76499, 78834, 29526, 31315, 79977, 85993, 87141, 100459, 114368, 126388, 127359, 135149, 135609, 136071, 137589, 146803, 149069, 153662, 162827, 187256, 241980, 16795, 28177, 43910, 88229, 101305, 132199, 143415, 171970, 222220, 223087, 224923, 232131, 235282, 236757, 259118, 270838, 638, 21356, 22625, 31315, 33974, 34588, 53220, 60337, 64436, 75819, 76151, 100846, 111174, 114368, 115003, 115435, 116904, 125519, 130571, 140358, 145641, 147224, 149069, 152354, 187256, 193778, 200422, 210485, 215988, 254053, 259629, 71234, 76151, 140358, 13850, 49154, 98391, 8681, 37712, 56391, 163202, 200643, 225595, 228311, 242299, 4017, 21576, 30985, 46398, 52584, 53174, 62862, 75089, 91103, 100459, 108950, 114544, 184424, 187145, 188171, 251140, 240219, 13273, 16795, 25981, 35859, 45418, 51883, 66680, 69211, 101620, 106225, 110912, 114368, 115692, 118677, 125519, 126492, 143175, 157811, 162639, 190844, 235105, 249989, 2891, 13273, 35857, 38023, 55892, 56391, 87555, 95359, 111174, 212142, 243879, 276680, 277427, 13273, 21011, 21014, 27740, 30487, 37712, 57725, 69078, 74691, 85757, 87555, 90616, 115003, 162639, 171970, 239584, 246311, 638, 882, 7283, 7915, 8734, 10560, 11224, 13273, 13552, 14521, 16795, 20172, 30276, 31826, 35704, 36256, 37712, 39281, 39345, 39646, 48046, 49980, 50895, 53174, 55927, 60263, 61038, 62542, 67840, 68185, 68555, 68984, 69156, 75485, 75819, 77181, 79740, 81368, 81977, 82893, 86189, 89602, 92810, 93629, 95574, 98391, 100846, 101305, 105979, 107784, 111578, 115003, 120908, 123430, 128085, 131046, 132083, 136491, 137211, 138010, 142524, 146803, 149084, 152651, 153797, 154345, 154730, 157273, 159033, 162738, 167746, 168954, 169663, 170513, 171638, 174304, 177690, 178199, 180348, 187256, 194669, 195904, 199041, 201677, 204457, 204813, 207246, 209373, 210485, 214786, 215006, 216466, 218068, 218552, 218608, 220688, 223501, 223566, 223787, 225595, 226205, 227705, 228868, 229313, 229741, 230522, 232106, 232131, 235105, 236172, 237271, 237748, 240370, 240567, 242083, 242646, 243879, 244171, 246507, 246634, 251422, 251843, 254377, 268622, 269799, 274308, 276165, 276680, 277427, 638, 2276, 10447, 16795, 23768, 29526, 60244, 64436, 65584, 66680, 76151, 81492, 91058, 91103, 93629, 101620, 102647, 104636, 108005, 114368, 126903, 127233, 140358, 141491, 162639, 164926, 165308, 173291, 177375, 189080, 193676, 196466, 197659, 202711, 204457, 211344, 223154, 224809, 256843, 271448, 7283, 16634, 49460, 95359, 114988, 142524, 146803, 171818, 212923, 225595, 255078, 13273, 25981, 39281, 49109, 55492, 56554, 79977, 101304, 110440, 112001, 126492, 144318, 144531, 153797, 190923, 196077, 200643, 210587, 237271, 249628, 2766, 16795, 23511, 65663, 136205, 160558, 224249, 228681, 254299, 258938, 263460, 40415, 69078, 73923, 77809, 95173, 95359, 98723, 135360, 136348, 142121, 148898, 181687, 182993, 201677, 220688, 223087, 224430, 226545, 235105, 246513, 255489, 258938, 266056, 268622, 12538, 26517, 39281, 57725, 69078, 69971, 77809, 81492, 81848, 88937, 89602, 122801, 139359, 169663, 187145, 189392, 210485, 239584, 56391, 69078, 75591, 75819, 76530, 85757, 111174, 117873, 137336, 175117, 185275, 204864, 206534, 223501, 29209, 43910, 50895, 54335, 56554, 98391, 126492, 130474, 131046, 139913, 182993, 210587, 223501, 224764, 227702, 228579, 232131, 235105, 237271, 256167, 21031, 28634, 36606, 39281, 39345, 53220, 55492, 56554, 60621, 64436, 68555, 75819, 89014, 113270, 114368, 126492, 127233, 136491, 153797, 190708, 228764, 235105, 237271, 241980, 251843, 53392, 60244, 63938, 69355, 100906, 113904, 124874, 150979, 193499, 218552, 223787, 235105, 259930, 264031, 243, 6575, 8454, 12824, 16795, 31393, 37712, 60244, 61427, 66680, 78783, 94347, 96357, 100459, 103336, 113270, 114544, 126726, 138777, 155147, 162639, 163804, 166409, 196077, 223154, 232211, 258482, 266056, 117873, 135831, 142479, 271705, 25409, 35704, 173415, 187256, 220688, 258534, 27812, 37712, 75591, 91058, 91832, 95250, 114988, 124874, 142623, 167812, 173415, 190741, 196077, 204864, 224809, 229011, 273086, 92979, 95359, 224349, 6543, 37712, 40889, 60244, 62542, 62862, 63938, 66574, 69078, 85757, 89602, 91113, 114988, 115003, 122429, 155580, 169663, 190925, 221948, 223431, 223787, 224138, 264543, 67547, 8253, 8454, 10314, 62862, 91113, 124874, 134483, 141491, 147965, 167812, 168954, 189835, 193499, 203240, 210587, 212923, 236058, 264031, 270801, 275970, 169663, 43910, 56391, 66574, 173415, 186762, 220688, 271705, 6543, 6575, 7283, 8245, 20462, 21014, 22625, 35859, 67547, 69971, 75591, 105937, 105979, 110912, 111174, 115003, 121170, 127359, 139359, 142524, 154345, 162052, 168816, 169663, 171818, 201042, 204864, 206944, 212923, 213126, 218121, 231210, 235935, 238120, 242106, 251394, 268110, 270605, 275970, 3363, 17003, 21014, 23768, 28177, 60244, 89602, 90616, 114414, 127233, 142524, 213126, 215988, 229741, 234359, 246507, 29526, 41364, 68256, 69378, 70415, 85757, 121170, 125411, 125736, 172512, 203240, 239584, 240403, 240700, 248477, 266056, 269738, 46443, 55892, 56554, 84024, 95359, 114581, 125736, 168954, 178199, 178920, 206567, 234359, 248477, 7346, 16106, 40943, 46443, 55492, 56554, 73394, 75591, 81216, 84024, 105979, 135351, 150979, 168954, 201674, 221445, 227702, 234359, 237748, 246507, 250184, 274808, 181687, 11224, 101305, 125519, 184424, 246311, 264996, 46398, 110934, 135360, 56447, 85757, 85993, 93047, 95359, 110912, 170513, 211344, 221445, 224764, 235392, 242083, 274308, 36715, 133747, 171295, 184279, 204864, 69684, 76499, 114988, 135609, 240370, 42093, 69078, 101305, 122429, 123460, 126604, 164675, 8681, 55490, 66574, 101851, 173415, 184299, 200643, 220688, 225595, 238120, 240144, 62862, 68185, 78783, 6251, 55438, 101851, 142623, 241548, 81977, 23768, 178667, 93629, 75819, 25601, 197659, 31556, 16634, 94347, 242106, 251843, 61798, 255092, 170634, 174304, 189835, 136071, 174304, 24933, 88122, 197659, 48494, 128835, 267635, 36554, 93629, 55548, 61910, 47316, 237271, 107784, 68249, 54898, 67547, 103304, 114444, 201042, 229741, 23511, 175052, 189835, 128085, 197659, 3145, 7915, 128208, 128835, 172091, 212328, 232964, 255092, 260897, 268622, 274549, 36554, 94347, 14422, 113519, 114988, 185176, 189835, 31556, 189835, 233911, 212328, 252848, 101876, 174848, 206534, 223201, 228998, 29259, 100459, 115490, 158295, 248718, 35704, 203240, 189835, 16488, 255092, 60337, 89602, 137589, 167746, 231210, 56391, 127359, 235105, 6251, 13850, 16795, 23768, 31556, 35859, 93047, 104399, 150979, 155495, 179978, 201783, 226965, 76499, 11601, 70931, 104399, 122429, 135149, 167800, 211426, 226965, 230522, 278418, 69078, 130554, 181176, 60244, 6251, 10354, 25981, 36327, 37712, 56959, 60244, 75591, 76499, 87964, 110440, 115572, 162639, 174304, 189835, 203240, 207965, 216683, 240700, 267830, 268110, 278418, 60707, 12538, 104636, 125039, 142623, 240144, 23571, 219683, 69971, 78553, 7915, 55927, 95991, 145641, 152651, 178240, 188273, 204457, 245410, 137688, 264152, 16634, 68249, 78553, 110934, 197659, 197659, 22625, 197659, 133747, 95932, 135609, 246311, 148744, 174848, 264152, 23571, 170513, 254206, 23571, 170513, 254206, 23571, 170513, 254206, 17003, 154992, 16795, 28523, 98440, 132375, 174304, 266226, 8245, 8253, 30487, 66878, 69078, 75149, 154345, 168816, 178667, 251394, 251843, 8734, 39773, 53174, 162639, 220688, 132836, 93629, 220688, 77480, 31315, 61038, 112093, 55490, 220688, 16634, 81597, 110973, 153662, 185233, 236283, 257204, 87141, 132836, 87141, 254206, 1435, 24933, 35859, 93629, 102359, 110973, 140358, 150968, 158295, 185233, 189835, 236283, 55490, 274056, 188171, 193898, 257028, 270820, 55490, 235105, 31315, 153662, 120093, 235105, 48494, 62558, 77480, 86189, 120598, 162639, 250330, 100459, 51252, 56959, 235105, 88733, 93629, 250330, 123883, 88733, 156467, 252071, 46398, 29526, 46398, 148712, 230522, 16795, 202711, 260944, 56959, 132836, 235105, 51883, 153662, 48494, 254206, 222035, 126492, 147847, 227447, 159033, 35859, 100459, 202711, 231351, 123883, 153662, 273113, 16634, 30487, 124874, 135609, 142524, 35704, 46398, 55490, 96357, 142524, 30276, 197687, 20971, 202711, 231351, 21031, 22818, 52853, 88652, 88733, 111578, 245088, 48494, 123883, 273113, 267635, 201058, 235105, 140358, 254899, 88733, 101304, 159732, 235105, 21659, 31315, 31826, 81597, 104211, 202711, 231351, 31315, 189516, 25981, 273113, 174830, 25981, 35859, 55892, 158295, 235105, 87141, 25981, 135609, 140358, 254206, 48494, 145369, 130571, 66680, 94347, 31315, 60621, 81597, 85993, 158295, 143415, 223501, 34588, 55927, 78834, 189115, 48494, 153662, 153718, 85656, 129008, 131837, 166123, 129008, 42323, 181212, 250405, 16795, 31315, 64310, 150498, 152354, 182527, 29526, 46398, 60244, 83637, 113519, 114988, 129716, 149934, 163804, 189835, 193499, 254201, 218552, 273113, 100264, 114368, 123883, 55490, 137688, 142524, 266840, 31315, 48975, 81597, 158295, 276231, 81492, 26621, 35859, 66680, 76710, 146803, 173415, 174216, 182403, 27740, 111578, 201058, 235105, 254465, 88733, 129074, 131837, 176214, 55490, 79977, 87141, 267635, 225595, 8936, 31315, 66680, 80810, 124942, 130571, 173415, 223501, 227447, 250330, 193898, 193898, 114368, 260944, 16795, 129690, 253871, 31315, 143415, 204457, 212923, 278026, 4017, 46398, 69355, 91058, 31315, 86189, 158295, 174216, 182403, 193898, 203799, 237271, 249628, 5582, 35857, 86189, 90391, 182527, 243700, 235105, 69355, 85993, 137211, 31315, 115692, 120598, 226545, 24933, 31315, 84024, 201058, 51992, 114368, 79977, 136205, 140358, 185176, 25981, 31315, 56554, 68156, 126736, 146803, 156150, 173415, 182403, 204457, 207259, 237271, 100459, 247055, 31315, 45418, 26535, 151589, 243759, 153662, 273113, 16795, 28619, 41084, 68984, 78553, 83637, 102359, 111578, 112083, 125519, 159033, 183061, 211919, 219683, 225810, 228998, 271195, 132836, 8936, 31315, 35859, 66680, 98547, 189080, 247852, 114368, 123883, 130474, 16795, 110373, 129465, 143175, 218068, 224764, 250330, 36606, 71712, 126196, 31315, 35859, 48975, 110373, 223501, 4017, 69389, 7346, 31315, 69933, 98904, 106849, 108752, 115692, 140358, 156150, 182403, 223201, 234165, 250330, 260944, 158295, 98547, 24933, 27740, 31315, 87141, 159732, 136071, 255489, 49460, 69378, 114988, 145449, 146803, 206563, 225078, 231827, 69697, 8245, 120908, 146386, 176214, 177374, 273113, 77480, 92810, 164675, 30487, 43910, 78834, 142524, 235282, 19085, 64310, 81848, 98391, 115692, 148744, 183995, 229313, 25601, 185176, 3373, 25981, 31315, 55892, 62272, 92810, 127359, 187256, 100459, 140358, 227520, 6323, 31050, 252865, 31315, 39281, 53220, 80810, 101876, 115692, 126736, 146803, 182403, 187256, 193898, 251843, 16795, 60244, 62542, 126196, 94923, 132836, 150979, 252695, 254, 29526, 30273, 30735, 46398, 69078, 95359, 101851, 110912, 129716, 133571, 136348, 142524, 178920, 190741, 223787, 235105, 278843, 55892, 128085, 255489, 48975, 49109, 145449, 203799, 69697, 182527, 2276, 31315, 98391, 110934, 115692, 9747, 187517, 207499, 24933, 27740, 38544, 76151, 114368, 123883, 140358, 146386, 207349, 227520, 273113, 7346, 27740, 30735, 30898, 35859, 42323, 69389, 90616, 98391, 100846, 136205, 139913, 166123, 174830, 183995, 189973, 195904, 206563, 211351, 236283, 237271, 239626, 240144, 268032, 31315, 55892, 98391, 111578, 126388, 126736, 127359, 163804, 98391, 98391, 158295, 273979, 80810, 98391, 258185, 26535, 26593, 66680, 98391, 98547, 98391, 98547, 98391, 133571, 69697, 98391, 43910, 76151, 98391, 187517, 204864, 235282, 16795, 21014, 35857, 39281, 43910, 44728, 98391, 112559, 129716, 177375, 190925, 223087, 224809, 235282, 255489, 264031, 76151, 98391, 112001, 114368, 123883, 130474, 153662, 273113, 46909, 49154, 59189, 76151, 98391, 123883, 130474, 136071, 153662, 177374, 187517, 207349, 216012, 273113, 24933, 31315, 76151, 79977, 84024, 98391, 139828, 163804, 232106, 235105, 276231, 98391, 143415, 158295, 98391, 235105, 98391, 274308, 27740, 98391, 223501, 235105, 3373, 13273, 30735, 42323, 46398, 49109, 64310, 81848, 90616, 98391, 100846, 158295, 161299, 217056, 223201, 226205, 232131, 235105, 236283, 247055, 252695, 76530, 89602, 94347, 210597, 29259, 82831, 93426, 98391, 122801, 127233, 153054, 157811, 187256, 223787, 224349, 251843, 266229, 25981, 98391, 114368, 123883, 130474, 150968, 153718, 204813, 216012, 273113, 6543, 98391, 135351, 207499, 252695, 48975, 56959, 98391, 207499, 232131, 235105, 36749, 44728, 90616, 98391, 158295, 171638, 210587, 241980, 25981, 76151, 98391, 114368, 123883, 135265, 153662, 204813, 216012, 227836, 234359, 247055, 35704, 98391, 104362, 225595, 98391, 235105, 16916, 56554, 61798, 98391, 156214, 193898, 217375, 223501, 235105, 40889, 60244, 62862, 108005, 117873, 124310, 126492, 159033, 169663, 178240, 199772, 50895, 59390, 67840, 76710, 81848, 98391, 101304, 115692, 177072, 193898, 223201, 223501, 224764, 237271, 274308, 61798, 98391, 108352, 13273, 39281, 50895, 76151, 98391, 114368, 153662, 234359, 130554, 130554, 16634, 24194, 32773, 35445, 35857, 40330, 41084, 55187, 56856, 63394, 66574, 78834, 80683, 88122, 95359, 96357, 101851, 111947, 126492, 133747, 135149, 148744, 166123, 174304, 178667, 187145, 187624, 206074, 207246, 211344, 218608, 219546, 225763, 228998, 230013, 230522, 231210, 240567, 257700, 259118, 265313, 277427, 7346, 19664, 88937, 93426, 127359, 204864, 224430, 236058, 7346, 2276, 55548, 31826, 35859, 48025, 158295, 140358, 254206, 55490, 78553, 102967, 249862, 254206, 271176, 78553, 78553, 232131, 185147, 232964, 29259, 212142, 232964, 160681, 160681, 51883, 107784, 113519, 204457, 16795, 14422, 115435, 140223, 159506, 163202, 232964, 165319, 35859, 136139, 153662, 158295, 185233, 227705, 232964, 270838, 163430, 30985, 66574, 70666, 78448, 95991, 127233, 183187, 198012, 199041, 218121, 234828, 248718, 249628, 254206, 255489, 202711, 95359, 236058, 240267, 202711, 31826, 46398, 48025, 85656, 158295, 182459, 253821, 261829, 21618, 60583, 66878, 93629, 96357, 110214, 114414, 133747, 147224, 181687, 232131, 245645, 276680, 93179, 35836, 60050, 72990, 114444, 162738, 209756, 216466, 232106, 22365, 31393, 93047, 99955, 127359, 128835, 149069, 16795, 31826, 231351, 138995, 147224, 31826, 35836, 61854, 101620, 112001, 158433, 216683, 226006, 13552, 28634, 31826, 54453, 55490, 158295, 162052, 235392, 244627, 30898, 45557, 13552, 31826, 35836, 41084, 73394, 185722, 240035, 48025, 141010, 213126, 226006, 232131, 240035, 79977, 125692, 126492, 135149, 150896, 158606, 164728, 173415, 183187, 193529, 197659, 202462, 207259, 227705, 232945, 254206, 259629, 267033, 271558, 13552, 31826, 41084, 106849, 114444, 160401, 202711, 212628, 214786, 123094, 229011, 245645, 16795, 162738, 31826, 45418, 55490, 60050, 73394, 86145, 97721, 104399, 106849, 194676, 221870, 231351, 20180, 66574, 94787, 109779, 111944, 160558, 184299, 184532, 209373, 248464, 254206, 16795, 28634, 31315, 52584, 87141, 107784, 126388, 201058, 273979, 13552, 16795, 31826, 35859, 41084, 48025, 56554, 100459, 102647, 123981, 124259, 135045, 142121, 158295, 177432, 190925, 194676, 216683, 227705, 234828, 237271, 253871, 270820, 87141, 63938, 66574, 87141, 88122, 114444, 123460, 127233, 154844, 164728, 177040, 177432, 183187, 190923, 232945, 234828, 235105, 248718, 259629, 265313, 123981, 21031, 171968, 224764, 228579, 231351, 53241, 110214, 182459, 4938, 9856, 13552, 16795, 25981, 31826, 48025, 68185, 101620, 107784, 135045, 152099, 158295, 171968, 184299, 185722, 208671, 216683, 246000, 135149, 227705, 66574, 68555, 70666, 78448, 79977, 88122, 110373, 154844, 183187, 202462, 232945, 235105, 248718, 265313, 274056, 277427, 16996, 18082, 40943, 45557, 51450, 142524, 232131, 235282, 264082, 26535, 7915, 16488, 22074, 60244, 114544, 127826, 127914, 141710, 147224, 153513, 153662, 154730, 201677, 215988, 223087, 223154, 234828, 265115, 12538, 31826, 35836, 46398, 48025, 60050, 70666, 97721, 114444, 196738, 207259, 213126, 244627, 264082, 38023, 241666, 2276, 9856, 16795, 77480, 78448, 80810, 197659, 203799, 209373, 218608, 227705, 228579, 270820, 31826, 158295, 216683, 229632, 261829, 61028, 135045, 177432, 227705, 271558, 274061, 25981, 111578, 136252, 144478, 227705, 235105, 274549, 19711, 31826, 41084, 48025, 55490, 61854, 75485, 107244, 122506, 123981, 135045, 156300, 160401, 193898, 248850, 253821, 261829, 14698, 62558, 81597, 85993, 123981, 158295, 163804, 189558, 207494, 210959, 214786, 227705, 235105, 258534, 261829, 53220, 124487, 102359, 114544, 115692, 138995, 190923, 227705, 232945, 248718, 254206, 259629, 274308, 13552, 31826, 48025, 55490, 56391, 104665, 135045, 156300, 158295, 177432, 178667, 198012, 202711, 227705, 232131, 238699, 255489, 261829, 14521, 93179, 111947, 172030, 35859, 66680, 81597, 85993, 104211, 158295, 161348, 187517, 189558, 207494, 222941, 227705, 258534, 271558, 123981, 214786, 240567, 13552, 35836, 41084, 114444, 156300, 168642, 223156, 234828, 240035, 244627, 13552, 31826, 35836, 41084, 48025, 77480, 77809, 87141, 104665, 106849, 156300, 178667, 185722, 194676, 202711, 227705, 231351, 240035, 249628, 251613, 253821, 76483, 112083, 8362, 10819, 21484, 27472, 35859, 95359, 109899, 115003, 127200, 127826, 141710, 149934, 2977, 35704, 100906, 115435, 177432, 210959, 241666, 270605, 31826, 42914, 55490, 135045, 158295, 162052, 168642, 177432, 184299, 240035, 31315, 78448, 123744, 123981, 124363, 141710, 228579, 234828, 28634, 35859, 61028, 66680, 81597, 85993, 95359, 125692, 130571, 158295, 189558, 222941, 227705, 235105, 258534, 13552, 31826, 35836, 48025, 82497, 156214, 158295, 158433, 190844, 201058, 203799, 227705, 240035, 248850, 76818, 83637, 88122, 143175, 164728, 207494, 232131, 232945, 249628, 270605, 274549, 277427, 39281, 55187, 75819, 107784, 137211, 138995, 143175, 158433, 159506, 197659, 202462, 227705, 232945, 265313, 274056, 30985, 259629, 35859, 79740, 132173, 136205, 144318, 163804, 189558, 232131, 235105, 250709, 267033, 4938, 13552, 19085, 30972, 31826, 48025, 70666, 73588, 95359, 104665, 114444, 123095, 156300, 158295, 177432, 227705, 234828, 252865, 270820, 278418, 95574, 135149, 136348, 156467, 241666, 276050, 31315, 78448, 93179, 107784, 133571, 196738, 221870, 245410, 31826, 35836, 40889, 41084, 48025, 55490, 104665, 123095, 124487, 156300, 158295, 170513, 207782, 242646, 6575, 8245, 16795, 44728, 72523, 78834, 135149, 221445, 223087, 226965, 232131, 235282, 269566, 271448, 87141, 98904, 35859, 79740, 81597, 85993, 95359, 104211, 127359, 161348, 189558, 234828, 244627, 258534, 69211, 73588, 87141, 206563, 222035, 31826, 41781, 61854, 73588, 78448, 97721, 126726, 128208, 158295, 158433, 177432, 193529, 232106, 278418, 111947, 123981, 158295, 190708, 231351, 234828, 76102, 81597, 84024, 85993, 158295, 189558, 200674, 227705, 241666, 258185, 258534, 31826, 41084, 106849, 156214, 156300, 168642, 231351, 234828, 241666, 261829, 277639, 95574, 240144, 241666, 22074, 48494, 62558, 66574, 69211, 73651, 79977, 124487, 124942, 158433, 184299, 189516, 209373, 232945, 235105, 248718, 254206, 265313, 271558, 16795, 107244, 189558, 235105, 265313, 28634, 35836, 47316, 55892, 68185, 75089, 85656, 97721, 126736, 158433, 225595, 227705, 241666, 20060, 53220, 55490, 94787, 223431, 225763, 234828, 245410, 35859, 81597, 85993, 104211, 104362, 120093, 127359, 189558, 227705, 35918, 49460, 93047, 101876, 105214, 207782, 232131, 19085, 102647, 164728, 188022, 249628, 250709, 277639, 31315, 31826, 51252, 55490, 101620, 106849, 126388, 144478, 158433, 207259, 225595, 227705, 61798, 88733, 95574, 135149, 211288, 241666, 95991, 110373, 123883, 189558, 196738, 197659, 202462, 209373, 232945, 248718, 250709, 7346, 8936, 21014, 28634, 29259, 29855, 48025, 57398, 78783, 81597, 98686, 106849, 115435, 120396, 140358, 162639, 193778, 193898, 207259, 222941, 223154, 234828, 241666, 243360, 247752, 258534, 276231, 42093, 69697, 76151, 91113, 114368, 123883, 138995, 153662, 223190, 227520, 247055, 247752, 82497, 107784, 141493, 158433, 188022, 196738, 201058, 213150, 234828, 69697, 114368, 153662, 156467, 177072, 177090, 177374, 178667, 227520, 269890, 50073, 93179, 102275, 104399, 108285, 123981, 145369, 158295, 163202, 200643, 207494, 231827, 234828, 241666, 258884, 73651, 107784, 188022, 250709, 254201, 5582, 8253, 36606, 40330, 60337, 114414, 186762, 207246, 243360, 255092, 45557, 82407, 91113, 116904, 143163, 173291, 226965, 242106, 261603, 124487, 136205, 163804, 189558, 193898, 235105, 241666, 258185, 69697, 114368, 123883, 156150, 177374, 227520, 247055, 269890, 13082, 13552, 20060, 28634, 31826, 55490, 85993, 135045, 158433, 201674, 216466, 241666, 247852, 7346, 13552, 17859, 29259, 32195, 43619, 49212, 54884, 69933, 81597, 100459, 106225, 106849, 110373, 120396, 140358, 143837, 189516, 189558, 193778, 202462, 203799, 207499, 223154, 229632, 241666, 247752, 258534, 276231, 108285, 224764, 69697, 114368, 123883, 226545, 227520, 247055, 269890, 19085, 69211, 120396, 123981, 126736, 129465, 172030, 199515, 231827, 6563, 38273, 56554, 61028, 114444, 163804, 250709, 261829, 28634, 65584, 227705, 241666, 245410, 87141, 207259, 187256, 240144, 56959, 57398, 68555, 82497, 104211, 132173, 136205, 189558, 223431, 235105, 258534, 30276, 69697, 104636, 114368, 123883, 223190, 226545, 227520, 247055, 247752, 269890, 31826, 55490, 78448, 87141, 102647, 185722, 204864, 231351, 241666, 273979, 21014, 30972, 32195, 96320, 98904, 100459, 120396, 143837, 190844, 190925, 193778, 222941, 227705, 235392, 249223, 250936, 252695, 21356, 76942, 103304, 143175, 176214, 212628, 232945, 235105, 265313, 155014, 23872, 69697, 114368, 123883, 177374, 227520, 247055, 269890, 40415, 44728, 68943, 95359, 98686, 101209, 104665, 113904, 136348, 158295, 161974, 187517, 189558, 238889, 250330, 257028, 264947, 266283, 276231, 277639, 3373, 28634, 56959, 57398, 104399, 231827, 234828, 241666, 143415, 68555, 87964, 102647, 107784, 158433, 214786, 219321, 250709, 64310, 196160, 253821, 16795, 21014, 22625, 35859, 43910, 61427, 73923, 74286, 75591, 91103, 94347, 114544, 120598, 125692, 189973, 196047, 196466, 201017, 234359, 237990, 240568, 270605, 102647, 107784, 184299, 197687, 202462, 214786, 250709, 133747, 172742, 6323, 55607, 73394, 84024, 123981, 136205, 158295, 189558, 226616, 232131, 245650, 243, 16916, 19711, 21014, 30972, 39345, 43619, 73588, 78783, 81597, 81848, 104211, 106849, 123981, 124487, 140358, 178240, 193778, 202462, 227705, 244627, 247752, 258534, 264082, 276231, 148712, 104636, 238889, 37400, 89602, 210959, 16634, 255489, 28634, 70666, 107784, 137211, 144478, 164728, 69211, 107784, 110373, 158433, 164728, 202462, 250709, 16795, 54884, 65584, 104399, 123744, 123981, 126736, 141010, 193529, 201674, 227447, 19664, 21014, 22625, 26544, 43619, 43910, 53241, 60050, 61427, 66680, 72523, 92979, 95359, 105979, 108950, 114544, 116904, 162639, 192710, 224430, 226965, 234359, 235282, 264543, 264996, 6575, 115435, 204864, 240567, 69697, 114368, 153662, 177374, 223190, 227520, 247447, 269890, 15819, 68555, 107784, 120396, 61028, 66680, 81597, 104211, 110912, 162639, 163804, 189558, 190925, 227705, 237990, 241980, 258185, 258534, 95359, 105979, 155014, 184532, 229011, 10447, 16795, 61427, 104636, 105979, 19664, 31315, 43619, 49154, 99955, 114414, 148898, 218121, 229011, 232131, 11224, 13552, 17859, 21659, 26517, 31315, 57398, 72523, 78448, 78783, 81597, 106849, 133284, 135149, 141902, 143837, 162738, 193778, 204864, 245410, 247752, 261829, 264082, 274308, 120396, 153662, 190925, 191523, 19085, 68555, 81848, 87141, 156300, 164675, 164728, 207259, 232945, 235105, 254201, 254206, 50073, 109491, 214786, 232131, 250709, 69697, 114368, 153718, 156467, 177374, 223190, 227520, 247447, 247752, 269890, 68555, 104665, 202462, 250709, 2276, 13552, 28634, 58612, 78783, 81848, 101876, 111190, 131046, 132375, 147847, 165319, 167349, 185233, 250330, 258534, 271558, 16795, 77480, 93363, 104399, 112001, 241666, 245410, 271558, 48494, 70666, 232945, 254206, 5582, 69697, 114368, 123883, 153662, 156467, 158295, 227520, 247447, 52584, 202462, 250709, 28634, 35859, 66680, 104211, 114444, 115490, 120598, 144555, 161348, 206563, 227447, 227705, 258185, 267635, 6575, 21014, 108799, 114544, 240568, 3371, 17859, 30972, 57398, 66680, 80810, 110373, 114414, 124942, 143211, 156300, 182527, 187624, 189558, 193778, 247752, 257028, 276050, 5582, 59189, 69697, 114368, 123883, 153662, 156467, 177090, 227520, 236172, 269890, 68555, 105979, 148744, 184513, 206534, 227447, 53220, 70666, 250709, 254899, 38273, 40415, 67840, 124487, 226205, 232131, 7346, 19085, 79740, 107784, 149084, 175052, 222035, 229011, 69211, 120396, 124487, 143175, 250709, 16795, 28634, 69355, 81216, 115692, 120598, 171638, 207259, 2766, 58594, 89602, 115490, 135149, 214786, 278418, 5582, 30276, 59189, 114368, 123883, 140358, 153662, 170947, 218608, 225763, 227447, 227520, 236172, 247447, 256407, 269321, 269890, 28634, 38273, 84024, 110934, 120396, 128085, 166123, 169699, 214786, 235105, 237990, 240035, 252865, 258534, 267635, 3373, 7915, 30533, 73651, 97754, 126196, 130571, 156150, 156269, 173291, 232131, 254377, 28177, 76482, 76942, 144038, 154730, 237271, 243328, 256843, 270352, 882, 20462, 22625, 27472, 69078, 115003, 116904, 163488, 196077, 197364, 226965, 236058, 237748, 16795, 19711, 35859, 38273, 76102, 108799, 129465, 159506, 207494, 214786, 225763, 250709, 255489, 53220, 87141, 135149, 188022, 264082, 28634, 38273, 55607, 59390, 64310, 68156, 76942, 94787, 126736, 140358, 162639, 188022, 189080, 193778, 247752, 258534, 276231, 31315, 98391, 216012, 69211, 81848, 87141, 88122, 183187, 188022, 232945, 248718, 271558, 16795, 20060, 112001, 27472, 61910, 65584, 69211, 85993, 101620, 104399, 112001, 156300, 190708, 223431, 241980, 252865, 1733, 210485, 266056, 3167, 5582, 50895, 69697, 98391, 114368, 123883, 153662, 187256, 190925, 227447, 227520, 28634, 53220, 87141, 164675, 188022, 214786, 250709, 254899, 35445, 65584, 210485, 224349, 234828, 244627, 266056, 16795, 20060, 38273, 46909, 66680, 76102, 104211, 124487, 128085, 158295, 193898, 197659, 214786, 223431, 225686, 232131, 245650, 255489, 256844, 258185, 258534, 267635, 2276, 3145, 20060, 28634, 35859, 38273, 51742, 53220, 56959, 82497, 83287, 92810, 98904, 101876, 144318, 176214, 188022, 232131, 250330, 256407, 257028, 258534, 94787, 132375, 156269, 204457, 258185, 5582, 50895, 69697, 79740, 91058, 92810, 98391, 114368, 140358, 153662, 153718, 156467, 177090, 223190, 227520, 227705, 252695, 254144, 638, 22074, 36715, 224249, 249223, 19085, 25981, 30985, 69211, 87141, 91113, 207259, 265313, 236058, 271705, 8067, 98391, 227702, 6575, 21011, 76499, 136139, 173415, 212923, 268110, 271448, 22074, 87141, 124487, 222941, 225078, 229011, 243328, 261829, 247447, 8067, 30276, 98391, 114368, 123883, 153662, 156467, 158295, 177090, 227520, 235392, 245410, 247447, 258185, 278418, 6563, 31315, 98391, 150968, 216012, 187256, 56959, 88733, 97754, 156269, 185634, 188513, 207499, 232131, 269799, 274308, 104399, 120093, 202711, 223156, 15819, 30276, 47316, 50895, 60621, 114368, 123883, 153662, 153718, 156269, 177090, 227520, 247447, 258185, 38273, 50895, 66680, 104211, 124487, 158295, 222035, 223431, 235105, 38544, 115572, 8067, 277427, 53220, 54335, 55607, 95991, 185176, 188022, 235105, 15819, 98391, 104144, 114368, 123883, 153662, 156467, 227520, 278582, 35859, 41781, 206074, 247852, 270838, 6543, 25409, 36606, 40415, 54335, 56307, 60621, 78783, 88652, 89602, 104636, 165319, 175052, 190925, 267635, 48025, 55492, 69971, 91113, 104211, 135149, 165319, 189558, 223566, 229313, 249989, 254465, 30533, 108352, 110934, 206944, 223154, 165319, 196738, 247241, 67840, 255489, 61910, 65584, 181176, 6251, 9908, 17282, 69697, 78783, 96440, 98391, 123790, 254377, 65584, 68555, 189516, 130554, 153662, 183101, 256167, 31556, 48494, 130554, 150979, 169663, 182993, 183101, 256167, 254, 2033, 22625, 23872, 29526, 30735, 37208, 39616, 55492, 68760, 69389, 75591, 75819, 78553, 83637, 85993, 88122, 93047, 100906, 101851, 102647, 102702, 104399, 110912, 110934, 114368, 115572, 116904, 118533, 123257, 123608, 124876, 130554, 136491, 143964, 162639, 168047, 170634, 175003, 179734, 179978, 181176, 185176, 193676, 201783, 203075, 208141, 211426, 215986, 223501, 226965, 227397, 229741, 232131, 232964, 239423, 240700, 246247, 248477, 271176, 276165, 254, 8245, 10560, 12824, 17667, 21014, 28523, 30735, 31393, 47316, 48579, 56447, 57398, 67198, 68256, 72990, 76483, 81492, 88733, 104636, 110973, 114581, 126736, 126814, 129074, 137589, 145369, 147141, 150896, 151589, 153662, 153718, 156150, 156269, 157273, 159506, 165308, 167800, 169682, 170513, 172512, 173415, 177375, 183061, 184532, 205735, 208815, 216466, 220688, 224138, 227836, 228021, 238889, 242083, 249628, 249958, 260067, 263163, 265313, 267830, 274308, 201684, 254, 2033, 6251, 9613, 23872, 29526, 30735, 55492, 56959, 60707, 68256, 69389, 74056, 78553, 85993, 88122, 100906, 101851, 102647, 102702, 110934, 115572, 116904, 124876, 136491, 138602, 140358, 162639, 167800, 168047, 170513, 170634, 175003, 177374, 179734, 179978, 181176, 185176, 187624, 201783, 203075, 207494, 208141, 211426, 215986, 226965, 227397, 229741, 232131, 232964, 239423, 240144, 240700, 242106, 248477, 249958, 263163, 269566, 271176, 271705, 276165, 254, 9856, 9908, 10560, 12824, 21576, 31393, 55178, 69211, 69697, 71853, 72990, 88733, 93047, 104399, 104636, 115490, 123744, 129074, 130554, 135149, 136252, 138995, 147141, 153662, 169682, 177375, 183061, 184532, 193676, 194676, 196738, 205735, 208406, 208815, 220688, 228021, 238889, 242083, 249862, 254899, 261603, 265313, 267830, 274634, 254, 2033, 6251, 13273, 23872, 25409, 29526, 30735, 55492, 60707, 68760, 69389, 69697, 74056, 75819, 78553, 85993, 87555, 88122, 88733, 93047, 101851, 102702, 110912, 110934, 116904, 118533, 123257, 124876, 136491, 153662, 162639, 168047, 170513, 170634, 175003, 177374, 177375, 179978, 184532, 185176, 193499, 195904, 201783, 203075, 205735, 208141, 208406, 223190, 226965, 232964, 240144, 240700, 242106, 248477, 248718, 249958, 271176, 276165, 6563, 9908, 10560, 21576, 51526, 55178, 68256, 88733, 100906, 104636, 114581, 115572, 126388, 137589, 143837, 153662, 153718, 159506, 165308, 172512, 175003, 179734, 183061, 193676, 196738, 198930, 208815, 220688, 227397, 229741, 238889, 242083, 249894, 258534, 260897, 267830, 271448, 29526, 179978, 65663, 2033, 6251, 6563, 9908, 10560, 13082, 21576, 22625, 25409, 30735, 32122, 40415, 43806, 54335, 55492, 69156, 69389, 69697, 74056, 75819, 78553, 78834, 85993, 88733, 94787, 95359, 98904, 100906, 101209, 101851, 102647, 104362, 115572, 116904, 123257, 127233, 135149, 136491, 138602, 143163, 144478, 145449, 146803, 147141, 149084, 153054, 153662, 156150, 159506, 168954, 169682, 170634, 174596, 175003, 179734, 179978, 183061, 185176, 185233, 190708, 195904, 201783, 208141, 208406, 208815, 215986, 220688, 223431, 225078, 226965, 227397, 229741, 232964, 235105, 240144, 240403, 242083, 242106, 247447, 248477, 249894, 260897, 267830, 271176, 271448, 276165, 246507, 7346, 27740, 40943, 46398, 88733, 125692, 126395, 143163, 143837, 156269, 177374, 183061, 196738, 214786, 233911, 257204, 263163, 271558, 275970, 138995, 20462, 28523, 30735, 56447, 129008, 168954, 239584, 249958, 261829, 271448, 98440, 196738, 207782, 257204, 275970, 127359, 210485, 220278, 251394, 13082, 78834, 95923, 100846, 128208, 138995, 142524, 146113, 150979, 167800, 203075, 218068, 226879, 246247, 259930, 5582, 84024, 106007, 140223, 153662, 181212, 31315, 31826, 39441, 49109, 78846, 81597, 107784, 244627, 9856, 36256, 46398, 93629, 100846, 100906, 129716, 152645, 201042, 45418, 68555, 69232, 104636, 109491, 114368, 170724, 216683, 244627, 16795, 61854, 69355, 231351, 236757, 253871, 254465, 211288, 25981, 51252, 104636, 114368, 160401, 216683, 253821, 256844, 13552, 38544, 44845, 104636, 114368, 216683, 246513, 112001, 8245, 16996, 19842, 112001, 114544, 162052, 207148, 212142, 226616, 243294, 245645, 251843, 255546, 278188, 24933, 91113, 95932, 124078, 234828, 16795, 51252, 70415, 104636, 109899, 114368, 210717, 13552, 25981, 35859, 68555, 104636, 114368, 156467, 273979, 8253, 17003, 48046, 59727, 89602, 95010, 193499, 2276, 16795, 45418, 104636, 114368, 214786, 46398, 56856, 80642, 173415, 129074, 156269, 107784, 2276, 114988, 159506, 189835, 196077, 16795, 61038, 104636, 114368, 163430, 216683, 254465, 3371, 14422, 108155, 127826, 130571, 224430, 230522, 243294, 61038, 63956, 25981, 61038, 68555, 100264, 104636, 213150, 254465, 13552, 16795, 62272, 70415, 104636, 114368, 160401, 170724, 1733, 13552, 45418, 68555, 70415, 104636, 114368, 187256, 216683, 13552, 45418, 104636, 114368, 170724, 249628, 253871, 13552, 45418, 61038, 68555, 70415, 104636, 114368, 143837, 163307, 13552, 61038, 104636, 109491, 114368, 246513, 10819, 20180, 48494, 55490, 123094, 184532, 187145, 202277, 227705, 93179, 9747, 13552, 62272, 68555, 104636, 107784, 109491, 114368, 218552, 238065, 250936, 256844, 70415, 104636, 114368, 156467, 163307, 170724, 237271, 238065, 14422, 20060, 102967, 114988, 174830, 197659, 209817, 224764, 228998, 257700, 274634, 37400, 55490, 60244, 75591, 76499, 80683, 133571, 137688, 144038, 160819, 165319, 177432, 203075, 206534, 219546, 219683, 235105, 242083, 263163, 264152, 275970, 29259, 31826, 35859, 104636, 107021, 61038, 100264, 104636, 109491, 114368, 170724, 179734, 210717, 216683, 237271, 246513, 96357, 158606, 159506, 189835, 209817, 274634, 278418, 13552, 68555, 104636, 114368, 156467, 170724, 277427, 16795, 61038, 68555, 104636, 114368, 170724, 179734, 264082, 16795, 62272, 104636, 114368, 147847, 246513, 254465, 16795, 153662, 254465, 16795, 77480, 153662, 179978, 185233, 13552, 16795, 25981, 44845, 62272, 68555, 100264, 104636, 114368, 216683, 23872, 31826, 43806, 104636, 107784, 112559, 190925, 200422, 238120, 242646, 249628, 13552, 45418, 62272, 68555, 104636, 108005, 114368, 163307, 216683, 30533, 48494, 52853, 70415, 123981, 133571, 235105, 236283, 245645, 251613, 258185, 236283, 25981, 13552, 51883, 62272, 64310, 104636, 156150, 2766, 23768, 51883, 61427, 114581, 160681, 205980, 223431, 104144, 187256, 226205, 232131, 258534, 8681, 110934, 129716, 152645, 162311, 169682, 36715, 55490, 101851, 153662, 156150, 171602, 203900, 211919, 241548, 235105, 13552, 25981, 61038, 104636, 114368, 216683, 223190, 84024, 96440, 154844, 203240, 212142, 240035, 6251, 12824, 20201, 28634, 38023, 53174, 62891, 65584, 69211, 73923, 75819, 80810, 85426, 85993, 93629, 95250, 106007, 111947, 115435, 126388, 126492, 135045, 135265, 144555, 155014, 196738, 200422, 204864, 217986, 220688, 227705, 232945, 234828, 249628, 254206, 261829, 265313, 266226, 266283, 266865, 271558, 271705, 276165, 8245, 158433, 25981, 61038, 69232, 104636, 114368, 120093, 172030, 254465, 271448, 278418, 8245, 32627, 108155, 112001, 114544, 127826, 144318, 160681, 192710, 230522, 53220, 30735, 51992, 104144, 156269, 158295, 191523, 13552, 24921, 25981, 104636, 109491, 114368, 160401, 203764, 254465, 39646, 60050, 125287, 172742, 240035, 156150, 30735, 57398, 83287, 102275, 133571, 193898, 240267, 258534, 2766, 6323, 14521, 16795, 21014, 36606, 53418, 57398, 68984, 72523, 82831, 100906, 112001, 114581, 128835, 143253, 155147, 193676, 206563, 243294, 243360, 245645, 254465, 260897, 261603, 267033, 269835, 278843, 3145, 8245, 8253, 16488, 20060, 21659, 27472, 28634, 29259, 30972, 30994, 35859, 39345, 48494, 49842, 51252, 56856, 59038, 68249, 72523, 86189, 87141, 88733, 91103, 93179, 95932, 96320, 102647, 102967, 104636, 104665, 105979, 107244, 107784, 108285, 114414, 123544, 125519, 126492, 126736, 127826, 128060, 134797, 135045, 137589, 140358, 141493, 147847, 148744, 153718, 156467, 158295, 158433, 159506, 162738, 170947, 174596, 187145, 190923, 196047, 197364, 201783, 202462, 207259, 210485, 218568, 223156, 226545, 227705, 234828, 235392, 240567, 242083, 243294, 243942, 245088, 249628, 252865, 255489, 269799, 6073, 6563, 12824, 13552, 20462, 23872, 28634, 36256, 39646, 56307, 59038, 61028, 62881, 69232, 70666, 75081, 87141, 95991, 100459, 101620, 101851, 102647, 104429, 104636, 104665, 107244, 110934, 112001, 112093, 114368, 120093, 123460, 123544, 126492, 126736, 135045, 135149, 136491, 140358, 150979, 153662, 155014, 162639, 162738, 172512, 177072, 178240, 182459, 196047, 197659, 210717, 218552, 218568, 221445, 222035, 224349, 226545, 228764, 229011, 237271, 238120, 240035, 242083, 243294, 251140, 252848, 261829, 268032, 274549, 277639, 9747, 51883, 61038, 62272, 104636, 145449, 223190, 6543, 7915, 30276, 31556, 32773, 37712, 52853, 53174, 55075, 57398, 68555, 69971, 73330, 75149, 82407, 86189, 123883, 167746, 169233, 223154, 226545, 236757, 239584, 242106, 247447, 251843, 261829, 269890, 276231, 137589, 146113, 218241, 264657, 63394, 138441, 157273, 162738, 207825, 226879, 23871, 91103, 108155, 235935, 245645, 254144, 269566, 64310, 69232, 104636, 146386, 14422, 16996, 55187, 91103, 102967, 112001, 114581, 124487, 127826, 137589, 247241, 153662, 6323, 6563, 11993, 14521, 16634, 16795, 23511, 47316, 48025, 49212, 59038, 70666, 87141, 93363, 95010, 98686, 101876, 102647, 104636, 105979, 109779, 124259, 124942, 125519, 126492, 126736, 128208, 135149, 137589, 153662, 156467, 158433, 159506, 160681, 168954, 170947, 172061, 177072, 182459, 197659, 200674, 209875, 218552, 226545, 229011, 234828, 238889, 240567, 243294, 258534, 259629, 265115, 270820, 271448, 274308, 167800, 35859, 73651, 156269, 170947, 207825, 258534, 264947, 61901, 83754, 6073, 11993, 13552, 16795, 16916, 21659, 22074, 28634, 30985, 31315, 56856, 59038, 62881, 68555, 68943, 93629, 95932, 96320, 102647, 102702, 104429, 104636, 104665, 105979, 124942, 125519, 126492, 135149, 135265, 137589, 140358, 144478, 153662, 153718, 156467, 158295, 162738, 168144, 173481, 177072, 183187, 187762, 204457, 206567, 207259, 207499, 207782, 209373, 211288, 218568, 221445, 226545, 229741, 231351, 232945, 237271, 240035, 240567, 242083, 255489, 258534, 259629, 268032, 277639, 16795, 61038, 104636, 114368, 224249, 238065, 16795, 68555, 104636, 189516, 254465, 132836, 232131, 175052, 192211, 76710, 123981, 172091, 258534, 7915, 8245, 30994, 32773, 37712, 53174, 54898, 68555, 78783, 86189, 91113, 124487, 156150, 179730, 189835, 226545, 235392, 242106, 251843, 256402, 35859, 17282, 67840, 123883, 124487, 184513, 230708, 120396, 15408, 68555, 107784, 116904, 120093, 188273, 190708, 224764, 240267, 250936, 264031, 276231, 189835, 235105, 274634, 23872, 83754, 189835, 234828, 266056, 66680, 158295, 226545, 110912, 121986, 237990, 61038, 62272, 69232, 160735, 259629, 29259, 30985, 158606, 68555, 104636, 147847, 163307, 14698, 30735, 83287, 88733, 142479, 156269, 170947, 179075, 251003, 258534, 16795, 23872, 24921, 40889, 61038, 62272, 68555, 69232, 112559, 123095, 211351, 254465, 264082, 273979, 21014, 30276, 30994, 32773, 37712, 68555, 86189, 136205, 156150, 176214, 185275, 226545, 251843, 256402, 276231, 17859, 30898, 39281, 70415, 75089, 241666, 243360, 268032, 135149, 154345, 173415, 179433, 258534, 2766, 3167, 21484, 23872, 27472, 36606, 46443, 56447, 60244, 87964, 95359, 104636, 136491, 150979, 162052, 187613, 189835, 197687, 230522, 236058, 249894, 269566, 179730, 78834, 153662, 11601, 76499, 103336, 147847, 159033, 179288, 216012, 229741, 243700, 245645, 4938, 11224, 13552, 23511, 28634, 30487, 36606, 39345, 40889, 41084, 48025, 56856, 68555, 71853, 78846, 81848, 87141, 102647, 104636, 106225, 107784, 123544, 125519, 126736, 135149, 137589, 140358, 144478, 144555, 153797, 158433, 159506, 168954, 177072, 178240, 202462, 218568, 224138, 227705, 229011, 235935, 240567, 242083, 271558, 272573, 2276, 30994, 235105, 237271, 7915, 16795, 21014, 21659, 34588, 50073, 95359, 110934, 135360, 150979, 173481, 182993, 205980, 209756, 227884, 243942, 278188, 6575, 52584, 127826, 138543, 139913, 196047, 207148, 216683, 223154, 250184, 259629, 24921, 40889, 43619, 160735, 163307, 165308, 179733, 196077, 208671, 220278, 225810, 254144, 2276, 7346, 13552, 18082, 22074, 23511, 28634, 36135, 39345, 53418, 56856, 65584, 68555, 70666, 81368, 91113, 102647, 105979, 126492, 141493, 150979, 158433, 161348, 162738, 170947, 173481, 174726, 178667, 201058, 202462, 203799, 209875, 214786, 216670, 218121, 220240, 232945, 238889, 240756, 242083, 256407, 258884, 264082, 265115, 268622, 272573, 40889, 61038, 104636, 213150, 2766, 49460, 110973, 112001, 114581, 124259, 128835, 130571, 137589, 139828, 160681, 192710, 207965, 239584, 243294, 245645, 251843, 254144, 254465, 259260, 276680, 13552, 16795, 35857, 39345, 53418, 55892, 56856, 70666, 102647, 104636, 104665, 105979, 106007, 107784, 108285, 109899, 110373, 114988, 123460, 126736, 127826, 140358, 150979, 158295, 169779, 207499, 213150, 218608, 238889, 240567, 242083, 258884, 6251, 14521, 16795, 16916, 30972, 36327, 37712, 39773, 47316, 52853, 60621, 69232, 78783, 81848, 91103, 96357, 107784, 113904, 135045, 135149, 168954, 192710, 211351, 236757, 238065, 240567, 242646, 243360, 244627, 246655, 251422, 252848, 274056, 30994, 102647, 120396, 124487, 189516, 196047, 235105, 13552, 61038, 104636, 143175, 246513, 123981, 126736, 183101, 39616, 148744, 46909, 55927, 88738, 102967, 189115, 206074, 221705, 236757, 254201, 48975, 86189, 110440, 112001, 113519, 127826, 149661, 162639, 173481, 175052, 209756, 235392, 246655, 260944, 16795, 61038, 179734, 193676, 56959, 70666, 81771, 95359, 222296, 251394, 260897, 61038, 91103, 162639, 192710, 209756, 225810, 240144, 245645, 251495, 269566, 278188, 104636, 145449, 185275, 187145, 32773, 37712, 52853, 53174, 55492, 68555, 78783, 242106, 271558, 6563, 43619, 110440, 112001, 114544, 127826, 163307, 208671, 245645, 247241, 264947, 265115, 267033, 8362, 20060, 76942, 96357, 111174, 120396, 124487, 128045, 128085, 135045, 135149, 230522, 234828, 240567, 6251, 12824, 16795, 20971, 28634, 32195, 52584, 62891, 65584, 71712, 123790, 126492, 135265, 136252, 138578, 144555, 154070, 156214, 162738, 189558, 189835, 190708, 206563, 209756, 219683, 224764, 225763, 227705, 232945, 260067, 265313, 266865, 7346, 48025, 156269, 183995, 252347, 25409, 110934, 104144, 189516, 193898, 230708, 257204, 258534, 25981, 232131, 247752, 252695, 8245, 9856, 11224, 13552, 20060, 39616, 40889, 46909, 54884, 56856, 68555, 78448, 85993, 88937, 101620, 104636, 123981, 125519, 127826, 128208, 135149, 140358, 141493, 144531, 150498, 156467, 185634, 214786, 217375, 227705, 232945, 238889, 242083, 249628, 258185, 265115, 277427, 160735, 177375, 13552, 40889, 68555, 104636, 181687, 13552, 16795, 23872, 69232, 104636, 124487, 207259, 269719, 104636, 112026, 134797, 160735, 179734, 53220, 104636, 115692, 120598, 160735, 104636, 160735, 179734, 264031, 44845, 46909, 104636, 250936, 256844, 18082, 204813, 8067, 79266, 212965, 104636, 203799, 224809, 31040, 83754, 114544, 218608, 252848, 264031, 120396, 149934, 154529, 164675, 243759, 24921, 48975, 102702, 104636, 160735, 269719, 7346, 21659, 24921, 30487, 38273, 40889, 43619, 56307, 60583, 68555, 70666, 80810, 88937, 97721, 102647, 104636, 107244, 112001, 125519, 137589, 150498, 159506, 169699, 173481, 174726, 193529, 196047, 201684, 209373, 227705, 228579, 229011, 232131, 232945, 236172, 238889, 241666, 251843, 264082, 268622, 278188, 25981, 36606, 50073, 147847, 225763, 230708, 258534, 24933, 25981, 53220, 56959, 124942, 139828, 158295, 201058, 232131, 252347, 7158, 16795, 27472, 28634, 40889, 91103, 97754, 110973, 114544, 123608, 143415, 150979, 152354, 156150, 181687, 196466, 223501, 227884, 238065, 240568, 258534, 261829, 39646, 83754, 104636, 190708, 82497, 222035, 3371, 6073, 6563, 7915, 16795, 17859, 18082, 21659, 30533, 35857, 50225, 54884, 55607, 60050, 69933, 74758, 75860, 95359, 100846, 104636, 110373, 110912, 112083, 113904, 114368, 114544, 120908, 124487, 129084, 135149, 142715, 145619, 152651, 153797, 156150, 156467, 162639, 167800, 172061, 189973, 193676, 203240, 210485, 215988, 222220, 224249, 226965, 231210, 231827, 238065, 244627, 249628, 251422, 254465, 256407, 260897, 266283, 272573, 278633, 98391, 146113, 258185, 7346, 11224, 13552, 23511, 26240, 30533, 31315, 54884, 70666, 75819, 79740, 101209, 105979, 107784, 112093, 120396, 123430, 124487, 125519, 134797, 153513, 154730, 159506, 160735, 193529, 193898, 198046, 207825, 210717, 214786, 216670, 216683, 218121, 229011, 232131, 232945, 236172, 240567, 241666, 241980, 244627, 258534, 258884, 273979, 35859, 258534, 21014, 138543, 48046, 125287, 224764, 110440, 234828, 78783, 125287, 182527, 882, 14422, 20060, 22074, 29209, 76942, 78448, 97754, 134797, 141493, 177375, 207259, 235935, 27472, 75089, 136205, 264996, 21014, 24921, 31393, 48025, 49842, 58612, 60244, 67547, 78783, 91103, 108005, 114581, 127359, 135149, 138602, 152651, 153797, 190459, 223431, 240144, 243700, 245645, 251843, 260897, 266865, 189835, 217375, 245410, 31040, 45557, 152354, 160401, 66680, 107865, 227702, 255546, 25981, 38273, 102275, 114988, 139828, 193898, 221705, 232945, 256843, 258534, 53220, 60621, 67840, 102275, 111578, 126903, 230708, 232945, 277427, 6323, 35836, 50225, 53220, 58594, 76499, 187762, 209373, 224764, 244627, 24921, 242646, 2276, 7346, 22074, 25981, 43619, 53220, 58612, 68555, 68760, 70666, 75819, 82497, 87141, 93363, 95359, 96320, 97721, 101620, 106225, 111847, 124487, 126492, 135149, 137589, 141491, 168816, 174216, 174726, 181687, 187574, 217375, 221445, 229313, 232945, 236172, 240567, 242083, 242299, 249628, 271195, 25981, 187256, 213150, 264031, 3373, 16795, 23768, 40889, 48025, 95359, 110440, 114444, 140358, 154529, 159858, 160401, 162639, 162738, 163804, 204813, 218568, 224809, 241980, 245650, 253871, 260944, 40889, 46909, 179734, 190925, 25409, 90616, 162639, 163804, 173415, 182527, 210822, 241980, 274308, 277427, 25981, 64310, 179734, 256843, 184424, 254465, 25981, 69232, 109899, 114444, 226545, 234165, 266056, 16795, 71234, 143175, 238065, 263460, 16795, 22818, 102702, 107865, 120908, 179733, 179734, 213150, 238781, 254144, 46909, 104636, 114368, 46909, 68555, 104144, 241548, 120396, 184424, 243, 7283, 8066, 22074, 28634, 30487, 30972, 30994, 38273, 41781, 48025, 54335, 64310, 68555, 69971, 74286, 76168, 82497, 93179, 100264, 101620, 104665, 106225, 112001, 114544, 117873, 122429, 125519, 126196, 135149, 141710, 146113, 156467, 159033, 164728, 165308, 170513, 172512, 178667, 181687, 196047, 206563, 208147, 216683, 223154, 225886, 228681, 240567, 242299, 243294, 244627, 249628, 258534, 271448, 271558, 272573, 67840, 224809, 230013, 232945, 242646, 269890, 134797, 177690, 53392, 65584, 244627, 17282, 81492, 98391, 101209, 104144, 177374, 244627, 27812, 7346, 20060, 39345, 43619, 48494, 52917, 53220, 55607, 62862, 64310, 82497, 92810, 105979, 112001, 158433, 172742, 173481, 174726, 177072, 178199, 196047, 207782, 209373, 232945, 237271, 240567, 258534, 261829, 267635, 270605, 7125, 8067, 13552, 31391, 64436, 75860, 98391, 107021, 127233, 132173, 153662, 156467, 159033, 201447, 207148, 246513, 247447, 65584, 73923, 160819, 179733, 179734, 217375, 229313, 232131, 13552, 28634, 30533, 53220, 54335, 82497, 91103, 91832, 148712, 174726, 223431, 225886, 235105, 240567, 271558, 82497, 150968, 177375, 270820, 207259, 16795, 36715, 76942, 80203, 88733, 197687, 199515, 203240, 212142, 251613, 25131, 165319, 125736, 155495, 189835, 69389, 104636, 216683, 234828, 110934, 230522, 31040, 95359, 114368, 155014, 162311, 165308, 174304, 184532, 196077, 230522, 238781, 243294, 244627, 10819, 156300, 13082, 153662, 32773, 38273, 76499, 83496, 104211, 104636, 109899, 114988, 122429, 135149, 165308, 170513, 204864, 218121, 239584, 240144, 240700, 242299, 246507, 249862, 256843, 269566, 271176, 36606, 56959, 95359, 130554, 165308, 189835, 201684, 201684, 21014, 76499, 107784, 190708, 46443, 102967, 125039, 164926, 228021, 235105, 8454, 164926, 215006, 228021, 164926, 235105, 3145, 8454, 78834, 112026, 153662, 157273, 24194, 56959, 66878, 106007, 153054, 162639, 185233, 189835, 21014, 53174, 59269, 60858, 100906, 123257, 127233, 189835, 220278, 276463, 101209, 133747, 15049, 52853, 91832, 95359, 100906, 107784, 114444, 123883, 128835, 138777, 138995, 187613, 189835, 223154, 240401, 245410, 252695, 258534, 35859, 76168, 98440, 130554, 162639, 210485, 238065, 24194, 78553, 165308, 219546, 12538, 61427, 78553, 92547, 95359, 114368, 163307, 172742, 92547, 95359, 96448, 107784, 138602, 162311, 190708, 247447, 276463, 2766, 7346, 17667, 40889, 45557, 78553, 80810, 138602, 162052, 172030, 201684, 40889, 74056, 114368, 189835, 246513, 6251, 56959, 93426, 95359, 105214, 115572, 128835, 165308, 196160, 197659, 240700, 6251, 10819, 27472, 37644, 46443, 56959, 62558, 76168, 88733, 93426, 95359, 95932, 105214, 115572, 142121, 144531, 148744, 162639, 172061, 173415, 175052, 189835, 196160, 203240, 203900, 218121, 235105, 240700, 263163, 266056, 271448, 272573, 274808, 130474, 203401, 248850, 258884, 183995, 14521, 16996, 37712, 102967, 130571, 133747, 187256, 278633, 237271, 237271, 278418, 237271, 143253, 26593, 85656, 21576, 7346, 55490, 88733, 132173, 165308, 196160, 251140, 265313, 274808, 24921, 59038, 68256, 104429, 231827, 238781, 70666, 228998, 100846, 7346, 16795, 37644, 40943, 62464, 62542, 95359, 145641, 172061, 172742, 173291, 196502, 201783, 204864, 211344, 230522, 240144, 271448, 278137, 81298, 154730, 184299, 211344, 225686, 268110, 47316, 62891, 82893, 98440, 104665, 123257, 168047, 216683, 242083, 251843, 93047, 206534, 230522, 40943, 3167, 6251, 31556, 56959, 60244, 80810, 93047, 95359, 98440, 108352, 109779, 122429, 123257, 131837, 135149, 150979, 154844, 165319, 203240, 207782, 211344, 211919, 223154, 224349, 225810, 235105, 240144, 251140, 261603, 263163, 265313, 271144, 274808, 52853, 68185, 76151, 86189, 106007, 193499, 213126, 9613, 31391, 35859, 36299, 108799, 124876, 157273, 166123, 167349, 179730, 227520, 235392, 247447, 16634, 31391, 35859, 36299, 62558, 89602, 91113, 108799, 124876, 166123, 167349, 179730, 235392, 255489, 9613, 16634, 26544, 31391, 35859, 36299, 108799, 124876, 166123, 167349, 207494, 227520, 227836, 235105, 235392, 255489, 6251, 22521, 30533, 32627, 37512, 46398, 87141, 89602, 95359, 96440, 127359, 157273, 159858, 162311, 179433, 184299, 187762, 223154, 16634, 23872, 31391, 36299, 89602, 108799, 124876, 166123, 167349, 207494, 227836, 235105, 235392, 9613, 16634, 17667, 23872, 31391, 35859, 36299, 62558, 108799, 124876, 133935, 166123, 227520, 227836, 235105, 255489, 268032, 2033, 23872, 26240, 31391, 48025, 108799, 124876, 166123, 207494, 227520, 227836, 235105, 235392, 259118, 31556, 37644, 38023, 88122, 102647, 165319, 198930, 239423, 5582, 9613, 31391, 91113, 108799, 124876, 166123, 227836, 235105, 235392, 255489, 102647, 130554, 165319, 198930, 226879, 259629, 100906, 110973, 226006, 274061, 38023, 102647, 168642, 5582, 20172, 26544, 36299, 95932, 108799, 124876, 166123, 227520, 235392, 245410, 16634, 25409, 26240, 31391, 59727, 91113, 95932, 108799, 142121, 161299, 195694, 244736, 31391, 89602, 91113, 97721, 98391, 108799, 142121, 195694, 221870, 235105, 244736, 247852, 274061, 98391, 16634, 25409, 31391, 36299, 89602, 91113, 95359, 98391, 142121, 172742, 190925, 195694, 204864, 221870, 235105, 244736, 274061, 101851, 150896, 160681, 163202, 165319, 219683, 249862, 254206, 271176, 274061, 55548, 101851, 150896, 169682, 177432, 184299, 218568, 219683, 255078, 35859, 55548, 101851, 165319, 169682, 177432, 184299, 187624, 219683, 8253, 51526, 53174, 68436, 69971, 76499, 76818, 88937, 101851, 123544, 129084, 137336, 156150, 164675, 169682, 184299, 204864, 212628, 218568, 219683, 234828, 242639, 267635, 16634, 55548, 101851, 150896, 169682, 219683, 9613, 16634, 31315, 31391, 32773, 36299, 42093, 62558, 63394, 76151, 89602, 91113, 98686, 108799, 124876, 179730, 195694, 240144, 247447, 259118, 261829, 52853, 55492, 68185, 106007, 172061, 189835, 111944, 177432, 278582, 48046, 88122, 94951, 109461, 115435, 128085, 133571, 159506, 177432, 236058, 243328, 250709, 14521, 76499, 115572, 128835, 174304, 184299, 277427, 60263, 172676, 53174, 56447, 163202, 178199, 207494, 254206, 4938, 20172, 25409, 37512, 44893, 68436, 100906, 160401, 163202, 165319, 177432, 178199, 197659, 230522, 234828, 248718, 251003, 251613, 255078, 271705, 30533, 129074, 94347, 261603, 7346, 10560, 59189, 102967, 142121, 177091, 227705, 247447, 268622, 274808, 82407, 93426, 96357, 106007, 174216, 178667, 184279, 197364, 211351, 246513, 2766, 4017, 8253, 10314, 11601, 13850, 21576, 22365, 24194, 27472, 31556, 37400, 37712, 40330, 42323, 46443, 55187, 55548, 57398, 59038, 89602, 95359, 98440, 100459, 102647, 104657, 105979, 110934, 113519, 114414, 115003, 123883, 125736, 128325, 129074, 136205, 136491, 138543, 145449, 147847, 159033, 168047, 174304, 177432, 181176, 184299, 187145, 193676, 195469, 199041, 207246, 227836, 229741, 231210, 236058, 240567, 247447, 251422, 253821, 256407, 257028, 257700, 260897, 271176, 31846, 101876, 125287, 101876, 146113, 155147, 6073, 95359, 10030, 77480, 95359, 101876, 138777, 197659, 204864, 234828, 235105, 246655, 55187, 155147, 217056, 267635, 13552, 102647, 52584, 153662, 196738, 25981, 3145, 6251, 21659, 46909, 56959, 110934, 169663, 173481, 235105, 236283, 255489, 882, 52584, 132375, 164828, 240035, 52584, 55490, 55892, 95359, 102967, 120093, 126903, 177040, 206534, 277427, 7346, 154529, 159506, 162639, 268032, 13552, 16795, 81597, 156467, 163804, 177090, 235935, 238781, 13552, 104636, 104665, 177040, 190925, 227705, 107784, 120093, 190925, 240035, 247447, 259629, 269719, 164828, 177432, 16795, 164828, 177432, 223190, 246507, 247447, 251613, 13552, 164828, 185634, 196738, 247447, 172030, 256844, 6073, 129716, 138010, 1733, 14521, 104636, 164828, 185634, 196738, 200422, 224138, 164828, 177072, 177432, 223190, 234828, 31315, 124942, 177432, 235105, 27472, 86145, 99955, 128835, 162639, 173415, 197659, 3145, 7346, 16634, 17859, 68555, 93629, 100459, 102647, 110373, 147847, 169779, 189558, 196738, 201447, 201684, 203764, 221445, 221705, 227705, 232945, 234828, 245088, 252695, 13552, 16916, 35859, 68555, 88733, 93629, 95991, 114988, 124942, 158295, 189558, 190923, 207499, 265115, 267635, 53220, 87141, 104211, 107784, 114444, 132375, 163804, 181212, 252347, 93179, 16795, 21484, 25981, 49212, 64310, 135149, 137211, 147847, 172061, 189835, 193676, 217056, 234828, 238120, 248718, 25981, 39345, 104636, 114444, 123981, 229011, 112761, 129084, 163804, 180348, 213531, 16795, 18082, 19085, 21031, 28177, 32195, 53174, 53220, 83287, 96357, 100459, 102647, 104636, 123430, 125519, 132199, 137211, 143175, 144478, 145369, 150979, 173481, 177040, 187613, 200674, 202462, 217375, 232945, 234165, 240567, 254465, 267635, 61854, 81597, 123883, 153662, 15049, 96357, 125692, 150968, 193676, 238781, 254465, 2276, 60858, 135149, 50730, 135149, 144531, 153718, 209756, 235282, 258884, 264862, 89602, 95932, 249862, 1733, 24933, 39345, 123981, 164828, 223190, 240035, 264082, 243, 14422, 21031, 68555, 87141, 96320, 101876, 104211, 110373, 123430, 132375, 140358, 143175, 149069, 163430, 184513, 186570, 203764, 225763, 243360, 93179, 267635, 7346, 14422, 16488, 21484, 37712, 40943, 76818, 110934, 115572, 123094, 123981, 126726, 187145, 190923, 195694, 230522, 254465, 255489, 266226, 274808, 68555, 147847, 156214, 193898, 258884, 7915, 83637, 92979, 99347, 172091, 224159, 269566, 7125, 44893, 48046, 75591, 88793, 95359, 101305, 105214, 136205, 204864, 229741, 239584, 271195, 275970, 30735, 35859, 66878, 81298, 93629, 95359, 104144, 153662, 167746, 187256, 201042, 212923, 215006, 216683, 243236, 254299, 60707, 129074, 53174, 51450, 98391, 114368, 216012, 258185, 6563, 251843, 130571, 142121, 196466, 225686, 122429, 30735, 70415, 78553, 81848, 104399, 114368, 125039, 150968, 210822, 225763, 229011, 246507, 70415, 85993, 100264, 114368, 177040, 25981, 107865, 5582, 13552, 14422, 16795, 21659, 28619, 28634, 29855, 39281, 48579, 55492, 59269, 60050, 62891, 65258, 69232, 91103, 92979, 101876, 103336, 104665, 110440, 153718, 153797, 163804, 168816, 183995, 213150, 218608, 224249, 229313, 232131, 238781, 250709, 251003, 253871, 260897, 268110, 275970, 2766, 4017, 21031, 48975, 49460, 61038, 66680, 68555, 91103, 167812, 174848, 192211, 230522, 232964, 254465, 266056, 13552, 126736, 237271, 16795, 143837, 189835, 207246, 218552, 215986, 28619, 149934, 196502, 266283, 28619, 97754, 192211, 218552, 270820, 16795, 22625, 36606, 39281, 41364, 46398, 55187, 63956, 83637, 100459, 103304, 124874, 139359, 142121, 173291, 179075, 220240, 226965, 243942, 248464, 266865, 267033, 23571, 39281, 46398, 93629, 139359, 226965, 266865, 16795, 21014, 26544, 46398, 75081, 78448, 148744, 177375, 178199, 187256, 190708, 193676, 51450, 158606, 26593, 135149, 270820, 16795, 66680, 91058, 115692, 25981, 70415, 91058, 255546, 39441, 69232, 81597, 187256, 203401, 251843, 270820, 130571, 139828, 235105, 7158, 8253, 23768, 85993, 153718, 154992, 158295, 167812, 169699, 181687, 185233, 208671, 240756, 248477, 268751, 3363, 113519, 135265, 153662, 169699, 183061, 190741, 8362, 17190, 69211, 193898, 43910, 53220, 66680, 89602, 235282, 11224, 23511, 187256, 216466, 243759, 36327, 92810, 186570, 638, 8362, 39773, 112001, 162639, 168954, 201677, 248477, 259626, 260944, 271705, 206944, 224764, 638, 23511, 28634, 74056, 113270, 142715, 145369, 148898, 236283, 273113, 638, 102702, 103336, 122429, 125039, 153718, 167812, 177375, 224349, 248477, 273113, 97754, 98391, 108799, 238065, 240403, 270605, 100846, 158295, 236172, 259629, 24933, 98391, 100846, 158295, 188513, 235105, 254053, 25981, 29209, 114368, 140358, 146113, 260944, 31050, 69232, 81597, 92810, 110934, 114368, 136139, 139828, 193898, 203401, 251843, 260944, 76151, 98391, 98723, 158295, 171638, 216012, 260944, 278026, 1733, 39441, 98391, 114368, 115692, 140358, 203401, 20060, 36606, 76151, 100846, 154529, 193898, 218552, 184424, 75819, 98391, 170947, 178199, 235105, 267033, 98391, 98391, 156214, 31050, 114368, 6575, 16795, 60583, 70415, 92810, 98391, 113270, 135149, 152651, 165308, 184424, 207148, 208671, 253871, 273113, 638, 7158, 25981, 36606, 50895, 98391, 204813, 236283, 98391, 35859, 39646, 60337, 95359, 138578, 146348, 160401, 170724, 178667, 181687, 208671, 226553, 231264, 235282, 98391, 224349, 274061, 69389, 98391, 123981, 149934, 162639, 166123, 235105, 35859, 42323, 98391, 193898, 201447, 235105, 235935, 22625, 23768, 28177, 31040, 128325, 132083, 184424, 207965, 217375, 224809, 243700, 638, 8253, 9747, 16795, 50895, 79977, 81848, 98391, 112001, 113270, 123095, 134797, 138578, 150968, 162738, 170947, 183061, 185722, 200422, 204813, 221705, 236283, 254299, 254465, 6251, 17003, 19711, 25131, 37712, 40415, 41364, 55492, 55892, 69971, 75485, 75591, 78834, 105979, 108005, 128208, 131046, 139359, 207782, 220240, 220688, 232131, 255489, 274308, 7158, 16718, 16795, 24921, 50895, 56554, 148898, 150968, 185722, 204813, 236283, 76499, 98440, 115435, 149934, 172742, 177432, 179734, 207246, 215986, 222220, 16795, 18082, 30972, 102275, 50730, 135149, 199515, 241666, 255489, 277427, 6563, 19711, 30273, 35836, 53220, 81848, 124259, 189558, 196077, 204864, 258534, 273979, 276050, 6575, 36135, 48025, 87141, 110912, 114988, 192119, 196738, 208406, 231210, 236283, 244171, 248718, 135351, 158295, 201447, 235282, 254377, 6323, 19085, 30972, 53220, 55490, 59727, 95359, 100264, 110912, 125519, 126736, 129084, 145369, 158295, 158433, 178199, 178667, 204864, 207499, 214786, 221445, 232945, 240567, 242646, 247752, 254201, 254465, 269890, 272573, 51883, 70415, 123095, 127914, 226616, 241666, 250709, 61854, 81597, 60707, 160681, 235282, 69933, 13552, 32195, 39345, 104636, 107784, 124942, 164828, 52917, 57398, 132173, 203799, 243942, 254206, 30994, 53220, 91103, 106007, 149934, 276231, 25601, 48025, 101304, 104636, 123981, 136348, 143211, 189558, 204864, 224349, 225595, 225886, 256407, 101304, 112001, 120598, 123981, 164728, 187517, 204864, 225763, 242646, 76352, 124259, 149069, 187517, 16795, 77480, 207246, 153662, 248850, 1733, 13552, 81597, 97754, 14422, 23872, 61854, 97754, 104636, 120093, 120396, 142479, 31826, 41084, 135045, 135149, 158295, 158433, 178667, 187517, 228681, 231351, 241666, 261829, 6575, 106225, 145449, 164675, 192119, 207259, 236283, 35836, 59727, 251422, 14422, 50225, 51252, 60621, 68555, 70666, 81216, 143211, 187256, 214786, 234828, 240267, 254053, 254206, 260944, 278188, 216683, 49460, 105979, 165308, 243236, 8245, 25131, 26544, 28634, 53220, 84024, 100459, 104636, 173481, 177040, 196738, 207499, 232131, 258534, 269890, 272573, 47316, 69933, 104211, 124487, 189558, 204864, 207782, 254465, 258534, 13552, 104636, 177040, 187517, 255546, 49154, 65584, 81597, 104636, 208897, 18082, 21618, 36715, 139828, 216683, 248718, 266056, 111190, 123460, 193898, 207259, 224764, 232131, 245088, 274056, 50895, 108285, 6543, 19842, 41084, 127359, 135045, 135149, 146113, 161299, 162311, 169663, 179433, 244171, 6575, 55892, 80642, 89014, 89602, 92810, 106007, 108799, 109461, 124487, 140358, 162311, 185147, 203799, 211426, 214786, 221732, 241980, 242646, 245650, 263163, 39281, 53220, 72523, 80810, 101876, 104636, 125519, 141010, 141493, 145369, 213531, 234165, 238065, 254201, 256407, 258534, 36327, 38273, 100846, 143211, 158295, 174726, 210485, 216670, 222941, 224138, 232945, 236172, 7158, 16718, 16795, 18082, 19664, 27472, 30898, 36606, 46398, 49212, 53174, 56554, 59390, 65663, 68555, 70666, 74758, 99955, 101876, 104429, 112559, 120598, 120908, 123095, 123883, 125287, 126903, 139913, 141493, 143163, 145641, 147847, 148898, 149934, 155014, 159033, 162780, 179075, 181176, 185722, 187256, 193778, 201674, 211919, 216683, 231264, 236283, 238699, 250184, 250936, 253871, 254465, 256843, 258938, 269835, 271448, 273113, 23511, 30994, 69211, 87141, 104211, 106007, 129008, 154529, 156150, 182527, 214786, 222941, 255489, 6543, 7158, 30972, 46909, 53220, 55490, 64310, 95359, 105937, 125519, 132375, 204864, 207782, 208406, 221445, 221732, 222035, 232945, 234165, 240567, 256843, 258534, 261829, 31315, 50895, 57398, 81597, 94787, 107021, 111190, 135149, 212965, 31315, 35836, 46909, 53220, 100264, 104636, 110934, 133296, 134797, 144478, 145369, 149069, 156214, 183101, 190925, 197659, 199515, 218608, 221445, 221732, 258534, 269890, 274549, 82497, 104636, 204813, 223154, 264082, 218121, 226616, 8245, 68555, 70666, 100846, 101876, 154529, 184513, 190923, 193898, 203764, 207259, 223154, 232945, 243, 35859, 50730, 69933, 100459, 141493, 204864, 221732, 232106, 252347, 258534, 267635, 272573, 239423, 6575, 8067, 16488, 23872, 25981, 30972, 40889, 48494, 52584, 56554, 59390, 75081, 96357, 102702, 105979, 124487, 125692, 134797, 141902, 143163, 162780, 170947, 172512, 182459, 184424, 185722, 218552, 228764, 230522, 236283, 249628, 251613, 255546, 257028, 278137, 274061, 20060, 26544, 59390, 81597, 102275, 104636, 111190, 129084, 182527, 208897, 215988, 232131, 244627, 264082, 13552, 16795, 65663, 104636, 120396, 207259, 213150, 147965, 161299, 203401, 225595, 225763, 274308, 2766, 70666, 102647, 124487, 161348, 227705, 16795, 18082, 23511, 43619, 46909, 48025, 50895, 55490, 84024, 95359, 102275, 102647, 104144, 108285, 108799, 127233, 149069, 185233, 196160, 200674, 218608, 221732, 222941, 223154, 224809, 232945, 236757, 240567, 241565, 242646, 246513, 253821, 256843, 266283, 276231, 30972, 51992, 53220, 70666, 102647, 106007, 120396, 124487, 182527, 186570, 191523, 193898, 196047, 221445, 228681, 229313, 261829, 265115, 271558, 110973, 114414, 163804, 264031, 30994, 69211, 130571, 167349, 222035, 259629, 268032, 35445, 135149, 203764, 223154, 237990, 261829, 95359, 100846, 201674, 208897, 232945, 28177, 46909, 77480, 124363, 126736, 133296, 167746, 183101, 196077, 199515, 207782, 210822, 226965, 232131, 234165, 243759, 258534, 261829, 266056, 269890, 270906, 23511, 38273, 41781, 67840, 70666, 92810, 101876, 107244, 196738, 203764, 231351, 277427, 7158, 9747, 16795, 28634, 39773, 43619, 54335, 76168, 102702, 107784, 113270, 123883, 135149, 143163, 143253, 153718, 162639, 185722, 220688, 224430, 226205, 236283, 237990, 240700, 247447, 250184, 252071, 253871, 254465, 264947, 64310, 92810, 143415, 225595, 2276, 28634, 61901, 120598, 135149, 190844, 223154, 234165, 16795, 24933, 28634, 43619, 53220, 55438, 92810, 101876, 104211, 120396, 123981, 125519, 135149, 208897, 213531, 253871, 258534, 260897, 265115, 274549, 98391, 19711, 50895, 84024, 102275, 103304, 225595, 252695, 129084, 217375, 16795, 158295, 208897, 231351, 6543, 16795, 27472, 29209, 30276, 35859, 41781, 51450, 53220, 55187, 62542, 69389, 77480, 81216, 82497, 83287, 84024, 86145, 93363, 95359, 104144, 104211, 104636, 110912, 115435, 125519, 128085, 133284, 143175, 146386, 147847, 152651, 184513, 187624, 189516, 189558, 190741, 190925, 199515, 213150, 222035, 222220, 225763, 225810, 228764, 228868, 232131, 232945, 235282, 236058, 246513, 254201, 258185, 258534, 261829, 266056, 29209, 30972, 38273, 83287, 95903, 108005, 128325, 135149, 182527, 226965, 236172, 240403, 48975, 79740, 95173, 135149, 237990, 7158, 16795, 24921, 24933, 36606, 54335, 62862, 63394, 78783, 92810, 102967, 123883, 130571, 138995, 143163, 167812, 173481, 185722, 206563, 242299, 247447, 251422, 8067, 13552, 21576, 30273, 30276, 79266, 81492, 98391, 104636, 107021, 112761, 114368, 143175, 146113, 168954, 193499, 216012, 217375, 223154, 247447, 251422, 258938, 40914, 79266, 98391, 98547, 216012, 247447, 258185, 269321, 30972, 50895, 69355, 161348, 187256, 221705, 232945, 235935, 252071, 75819, 89602, 102967, 138578, 156269, 210822, 217986, 274634, 211344, 7158, 18082, 44728, 53174, 76710, 112001, 116904, 138543, 156300, 163488, 170634, 190925, 196077, 208671, 226965, 235935, 246513, 254465, 261829, 266865, 20060, 26593, 34588, 47316, 50225, 55490, 95359, 118677, 132375, 141010, 177072, 193898, 208406, 214786, 221445, 221705, 221732, 227447, 232131, 232945, 234165, 240567, 241565, 241980, 261829, 274308, 276231, 1435, 100906, 111190, 138010, 175117, 185275, 252347, 259260, 271558, 135609, 204864, 224809, 25409, 48025, 252695, 258534, 84024, 111174, 113270, 3145, 114988, 124310, 209875, 245650, 265487, 40415, 109899, 148712, 213531, 231351, 252347, 274308, 30533, 56307, 124310, 154529, 171638, 235105, 265487, 21356, 56307, 82497, 83287, 123430, 221705, 20060, 27472, 59189, 112001, 124942, 135149, 221705, 240568, 242646, 261829, 2766, 14521, 25409, 35857, 40889, 48975, 66680, 106007, 121986, 131154, 143253, 145619, 173481, 185634, 185722, 203240, 237990, 254299, 255546, 265115, 48494, 68249, 104211, 110934, 119517, 176214, 190923, 259626, 29209, 40415, 111190, 156467, 171638, 215988, 221705, 3145, 62272, 89602, 106007, 110934, 145449, 162311, 179433, 196160, 214786, 224159, 225078, 236283, 245650, 98391, 141902, 145619, 234359, 247447, 98391, 234359, 13850, 20060, 35836, 39281, 40415, 48025, 49109, 53220, 66878, 77480, 108799, 125519, 137688, 143175, 158295, 166123, 167800, 169233, 190925, 201674, 204864, 222220, 232945, 234165, 266056, 136252, 167746, 216670, 2276, 35859, 48025, 50895, 53220, 62542, 84024, 102275, 104211, 106849, 110912, 110934, 126492, 137688, 143415, 161299, 177072, 187256, 187624, 193898, 204864, 207499, 218552, 227250, 228764, 234165, 241980, 251140, 256843, 261829, 264947, 98391, 8067, 47316, 124310, 190925, 208897, 6563, 28177, 28634, 30985, 35859, 50895, 53220, 67840, 95359, 104211, 183101, 214786, 223154, 223431, 126395, 184424, 216670, 236283, 252071, 252843, 266283, 270820, 2276, 16795, 134797, 6323, 20060, 36299, 86145, 88937, 101304, 110973, 204864, 225595, 245650, 36135, 44252, 77181, 79285, 89602, 96440, 97754, 105979, 110934, 115435, 126604, 130571, 135351, 139359, 153513, 159858, 199772, 211344, 215988, 222296, 224349, 268110, 271195, 30081, 33974, 60244, 66574, 75591, 95359, 97754, 114544, 115435, 115490, 136139, 153054, 181687, 213126, 232959, 235935, 240219, 242299, 245649, 248477, 276050, 96440, 219683, 229741, 1435, 3363, 6575, 7158, 8066, 13273, 16795, 20180, 26544, 27875, 32122, 33580, 39281, 43619, 43910, 52584, 53418, 55187, 56856, 62862, 68256, 75089, 79977, 88229, 88733, 88937, 104429, 104636, 105979, 108950, 113270, 113519, 113904, 114544, 115572, 123095, 123608, 128208, 130571, 138578, 141902, 142121, 142715, 146932, 155147, 178240, 179733, 179734, 189973, 192093, 193676, 196466, 197364, 201447, 211351, 212923, 222296, 224809, 227884, 228311, 229313, 231210, 232131, 232964, 235282, 238699, 240567, 240568, 243759, 249989, 251140, 252071, 253871, 258938, 259629, 264031, 270605, 271448, 272573, 274808, 30716, 85757, 98904, 105979, 122801, 146932, 156150, 178199, 206567, 243879, 6563, 33580, 44893, 60244, 84024, 91113, 110934, 115003, 117251, 127826, 129008, 132083, 136348, 144038, 162738, 173415, 181687, 213126, 224430, 226205, 227884, 6073, 163430, 177072, 254465, 268110, 36606, 113519, 168954, 258938, 39345, 125519, 87141, 4017, 16634, 45557, 64436, 67840, 82893, 98547, 124310, 125519, 166123, 196466, 210485, 243294, 268622, 270352, 274308, 53220, 125779, 136348, 175117, 187256, 271448, 100906, 144038, 8245, 60583, 67547, 89014, 98391, 116758, 155219, 162639, 221948, 223787, 26240, 46909, 61427, 64436, 132375, 150968, 167812, 187574, 207965, 224430, 225810, 238065, 242646, 278633, 150968, 143415, 38544, 258938, 258534, 177375, 260897, 29259, 140358, 207259, 95010, 184279, 32773, 40943, 59269, 69211, 100906, 102359, 153662, 201684, 208555, 247852, 28634, 71234, 80810, 86145, 128085, 135149, 141902, 173481, 234828, 258884, 259629, 261829, 2977, 32627, 48025, 76942, 126604, 135149, 142479, 175052, 259629, 52199, 207349, 21014, 53241, 56447, 82407, 105937, 149661, 171818, 172742, 187574, 206534, 224349, 235935, 258482, 266056, 266283, 3373, 7346, 38273, 52917, 55075, 77480, 84024, 98904, 100846, 104636, 124487, 128835, 139913, 143837, 162052, 189516, 206563, 207494, 228681, 258534, 276050, 30972, 38273, 40415, 49109, 60244, 83287, 89602, 104636, 132375, 157273, 158295, 172742, 175052, 190925, 217056, 234165, 245650, 258534, 43910, 53241, 235282, 267033, 270605, 2766, 22365, 25981, 30487, 39773, 60244, 67840, 69078, 73330, 78846, 81368, 88738, 95173, 95932, 101305, 114988, 126604, 127359, 132375, 135149, 138777, 144038, 177375, 204864, 206944, 210587, 224138, 232131, 236757, 239584, 266283, 27472, 28634, 126736, 254465, 272573, 16795, 104665, 110973, 138097, 204864, 276231, 8245, 16795, 52584, 69232, 125779, 126196, 187517, 228764, 11629, 28591, 243, 16106, 16795, 23511, 48025, 92810, 181687, 187517, 219683, 232945, 278026, 16795, 48025, 191523, 200422, 232945, 242646, 244627, 67547, 105214, 177072, 189392, 211344, 224349, 225078, 59189, 98391, 114368, 247447, 258185, 52584, 60707, 68185, 87141, 91103, 107784, 159858, 209373, 216683, 268032, 62862, 100846, 120396, 126196, 134797, 139913, 162639, 212965, 228764, 250184, 252695, 254299, 41084, 204864, 211351, 276680, 35859, 104144, 110440, 135149, 193529, 193778, 248850, 5582, 14698, 183995, 236283, 96357, 78448, 128085, 63938, 227447, 123094, 189835, 197659, 234828, 245645, 69971, 16634, 131837, 165319, 93179, 96357, 159506, 20180, 44252, 95359, 165319, 227705, 230522, 110214, 167349, 30276, 46398, 114988, 199515, 222296, 271705, 49212, 86145, 88652, 112001, 120093, 129074, 185634, 81771, 129074, 135351, 156150, 199041, 6575, 27812, 120093, 184279, 227447, 248718, 21618, 265313, 16634, 55075, 128085, 158606, 215986, 259629, 159506, 189835, 6073, 164728, 204864, 108285, 252695, 255546, 8253, 8734, 10447, 16634, 36606, 49154, 52917, 69355, 87555, 88937, 93047, 93629, 94951, 95359, 95932, 104113, 110912, 115490, 116904, 122801, 123544, 128085, 129716, 135045, 155147, 166409, 177432, 179075, 187613, 197364, 198012, 204864, 209756, 212923, 218568, 224349, 231210, 235105, 236172, 244736, 248718, 255078, 261829, 266229, 271705, 35859, 69355, 70415, 137688, 203764, 255489, 255546, 16106, 60858, 135149, 167349, 177432, 197659, 210717, 6575, 46398, 52584, 52917, 70666, 100906, 108352, 131154, 150896, 160558, 248718, 16795, 51742, 57398, 69355, 128835, 158295, 201447, 203764, 236757, 247852, 248718, 252695, 276165, 6073, 88937, 221732, 221732, 74286, 95010, 110934, 136491, 177432, 212328, 235105, 249862, 177432, 189835, 197659, 269566, 270820, 51742, 100846, 120396, 158295, 236757, 247852, 248718, 31826, 144531, 189973, 197659, 235105, 257700, 52584, 109899, 52917, 86145, 93047, 107784, 129074, 151589, 156150, 39281, 69211, 185634, 251843, 22818, 57398, 72523, 127826, 156269, 76352, 101305, 147847, 189835, 197659, 234828, 237748, 60621, 87141, 104362, 104880, 148744, 189835, 207246, 26517, 55607, 7346, 20180, 26593, 30735, 51742, 52199, 60244, 73588, 79266, 95991, 104636, 105979, 112026, 125692, 139913, 156269, 162052, 172512, 172742, 196077, 218568, 231210, 240144, 258534, 278026, 39281, 70415, 158295, 159033, 172742, 203764, 252695, 10819, 108285, 183995, 252695, 35859, 159033, 251495, 73588, 94787, 110934, 145449, 196738, 235105, 236283, 236757, 7346, 26517, 30735, 35859, 51742, 52917, 53220, 79266, 95991, 104636, 123981, 139913, 148712, 148744, 156269, 157273, 158295, 162052, 169779, 187517, 218568, 225763, 258534, 113904, 124487, 129074, 22818, 57398, 72523, 102647, 131837, 156269, 43910, 85757, 101876, 157273, 221445, 235282, 272573, 88738, 107244, 112093, 137688, 156269, 185147, 245650, 247241, 252071, 268751, 89602, 94787, 110934, 236283, 6575, 52917, 57398, 185634, 17859, 44728, 51742, 55607, 70415, 78783, 83287, 89602, 95991, 104636, 139913, 143837, 156269, 162052, 177090, 206563, 208671, 221445, 255546, 258534, 21659, 78783, 83287, 88733, 98904, 104636, 110373, 124942, 133747, 139913, 155014, 156269, 183995, 208671, 210717, 212923, 258534, 258884, 264947, 20180, 37208, 49109, 51742, 79266, 83287, 104636, 155014, 156269, 162052, 166123, 166409, 169779, 185275, 227447, 258534, 268032, 268751, 20180, 30735, 35859, 70415, 73588, 76942, 79266, 83287, 95991, 98904, 104636, 130571, 148712, 156269, 162052, 169779, 177432, 208671, 231210, 234828, 258534, 267635, 278026, 278582, 107784, 189835, 197659, 207782, 158295, 194676, 238120, 273979, 29259, 32627, 144478, 193778, 232131, 266283, 21659, 47316, 78783, 88733, 102275, 104211, 104636, 110373, 143837, 146348, 156269, 162052, 196077, 207499, 217056, 231210, 232131, 258534, 264947, 35859, 37208, 50225, 60621, 84024, 98904, 101876, 123744, 137211, 139913, 204457, 204813, 206563, 208671, 225886, 258534, 264947, 26621, 185722, 252865, 259629, 16795, 42914, 210485, 237990, 261829, 65663, 259930, 29259, 36606, 104636, 126196, 178199, 196738, 32627, 177072, 187574, 229011, 278026, 32627, 122506, 172030, 252848, 224764, 18082, 76352, 197659, 266056, 197659, 235105, 173291, 37644, 102967, 104636, 141493, 6251, 51883, 52853, 141493, 218121, 236757, 10447, 49460, 242083, 156150, 242083, 52584, 126604, 236283, 23768, 25131, 30081, 30994, 36606, 69078, 75591, 78783, 86189, 95359, 101305, 110934, 116758, 132375, 143415, 172061, 224923, 234359, 264543, 274056, 278633, 16795, 231351, 153662, 270820, 50225, 75591, 95359, 143415, 147965, 196466, 204864, 236058, 269835, 271448, 117251, 197659, 208141, 223087, 30735, 69078, 69971, 95359, 121264, 128085, 141710, 222296, 252695, 268110, 75485, 126736, 130474, 19664, 21364, 43619, 43910, 53241, 75591, 140358, 235282, 276680, 4017, 6575, 35859, 39281, 60244, 125411, 149934, 221948, 238120, 252071, 255489, 268110, 271448, 39616, 87141, 203799, 240144, 28619, 43619, 60244, 100459, 266865, 8454, 29209, 73330, 78834, 91113, 97754, 121264, 197364, 200643, 222296, 258482, 8681, 102967, 43910, 76499, 117873, 235282, 23872, 60244, 206563, 43910, 208671, 235282, 21484, 22521, 210822, 2891, 60244, 75591, 81977, 90616, 113519, 128835, 143415, 170513, 203240, 268110, 156467, 31826, 51883, 196160, 224764, 160558, 224764, 55490, 35836, 112001, 153662, 211426, 225810, 254206, 258534, 46398, 93629, 110373, 123981, 234828, 94347, 10354, 31315, 31826, 43619, 68185, 93179, 93629, 106007, 110973, 111947, 224764, 93179, 93629, 120093, 107784, 203900, 274061, 81597, 184513, 210717, 217375, 31826, 160558, 55490, 93179, 203240, 271558, 31826, 228021, 251613, 13552, 24933, 31826, 80642, 93179, 107784, 193529, 258534, 53392, 59038, 98904, 107784, 153662, 94347, 29259, 93179, 31826, 53392, 140223, 31826, 35836, 98904, 114444, 153662, 184299, 218568, 234828, 254206, 258534, 93629, 102967, 2110, 31826, 35859, 41084, 51883, 61028, 62881, 98904, 104665, 110973, 123544, 126492, 178667, 185233, 197364, 209373, 214786, 235282, 231210, 102967, 123981, 126492, 190708, 232106, 126492, 138543, 209373, 7346, 41084, 55490, 61028, 102647, 123981, 201447, 14698, 16718, 31826, 41084, 52584, 55490, 66680, 98904, 126492, 152099, 158295, 184299, 210959, 211426, 214786, 227705, 234828, 274061, 175052, 135045, 124363, 102967, 107784, 196738, 10354, 31826, 39441, 71234, 93629, 98904, 109779, 126492, 160558, 210485, 245088, 258534, 274061, 53392, 93179, 98904, 138543, 140358, 144318, 158295, 224764, 229632, 232106, 107784, 112001, 211426, 223566, 80683, 102702, 211344, 231210, 102967, 160558, 220278, 223566, 69389, 185233, 254206, 260067, 13082, 31826, 42914, 98904, 111944, 123544, 126492, 196738, 208406, 234828, 257204, 265313, 274061, 276165, 85656, 129084, 158295, 216683, 235105, 140223, 13552, 31826, 42914, 47316, 51883, 80642, 98904, 126492, 140358, 144318, 155014, 184532, 211288, 219546, 227705, 235105, 240035, 260067, 265313, 269566, 274061, 80683, 31826, 35859, 65584, 69389, 126492, 128835, 138995, 184532, 212628, 219683, 229313, 127359, 4938, 13552, 31826, 35859, 55178, 55490, 59727, 66574, 66680, 69355, 75485, 85656, 98904, 123544, 123981, 126388, 126492, 128835, 152099, 160558, 177432, 184299, 196738, 214786, 219683, 223566, 224923, 232106, 236283, 241980, 254206, 274061, 28634, 227705, 23872, 39441, 55548, 69389, 98904, 189835, 229632, 234828, 274061, 26621, 121170, 184532, 175052, 228681, 236757, 9856, 94951, 254899, 254206, 24194, 33974, 76499, 85426, 160401, 187145, 196466, 218608, 227705, 228579, 60858, 69389, 102647, 120093, 123544, 126492, 184532, 189835, 219683, 55490, 70666, 95359, 106007, 109779, 110973, 114444, 123544, 140358, 158295, 162738, 206438, 210485, 211426, 219683, 226879, 234828, 242083, 251613, 265313, 271538, 274061, 10560, 21014, 200674, 213126, 10354, 60263, 69389, 106225, 160558, 211426, 35859, 128835, 10354, 35859, 41084, 60263, 69232, 16795, 33580, 52584, 54884, 59269, 120093, 152099, 172030, 177432, 187145, 189835, 219683, 248464, 260944, 264031, 16795, 59727, 98440, 104399, 124078, 126492, 135045, 138995, 156467, 187145, 206534, 217986, 219683, 248464, 253871, 35445, 97754, 230522, 10354, 40330, 55490, 59727, 69389, 70666, 95359, 104399, 129851, 140223, 219683, 248464, 77480, 124363, 227705, 271558, 277639, 39646, 73588, 162639, 240568, 256407, 94951, 207782, 31391, 107784, 196738, 229011, 55490, 109779, 123544, 140358, 158433, 171602, 177432, 184299, 189835, 211426, 242083, 254206, 274061, 278633, 35859, 6575, 44252, 48046, 87555, 88122, 146932, 156150, 204864, 212628, 218608, 228021, 6543, 98930, 28177, 44252, 51992, 124876, 127914, 153797, 177432, 182459, 184299, 184532, 187762, 193676, 206438, 240035, 260944, 16795, 75591, 219683, 240568, 253871, 235282, 270605, 11629, 16634, 22625, 48025, 55075, 68156, 78783, 86145, 87141, 93179, 106225, 114988, 133935, 142121, 156150, 164675, 172512, 172742, 199515, 223156, 228579, 246507, 250709, 254, 31826, 35859, 70931, 80642, 107784, 109779, 126492, 140358, 158295, 160558, 172030, 177432, 178667, 184532, 214786, 216683, 219683, 229632, 234828, 237271, 240035, 241980, 248464, 248850, 254206, 81848, 91103, 104399, 104665, 112001, 126492, 177432, 241980, 256407, 22521, 62891, 69721, 159506, 160558, 183187, 190923, 196077, 203900, 224159, 229741, 244627, 62891, 146932, 172760, 211426, 242083, 33974, 69389, 93047, 153662, 160558, 177432, 184532, 219683, 227447, 229741, 254206, 270820, 252347, 60263, 71712, 184299, 59727, 69389, 87141, 104399, 109779, 122506, 123544, 135045, 184532, 197364, 219683, 241980, 270820, 89602, 129851, 162738, 196077, 245649, 16795, 31826, 43806, 62891, 87141, 104399, 107784, 122506, 123544, 123981, 126388, 133935, 153662, 177432, 184299, 184532, 189835, 197659, 204864, 258534, 274061, 10354, 16795, 33974, 35859, 39441, 49109, 55187, 87141, 104399, 123544, 160558, 189835, 193529, 197364, 230522, 253871, 271558, 1848, 3371, 20180, 21014, 56554, 60244, 102359, 104665, 112001, 121170, 122506, 126492, 154529, 154844, 170513, 179730, 185233, 196502, 197659, 204864, 219683, 240035, 242083, 248464, 251394, 268032, 271558, 81848, 111947, 114444, 177432, 189835, 219683, 248850, 20201, 25981, 31826, 48579, 56554, 101876, 104665, 123544, 126492, 158295, 177432, 184299, 184532, 248464, 261603, 69389, 98904, 112001, 227705, 43687, 55490, 69378, 131154, 254206, 31826, 48579, 51883, 53174, 95903, 98904, 102647, 107784, 114414, 122506, 152099, 153662, 154844, 158433, 159506, 160558, 162738, 184299, 196077, 199515, 210717, 219546, 241980, 254465, 258534, 264996, 23872, 87141, 102647, 107784, 177072, 223156, 229011, 53392, 55438, 55490, 98904, 140358, 158433, 184299, 185233, 211426, 234828, 242083, 254206, 274061, 270820, 278418, 36715, 8245, 44252, 171295, 209817, 158295, 31826, 42914, 56554, 98904, 104665, 109779, 114414, 123981, 126492, 158433, 171602, 172030, 177432, 184532, 189835, 193529, 196160, 199515, 204864, 219546, 229632, 235282, 254206, 259629, 270820, 274061, 14521, 18082, 120598, 158295, 236172, 16795, 31826, 48025, 51526, 55490, 95932, 98904, 104399, 123981, 160558, 171602, 193529, 219683, 242083, 270820, 31315, 50895, 98686, 127359, 177072, 241666, 90391, 102647, 104636, 120598, 158295, 163804, 166123, 190925, 56959, 102647, 190923, 68555, 163804, 203401, 222941, 252347, 23872, 31826, 63394, 89602, 98904, 110973, 112001, 158433, 165308, 177432, 184532, 193529, 223566, 234828, 248850, 258534, 264031, 274061, 32195, 35836, 53220, 73588, 147847, 158295, 163804, 221705, 224809, 225595, 252865, 258938, 53220, 97754, 133296, 140358, 244627, 251843, 256843, 129084, 201447, 31826, 39345, 56554, 97721, 98904, 106849, 123981, 155014, 158295, 158433, 165319, 174216, 220278, 227705, 163804, 258534, 188513, 190925, 204813, 240144, 265115, 1435, 11724, 25981, 35859, 56856, 70666, 72523, 93179, 104665, 144478, 172091, 173481, 192119, 201684, 203764, 218552, 241666, 259629, 21031, 98904, 104665, 242083, 254206, 10354, 62881, 70666, 110973, 126736, 27472, 39345, 68555, 86145, 158295, 223154, 232131, 236058, 507, 49460, 86189, 100459, 189973, 193529, 219683, 249223, 7346, 30276, 31315, 95359, 95932, 173415, 189973, 193529, 252695, 10354, 16795, 31826, 52584, 63394, 98440, 111944, 140358, 143163, 158433, 160558, 184299, 184532, 187762, 190459, 219546, 219683, 224923, 225078, 227705, 240035, 241980, 264031, 6575, 120093, 158254, 196502, 218608, 231827, 266865, 258534, 20180, 31826, 61028, 62881, 66680, 98904, 110973, 177432, 184299, 184532, 223566, 236757, 240035, 241666, 253871, 258534, 264031, 274061, 129465, 75860, 98723, 132083, 148744, 150979, 232945, 258534, 14422, 133284, 187256, 34588, 36606, 44845, 68760, 82831, 125039, 150896, 218121, 7346, 31315, 48025, 91113, 95173, 95359, 126492, 128085, 135045, 143163, 204864, 236172, 258534, 8936, 19085, 31826, 51252, 61854, 70931, 94787, 106849, 112001, 140358, 170513, 187762, 189835, 206438, 219683, 245088, 258534, 274061, 32773, 143253, 196077, 229741, 6563, 35836, 68760, 110912, 116904, 132173, 182403, 206563, 238120, 23872, 153662, 120598, 202462, 206563, 33580, 66680, 95903, 109779, 123544, 124363, 138097, 142715, 160558, 162738, 163804, 177432, 189835, 195694, 196160, 206438, 224764, 236283, 258534, 33580, 39441, 66680, 109779, 123544, 138097, 160558, 163804, 177432, 185233, 189835, 196160, 206438, 224764, 236283, 258534, 272573, 33580, 35859, 39441, 66680, 95903, 109779, 123544, 123981, 138097, 160558, 163804, 171602, 177432, 189835, 195694, 206438, 224764, 236283, 258534, 33580, 35859, 66680, 109779, 123544, 123981, 138097, 153662, 160558, 163804, 177432, 185233, 189835, 206438, 224764, 236283, 258534, 33580, 66680, 95903, 109779, 123544, 138097, 160558, 163804, 177432, 195694, 206438, 224764, 236283, 258534, 23872, 66680, 109779, 123544, 123981, 138097, 160558, 163804, 171602, 177432, 185233, 196160, 206438, 224764, 236283, 23872, 155014, 35859, 51526, 65584, 70931, 94787, 123981, 152099, 178667, 184299, 187762, 245088, 245649, 5582, 23872, 69971, 125736, 131154, 136491, 185147, 218608, 242299, 5582, 37712, 40415, 46398, 56856, 60244, 68436, 75819, 78834, 96357, 127359, 157811, 159506, 264543, 264657, 5582, 37712, 45557, 46398, 131154, 234828, 240370, 254206, 269835, 277427, 264031, 177432, 83287, 126604, 168047, 201684, 209756, 231210, 274056, 23871, 57398, 86189, 245645, 56856, 270605, 31315, 189835, 258534, 110973, 154529, 196160, 226006, 242083, 251140, 95173, 227884, 235935, 237990, 6543, 50225, 76818, 151098, 179288, 179433, 190741, 193529, 194669, 204457, 240756, 248464, 251843, 269890, 85656, 91103, 172061, 228868, 53220, 129084, 144478, 147686, 231351, 15408, 16795, 65663, 95173, 114414, 127233, 128060, 141710, 141902, 164728, 189835, 190459, 206944, 224138, 266865, 271448, 41084, 54335, 70931, 187762, 189835, 16795, 104113, 129084, 141902, 143253, 224764, 248850, 95359, 241666, 242083, 27813, 48494, 98547, 122429, 139913, 153662, 237990, 36606, 48025, 95359, 104144, 139913, 244627, 226965, 38273, 156269, 162827, 196077, 230708, 231351, 28591, 80810, 139913, 247055, 247241, 258185, 40415, 74286, 114544, 116758, 151098, 160819, 163488, 190459, 224430, 227884, 238781, 271448, 273979, 7346, 16634, 25409, 36299, 51742, 104144, 130571, 190708, 278582, 24933, 30994, 82497, 235105, 112001, 175052, 230522, 53220, 197659, 16795, 35857, 123095, 136348, 162639, 167812, 32195, 110934, 162738, 209373, 277427, 24921, 30533, 31846, 51450, 73651, 114581, 127826, 135149, 177091, 178667, 209756, 10447, 16106, 26544, 30273, 75081, 79740, 105979, 125692, 160819, 168954, 210485, 229011, 230708, 260897, 264657, 51526, 164728, 36327, 38023, 144318, 8067, 177072, 247055, 247447, 247752, 278026, 68156, 110373, 140358, 221705, 226553, 229011, 2276, 20060, 24933, 29209, 201058, 208147, 128325, 160819, 228681, 28634, 40943, 127233, 135149, 184513, 254377, 114544, 154529, 158433, 238120, 19842, 50073, 65584, 98686, 112001, 223431, 225810, 237271, 261829, 276050, 25981, 48025, 76710, 123430, 187574, 208897, 234828, 150968, 236757, 6543, 155014, 173415, 197364, 225886, 248718, 251843, 274308, 196047, 208147, 231351, 5539, 38544, 67840, 95359, 101876, 114988, 138578, 263460, 278026, 7125, 8067, 30273, 96320, 171638, 190708, 241548, 261829, 76102, 162052, 221705, 16795, 25981, 95359, 98391, 110973, 128060, 224809, 261829, 274061, 6543, 25409, 30273, 60707, 67840, 88733, 98391, 135045, 190925, 227447, 67840, 68156, 91103, 93179, 225886, 259930, 29209, 139828, 204864, 235105, 67840, 75089, 123430, 187574, 1435, 5539, 38544, 53220, 62542, 65584, 67840, 114414, 124487, 236283, 244627, 255546, 264031, 266056, 98391, 212965, 21014, 54335, 103336, 112001, 114581, 162827, 249628, 53220, 56856, 160558, 30276, 98391, 248718, 29259, 68156, 142121, 158433, 228764, 7283, 276165, 276165, 206074, 98391, 235105, 68185, 249894, 29209, 124310, 114988, 65584, 158295, 164828, 242106, 27740, 71234, 110973, 115003, 135149, 193529, 196077, 242106, 153662, 110973, 164828, 93426, 114544, 135360, 242083, 254465, 23872, 73588, 75089, 82497, 204864, 224809, 230013, 244627, 255489, 181212, 254, 3363, 28591, 30273, 64436, 95359, 138010, 221948, 8245, 16795, 17667, 22818, 46909, 60244, 77480, 155219, 205980, 267033, 189973, 16795, 35836, 73394, 98391, 110934, 136348, 230013, 253871, 276165, 255489, 24921, 7915, 12538, 16795, 141491, 172742, 223787, 252843, 63956, 106007, 115572, 137688, 156150, 157273, 8681, 78553, 115003, 156150, 199041, 238120, 271705, 55892, 58594, 110973, 209373, 224764, 247429, 171295, 13850, 145449, 208406, 218121, 223566, 251843, 101876, 164675, 129716, 154345, 168816, 195904, 218121, 118533, 211344, 7346, 14521, 268032, 7346, 112083, 128325, 197364, 198012, 155014, 203900, 158433, 161348, 216683, 21618, 110934, 21576, 171295, 243700, 171295, 61038, 160558, 174304, 240370, 249628, 263163, 12538, 32773, 55490, 145619, 179733, 192119, 219546, 254, 9908, 15408, 16795, 23872, 30081, 44252, 49460, 55490, 60244, 67547, 69078, 75485, 80683, 87555, 95359, 109779, 111944, 112083, 123544, 129716, 133935, 160681, 164728, 164926, 177432, 194669, 215986, 219683, 224349, 240567, 242083, 242639, 244171, 257700, 266840, 271705, 93047, 95991, 21484, 55490, 113270, 226545, 242083, 115572, 69078, 110934, 197364, 269566, 136491, 254, 7346, 15408, 44252, 49460, 59727, 62464, 78834, 81298, 89014, 101876, 111944, 112083, 123544, 123883, 138097, 138543, 160558, 174304, 179734, 206438, 231210, 240567, 11993, 154730, 17190, 6251, 11601, 128835, 254899, 30898, 80683, 251613, 142121, 2891, 4017, 11224, 77181, 78448, 81977, 100459, 125411, 133747, 134483, 138777, 169682, 171295, 228021, 16634, 31315, 42914, 66574, 95359, 102359, 136252, 158295, 185233, 211426, 219683, 220688, 236283, 239626, 265313, 159033, 3373, 22625, 40330, 49980, 63956, 80683, 92810, 95932, 100459, 102359, 105214, 129716, 146932, 148744, 159732, 165319, 171295, 178667, 224138, 240401, 264543, 266283, 269799, 271144, 4017, 17003, 136139, 30716, 31315, 42914, 58594, 81977, 101209, 111947, 114368, 123883, 129716, 135360, 173291, 227705, 234828, 247447, 251422, 58594, 129716, 173291, 199515, 206567, 88229, 13082, 30533, 69078, 76499, 76818, 105979, 128208, 178667, 190925, 254299, 274308, 8454, 17003, 48046, 49980, 55075, 60337, 66574, 75591, 76499, 81771, 87555, 89602, 95359, 115003, 115490, 158254, 196077, 197364, 201042, 204864, 209756, 213126, 223154, 247852, 251140, 260067, 268110, 270605, 44893, 89602, 204864, 264862, 23872, 189835, 43687, 219683, 25409, 110934, 113519, 125287, 171445, 221948, 55490, 69389, 72990, 98904, 110973, 149069, 158433, 185233, 208671, 224923, 236283, 254206, 51742, 94347, 174726, 210485, 266226, 16634, 55490, 66574, 140358, 158295, 185233, 196160, 210485, 211426, 220688, 236283, 251140, 254206, 37644, 43910, 235282, 20971, 31315, 42914, 177432, 189835, 111847, 189835, 219683, 239626, 60244, 163804, 4017, 51992, 59912, 107784, 158254, 164728, 168816, 210485, 251613, 267830, 268110, 271705, 274061, 219683, 8245, 14422, 31315, 93426, 227884, 242083, 8454, 24194, 27472, 108799, 110934, 143415, 179734, 189973, 215988, 223087, 235935, 276050, 52584, 68185, 71853, 95359, 160558, 192119, 206567, 209817, 211919, 21356, 36606, 40914, 62891, 78783, 120908, 129690, 145369, 160401, 163307, 171445, 183061, 212923, 227705, 240219, 269719, 14422, 25409, 46909, 83496, 98723, 171970, 178667, 258185, 263460, 2977, 6575, 7915, 8245, 10447, 21014, 22521, 26544, 29209, 29259, 31556, 37712, 46398, 51526, 55492, 62558, 75149, 76482, 77809, 78846, 90391, 103336, 106225, 110440, 110973, 112093, 113519, 114988, 120908, 121170, 135149, 136491, 139913, 144555, 150979, 154345, 165319, 168954, 174596, 182334, 182459, 196077, 201677, 205980, 206944, 207782, 211426, 216670, 220688, 224349, 228311, 229313, 236757, 240567, 251422, 258482, 266056, 266283, 270801, 270820, 273086, 8734, 30994, 37644, 60337, 66680, 74286, 88793, 89602, 94347, 95359, 108155, 114544, 130571, 163804, 238065, 241565, 30487, 85757, 110934, 171445, 220688, 4017, 8245, 8362, 14422, 22625, 30972, 31393, 74286, 76483, 89602, 100459, 114544, 115003, 116758, 118677, 124874, 125411, 129084, 135831, 140358, 142715, 153718, 160819, 206563, 208147, 218608, 222296, 224159, 227702, 228311, 240567, 254299, 264031, 271448, 271558, 7125, 8454, 25409, 137688, 189973, 225763, 276165, 22074, 28177, 36135, 62542, 80203, 114988, 154730, 221948, 244171, 265487, 276680, 36715, 55548, 75819, 126388, 127200, 159732, 172091, 243236, 245410, 251495, 265313, 271448, 40415, 105979, 124363, 135045, 162639, 181687, 223087, 235935, 273979, 9747, 135149, 150979, 203075, 217986, 224138, 249894, 8067, 36609, 62272, 88793, 98723, 127233, 169663, 196077, 207148, 8245, 10447, 10560, 21014, 26621, 29209, 33974, 104362, 113519, 115003, 156150, 168047, 210485, 210587, 224349, 235935, 236757, 246507, 277427, 104657, 122429, 126196, 201017, 210587, 112001, 214786, 220688, 241980, 270838, 124876, 209373, 120093, 114544, 221948, 24933, 69933, 128835, 172512, 236757, 55892, 241980, 15408, 126492, 114368, 123883, 207349, 269321, 32773, 69697, 102702, 227397, 274061, 98391, 98391, 11629, 36299, 69697, 81492, 98391, 153662, 190925, 231264, 235105, 269321, 189835, 153662, 7346, 8936, 11724, 102647, 104636, 126814, 139913, 148744, 149069, 196466, 264862, 275970, 31556, 55492, 96448, 104636, 126814, 129074, 161974, 227447, 265115, 11724, 55492, 88733, 95359, 104636, 108285, 126814, 129008, 218568, 231827, 264862, 3167, 7346, 75591, 95359, 102647, 104636, 129074, 174830, 190925, 203799, 251495, 264862, 13552, 123883, 150968, 178667, 190708, 241548, 273113, 9908, 95359, 104636, 107244, 126814, 148744, 252695, 11724, 19711, 104636, 123095, 126814, 129074, 136205, 149069, 225810, 264862, 5582, 53174, 91113, 114368, 123883, 203799, 248718, 76151, 123883, 135265, 153662, 177090, 228764, 273113, 4938, 26535, 35859, 51252, 88733, 95359, 104636, 123095, 126814, 129074, 148744, 249223, 258185, 13552, 123883, 129084, 153662, 190708, 203799, 273113, 11724, 104636, 126814, 203240, 267635, 16634, 16795, 48494, 56554, 76151, 107784, 123883, 129084, 135265, 189973, 190708, 216012, 228764, 253871, 254465, 269738, 11724, 15819, 19711, 95359, 102647, 104636, 126814, 136205, 227447, 266229, 62891, 104113, 126736, 244736, 254201, 271195, 158295, 224764, 13552, 68555, 76151, 123883, 135265, 153662, 190708, 228764, 273113, 16795, 68943, 206074, 228764, 254465, 273113, 15819, 104636, 110382, 123095, 126814, 129074, 226205, 241565, 162639, 239626, 14422, 48494, 78553, 101209, 112559, 153662, 180348, 226545, 249628, 11724, 15819, 75591, 95359, 132836, 139913, 16795, 23872, 76151, 123883, 273113, 11724, 96448, 102647, 126814, 162639, 78553, 112559, 153662, 180348, 29209, 127233, 158295, 163804, 185634, 232131, 267635, 13552, 23872, 68555, 153662, 213150, 14422, 114368, 123883, 132173, 153662, 185634, 213531, 11724, 55492, 129074, 189516, 104636, 110934, 140358, 154070, 158295, 185634, 234828, 237990, 258534, 271448, 23872, 68555, 143175, 184532, 228764, 249628, 10030, 11724, 159033, 49154, 112001, 114368, 123883, 153662, 227520, 247447, 273113, 78553, 153662, 13552, 31315, 57398, 114368, 144318, 153662, 167800, 177374, 185254, 227520, 247241, 264082, 273113, 153662, 68555, 69232, 123883, 129690, 153662, 11724, 26535, 52917, 88733, 126814, 127826, 129074, 159033, 24933, 87141, 124487, 203799, 216670, 257204, 258534, 265115, 27813, 51450, 114368, 123883, 139141, 153662, 273113, 22818, 52917, 57398, 72523, 226965, 13552, 114368, 123883, 129084, 153662, 185254, 216683, 223190, 227520, 247241, 251613, 264082, 273113, 22818, 52917, 61910, 88652, 156269, 175052, 8245, 31315, 69697, 114368, 114414, 123883, 129084, 153718, 177374, 185254, 227447, 227520, 247241, 264082, 273113, 1733, 68555, 123883, 130474, 135265, 153662, 177072, 190708, 210822, 248850, 254465, 273113, 11724, 83287, 100846, 126814, 49154, 114368, 153718, 165308, 244627, 28591, 29526, 32195, 48494, 77480, 101876, 139913, 146113, 159858, 203240, 221705, 227520, 247447, 261829, 267033, 36135, 104636, 112001, 123430, 129084, 177374, 227520, 273113, 61910, 156269, 185634, 30972, 31315, 82497, 110934, 125519, 196047, 212467, 232131, 235935, 258534, 265115, 51883, 78553, 114368, 123883, 273113, 35857, 41781, 136348, 177072, 184513, 235282, 13552, 16795, 29855, 76151, 111174, 123883, 129690, 153662, 157811, 160735, 190708, 196502, 203764, 228764, 253871, 254465, 7125, 104636, 112001, 123430, 123883, 153662, 163804, 164828, 165308, 216683, 226545, 227520, 273113, 11724, 61038, 102647, 129074, 82407, 100906, 114988, 182993, 216466, 252695, 48494, 52614, 81492, 104636, 123883, 153662, 185254, 207349, 212965, 247447, 273113, 36135, 104636, 112001, 123883, 124487, 216683, 227520, 24933, 259629, 16795, 61427, 103304, 141710, 161974, 209756, 211919, 235282, 252695, 264031, 87141, 128835, 232131, 50895, 125692, 163804, 232131, 258534, 13552, 40889, 79740, 104211, 123883, 129084, 144531, 153662, 153718, 165308, 194676, 207349, 218552, 227520, 252695, 259930, 264082, 273113, 18082, 76151, 79740, 123883, 143175, 153662, 167800, 169699, 187256, 189973, 218552, 226545, 228764, 248850, 254465, 265115, 273113, 15819, 26535, 31393, 50730, 75591, 95991, 159033, 259260, 16916, 27813, 56307, 79740, 153662, 158295, 180348, 203240, 221705, 225595, 247055, 247447, 261829, 238889, 252347, 259260, 3371, 26544, 30276, 32195, 40889, 104211, 111847, 112001, 123883, 123981, 144531, 153662, 165308, 207349, 218552, 254465, 273113, 13552, 40889, 123883, 135149, 153662, 153718, 194676, 207349, 212965, 218552, 227520, 247241, 252695, 259930, 264031, 273113, 49109, 83287, 128835, 129074, 226965, 206074, 13552, 31393, 40889, 57398, 107021, 123883, 153662, 153718, 177090, 194676, 207349, 210485, 212965, 218552, 227520, 252695, 273113, 16795, 123883, 129690, 153662, 177072, 226965, 237990, 273113, 278188, 2110, 44893, 75591, 127200, 129074, 131154, 193778, 208141, 218568, 56554, 112001, 123883, 144318, 207349, 240267, 273113, 153662, 47316, 79740, 80810, 81492, 98547, 104636, 149934, 203240, 237990, 258185, 276165, 45557, 61028, 109899, 114368, 123883, 207349, 227520, 264031, 52853, 88652, 129074, 142524, 267635, 58612, 111190, 124487, 125519, 197659, 222035, 232945, 267635, 13552, 30276, 40889, 69933, 73651, 109491, 114368, 123883, 124487, 144318, 153662, 156467, 194676, 200422, 212965, 227520, 228764, 229011, 260944, 266056, 273113, 4938, 16795, 30533, 83637, 108005, 144531, 162639, 207148, 213150, 218241, 244627, 2110, 75591, 102647, 149069, 157273, 159033, 202277, 259260, 30533, 114988, 179433, 248718, 30276, 40889, 48494, 82497, 112001, 146386, 153662, 158295, 177690, 184532, 185254, 227520, 246634, 252695, 254465, 273113, 227250, 26517, 177690, 180348, 226545, 13552, 19711, 23871, 27813, 69933, 73651, 106007, 114368, 123883, 124487, 153662, 153718, 156467, 163804, 165308, 167800, 177374, 207349, 212965, 216683, 227520, 229011, 238699, 247241, 252695, 258185, 273113, 13552, 26544, 40889, 48494, 49842, 73651, 93426, 109899, 112761, 114368, 120908, 123883, 124487, 153662, 153718, 156467, 177374, 182334, 194676, 208671, 209756, 212965, 224764, 227520, 228764, 247241, 247447, 252695, 258185, 273113, 26544, 27813, 68156, 203240, 203799, 247055, 258185, 114988, 156150, 204864, 252865, 269890, 153662, 156467, 194676, 76151, 158295, 163804, 191523, 52917, 133284, 149934, 163804, 52199, 114368, 123883, 112001, 135149, 146113, 153662, 212965, 249628, 258185, 11724, 102647, 127200, 135351, 148744, 158295, 176214, 207259, 223087, 249223, 38273, 56307, 159858, 178199, 203401, 232131, 258534, 265115, 2276, 87141, 203401, 206074, 35445, 40889, 55607, 68984, 73651, 78553, 109491, 114368, 119517, 123883, 153662, 164728, 178667, 188513, 189835, 189973, 226965, 227520, 237990, 264031, 264947, 273979, 278026, 278418, 30276, 98391, 180348, 31846, 80810, 153662, 190741, 203799, 226545, 237990, 247447, 255489, 30972, 36135, 123095, 163804, 184424, 190925, 207148, 228681, 278633, 5582, 59727, 69697, 98391, 104144, 153662, 190925, 226006, 21031, 22074, 86145, 88733, 129074, 174726, 175052, 232131, 8245, 9747, 19842, 35836, 49842, 51450, 52853, 73651, 74758, 82497, 98391, 109491, 114368, 123883, 129084, 139913, 144531, 153662, 158295, 177090, 177374, 178667, 184532, 185254, 189516, 213531, 216683, 219683, 220240, 225996, 227520, 227836, 228764, 247447, 264082, 273113, 278418, 50730, 158295, 180348, 243759, 246655, 31393, 41781, 49154, 51450, 52853, 73651, 76710, 79266, 109491, 114368, 123883, 130571, 139828, 139913, 153662, 158295, 177090, 177374, 185254, 189516, 201674, 207349, 213531, 217375, 219683, 227520, 247241, 247447, 264031, 273113, 160401, 258534, 265115, 56447, 68555, 79266, 119517, 153718, 156467, 160401, 161299, 188513, 189516, 216466, 227520, 247447, 264031, 264947, 266056, 25981, 98391, 153662, 27875, 102647, 123095, 132836, 159033, 205980, 227447, 31391, 52614, 98391, 102702, 112761, 114368, 135265, 177374, 68943, 69156, 105214, 110934, 216466, 249989, 1733, 51450, 69232, 73651, 74758, 98391, 109899, 114368, 123883, 129084, 153662, 158295, 165308, 185254, 189516, 192211, 201674, 203799, 213531, 216012, 216683, 219683, 220240, 225996, 227520, 237990, 247447, 254144, 273113, 16795, 54453, 58594, 230708, 114988, 129008, 193499, 22074, 27813, 30985, 68555, 203799, 221705, 247055, 7915, 25981, 30276, 79266, 98391, 138441, 194676, 216012, 252843, 11629, 98391, 153662, 153718, 34588, 56447, 89602, 104144, 136139, 223431, 264031, 10560, 31315, 46398, 76151, 89602, 114444, 126726, 133296, 153718, 193499, 195694, 235105, 244627, 13552, 26517, 46909, 107865, 112001, 119517, 126736, 132173, 153662, 185254, 194676, 216683, 223190, 227520, 254465, 259930, 102702, 158295, 191523, 194676, 252843, 16795, 150968, 882, 9908, 52853, 98391, 176214, 212923, 235392, 261829, 2110, 11724, 58594, 135149, 159033, 202277, 265115, 267635, 10560, 31315, 76151, 89602, 133296, 153718, 195694, 225996, 245410, 10560, 26240, 31315, 76151, 89602, 133296, 153718, 245410, 10560, 31315, 35859, 76151, 133296, 153718, 195694, 225996, 245410, 10560, 26240, 31315, 76151, 133296, 153718, 225996, 245410, 10560, 26240, 35859, 46398, 80810, 133296, 153718, 225996, 245410, 157273, 10560, 31315, 76151, 133296, 153718, 225996, 245410, 882, 40889, 41781, 50073, 58612, 91113, 133296, 138602, 147141, 153718, 161299, 171638, 193499, 201674, 227520, 247447, 264031, 27813, 30276, 56307, 80810, 98547, 107021, 161299, 203799, 221870, 237990, 247055, 54335, 139828, 178199, 2033, 13552, 79266, 91058, 98391, 104636, 114368, 114544, 123883, 129465, 153662, 177090, 204813, 213150, 216012, 218608, 226965, 227520, 234359, 259930, 269321, 273113, 276165, 16795, 54335, 79266, 98391, 114368, 123883, 129465, 146386, 153662, 162827, 171638, 177090, 213150, 216012, 227520, 234359, 240756, 253871, 273113, 276165, 16795, 30276, 54335, 69232, 79266, 91058, 98391, 114368, 123883, 130474, 146386, 153662, 156467, 167800, 171638, 213150, 216012, 226965, 234359, 236283, 240756, 247447, 259930, 273113, 276165, 2110, 75591, 102275, 187574, 259260, 278582, 65584, 104211, 104429, 125779, 153718, 185254, 190925, 227520, 189835, 264082, 63956, 15408, 69078, 75591, 87964, 121264, 184424, 207965, 221732, 30533, 46398, 144038, 219683, 263163, 882, 16634, 22625, 51252, 53174, 55892, 93179, 95932, 179075, 23872, 17003, 41364, 16634, 46398, 101851, 240144, 16795, 55492, 145449, 210485, 39773, 78553, 135149, 232106, 270820, 100264, 229011, 270820, 235105, 229011, 237271, 125287, 126736, 184513, 6575, 69389, 73588, 94347, 159033, 207825, 174304, 212142, 30276, 113519, 125411, 125519, 127359, 158606, 175003, 199772, 230522, 98904, 101851, 111174, 208671, 68249, 177072, 37712, 36327, 94347, 95932, 48494, 242106, 219683, 69078, 108950, 138578, 196502, 235282, 238065, 256407, 5582, 6251, 111174, 133571, 203240, 31315, 90391, 31315, 31315, 223501, 53418, 274308, 31315, 98391, 21014, 27740, 60337, 31826, 35859, 55892, 75485, 110973, 153662, 158295, 172091, 184299, 185233, 188171, 210485, 236283, 237271, 254206, 274061, 92810, 98391, 108155, 61901, 276050, 222296, 2977, 16795, 23872, 55492, 58612, 136139, 192211, 253871, 264031, 68249, 92810, 22625, 29526, 36749, 53392, 62464, 95250, 137688, 267033, 183101, 212628, 92810, 155580, 9613, 242083, 259118, 98391, 158295, 243759, 98391, 235105, 8454, 10447, 30487, 37712, 74691, 132083, 236757, 8454, 11224, 91103, 162639, 11601, 25409, 36299, 38544, 50073, 60244, 87964, 125692, 153662, 172030, 208671, 216466, 52614, 55187, 77809, 81848, 101304, 229011, 273979, 187517, 25981, 30273, 31315, 126196, 137589, 165308, 188273, 192710, 201677, 209756, 212142, 218568, 225763, 98391, 188171, 216012, 264947, 16795, 42323, 61798, 75819, 98391, 114988, 125519, 182993, 210587, 224809, 235105, 239584, 253871, 8681, 36299, 69971, 87555, 101305, 107784, 110973, 122429, 147686, 171445, 187145, 201674, 218552, 221732, 225595, 251140, 255489, 266865, 55178, 23872, 152645, 122429, 142524, 271705, 6563, 271705, 271705, 93629, 275970, 112001, 21659, 270820, 8734, 21364, 275970, 31315, 111578, 120598, 74691, 275970, 204864, 187517, 6323, 92810, 77809, 185176, 234165, 69933, 193898, 225763, 251003, 23511, 28523, 62881, 95010, 125692, 150979, 178667, 143964, 157273, 165308, 203240, 108752, 123883, 98686, 128085, 138578, 183995, 187613, 31315, 6323, 42323, 251003, 42323, 48975, 49109, 100846, 146113, 46909, 100264, 187145, 193529, 174830, 219321, 264543, 77809, 6323, 129008, 248718, 126196, 140036, 248718, 112001, 114368, 144531, 242106, 100264, 31315, 93179, 130474, 173481, 223501, 258884, 31315, 107865, 201058, 240567, 35836, 55490, 62272, 77809, 158295, 202711, 41781, 66680, 130474, 136205, 153662, 158295, 158433, 226006, 244171, 260944, 36606, 73394, 130474, 136205, 136326, 187256, 207499, 237271, 48494, 93179, 1733, 39281, 42323, 268751, 21014, 39281, 42323, 193778, 251003, 268751, 16795, 21014, 42323, 98391, 162639, 174216, 190923, 242106, 251003, 268751, 13850, 88733, 187517, 260944, 3167, 64310, 224764, 252848, 55490, 107784, 220688, 274061, 16795, 253871, 52853, 81597, 207349, 247447, 270838, 69355, 141710, 7346, 102967, 235105, 235392, 93629, 126492, 278418, 52584, 78448, 258185, 248718, 128835, 189516, 214786, 240035, 153662, 21014, 63938, 76102, 40943, 184532, 247429, 69232, 7346, 22365, 218568, 218568, 197659, 218552, 232959, 89602, 160558, 266226, 20172, 25131, 43910, 80683, 87555, 137589, 166409, 169682, 201042, 204864, 224764, 226616, 235282, 243360, 244286, 68249, 52584, 171445, 204864, 6251, 11224, 16634, 23872, 37400, 110934, 137688, 174304, 177432, 224138, 255092, 258534, 10030, 7346, 62464, 66574, 88122, 106225, 136491, 174304, 183995, 197687, 208406, 212328, 231827, 255092, 36606, 2891, 36715, 40330, 59912, 94347, 100906, 105937, 110934, 138543, 147224, 150896, 171818, 173415, 198046, 216683, 228021, 230522, 147224, 195904, 147686, 69078, 38023, 252695, 145449, 146932, 243360, 37400, 56447, 83496, 163488, 177432, 216683, 270838, 14521, 16634, 55548, 73923, 74286, 110214, 123094, 135045, 178920, 203075, 30081, 111190, 115572, 127233, 177432, 6073, 22521, 30081, 32773, 47316, 55187, 74056, 110934, 111190, 131154, 181176, 229011, 242083, 261829, 274808, 31556, 37712, 38023, 40943, 42914, 55492, 69389, 95359, 96448, 100906, 101209, 104636, 107784, 138543, 142524, 144531, 148744, 153662, 160558, 196077, 201017, 230522, 249862, 36606, 39773, 42914, 69389, 70415, 92547, 104636, 123257, 125039, 138543, 150896, 153662, 155147, 160558, 162639, 201684, 230522, 247429, 247852, 249862, 263163, 271144, 271705, 7346, 69389, 104636, 115572, 138543, 153662, 160558, 203240, 230522, 247429, 249862, 3363, 69389, 100906, 104636, 115572, 138543, 153662, 160558, 184279, 230522, 247429, 249862, 263163, 40943, 69389, 92547, 104636, 125039, 138543, 153662, 189835, 230522, 247852, 249862, 271705, 7346, 69389, 92547, 100906, 104636, 125039, 138543, 153662, 230522, 249862, 263163, 16634, 27472, 95359, 129716, 163488, 211426, 235105, 260897, 177432, 162738, 93629, 102967, 111947, 124876, 162738, 93179, 126492, 128835, 135149, 140358, 158606, 19664, 47316, 145619, 235105, 189835, 21014, 30735, 31315, 55492, 61427, 93179, 107784, 269566, 274056, 102967, 264862, 143837, 248718, 98930, 224809, 251394, 259118, 226879, 184279, 147965, 7346, 78448, 128835, 51883, 16795, 18082, 30533, 93629, 251140, 109461, 10030, 128835, 158295, 26621, 69355, 158295, 76168, 155495, 95359, 209817, 224923, 251394, 61901, 87141, 36715, 106007, 168047, 882, 153662, 882, 15049, 16795, 21014, 30735, 43687, 54453, 65663, 95903, 107784, 110912, 113270, 127359, 137336, 138543, 155014, 158433, 177432, 187145, 189973, 190923, 220688, 223501, 228764, 230522, 232945, 232964, 234828, 236757, 240035, 269566, 269890, 15049, 21014, 22625, 31315, 43687, 47316, 48494, 60621, 65663, 102967, 110912, 113270, 124876, 155014, 178240, 189973, 190923, 208671, 218121, 223501, 232945, 240035, 266229, 271558, 273086, 51883, 120396, 141710, 218608, 6543, 60707, 117251, 137589, 212628, 215006, 215988, 189080, 208555, 55187, 55492, 58612, 140036, 140223, 245645, 248477, 37712, 45557, 53418, 61038, 69684, 110934, 157811, 171445, 223190, 235105, 274056, 103336, 159506, 159732, 177432, 224764, 266226, 30985, 69232, 159506, 224349, 163488, 182527, 190923, 235105, 240568, 13552, 14422, 19842, 35836, 40943, 53174, 53418, 68555, 78448, 87141, 105979, 121170, 126492, 147847, 150896, 154529, 174726, 177432, 196738, 227397, 30735, 37208, 162738, 211351, 211426, 240035, 257204, 276231, 135360, 10819, 37512, 96440, 98440, 98783, 100906, 133571, 133747, 178199, 225996, 236757, 251394, 255078, 16795, 129084, 185722, 194676, 254465, 12538, 21659, 55187, 70666, 104113, 160401, 203240, 225686, 275970, 2276, 79977, 112001, 206563, 208406, 227397, 70415, 233911, 236283, 13552, 26593, 153662, 192211, 213150, 248718, 259629, 91113, 123883, 273113, 79977, 114368, 123883, 132173, 140358, 153662, 177090, 194676, 216466, 227520, 273113, 60858, 196738, 207494, 48025, 153662, 254465, 155014, 25981, 69684, 153797, 7346, 242083, 245645, 8245, 16795, 21014, 21618, 27472, 30972, 53174, 76151, 80203, 93629, 95359, 133284, 143415, 144318, 155147, 163804, 174596, 177432, 183187, 189835, 190708, 197364, 214786, 216670, 221445, 223190, 226965, 227705, 241666, 251843, 76499, 114988, 190925, 226965, 246311, 252695, 69389, 104636, 106007, 125039, 138543, 153662, 249862, 98686, 93629, 120093, 14521, 76499, 153054, 155147, 195469, 170513, 218121, 20180, 26593, 30735, 33974, 38273, 46398, 49109, 69389, 73588, 79266, 98723, 104636, 107244, 139913, 141710, 148712, 157273, 158295, 162052, 162738, 166123, 172742, 174830, 177432, 218568, 226965, 258534, 264947, 91832, 95923, 210822, 7915, 24194, 30081, 30533, 52584, 60244, 75081, 89602, 100906, 104636, 111190, 115490, 125519, 139359, 167812, 174304, 175052, 207825, 220688, 224923, 239584, 240700, 245645, 249862, 255489, 270605, 882, 76168, 104636, 141493, 168144, 237748, 268032, 48494, 79740, 93179, 112001, 123883, 153662, 213531, 227520, 273113, 64310, 158295, 193529, 203401, 8681, 127359, 144555, 178920, 40889, 112001, 6073, 43687, 55927, 60583, 78448, 101305, 114544, 123544, 135360, 171818, 203240, 229011, 259930, 37644, 38273, 40943, 42914, 60244, 77181, 104399, 105979, 137589, 147847, 150124, 154992, 189835, 197364, 204864, 207246, 207965, 210485, 223566, 230522, 271448, 6543, 89602, 95359, 114414, 124363, 140223, 158433, 159033, 159506, 163307, 192093, 231210, 246000, 278843, 6323, 120396, 126492, 128208, 187256, 248718, 261829, 14521, 16488, 49460, 75591, 76352, 93629, 95359, 96357, 107784, 110934, 156467, 230522, 234828, 244286, 245410, 264311, 28634, 158295, 55492, 93047, 207499, 236283, 16488, 20172, 46398, 55490, 63956, 69078, 77181, 83637, 94347, 96357, 104113, 111174, 142524, 153662, 163202, 208406, 211426, 236757, 240370, 13850, 21576, 23872, 31556, 37512, 87555, 101876, 115435, 136491, 138543, 140223, 187145, 266865, 68555, 110373, 158433, 158606, 211288, 21014, 75591, 153513, 156269, 189973, 190925, 248718, 251843, 53418, 96357, 13850, 76499, 123544, 127914, 159506, 170513, 177432, 184279, 187145, 204864, 225686, 245410, 255078, 25131, 124874, 7346, 10314, 32773, 69078, 93629, 169699, 7283, 16795, 38273, 80810, 88733, 93047, 123883, 138995, 156269, 198012, 204864, 240035, 16795, 43910, 75591, 76102, 127826, 155014, 168047, 171295, 200674, 235282, 253871, 270605, 278633, 25981, 55548, 197659, 254206, 24933, 39345, 52853, 112001, 114368, 123883, 132173, 213531, 217056, 273113, 16634, 30533, 60263, 94923, 94951, 95991, 159506, 177432, 197659, 255078, 23768, 24194, 36609, 108155, 117251, 140223, 204864, 23872, 30276, 36606, 46398, 63394, 74286, 104636, 112001, 112026, 163488, 163804, 206944, 218608, 229741, 232131, 246311, 249894, 20180, 30735, 35859, 44728, 46398, 51742, 53220, 56959, 69389, 79266, 104636, 123744, 155014, 156269, 158295, 162052, 162738, 178667, 189080, 206563, 208671, 218568, 241666, 258534, 258884, 2766, 6575, 9747, 22074, 27472, 30735, 35836, 37712, 44728, 51742, 59189, 61854, 63394, 66878, 69156, 69389, 83287, 94923, 95359, 98723, 101876, 104636, 105937, 107244, 112093, 126903, 128835, 136252, 141710, 144318, 146348, 149069, 156269, 162052, 169779, 174830, 183995, 184299, 185254, 187624, 189973, 195694, 202277, 209373, 217056, 218568, 225810, 225886, 256843, 258534, 264862, 268032, 276050, 49154, 51883, 64310, 248718, 254, 13850, 140223, 170513, 187145, 196160, 20180, 30735, 33974, 38023, 46398, 50730, 60244, 69156, 69389, 73588, 95991, 97754, 104211, 104636, 105937, 107244, 108005, 124259, 139913, 141710, 144318, 156269, 157273, 162052, 172742, 174830, 202277, 206563, 208406, 208671, 227447, 231210, 256843, 258534, 258884, 264862, 268032, 14422, 20180, 30735, 31556, 50730, 51742, 53220, 60621, 69156, 69389, 79266, 83287, 101876, 104636, 105937, 139913, 146113, 156269, 158295, 162052, 174830, 177432, 202277, 227447, 256843, 258534, 258884, 265115, 277427, 21659, 24194, 38023, 70666, 81368, 94347, 100846, 109779, 111944, 116904, 123544, 123883, 125039, 146932, 152645, 153662, 171295, 174304, 207246, 224138, 225686, 229741, 246000, 251422, 882, 37712, 60337, 86189, 137589, 178920, 15049, 43687, 47316, 65663, 95359, 124876, 178240, 178667, 186570, 187256, 223501, 224764, 232945, 269566, 274056, 68555, 68943, 81848, 87141, 196738, 60707, 151589, 31393, 106007, 189115, 209756, 222296, 249223, 264082, 93629, 107784, 87141, 196738, 16795, 48025, 102647, 110973, 194676, 261829, 137688, 189973, 259260, 184532, 226879, 6323, 7346, 20180, 26517, 26593, 30735, 46398, 69389, 79266, 104636, 112026, 123744, 130571, 137211, 139913, 141710, 156269, 157273, 162052, 172512, 177040, 183995, 206563, 207499, 208671, 231210, 241666, 258534, 6323, 107784, 128835, 259629, 78553, 79740, 112001, 114368, 123883, 153662, 273113, 16795, 35859, 56307, 62881, 120396, 126492, 197364, 203764, 222035, 244627, 93363, 184299, 212628, 48025, 64310, 69355, 95903, 254465, 268032, 102967, 189973, 206534, 235105, 248718, 147847, 153662, 7346, 46443, 60707, 83637, 95359, 104636, 123981, 127826, 190925, 227447, 278137, 68943, 79977, 87141, 110373, 112001, 124487, 206563, 228998, 250405, 219546, 129084, 177432, 184299, 204864, 255078, 48025, 69355, 144318, 227705, 15049, 76942, 93179, 104665, 113270, 124876, 137336, 160558, 178240, 189973, 211426, 223501, 224764, 232945, 240035, 244627, 273086, 276231, 110912, 113270, 228681, 273086, 6575, 49460, 55892, 75591, 115435, 124874, 154345, 169779, 197364, 201042, 95932, 174830, 104636, 112001, 114368, 119517, 123883, 124487, 153662, 252695, 273113, 82497, 95359, 98686, 126492, 158295, 197364, 203764, 258534, 271558, 180348, 66680, 81597, 84024, 93179, 102275, 113270, 113904, 147965, 158295, 178199, 236757, 244593, 247447, 251843, 258884, 69697, 76151, 153662, 235392, 10819, 60263, 68436, 177432, 182334, 197659, 68436, 177432, 197659, 13552, 14422, 67840, 112001, 76499, 153054, 165319, 177432, 197659, 204864, 16795, 23871, 31050, 48494, 68984, 78553, 107865, 123883, 144318, 153662, 200674, 252071, 253871, 273113, 276165, 52614, 153662, 35836, 81216, 106849, 110973, 126736, 146803, 158295, 244627, 251422, 128835, 136252, 169779, 210717, 235935, 16795, 31315, 46909, 52614, 109491, 112001, 114368, 119517, 123883, 144531, 153662, 273113, 94951, 159506, 208406, 242083, 12538, 16795, 21014, 45557, 55927, 56959, 69697, 70666, 76499, 77809, 78553, 87555, 108352, 137589, 143163, 159033, 162052, 185233, 224138, 240700, 246311, 247447, 266226, 48025, 95359, 106849, 110973, 111847, 254465, 277639, 124487, 60263, 169779, 278418, 16795, 49212, 85656, 86145, 88738, 153662, 158295, 232131, 125692, 164675, 224138, 21576, 89602, 273086, 77480, 109461, 114444, 266865, 270801, 273086, 8681, 117251, 136139, 201042, 17003, 28177, 201042, 210597, 242083, 128835, 259118, 8362, 93047, 277427, 111578, 25131, 41364, 59912, 69355, 103336, 105214, 115435, 142623, 170513, 195469, 201042, 218121, 218552, 224249, 263460, 22625, 89602, 100906, 122429, 204864, 218121, 232211, 249223, 276050, 59727, 160819, 168642, 201042, 17003, 73330, 76499, 115435, 8681, 63956, 76499, 6073, 11224, 74286, 126903, 136205, 162827, 210485, 238120, 270605, 95359, 73330, 232211, 109461, 109491, 127826, 196466, 210485, 249894, 14698, 25981, 28634, 70666, 222035, 39773, 143175, 143175, 218552, 68943, 143175, 56959, 36606, 51450, 240401, 218552, 132836, 242299, 88793, 138097, 143175, 252695, 150979, 218552, 113904, 132836, 218552, 226965, 60244, 143175, 55892, 112001, 51450, 244593, 52614, 143175, 225763, 218552, 143837, 141710, 166123, 88937, 14698, 136348, 244593, 201684, 6251, 7346, 29259, 31040, 50730, 51450, 84024, 88738, 99955, 106225, 112093, 124259, 146113, 162639, 187517, 189973, 193778, 221870, 242106, 251003, 268751, 194676, 227705, 102647, 107784, 211288, 6251, 128835, 147965, 76352, 110973, 177432, 104636, 237271, 137688, 162639, 189973, 248718, 112001, 248718, 111847, 202277, 39281, 48975, 52614, 59189, 83287, 93179, 113270, 153662, 173481, 198046, 221870, 251843, 255489, 12824, 23872, 31315, 48025, 48046, 55892, 70415, 76102, 110373, 143837, 144478, 158295, 207349, 238889, 251843, 252347, 17859, 88733, 128085, 266283, 3827, 30533, 35704, 55178, 68436, 73588, 94951, 108799, 163488, 186570, 222296, 225595, 248718, 251422, 140358, 187256, 16634, 42093, 60244, 61427, 69971, 79285, 91113, 123981, 135831, 143211, 162738, 264152, 269890, 271176, 16795, 22074, 62881, 83287, 134797, 197364, 216683, 227705, 83287, 128835, 203799, 17859, 30972, 76102, 93179, 113270, 126736, 137688, 158295, 169699, 173481, 190459, 247752, 251843, 254144, 258185, 258884, 507, 20201, 31315, 87964, 144478, 158295, 229632, 247241, 247447, 247752, 265115, 98686, 145641, 218068, 61854, 69697, 76151, 112761, 146803, 235105, 16795, 40889, 73651, 107784, 111174, 135149, 171602, 177375, 190459, 237271, 248850, 23872, 93179, 189558, 264082, 78783, 80642, 130571, 162639, 189973, 204864, 235105, 248718, 6543, 79740, 95359, 112093, 190925, 193778, 227447, 228998, 235105, 242106, 252695, 259260, 108752, 126196, 236757, 16795, 19711, 31315, 52917, 85656, 88738, 155014, 189558, 197364, 203764, 203799, 232131, 11224, 16795, 30985, 69933, 88738, 104636, 107784, 143175, 254465, 20971, 73588, 108285, 123981, 158295, 189558, 204864, 217375, 230013, 241666, 264082, 270906, 8681, 36606, 86189, 95359, 124874, 197659, 232131, 55892, 69971, 76499, 107244, 110214, 111947, 133747, 143163, 146348, 150979, 205980, 31315, 123981, 23872, 36715, 61427, 127200, 130571, 140223, 169699, 213150, 230522, 68943, 110373, 196738, 206563, 6543, 16795, 35859, 55492, 104636, 155014, 187145, 237271, 31393, 158295, 227705, 270906, 25981, 26240, 37208, 104636, 108752, 145619, 153662, 158295, 184513, 221705, 241666, 242646, 247752, 261829, 273979, 13552, 16795, 20201, 31050, 109491, 112761, 114368, 228764, 26621, 39773, 115003, 123744, 136348, 172742, 236058, 245650, 252695, 255489, 268110, 277427, 20060, 47316, 104144, 144318, 158295, 193898, 252695, 82497, 93179, 104636, 153662, 158295, 207259, 232131, 232945, 247241, 251843, 258884, 69697, 76151, 82497, 104636, 123883, 129465, 8067, 99955, 110912, 193778, 242106, 247241, 259260, 31315, 120396, 126492, 130571, 158295, 173415, 197364, 203401, 241666, 250184, 251843, 16634, 93363, 158295, 234828, 237990, 241666, 31315, 76530, 98686, 123981, 139913, 173415, 258534, 35859, 39345, 82497, 95359, 102647, 104636, 126492, 203764, 212923, 235935, 241565, 258534, 16795, 25981, 31315, 46909, 82497, 120396, 158295, 209373, 232131, 240267, 245088, 255489, 258534, 46443, 198012, 128835, 130571, 206534, 248718, 8067, 41781, 88738, 95359, 99955, 124259, 175052, 193778, 221870, 224159, 228998, 241548, 242106, 253821, 268751, 882, 8681, 10314, 49842, 68185, 93047, 95359, 96357, 100906, 104636, 110973, 120396, 123981, 126736, 149084, 153662, 158433, 164926, 169663, 172742, 211344, 211426, 222296, 224349, 232211, 238889, 240567, 248718, 251843, 256844, 276231, 2033, 28619, 33974, 91832, 95359, 104657, 115490, 127200, 131837, 140358, 186762, 218608, 261829, 270352, 270820, 271538, 66680, 98391, 111174, 114544, 120396, 123883, 140358, 145619, 188273, 26544, 126196, 134797, 154070, 188273, 189973, 17667, 32773, 69971, 110973, 125039, 207782, 248718, 59727, 78834, 95359, 138578, 173415, 174304, 183995, 185722, 218068, 251140, 32195, 69211, 75819, 78448, 138995, 189558, 241666, 277427, 77480, 16795, 64310, 121986, 138010, 228868, 241666, 244627, 40943, 76151, 231264, 269738, 6543, 26621, 39773, 91113, 100906, 123744, 159858, 177072, 193499, 277427, 23511, 30985, 30994, 39345, 40889, 61910, 76818, 107021, 114544, 120598, 122506, 167746, 248718, 252848, 8067, 146113, 148744, 162639, 187256, 193778, 242106, 251003, 253821, 265115, 6575, 8067, 50730, 75591, 88738, 112093, 146113, 166409, 177374, 193778, 227447, 242106, 247241, 259260, 268751, 8067, 50730, 62862, 92810, 99955, 112093, 135351, 175052, 177091, 193778, 223087, 242106, 259260, 264082, 268751, 35857, 40889, 128060, 125519, 30276, 123883, 153662, 225996, 244627, 245410, 258185, 274061, 140036, 162639, 188513, 189973, 68760, 135609, 189973, 229011, 7283, 7346, 73330, 110973, 135149, 165319, 204864, 240144, 271176, 507, 2276, 19842, 56307, 73394, 106007, 118677, 158295, 190925, 255489, 169779, 196738, 78783, 112761, 65663, 112761, 177690, 240568, 104636, 200422, 248718, 252695, 87141, 228998, 234828, 56959, 93047, 93363, 136326, 159858, 241666, 8067, 53220, 61854, 177040, 190925, 241980, 507, 2276, 53220, 110912, 120396, 139913, 158295, 166123, 182993, 200674, 208897, 238889, 241980, 245088, 261829, 264947, 30276, 106007, 111847, 133284, 156467, 158295, 200674, 203401, 226545, 268032, 269890, 507, 14521, 30276, 61028, 106007, 124363, 140358, 145449, 180348, 193898, 208897, 251843, 252695, 189973, 30276, 37208, 82497, 104636, 108752, 139913, 158295, 162639, 190925, 232945, 245088, 247752, 30735, 51450, 61901, 114988, 162639, 193778, 218121, 240219, 242106, 52584, 54898, 83287, 83637, 88738, 99955, 106225, 111190, 135149, 162780, 190925, 224159, 245650, 252695, 8067, 102275, 252695, 104144, 110934, 135149, 139913, 162639, 187145, 208897, 231351, 241980, 274308, 56307, 92810, 190844, 208897, 223501, 231351, 237990, 241980, 274308, 35836, 53220, 59912, 80810, 95359, 102275, 104636, 104665, 124942, 129084, 158295, 167746, 173481, 206563, 224764, 225886, 227705, 232945, 244593, 247447, 16795, 31826, 40889, 48046, 61910, 65584, 71234, 72990, 79740, 83287, 95359, 110912, 111947, 112001, 124487, 135149, 158433, 171602, 192119, 196160, 202711, 225595, 236757, 241980, 256844, 261829, 277639, 181212, 223156, 250405, 19085, 87964, 104144, 107784, 124487, 158295, 212467, 232945, 234359, 242106, 254144, 255489, 16795, 31826, 43687, 48046, 65584, 68156, 68555, 86145, 124487, 135149, 136071, 203799, 223156, 261829, 267033, 19085, 19711, 27472, 31826, 62881, 72990, 86145, 124363, 156300, 201674, 207782, 216466, 219683, 221705, 241666, 244627, 245088, 246655, 253871, 268032, 270820, 26240, 165319, 169682, 187624, 204864, 207494, 249862, 254206, 243, 20060, 120598, 244171, 8253, 69684, 133284, 173415, 197659, 198046, 206534, 224764, 140358, 153662, 189973, 104636, 136348, 10819, 60707, 79266, 102647, 225078, 29209, 70666, 126726, 143175, 159858, 171445, 187256, 189835, 214786, 254299, 31393, 46909, 48975, 78553, 123883, 134797, 172061, 190925, 273113, 126196, 135149, 146803, 188273, 269321, 84024, 123981, 204864, 225763, 236757, 269890, 28634, 38273, 108752, 114444, 126196, 139913, 212467, 232945, 247752, 254465, 11629, 153662, 164828, 53220, 82497, 196047, 244627, 267033, 277427, 27740, 37208, 104665, 108752, 120396, 144318, 158295, 173291, 187256, 240035, 242106, 243759, 247447, 247752, 251003, 258185, 28634, 47316, 60621, 61901, 69933, 80810, 108752, 124487, 126196, 135149, 140358, 141010, 184513, 193898, 235935, 242646, 37208, 69933, 80810, 110373, 110934, 126196, 141010, 162639, 223431, 242646, 247447, 247752, 252347, 255489, 258185, 129074, 135609, 266056, 278026, 2276, 16916, 44728, 76483, 113270, 140358, 175052, 190925, 232945, 247241, 247752, 252843, 276231, 8245, 26544, 126196, 153662, 183995, 188273, 266056, 273113, 91113, 120396, 123883, 134797, 188273, 223190, 7158, 16795, 29209, 31826, 34588, 50073, 71234, 95903, 104399, 106849, 110973, 171968, 223156, 225810, 230013, 236283, 241666, 255489, 274634, 9856, 31826, 41781, 69355, 91113, 97721, 104211, 126388, 144478, 172091, 177375, 181176, 193499, 196160, 202711, 221705, 224809, 226616, 229313, 234165, 236283, 7125, 31826, 65584, 77480, 130474, 133296, 135149, 183101, 203799, 89602, 112026, 190925, 252695, 269890, 271448, 54453, 158295, 212923, 47316, 108752, 171968, 241980, 95932, 104399, 123981, 223156, 253871, 267033, 65584, 123095, 264031, 25981, 93426, 180348, 252843, 135149, 164828, 507, 30276, 59912, 76151, 98391, 104144, 140358, 147965, 156467, 171638, 180348, 187256, 209373, 229011, 242646, 507, 2276, 30276, 51883, 56307, 76151, 98391, 98783, 104144, 106007, 158295, 163804, 223501, 225886, 247752, 253871, 50895, 124310, 168144, 247752, 47316, 50895, 126736, 134797, 190925, 273113, 26544, 50895, 98391, 123883, 145619, 154070, 156467, 188273, 252843, 273113, 112001, 145619, 98391, 126196, 134797, 144478, 234359, 266056, 273113, 28634, 47316, 54335, 98783, 110934, 145619, 161299, 191523, 247752, 252695, 25131, 56307, 65584, 104144, 124310, 126196, 198046, 223566, 225886, 48025, 61910, 65584, 104362, 136326, 270820, 2276, 65584, 67840, 85993, 125519, 176214, 180348, 191523, 247752, 252865, 256843, 270820, 79266, 136348, 193778, 251003, 259260, 2276, 60621, 65584, 135149, 166409, 229011, 235935, 247752, 248464, 2276, 44893, 98391, 24933, 25981, 39345, 96320, 98904, 108752, 111847, 123430, 126196, 193898, 216670, 235935, 242646, 244627, 247447, 251843, 261829, 47316, 92810, 113270, 153662, 143175, 138441, 222035, 36609, 138441, 143175, 148744, 32195, 98391, 113904, 130474, 158295, 242106, 28634, 81597, 98391, 235105, 260944, 270820, 187517, 21011, 48975, 123883, 136139, 264031, 98391, 273113, 83637, 98391, 140036, 248718, 27740, 31315, 73394, 95903, 211351, 16795, 55490, 81848, 98391, 130474, 187256, 190844, 225595, 229313, 253871, 255546, 258938, 276231, 7158, 55892, 71234, 98391, 136326, 143175, 158295, 196160, 216466, 224809, 253871, 258938, 260944, 22365, 26544, 115003, 154070, 69697, 76151, 207349, 27740, 44893, 45418, 98391, 130474, 156214, 223501, 98391, 98391, 130474, 140358, 207349, 98391, 36749, 98391, 98391, 162639, 260944, 27740, 98391, 130474, 242106, 25981, 28634, 76151, 98391, 130474, 156214, 163804, 234359, 7158, 27740, 31826, 98391, 224764, 224809, 225595, 232106, 13273, 56554, 71234, 98391, 110912, 130474, 146803, 158295, 190708, 226006, 234828, 237271, 62272, 98391, 162639, 114368, 136139, 204813, 260944, 52614, 114368, 130474, 22818, 69078, 136139, 166409, 68555, 110912, 139359, 96448, 110214, 162052, 35859, 78553, 31826, 99955, 128835, 143163, 147847, 184532, 155495, 203799, 7346, 14698, 20172, 35859, 60583, 92547, 179075, 179978, 203240, 211288, 237748, 254, 2033, 7346, 8253, 8681, 28523, 29526, 30735, 33580, 36256, 36606, 37208, 39616, 60050, 60707, 61901, 69389, 75819, 78553, 88122, 90616, 100906, 101851, 114368, 115572, 116904, 118533, 123608, 124876, 130554, 136491, 162639, 170634, 171295, 175003, 179734, 179978, 189835, 203075, 208141, 211426, 215986, 223501, 226965, 227397, 229741, 232964, 239423, 240144, 240401, 240700, 246247, 248477, 271176, 276165, 1733, 2110, 6563, 9747, 9908, 10560, 21484, 22625, 22818, 27812, 30533, 30735, 31393, 31556, 32773, 35859, 52199, 55492, 56447, 57398, 59912, 60263, 68760, 72990, 75591, 76530, 81368, 81492, 82407, 85426, 85993, 87141, 88733, 92810, 95923, 100846, 101851, 102702, 104636, 104665, 107784, 114581, 124078, 126736, 127200, 129074, 135045, 135360, 138777, 138995, 146803, 147141, 150968, 153662, 153718, 155141, 157273, 159506, 160558, 162639, 164926, 169682, 170513, 172512, 173415, 175003, 175052, 177375, 179730, 181176, 182459, 184532, 193676, 196160, 205735, 206438, 208815, 209817, 210822, 216466, 220688, 224138, 229313, 232131, 238065, 238889, 239626, 240144, 242083, 242106, 245649, 247447, 249628, 249862, 249958, 250184, 254899, 255092, 257204, 260067, 264543, 265313, 267830, 269566, 270820, 271705, 278843, 141493, 203240, 6251, 36606, 269566, 76168, 133747, 230522, 49109, 31556, 47316, 93629, 138777, 230522, 189835, 230522, 266226, 80683, 212328, 261603, 155014, 225886, 229632, 95923, 38023, 126492, 174304, 211919, 230522, 102967, 181176, 235105, 96448, 99955, 218121, 60263, 185233, 218121, 240756, 154992, 207825, 207825, 2110, 185233, 207825, 271195, 162311, 218552, 88733, 162311, 219546, 143253, 95359, 46443, 138777, 170634, 35859, 36715, 82831, 229632, 47316, 154992, 185233, 207782, 153662, 78834, 150979, 170634, 256167, 269566, 55927, 170513, 183101, 78834, 95359, 141493, 225686, 208141, 56447, 87141, 112001, 270820, 112001, 95359, 126196, 638, 16795, 136348, 147847, 163430, 227250, 23571, 27740, 61901, 76530, 85757, 121264, 142121, 145449, 154730, 185176, 204864, 223787, 6251, 39773, 55492, 78553, 95359, 124876, 137336, 176214, 205980, 211426, 220688, 232106, 255489, 257204, 276231, 6575, 7346, 7915, 8245, 52584, 60244, 67840, 75591, 77181, 91058, 95359, 103304, 127233, 128325, 135149, 150979, 158254, 170513, 171638, 175052, 192211, 193499, 210485, 220240, 236172, 236757, 242083, 246513, 255489, 6543, 7125, 67840, 158254, 193499, 236172, 241980, 101620, 241980, 104636, 271705, 112001, 25601, 133571, 213126, 162639, 259930, 259930, 234828, 254, 8681, 14422, 23872, 39281, 40943, 98440, 101851, 115572, 203075, 223501, 226965, 236058, 270820, 254, 60244, 83496, 87555, 88733, 115572, 124876, 165319, 177432, 179734, 184299, 185176, 223501, 226965, 234828, 87555, 88733, 100906, 124876, 166123, 177432, 208406, 223501, 226965, 234828, 173415, 189392, 169682, 5539, 11993, 39773, 40889, 67840, 95932, 102647, 126814, 169682, 197659, 207782, 211426, 233911, 242639, 111847, 136491, 183061, 214786, 265313, 31556, 136491, 179733, 179734, 14422, 136491, 248464, 243294, 116904, 184279, 116904, 184279, 230522, 184279, 189835, 153662, 102702, 242083, 102702, 102702, 2766, 6543, 20462, 42093, 49212, 60244, 64436, 98391, 100906, 106225, 239584, 246311, 275970, 30273, 42323, 44845, 60244, 136348, 155219, 203240, 229741, 21576, 36327, 98391, 114988, 193499, 222296, 232964, 234359, 241666, 246311, 276463, 98547, 184424, 265115, 6563, 10447, 21356, 23511, 23768, 55187, 105979, 108005, 117251, 124874, 125411, 165319, 210485, 223501, 232131, 236058, 270801, 28177, 98391, 110973, 124876, 126492, 154529, 110973, 126492, 154529, 98391, 111847, 124876, 126492, 98391, 110973, 124876, 126492, 11724, 25131, 128325, 276463, 16795, 46398, 123095, 128835, 158295, 185233, 69933, 102359, 149084, 185233, 254206, 31315, 110214, 185233, 189835, 219683, 236283, 270838, 81848, 232964, 61910, 104665, 230522, 21031, 46398, 102359, 184299, 185233, 270820, 274061, 189835, 95010, 23872, 61798, 69721, 94347, 110973, 128835, 198012, 230522, 24933, 35859, 93047, 110973, 126492, 136326, 172091, 185233, 198012, 211426, 219683, 236283, 254206, 24933, 59269, 67840, 69933, 93047, 102359, 143163, 158295, 172091, 185233, 236283, 49460, 102359, 110973, 153662, 158295, 185233, 189835, 236283, 19664, 30898, 61910, 69078, 130554, 46398, 16634, 38273, 55438, 102359, 110214, 110973, 176214, 185233, 189835, 236283, 274061, 61798, 12824, 20201, 51252, 66680, 102359, 110214, 110973, 114414, 128835, 185233, 189835, 211351, 211426, 219683, 234828, 236283, 254206, 258534, 274061, 223501, 16634, 55438, 69389, 100459, 102359, 104211, 110214, 110973, 126492, 136326, 140358, 158295, 176214, 178667, 185233, 187145, 190844, 196160, 219683, 236283, 254206, 274061, 99347, 149661, 194669, 215006, 25981, 31315, 98686, 100459, 102359, 111847, 126492, 140358, 178667, 184532, 185233, 189835, 236283, 248464, 30735, 29855, 66680, 102359, 140358, 236283, 189835, 69078, 267830, 55490, 87555, 99347, 102359, 136326, 140358, 185233, 211426, 219683, 236283, 269799, 60244, 86189, 149661, 16634, 102359, 111847, 112001, 126492, 184299, 185233, 209373, 236283, 248850, 252071, 252848, 254206, 274061, 185275, 30735, 69389, 100459, 126492, 158433, 168816, 172091, 177040, 185233, 189835, 236283, 254206, 264996, 31315, 255546, 19711, 21659, 23768, 30487, 40889, 74286, 124874, 147847, 148744, 163804, 168954, 175052, 232131, 251140, 8936, 23872, 48046, 66680, 110973, 126492, 158295, 178199, 184299, 184532, 185233, 209373, 211426, 254206, 6575, 23768, 46398, 56447, 69355, 69389, 75081, 77809, 81216, 104362, 137589, 143163, 271448, 138578, 15408, 30487, 57725, 222296, 264543, 108155, 163804, 218552, 234359, 254465, 16718, 16795, 28591, 29526, 40914, 60244, 73394, 85993, 98930, 123095, 125519, 132199, 137688, 148744, 157273, 162639, 165308, 168816, 196502, 220240, 232131, 242299, 248477, 11224, 30487, 36135, 55075, 60244, 60583, 67840, 75591, 95359, 96440, 149661, 150896, 150979, 152651, 160819, 171295, 181687, 201677, 229741, 231210, 263163, 61798, 69078, 76530, 179288, 187145, 75860, 192093, 256402, 638, 4017, 7346, 11224, 19664, 29526, 34588, 49460, 53241, 68256, 75591, 135149, 140358, 142524, 173415, 178920, 192710, 200643, 211344, 220240, 222220, 243879, 248477, 250936, 256843, 259260, 263163, 264543, 46398, 92810, 143964, 182527, 187256, 213150, 230522, 236757, 78448, 143415, 177590, 254377, 2977, 68185, 110973, 145737, 266056, 65584, 100459, 112001, 125736, 271705, 278137, 6251, 13273, 16795, 21014, 29526, 35859, 43910, 68555, 112026, 126196, 136348, 139913, 147847, 220688, 225763, 235282, 245649, 253871, 23768, 60337, 140358, 142524, 143968, 16106, 35859, 133571, 134483, 154345, 156150, 162780, 170513, 187145, 213126, 239584, 259626, 235105, 240403, 61910, 135149, 183187, 222941, 276231, 39281, 165319, 7158, 12538, 35859, 43619, 82893, 83287, 104636, 144318, 177091, 196738, 200422, 213531, 226616, 271448, 76151, 227520, 16795, 21659, 51883, 85993, 123981, 140036, 153662, 187145, 210717, 219683, 223501, 240568, 81848, 139141, 153662, 203240, 6575, 7346, 8067, 16795, 22074, 23511, 27875, 35859, 42093, 43687, 44252, 46909, 55187, 56959, 59189, 60244, 60621, 60707, 62272, 69389, 88738, 94787, 101620, 102647, 104636, 110934, 115003, 135351, 136326, 136348, 144318, 144531, 145641, 147686, 153718, 163804, 173415, 179433, 188273, 201684, 204457, 218552, 218568, 218608, 222220, 226545, 240567, 241980, 245410, 247447, 258534, 261829, 278026, 278582, 141493, 199515, 24933, 76151, 77809, 150498, 45557, 80810, 98904, 109491, 115490, 117251, 128085, 144318, 144555, 190708, 227447, 244627, 69697, 76151, 81492, 107784, 200422, 247447, 123883, 153662, 227397, 261829, 273113, 30276, 31050, 44845, 78553, 153662, 177374, 228764, 234165, 254465, 2891, 21576, 30533, 31391, 35918, 40914, 40943, 43910, 48046, 56447, 69078, 74286, 75081, 95359, 98723, 100846, 104636, 104665, 105979, 106007, 108155, 112001, 115003, 116758, 123790, 124874, 141493, 145641, 152099, 155580, 163488, 163804, 167812, 171968, 174304, 190459, 193676, 197364, 204457, 210485, 216466, 222296, 229313, 231210, 232131, 235282, 238120, 251140, 254201, 259260, 264996, 270801, 273086, 276231, 3167, 7283, 24933, 76168, 76499, 95359, 110440, 127826, 157811, 167800, 176214, 178199, 225763, 234828, 216683, 31826, 35859, 43806, 47316, 48975, 65584, 104636, 108799, 110382, 126903, 141493, 174726, 190925, 193499, 201058, 210485, 216683, 228764, 235282, 240219, 247055, 10030, 13273, 21014, 31826, 35859, 104636, 107244, 146386, 229011, 238120, 243294, 31826, 70415, 104636, 114444, 123981, 126736, 158295, 173481, 221870, 238120, 264082, 271448, 3371, 10030, 17859, 30972, 31826, 35857, 46909, 57398, 81597, 104636, 125519, 193898, 241548, 16795, 104636, 115490, 174304, 253871, 258884, 104636, 110440, 123257, 133296, 174304, 241980, 270352, 1733, 104636, 133296, 174304, 198012, 241980, 270352, 23872, 231264, 110912, 130571, 136205, 218552, 6323, 93426, 162639, 179433, 224764, 243759, 23871, 83754, 121986, 139141, 254201, 136139, 177374, 203240, 246513, 17282, 26544, 102275, 134797, 141491, 141493, 150968, 160401, 171638, 190925, 196466, 223431, 226553, 237990, 266056, 882, 25981, 55438, 65584, 76151, 93426, 98391, 141493, 153662, 156467, 158295, 193499, 238699, 24933, 35857, 76151, 98391, 136348, 153662, 182527, 254465, 3373, 30972, 31826, 81597, 101876, 104636, 127200, 133747, 135351, 173481, 153662, 40889, 44845, 104144, 114368, 189835, 240567, 264031, 268622, 2276, 20060, 53220, 88738, 133284, 228681, 232131, 241666, 249989, 276231, 188022, 207782, 227447, 240035, 15819, 187145, 80642, 104211, 8067, 35859, 104636, 143253, 174304, 216683, 238781, 258884, 270352, 143253, 174304, 216683, 258884, 270352, 112001, 254, 2977, 6563, 8253, 12538, 16795, 24921, 30735, 56554, 76499, 77809, 79740, 88229, 91103, 100459, 101876, 114544, 115003, 126492, 129084, 129690, 138578, 143211, 153513, 153797, 154070, 174726, 182993, 190459, 195469, 198012, 205735, 218552, 218608, 220688, 221445, 221732, 221870, 228311, 240567, 251422, 253871, 264543, 267033, 273113, 274056, 276050, 53220, 124942, 188022, 53220, 82497, 113519, 124942, 163804, 252695, 241980, 62862, 93363, 108752, 115435, 153718, 193778, 218552, 238889, 35836, 91113, 104211, 110912, 137688, 143163, 232945, 54335, 60050, 92810, 104144, 107784, 128085, 177072, 258534, 12538, 31826, 43619, 51883, 60263, 61854, 70666, 104399, 106849, 111847, 126492, 128835, 140358, 152099, 158295, 158433, 177432, 182459, 184299, 187256, 193529, 193676, 209373, 219683, 271558, 274061, 276050, 1435, 19085, 28177, 28634, 31826, 40889, 53220, 55607, 89602, 95932, 98904, 106007, 106849, 121170, 126492, 135045, 148744, 184299, 219683, 224764, 269719, 31846, 114444, 258482, 272573, 16795, 35859, 50225, 69697, 147965, 206534, 240568, 253871, 276231, 81597, 238120, 264082, 20060, 30972, 61901, 78448, 143163, 158295, 167349, 172742, 232945, 258534, 87141, 141493, 185176, 199515, 222035, 270838, 153662, 163804, 104636, 178667, 243294, 252695, 181176, 225886, 258534, 3363, 55492, 67547, 71853, 123257, 203075, 211919, 224349, 246000, 207499, 3373, 10560, 13273, 15819, 16106, 21618, 25601, 26621, 29209, 33580, 37712, 39773, 43687, 44728, 50225, 54335, 55927, 61910, 62862, 62966, 65258, 68984, 82893, 85757, 89602, 91058, 92810, 95359, 100846, 108352, 110912, 110973, 115692, 128085, 138995, 142121, 154529, 155219, 156150, 159033, 179433, 188022, 190708, 192119, 193499, 196738, 198046, 202462, 204813, 207246, 207782, 209373, 209875, 211344, 212923, 218552, 223154, 223431, 225763, 226205, 226616, 228868, 232131, 235282, 236172, 240144, 240567, 244171, 245410, 249989, 251843, 255489, 261829, 276165, 98391, 3373, 5539, 43687, 50895, 54335, 62966, 65584, 80203, 86145, 90616, 92810, 105979, 128085, 129465, 167349, 180348, 190844, 192119, 196738, 197659, 209875, 223087, 232211, 255489, 28591, 48975, 69697, 98547, 114368, 126196, 153662, 184532, 194676, 240035, 247447, 269321, 65584, 69697, 79740, 114368, 124310, 136348, 162639, 184532, 194676, 203764, 227520, 229011, 252843, 261829, 18082, 29259, 101209, 107784, 120598, 145641, 153662, 177590, 221445, 221948, 226205, 268110, 48975, 90391, 104636, 120396, 140358, 207148, 223190, 237990, 238781, 246655, 265115, 104636, 174304, 216683, 272573, 278633, 20060, 84024, 108285, 193898, 218552, 227447, 7125, 27472, 41781, 47316, 67840, 86145, 95359, 201058, 223501, 227447, 134797, 146113, 223501, 43806, 60263, 135351, 184532, 240035, 235392, 76151, 123883, 145619, 180348, 193898, 247447, 20060, 41781, 143175, 145619, 153662, 156467, 169663, 187517, 190925, 76151, 98391, 123883, 145619, 247447, 273113, 33974, 37208, 52614, 67840, 126196, 144531, 153662, 156467, 191523, 208147, 252843, 23872, 26544, 53174, 58594, 69697, 112559, 114368, 124363, 184532, 31556, 69697, 182993, 222220, 119517, 25981, 118677, 174726, 184532, 29526, 91058, 98391, 182993, 189973, 92810, 229011, 36606, 45557, 49842, 78553, 78783, 128045, 133296, 144318, 184424, 228681, 277427, 4017, 7158, 8245, 22625, 30533, 30972, 30994, 61427, 100459, 104113, 113519, 114544, 123608, 138543, 145641, 151098, 184424, 192710, 236757, 239584, 240568, 271448, 278633, 68760, 92810, 143163, 204864, 232945, 258534, 261829, 8936, 16634, 140358, 193778, 258534, 95932, 104665, 120093, 126492, 184532, 189835, 241980, 219683, 16795, 104399, 120093, 124876, 177432, 220278, 241980, 273979, 189835, 104636, 133296, 174304, 241980, 270352, 35859, 160735, 174304, 205735, 238065, 270352, 10447, 16795, 19842, 20180, 21014, 28177, 28634, 35836, 56447, 68555, 75819, 91103, 95903, 107784, 111578, 115435, 126492, 134797, 148898, 153662, 177091, 214786, 219321, 219683, 236283, 241980, 242083, 254144, 259629, 269835, 272573, 274061, 16795, 20060, 35836, 69211, 92810, 104144, 110934, 123460, 126726, 128085, 204864, 209373, 224809, 225595, 227520, 247241, 250709, 252347, 265487, 268622, 52614, 78783, 98391, 123883, 153662, 216012, 258884, 46909, 47316, 58612, 61901, 78783, 113519, 218552, 230522, 247241, 269566, 31826, 38023, 56856, 62881, 81298, 94787, 95359, 102647, 107784, 112026, 173291, 184299, 187762, 207782, 210485, 216683, 219683, 231827, 232964, 240035, 240700, 248464, 254206, 258534, 272573, 274061, 240401, 14698, 143175, 61854, 55892, 189835, 189835, 61901, 124942, 156467, 188022, 221705, 222941, 6251, 137688, 6575, 25601, 106225, 7346, 11601, 36606, 61038, 93047, 106849, 112001, 154992, 163202, 196502, 220240, 231210, 242646, 255092, 263163, 46398, 61028, 123257, 159033, 185233, 201017, 264082, 32773, 35859, 52584, 244627, 268032, 145619, 272573, 13552, 28634, 124363, 143253, 185233, 189080, 190708, 23872, 10314, 167746, 211426, 221445, 229313, 37712, 46398, 135045, 150979, 155014, 184299, 201042, 101876, 140358, 13552, 46398, 112559, 154844, 185233, 112001, 7346, 206534, 229011, 278418, 144555, 160401, 251140, 263460, 40943, 69232, 3167, 6251, 128060, 165319, 4017, 7158, 16795, 16996, 21014, 30487, 37712, 51992, 56959, 69156, 75591, 84024, 95932, 101305, 110934, 111174, 113904, 129084, 135360, 137688, 162639, 184424, 185176, 197364, 207494, 218121, 243879, 243942, 250184, 259629, 266283, 153662, 69697, 123883, 229011, 247447, 95923, 123883, 153662, 203240, 243700, 87141, 101304, 183187, 208406, 226879, 240035, 56959, 69697, 170947, 254465, 69697, 251843, 25981, 31315, 114368, 190708, 254465, 31315, 114368, 123257, 133296, 154844, 160401, 254465, 16795, 30276, 48975, 78448, 104636, 120396, 123883, 126736, 153662, 193898, 226545, 247447, 27740, 30533, 76151, 98391, 130474, 136348, 162639, 171638, 178240, 216012, 229011, 234359, 36256, 60858, 78834, 112083, 135045, 201042, 216683, 234828, 240144, 278137, 67840, 247447, 17003, 155495, 174848, 243700, 2110, 14521, 75591, 80683, 94923, 110973, 115435, 128085, 140223, 158433, 208406, 210485, 212628, 271195, 3371, 23872, 81597, 102647, 123981, 200422, 15408, 28634, 173415, 204864, 235392, 277427, 68555, 153662, 203764, 105979, 129074, 169682, 196160, 207825, 218608, 269566, 13552, 14521, 16795, 26621, 104636, 114368, 133296, 146113, 174304, 179978, 205735, 241980, 242299, 254465, 269719, 270352, 13552, 16795, 104636, 114368, 133296, 174304, 241980, 254465, 270352, 13552, 65258, 104636, 114368, 123257, 133296, 164728, 174304, 191523, 207782, 238781, 241980, 251140, 270352, 104636, 114368, 133296, 174304, 241980, 250936, 270352, 28634, 114544, 137589, 144038, 209756, 252695, 274056, 10819, 131154, 161348, 183995, 72523, 85656, 92810, 241666, 68156, 73394, 88738, 104636, 162639, 231210, 240035, 241666, 20462, 95359, 23872, 31826, 98723, 104636, 125519, 190741, 205980, 220278, 229011, 241666, 260944, 264082, 69697, 52614, 79740, 114368, 146113, 184532, 212467, 236757, 264082, 26544, 30276, 69697, 98547, 114368, 247447, 30276, 56959, 178667, 133571, 160401, 7346, 22365, 27472, 32773, 43687, 76102, 123544, 136491, 155147, 163488, 168816, 169699, 173415, 178920, 181176, 197364, 211344, 211426, 218121, 227884, 230522, 240568, 245650, 267033, 269566, 93629, 137589, 141710, 142121, 214786, 224159, 230522, 255092, 51526, 112001, 88733, 13552, 31315, 32122, 35859, 114368, 133296, 146113, 160401, 270352, 13552, 16795, 112559, 114368, 123257, 133296, 143253, 190708, 253871, 254465, 78553, 167800, 223566, 278188, 23872, 153662, 156467, 216683, 278188, 189080, 243700, 251394, 133296, 254465, 54884, 240568, 94347, 123883, 153662, 172676, 252071, 264082, 2276, 6251, 61028, 150896, 240144, 16795, 123257, 108799, 260067, 31050, 76151, 123883, 153662, 273113, 179075, 16795, 114368, 133296, 13552, 114368, 270352, 13552, 25981, 102359, 104636, 114368, 114414, 123257, 123744, 133296, 143163, 163430, 216683, 254465, 269719, 270352, 49842, 149069, 152354, 184513, 64310, 102359, 229011, 31826, 39441, 55490, 81597, 104636, 126736, 141493, 158295, 125779, 177090, 184513, 143253, 55438, 86189, 93179, 31826, 104636, 112001, 44893, 47316, 49212, 56959, 80642, 154529, 175117, 218552, 235105, 17003, 60707, 95359, 98686, 127359, 147224, 230522, 251394, 156467, 107784, 112001, 26535, 76151, 78553, 104636, 153662, 228764, 35857, 61854, 69697, 104636, 111190, 112001, 139141, 153662, 172030, 177090, 246655, 254201, 61854, 78553, 123883, 144531, 220240, 95359, 147847, 200674, 219683, 223501, 240567, 240568, 249628, 35704, 242639, 6563, 26544, 31315, 62272, 74056, 78783, 78834, 83637, 99347, 114368, 120908, 123544, 140358, 147847, 169233, 178667, 185634, 189835, 210485, 224249, 245410, 252071, 254465, 16795, 52917, 97754, 125519, 141902, 171970, 206944, 13552, 32122, 51883, 102359, 104636, 107784, 114368, 133296, 185233, 241980, 254465, 270352, 13552, 32122, 102359, 104636, 114368, 115490, 115692, 123257, 133296, 241980, 254465, 270352, 13552, 32122, 102359, 104636, 107784, 114368, 133296, 174304, 205735, 241980, 254465, 270352, 2110, 9856, 74758, 133747, 162052, 174304, 231827, 247447, 31846, 94347, 164675, 243328, 7346, 8253, 10030, 31826, 81597, 102275, 109899, 226545, 243294, 150979, 204864, 246247, 248477, 76151, 123883, 153662, 197364, 247447, 271448, 273113, 26240, 37208, 69697, 76151, 123883, 153662, 235392, 269738, 273113, 106225, 225886, 3371, 26240, 27813, 30276, 39616, 67840, 78553, 104636, 110973, 112001, 123883, 152354, 153662, 177374, 242646, 254201, 8245, 16795, 76942, 92547, 95010, 110912, 110973, 123608, 140358, 181176, 208406, 232964, 236172, 237990, 19664, 23571, 28523, 32773, 37644, 182442, 200643, 212628, 242083, 255092, 260897, 11601, 96357, 200643, 219546, 242083, 242639, 13552, 224764, 16488, 30276, 269566, 274056, 243360, 277427, 6563, 28634, 48025, 78783, 153797, 169233, 185634, 189835, 205735, 208897, 245410, 246513, 254465, 256843, 32773, 61910, 63394, 78834, 91832, 94347, 98686, 108285, 117251, 140358, 156150, 160558, 187624, 189835, 228021, 234828, 237748, 257700, 258534, 16795, 27472, 42914, 61854, 78448, 104399, 104636, 133296, 174304, 241980, 253871, 51883, 101876, 133296, 143253, 147847, 174304, 189835, 241980, 254465, 104636, 114368, 133296, 174304, 201017, 241980, 254465, 141491, 31050, 76151, 123883, 147847, 167800, 227520, 229011, 248718, 273113, 76151, 123883, 167800, 227520, 229011, 235392, 247447, 264947, 269738, 26535, 76151, 123883, 145619, 231264, 269738, 273113, 30994, 76151, 78553, 123883, 212965, 227397, 228764, 67840, 85993, 135045, 138097, 186570, 187762, 232945, 274061, 27813, 31556, 35857, 35859, 40889, 59269, 61854, 81597, 104636, 110973, 114444, 126395, 133571, 153662, 236283, 31556, 59269, 71712, 81597, 98723, 104636, 107784, 126736, 27472, 81597, 104636, 107244, 135149, 135351, 179730, 264082, 6073, 127200, 160681, 242639, 254377, 268032, 76151, 123883, 153662, 189973, 227520, 229011, 244627, 29526, 165319, 217056, 6575, 29855, 30994, 53220, 80642, 107784, 115003, 204864, 210485, 259626, 270820, 68555, 153662, 40943, 69697, 76151, 123883, 153662, 156467, 247447, 273113, 11629, 37208, 39616, 69697, 76151, 123883, 139141, 153662, 194676, 212965, 226545, 227397, 235392, 247447, 251422, 269738, 273113, 78553, 104636, 112001, 153662, 177374, 78553, 177374, 26535, 69697, 78553, 85656, 153662, 177374, 76151, 78553, 153662, 248850, 35836, 153662, 203900, 136071, 23872, 24921, 104636, 114368, 170724, 238065, 158295, 69078, 95359, 115435, 117251, 206567, 242299, 266840, 268032, 20971, 31826, 48975, 69389, 81597, 102967, 104636, 147847, 190925, 193529, 193898, 201447, 229011, 243294, 258884, 146386, 148744, 238781, 239584, 256402, 104636, 114368, 123257, 147847, 241980, 254465, 270352, 272573, 32122, 104399, 104636, 114368, 123257, 133296, 147847, 174304, 185275, 218068, 238120, 241980, 270352, 13552, 16795, 104399, 104636, 114368, 133296, 241980, 270352, 43687, 116758, 138578, 238065, 227520, 235392, 247447, 16795, 181687, 182993, 201677, 16996, 21014, 26240, 30487, 35859, 136348, 163804, 171818, 177375, 216683, 227702, 228764, 234359, 264031, 265487, 68555, 76151, 120093, 123883, 229011, 247447, 264082, 16106, 135360, 156150, 158433, 224349, 226965, 239626, 243236, 98391, 124310, 252843, 269321, 55927, 274808, 55927, 274808, 130571, 95359, 105214, 168047, 186570, 231210, 8362, 30276, 31826, 70415, 88733, 102647, 104636, 125519, 135149, 173481, 216683, 226545, 234828, 235282, 243294, 246513, 249628, 249862, 259629, 19711, 95359, 153662, 240568, 276050, 13552, 21659, 153662, 210717, 252865, 3371, 21659, 69697, 153662, 210959, 7125, 69697, 177072, 200674, 207259, 240568, 175117, 252071, 68555, 76151, 79266, 100846, 123883, 153662, 203240, 227520, 247447, 79266, 123883, 153662, 229011, 264082, 60244, 2276, 7346, 32773, 83287, 156467, 172061, 174726, 222941, 227705, 266229, 77480, 95359, 152354, 153662, 190708, 240568, 93629, 101876, 108285, 135360, 158606, 224159, 241666, 243236, 243360, 252848, 255489, 269890, 75819, 223566, 95010, 32773, 80683, 80810, 163488, 168816, 169699, 216012, 226616, 232131, 269566, 29259, 31315, 31826, 81597, 88733, 211288, 241548, 13273, 23872, 27472, 59269, 95359, 104636, 107784, 125519, 147847, 158295, 208897, 218568, 221870, 226545, 240568, 243294, 254144, 269719, 8253, 31826, 40889, 102647, 104636, 135149, 135351, 147847, 178667, 181212, 193898, 200422, 201447, 213531, 241666, 241980, 247752, 264082, 272573, 30972, 31826, 36135, 43619, 46398, 64310, 79740, 81597, 102967, 104636, 110973, 125519, 162827, 173481, 213531, 29259, 32195, 204457, 258884, 7346, 10030, 26593, 31826, 41084, 61028, 78846, 81597, 95359, 112559, 123981, 137211, 158295, 174726, 226616, 227705, 240267, 240568, 243294, 249862, 264082, 267033, 41781, 83287, 226879, 21659, 28634, 120598, 153662, 240568, 102647, 123981, 160819, 240568, 23872, 39616, 40943, 76151, 123883, 153662, 227397, 235392, 261829, 273113, 69697, 123883, 153662, 76151, 52614, 101209, 123883, 153662, 227397, 229011, 247447, 258185, 76151, 77809, 81492, 273113, 16916, 69697, 123883, 145619, 228764, 235392, 13552, 104399, 104636, 114368, 115490, 133296, 174304, 241980, 270352, 26621, 104636, 114368, 123257, 133296, 174304, 241980, 270352, 272573, 13552, 59727, 104636, 114368, 133296, 174304, 241980, 7346, 23768, 27812, 89602, 94347, 100906, 101305, 113519, 135149, 166409, 177072, 195469, 8066, 27740, 48046, 55492, 56856, 76483, 104657, 123094, 153797, 187145, 199772, 204864, 230522, 264543, 76151, 229011, 23872, 39616, 123883, 153662, 203799, 227520, 247447, 30533, 100264, 104636, 123981, 141493, 147847, 149069, 150498, 153662, 228311, 228764, 11601, 13273, 25981, 29259, 31826, 59269, 60858, 104636, 173481, 190844, 229011, 235282, 237271, 241666, 264031, 264082, 268032, 40943, 254201, 93426, 136348, 150968, 153662, 223566, 94951, 107784, 257204, 31826, 46398, 243759, 17859, 29855, 36715, 95991, 96448, 102647, 150498, 182459, 185233, 187517, 203900, 218121, 218608, 220240, 230522, 238699, 266056, 61038, 88733, 156269, 66680, 148712, 157273, 240403, 150979, 203240, 218568, 86189, 210959, 77480, 156214, 158295, 248464, 254206, 24933, 211919, 223501, 31315, 52199, 69078, 103336, 126814, 140358, 158295, 185233, 247852, 143415, 172091, 69078, 97754, 124487, 252848, 13552, 14422, 52199, 69078, 77809, 114368, 140358, 142524, 158295, 163430, 242106, 271448, 278843, 135149, 150979, 156214, 189835, 86189, 69078, 75591, 93629, 95932, 115435, 31556, 61798, 77480, 87141, 100459, 150498, 223501, 25601, 53174, 56856, 76483, 77809, 100459, 158433, 88733, 159033, 251843, 77809, 100906, 114988, 132836, 249894, 276680, 277427, 245088, 158254, 248477, 7158, 42914, 79977, 136205, 153662, 210959, 8362, 19085, 200674, 204864, 278633, 13552, 52199, 103304, 114368, 129716, 140358, 158295, 247852, 30735, 39281, 60244, 89602, 136348, 212142, 271448, 197687, 260944, 128835, 882, 6575, 37712, 41084, 45418, 54884, 58594, 60244, 60337, 61798, 66680, 69078, 75591, 77809, 88229, 88733, 89602, 112001, 113904, 114988, 122801, 124874, 135149, 136139, 158606, 160819, 185176, 195904, 204864, 209875, 223431, 241548, 242083, 247752, 271176, 271195, 31315, 184513, 25601, 51992, 61798, 65258, 75485, 230522, 266865, 31846, 69078, 95173, 110934, 142524, 174596, 5582, 51252, 52199, 53174, 114368, 197659, 217986, 52199, 55490, 114368, 126492, 138097, 142715, 185233, 259629, 63956, 182442, 27875, 92547, 128208, 163488, 240568, 185176, 105979, 134483, 30487, 60244, 143163, 251394, 69078, 174596, 189080, 204864, 223156, 255489, 25981, 6575, 29855, 35857, 12824, 21014, 60244, 74691, 105214, 121264, 128325, 135360, 162738, 169663, 215986, 243879, 246311, 31315, 52199, 53174, 87555, 104399, 114368, 127233, 129716, 185233, 204864, 230013, 242106, 248464, 21014, 133747, 236757, 243759, 264543, 6575, 93047, 105979, 109461, 146348, 158254, 225078, 264543, 638, 10314, 21011, 35857, 69389, 79285, 108155, 136139, 198046, 206563, 43910, 71234, 235282, 11224, 29526, 39773, 75819, 108799, 159033, 177072, 177091, 187256, 224349, 235935, 243759, 240144, 259118, 38023, 48579, 113270, 167812, 270820, 39773, 55490, 56856, 75819, 91103, 93179, 162639, 171295, 174596, 183187, 187256, 204864, 245410, 254053, 260944, 8066, 16634, 31556, 61798, 77809, 104880, 155147, 187145, 192119, 156150, 254899, 252695, 16996, 27812, 49980, 62891, 105214, 222296, 258938, 6323, 31315, 128085, 140358, 254053, 260944, 21031, 31315, 251843, 115692, 8681, 36606, 233911, 6251, 17667, 236283, 270906, 111190, 136205, 179433, 181176, 236283, 244171, 264657, 5582, 10560, 31315, 52199, 114368, 136252, 136326, 142524, 185233, 259629, 12824, 31315, 55490, 98391, 114368, 126492, 178199, 220688, 226965, 155141, 87555, 98904, 85757, 263163, 6575, 27472, 56959, 59189, 60244, 75819, 100906, 110934, 122429, 144038, 246311, 70666, 31315, 35859, 115692, 126492, 146803, 166123, 196077, 255489, 31315, 35859, 95574, 163804, 178199, 187517, 260944, 31315, 35859, 95359, 130474, 178199, 218552, 220688, 235282, 249223, 250184, 260944, 127233, 14698, 5582, 55178, 80683, 91832, 100906, 125519, 128060, 147965, 165319, 174596, 182442, 201684, 31556, 56447, 113270, 115435, 132836, 141493, 149084, 167812, 226965, 245410, 270605, 51992, 73923, 142479, 178920, 211426, 225686, 266865, 16634, 49980, 76499, 93047, 111944, 154345, 172676, 211344, 266865, 270838, 32773, 6073, 62891, 66574, 69078, 88229, 104113, 129716, 136491, 144038, 187145, 242083, 27812, 100906, 37712, 6251, 6575, 8454, 21011, 36606, 38023, 50225, 60244, 93047, 156150, 189973, 202277, 263163, 277427, 94347, 100906, 115435, 51742, 75591, 95359, 102967, 105214, 105979, 121986, 129074, 157811, 187145, 206534, 209756, 246311, 257028, 7346, 16718, 81216, 116904, 208406, 241548, 245650, 2891, 76499, 129716, 136491, 169682, 264657, 275970, 8066, 17003, 35918, 71853, 75591, 85426, 89602, 94347, 95359, 105979, 108352, 125411, 136071, 143163, 187256, 203240, 218552, 221948, 224349, 231827, 242083, 245410, 249628, 252695, 259626, 264657, 267033, 270605, 44252, 62891, 69078, 95359, 133935, 210959, 228311, 242083, 242299, 243360, 245649, 261829, 266865, 6073, 16106, 73330, 100906, 106007, 110934, 126604, 128045, 167812, 189973, 222296, 246311, 6575, 8454, 60244, 85757, 89602, 159033, 202277, 218121, 229741, 277427, 37712, 15408, 30487, 55492, 75591, 93047, 110934, 146348, 204864, 221445, 30994, 80203, 96357, 141710, 143163, 143415, 195904, 211344, 223154, 224138, 230522, 267830, 6575, 7915, 8681, 14422, 16795, 22625, 35445, 40889, 46398, 51526, 55187, 62891, 71853, 91113, 109461, 110934, 132375, 135360, 209756, 218608, 248718, 266226, 270605, 76499, 101305, 178199, 206534, 228021, 638, 6575, 12538, 16795, 21014, 28177, 35445, 40943, 43910, 53174, 60244, 75591, 80683, 81492, 89602, 95923, 98904, 104113, 115490, 123790, 125692, 143968, 148898, 150968, 150979, 156150, 160819, 163488, 169233, 187145, 204864, 218552, 235282, 243879, 254465, 254899, 258938, 264543, 276050, 129716, 43687, 56959, 60244, 63938, 66574, 78834, 88937, 95359, 96440, 115003, 128835, 135149, 153662, 170513, 215988, 217375, 224809, 230522, 268110, 2766, 3363, 6563, 6575, 9856, 30533, 60244, 75591, 89602, 91832, 107021, 124487, 127200, 146113, 151098, 159732, 193898, 224249, 225810, 5582, 110973, 223087, 6073, 6543, 21484, 28177, 39616, 85757, 110973, 113270, 113519, 135831, 212923, 882, 4017, 6251, 6575, 8253, 16634, 17667, 21014, 22625, 27472, 30994, 31846, 37400, 37712, 40330, 55187, 55927, 62464, 76151, 78448, 80683, 81597, 82407, 85757, 86189, 91103, 99955, 101876, 102967, 105937, 112026, 113270, 113519, 127826, 133747, 137589, 140358, 153662, 153797, 154070, 162639, 168047, 169663, 177090, 178199, 184424, 204864, 215988, 222035, 223087, 227705, 232131, 236058, 236757, 242083, 255489, 258482, 261829, 264657, 269566, 270906, 276231, 69378, 144038, 16634, 57725, 95359, 101305, 133284, 153513, 182442, 258482, 261829, 4017, 10314, 56959, 115003, 117251, 160401, 204864, 224138, 51742, 123094, 240401, 73330, 153513, 215988, 89602, 123883, 254, 30487, 31556, 37644, 59912, 105214, 124876, 142524, 177091, 193499, 30487, 37644, 81977, 142524, 177091, 193499, 30487, 37644, 37712, 124874, 124876, 142524, 177091, 193499, 60244, 142524, 174304, 225686, 240700, 248477, 268110, 507, 204864, 224349, 236058, 240700, 264152, 14521, 69078, 94951, 173415, 181176, 125519, 34588, 60244, 69078, 82407, 38023, 69078, 101305, 120093, 133571, 215006, 258534, 22625, 37644, 100906, 102647, 156150, 158295, 182403, 237271, 247752, 250330, 110440, 133747, 162738, 94347, 30081, 56447, 62464, 62891, 77181, 121170, 187145, 229741, 4017, 34588, 51742, 124259, 8253, 21014, 22625, 60244, 122429, 162639, 232959, 2766, 16795, 29259, 75591, 76483, 76499, 88122, 98440, 128060, 138543, 248477, 148744, 187145, 251422, 16795, 21484, 30081, 30276, 37712, 43910, 48046, 76168, 96357, 96448, 104113, 108352, 117251, 120093, 136491, 138543, 150896, 159506, 189080, 194669, 195469, 200643, 206944, 208141, 211426, 221948, 224138, 237748, 240567, 242083, 251613, 270605, 29526, 87141, 115692, 185176, 208406, 234828, 8681, 35704, 115435, 38023, 76818, 136491, 168642, 175052, 252695, 11601, 51252, 62272, 66680, 69389, 70415, 81597, 194669, 195904, 224249, 243759, 278026, 31315, 39773, 81597, 143175, 189080, 203799, 211288, 249989, 260944, 80810, 16795, 17190, 31826, 49154, 55438, 61901, 81771, 108005, 127233, 143253, 143968, 148712, 153662, 159033, 179978, 278633, 29259, 31315, 31826, 62272, 78846, 81597, 100846, 104636, 201447, 208671, 270820, 22818, 29526, 132836, 92547, 104429, 107784, 181212, 211351, 10030, 17859, 81597, 120598, 195904, 201447, 241548, 249628, 260944, 21576, 23571, 76499, 93426, 108352, 126492, 129716, 136491, 226553, 50225, 113519, 134483, 171970, 211919, 230522, 249894, 31315, 70415, 81597, 106849, 126388, 140358, 156150, 204457, 260944, 31050, 31315, 69389, 69933, 76151, 81597, 184513, 213150, 31315, 69933, 83287, 178667, 224764, 258884, 264031, 23768, 31393, 93047, 162639, 224809, 21014, 36606, 51992, 108752, 129008, 136348, 251843, 28619, 68555, 271195, 1435, 4017, 6251, 6575, 14422, 28634, 30276, 46398, 54884, 56959, 60244, 98904, 101876, 102967, 142121, 152651, 165319, 181687, 187145, 192093, 208671, 211426, 219321, 240567, 251394, 264543, 269835, 4017, 10314, 10447, 16795, 21356, 21659, 22074, 23872, 30533, 35859, 37712, 46443, 61427, 69078, 81977, 88229, 105979, 110912, 110934, 110973, 115003, 122429, 135149, 135360, 148744, 151098, 159732, 162780, 187145, 209756, 224430, 238065, 240567, 264947, 271144, 271448, 76483, 1435, 15408, 39345, 54884, 61038, 70931, 113270, 130571, 136071, 152651, 187256, 195904, 229313, 231210, 237990, 256407, 257700, 270820, 206074, 58594, 68185, 179730, 215006, 239423, 254201, 274808, 12824, 23872, 39441, 59269, 62272, 66680, 70931, 76151, 98904, 99955, 110973, 185233, 189835, 236283, 252071, 254206, 271195, 25981, 61910, 78783, 105214, 110973, 111847, 124876, 136139, 149069, 172030, 185233, 189835, 196160, 235282, 236283, 241980, 255489, 271448, 23872, 49460, 110973, 114988, 126492, 134483, 136139, 157811, 160558, 162738, 165319, 189835, 198012, 225595, 226006, 226545, 242083, 271558, 273979, 1435, 31315, 110912, 136326, 178199, 21011, 23768, 27472, 56447, 95359, 114988, 120908, 127233, 138578, 143968, 147224, 186570, 239584, 251140, 255489, 271448, 104399, 110912, 223501, 98391, 185634, 230013, 4938, 40914, 52584, 82831, 153662, 154992, 208671, 231264, 258938, 69078, 69389, 77809, 136139, 137688, 179433, 223087, 22625, 28634, 44252, 52584, 56856, 65258, 69078, 78448, 79977, 104429, 174216, 211426, 219321, 224249, 240567, 251843, 255489, 264996, 23768, 25981, 31315, 33580, 35859, 44893, 50895, 51992, 69389, 76151, 105214, 108005, 110973, 135149, 184532, 185233, 188171, 236283, 241980, 252071, 270906, 75819, 98391, 110912, 6563, 7346, 19711, 28634, 31393, 37712, 51526, 52584, 61038, 75089, 78783, 81597, 81771, 106225, 112001, 112026, 147847, 175117, 182459, 206534, 207246, 213126, 232959, 237990, 245645, 264543, 8245, 16795, 41084, 54898, 56856, 61038, 62891, 69078, 70931, 72990, 83637, 92979, 100906, 101305, 103336, 104880, 110912, 112083, 113519, 129716, 135831, 141710, 150979, 154992, 156269, 167746, 187145, 190741, 204864, 216466, 218552, 219321, 231210, 240401, 241548, 246311, 248477, 251613, 270352, 274549, 2766, 37712, 189115, 53241, 184513, 187517, 243236, 264543, 30898, 211919, 231210, 201447, 68249, 187256, 197659, 204864, 19711, 102967, 189516, 114988, 174830, 270820, 66680, 164828, 164828, 184513, 77480, 184513, 31315, 100264, 184513, 246507, 51252, 86189, 31315, 81597, 97754, 158295, 60244, 101209, 170513, 159033, 242639, 31315, 163430, 223501, 92810, 2033, 6251, 131837, 143163, 174304, 224249, 68249, 102647, 120093, 147141, 254053, 92810, 127359, 69684, 203799, 224430, 232964, 255489, 31315, 140358, 184513, 203799, 212467, 254465, 278633, 51526, 130571, 133747, 143175, 158295, 169663, 218552, 251843, 255489, 256407, 276680, 6575, 11601, 254299, 30487, 206567, 8245, 16795, 21014, 36609, 37712, 43910, 57725, 86189, 112001, 139913, 142715, 145737, 161974, 162780, 196077, 201677, 207148, 245649, 252071, 264031, 278633, 23871, 55075, 57725, 86189, 89602, 171970, 29526, 62862, 6575, 8245, 43910, 46909, 95359, 117251, 121170, 135831, 169699, 227702, 264031, 268110, 13273, 14422, 27875, 35859, 52584, 56554, 88793, 89602, 102275, 115003, 124874, 162639, 163804, 170947, 181212, 196077, 208147, 210485, 213150, 219321, 226879, 240403, 246513, 264657, 266056, 4017, 22625, 69078, 88937, 135831, 142479, 144038, 169233, 179288, 190741, 201677, 16795, 19664, 113270, 122429, 227447, 236757, 259626, 29526, 269566, 179734, 190708, 225886, 507, 9856, 12538, 20172, 37712, 60707, 125039, 165308, 49212, 56959, 114988, 245645, 16795, 88733, 135045, 36606, 118533, 157273, 201783, 273979, 95359, 165319, 196077, 267033, 271448, 47316, 104636, 141493, 197687, 8734, 15049, 48046, 55927, 56447, 81368, 99955, 127359, 129690, 138543, 155495, 167812, 200643, 243879, 244286, 251140, 207965, 16795, 156150, 65258, 153662, 14698, 158295, 143175, 158295, 178667, 256407, 275970, 35857, 143175, 14698, 88937, 211351, 196077, 23768, 250405, 219683, 138441, 150979, 166123, 36609, 136348, 150979, 218552, 36609, 95359, 193499, 161348, 264031, 227250, 13273, 16795, 35859, 39281, 43910, 75485, 127826, 135045, 146113, 149069, 168047, 179733, 181176, 244171, 245088, 39773, 73394, 88733, 127826, 179978, 206534, 277427, 21031, 98391, 16795, 21011, 30533, 62862, 78783, 112001, 114544, 128060, 138578, 184424, 276680, 143211, 48975, 98391, 182527, 31315, 39773, 56959, 59269, 76151, 95903, 126388, 140358, 158295, 160401, 232106, 241980, 31315, 35857, 59269, 66680, 81597, 98391, 136348, 144555, 216012, 216466, 232106, 235935, 278026, 21031, 25981, 98391, 136348, 182993, 235282, 13273, 16795, 27472, 31826, 32627, 38273, 49460, 54884, 56391, 70415, 76151, 78834, 89014, 98391, 114444, 126492, 130474, 187256, 188171, 189835, 223566, 224809, 236283, 237748, 271538, 71234, 75819, 76151, 110973, 126492, 128835, 133935, 170513, 184532, 185233, 189080, 189835, 219683, 236283, 241980, 259629, 274061, 152354, 115692, 254899, 69078, 187145, 225595, 240401, 52614, 159506, 226553, 266226, 27740, 36606, 78834, 85757, 101209, 105214, 122429, 129008, 146803, 199772, 203240, 248718, 255489, 258482, 141010, 257028, 278633, 30735, 139359, 177091, 184424, 240567, 35918, 80203, 80642, 115003, 126196, 141902, 145641, 145737, 192710, 206563, 230522, 269835, 16488, 36715, 63956, 72523, 95359, 110973, 141710, 148712, 172742, 182459, 264543, 271448, 8454, 221948, 190925, 215988, 6575, 7346, 10314, 20180, 30273, 36606, 36609, 55927, 86189, 110973, 116904, 128325, 136348, 137688, 142715, 143415, 149084, 153054, 162639, 188513, 199772, 215988, 224430, 225763, 226879, 232131, 260897, 270605, 206074, 35857, 98391, 126196, 235935, 638, 9747, 31826, 69389, 98391, 132375, 98391, 219683, 98391, 154529, 6543, 16795, 23872, 31826, 55490, 71234, 110973, 115692, 126492, 160401, 185233, 223787, 224809, 236283, 189835, 10447, 16795, 21011, 22625, 39281, 60244, 63938, 74286, 91113, 93629, 99347, 108005, 115003, 116758, 118677, 121170, 126196, 136139, 137688, 138543, 140358, 144531, 181687, 185233, 208147, 215988, 222296, 223787, 242299, 271448, 39281, 75089, 76151, 98391, 114368, 136348, 153662, 162639, 182993, 195694, 216012, 226545, 234359, 7283, 10447, 39281, 98391, 153054, 50895, 56554, 76151, 98391, 216012, 124876, 160558, 638, 71712, 140358, 145619, 147847, 277427, 46909, 162738, 165308, 238781, 114368, 104144, 128045, 162639, 182527, 207148, 216012, 244627, 62272, 76151, 98391, 203799, 106225, 126196, 177072, 182527, 190925, 227884, 228764, 235935, 139141, 153662, 160735, 264082, 278188, 38273, 190925, 225810, 246311, 66680, 114544, 126196, 143175, 183101, 244627, 266056, 134797, 226205, 10314, 16795, 43910, 235282, 138543, 150968, 154992, 167746, 16795, 43910, 238781, 4017, 41781, 235282, 264031, 276165, 10447, 34588, 36135, 48046, 51742, 55187, 60263, 65258, 82831, 96448, 125039, 135831, 161299, 177072, 211288, 236283, 266283, 268622, 277427, 16795, 40889, 87141, 104665, 187762, 196160, 241980, 189835, 1733, 31826, 56307, 104636, 177375, 162639, 7283, 20180, 54335, 77480, 133296, 184299, 207782, 33974, 46909, 50730, 104636, 235282, 240568, 29526, 31315, 50225, 56554, 98391, 178920, 228311, 231210, 6563, 7125, 7283, 8066, 8454, 10314, 10560, 13552, 14422, 16718, 16795, 23768, 25409, 26621, 30487, 31391, 35857, 35859, 40943, 43910, 48494, 50730, 52584, 60050, 60244, 62966, 67547, 69078, 81492, 81771, 82407, 83287, 89602, 95932, 96320, 97754, 98723, 105979, 106225, 108155, 113270, 114444, 117873, 120908, 121170, 125692, 135831, 139359, 143175, 144531, 147686, 150968, 173415, 190925, 196502, 203240, 208147, 210587, 211919, 215986, 216466, 221445, 223087, 224249, 224430, 225763, 227702, 227705, 231210, 235392, 235935, 242299, 244593, 253871, 260897, 268622, 270801, 270820, 10314, 30487, 43910, 97754, 98391, 143415, 155219, 182993, 217375, 228868, 235282, 251422, 13552, 21031, 25409, 27812, 36609, 56554, 88793, 98547, 105979, 127359, 142715, 146803, 149934, 173415, 190925, 222220, 223154, 231210, 235935, 246507, 246513, 9747, 126196, 142715, 276680, 16916, 30487, 36609, 201677, 8245, 182993, 223087, 82407, 87141, 189835, 211426, 219683, 238699, 266226, 21484, 55927, 89602, 114544, 117251, 192093, 206944, 218608, 20060, 55187, 101876, 121986, 126388, 187624, 206563, 226965, 234828, 268032, 7158, 27472, 31826, 48025, 95359, 126492, 128835, 158295, 182459, 184299, 206074, 232131, 236058, 258534, 273979, 189835, 25981, 112001, 133296, 141493, 144478, 153662, 162639, 193499, 252843, 256843, 47316, 53220, 104144, 137688, 143163, 167349, 232945, 235935, 258534, 274549, 76151, 114544, 213126, 240219, 255546, 67840, 225810, 3371, 4017, 13552, 20060, 28634, 40889, 43806, 61901, 95359, 104636, 144555, 184532, 212965, 30276, 65584, 76151, 114368, 194676, 258185, 81848, 98391, 156214, 182993, 216012, 126196, 144318, 159858, 190925, 209756, 228681, 104636, 154730, 223566, 223501, 5539, 56391, 67840, 124310, 126196, 171638, 16795, 36609, 36749, 57725, 98391, 113270, 136348, 143415, 182993, 207782, 216012, 89602, 128835, 171445, 232959, 240035, 264031, 98391, 134797, 141902, 146803, 153662, 60050, 82893, 99347, 147847, 30533, 40943, 67840, 60050, 85656, 93047, 98904, 105214, 112001, 181176, 183101, 265313, 882, 51450, 98391, 176214, 178667, 241548, 252865, 266056, 277427, 31826, 40889, 40943, 46909, 48025, 104636, 141491, 154730, 229011, 235282, 254144, 261829, 264082, 214786, 180348, 184424, 26517, 234359, 48975, 52614, 19085, 48046, 102647, 121170, 135149, 144318, 178199, 204864, 225595, 232131, 234828, 242639, 261829, 268032, 3145, 8067, 91113, 95173, 98391, 141010, 142524, 181687, 201684, 222220, 235282, 264311, 43910, 134797, 177375, 224764, 27812, 76151, 98391, 133296, 144531, 153662, 202277, 56856, 95359, 258534, 7125, 11224, 21031, 39773, 59038, 61901, 75819, 105937, 155580, 201677, 224764, 276680, 135149, 75819, 101304, 16106, 35857, 94923, 224349, 227447, 233911, 25981, 250405, 166123, 143175, 36609, 88793, 222035, 143175, 138097, 21576, 46398, 150979, 2766, 102967, 187256, 187256, 35859, 226006, 169663, 112001, 249958, 8067, 100846, 104636, 108005, 162639, 172061, 240219, 135609, 93363, 87964, 148898, 98391, 16795, 48046, 71234, 95359, 121170, 126736, 129851, 138097, 142524, 164728, 196077, 197659, 232945, 60244, 69721, 81977, 96440, 219683, 76818, 168954, 208555, 77809, 102647, 2033, 3827, 37512, 49212, 67198, 81492, 153662, 245410, 248718, 6563, 8066, 20060, 20462, 50225, 60244, 89602, 101305, 103336, 105979, 124310, 159033, 178199, 206944, 232131, 246634, 265115, 268110, 92810, 101305, 149084, 185176, 189392, 206534, 218608, 275970, 2766, 15408, 22074, 30533, 31393, 37208, 60244, 68555, 75819, 110912, 114988, 126604, 128085, 132375, 135360, 137589, 156150, 216466, 218568, 225763, 258482, 270801, 270838, 30487, 76530, 89602, 155219, 239584, 277427, 73923, 170947, 229741, 258482, 8066, 19664, 54898, 68760, 87555, 89602, 126604, 127233, 143211, 150979, 152645, 156150, 162052, 171445, 173415, 189973, 7125, 54898, 69684, 73923, 94347, 101305, 110912, 114988, 145641, 156150, 162052, 243236, 243700, 29209, 89602, 93047, 100906, 156150, 240567, 8454, 16718, 30716, 39646, 43910, 56554, 60244, 62862, 64436, 81848, 87964, 89602, 91113, 93426, 95359, 98547, 108799, 116758, 133747, 136348, 143211, 173415, 181687, 182993, 200643, 215988, 227836, 229313, 232959, 235282, 253871, 254465, 268110, 29526, 74056, 182993, 229313, 266056, 16996, 40914, 43910, 56554, 81848, 93426, 133747, 179733, 179734, 201447, 206944, 235282, 244593, 246507, 6543, 8066, 8734, 10560, 39646, 41084, 60244, 88793, 89602, 120908, 136139, 140358, 141710, 159033, 175052, 188171, 209373, 221445, 8454, 132375, 182993, 7125, 13552, 25409, 28591, 30081, 31315, 75860, 91113, 98723, 127914, 144531, 147686, 153662, 155219, 207148, 217375, 235282, 236757, 60244, 93047, 154529, 259930, 40914, 62966, 144531, 155141, 168954, 229313, 251422, 21576, 25409, 28591, 30273, 40914, 44845, 56554, 127233, 155141, 162639, 165308, 249894, 264311, 7125, 21618, 22521, 66878, 95903, 125519, 184424, 202277, 229741, 16795, 23768, 61901, 78783, 89602, 95173, 124874, 215988, 231210, 261829, 264031, 62862, 221948, 223154, 223431, 232131, 243294, 82407, 98391, 189835, 38273, 189835, 87141, 189835, 100906, 177432, 153662, 240756, 261829, 240756, 82497, 240568, 104399, 241565, 250936, 236283, 243759, 269890, 104399, 92810, 98391, 28634, 98391, 75819, 5582, 29526, 68249, 68555, 135149, 197659, 12538, 30735, 38023, 68555, 130554, 197687, 209875, 6251, 30735, 32627, 40889, 49212, 60707, 78834, 89602, 95173, 96440, 114988, 171968, 178667, 179734, 197687, 211344, 226879, 245410, 252695, 77809, 171968, 245410, 81298, 98783, 12538, 49460, 130554, 135149, 209875, 253821, 23871, 55492, 70666, 183995, 7915, 15408, 16795, 36606, 70666, 170947, 231210, 232131, 260944, 8067, 70666, 75485, 100846, 149069, 213150, 224349, 278418, 235105, 143175, 210959, 224249, 110440, 162738, 210959, 68249, 110373, 158295, 185634, 235105, 125519, 237990, 10447, 16106, 35857, 56447, 136252, 155219, 27740, 235105, 98391, 235105, 21356, 100459, 260897, 124078, 178199, 204864, 242083, 15408, 17003, 35704, 35859, 53241, 74056, 79285, 101305, 106225, 123883, 140358, 145449, 196077, 235282, 16795, 35859, 130571, 137688, 169699, 170634, 206534, 260944, 277427, 10314, 16795, 35857, 51450, 51992, 64436, 78834, 90391, 95359, 113519, 123095, 126196, 146348, 160401, 174216, 236283, 13273, 15408, 71234, 108799, 187145, 225996, 236283, 242106, 274061, 98391, 158295, 235105, 73923, 95359, 105979, 108950, 114544, 127914, 147847, 206944, 223501, 1848, 6563, 7125, 7346, 7915, 10447, 13552, 13850, 16718, 16795, 21576, 22625, 23871, 36606, 39773, 40889, 41781, 60621, 61901, 73394, 75081, 75819, 81368, 85993, 89602, 98391, 105979, 108005, 110912, 112001, 117251, 122429, 123790, 128325, 130571, 139913, 141493, 145619, 148898, 152651, 168642, 181687, 182993, 183101, 190925, 204813, 208671, 209756, 217375, 221445, 223154, 235935, 236283, 248850, 249894, 253871, 256843, 257700, 258938, 270820, 271176, 271195, 243879, 6563, 16718, 16795, 31315, 38023, 46398, 60244, 68256, 85426, 95359, 108005, 108752, 137211, 138578, 143163, 147141, 170634, 175003, 210485, 236283, 250405, 266056, 278843, 9613, 127200, 128085, 171968, 249862, 48494, 92547, 104429, 146348, 234828, 22625, 30994, 70931, 189835, 219321, 273979, 15408, 16795, 31556, 35857, 92810, 125519, 128060, 251843, 4017, 8253, 20172, 268110, 6251, 16106, 16795, 25409, 62862, 90616, 158254, 161974, 165319, 182334, 196077, 201684, 210597, 217375, 222296, 224349, 224430, 225763, 229741, 246311, 258938, 43687, 105979, 122429, 240568, 78834, 120908, 121264, 123883, 139913, 150968, 267033, 16795, 28523, 52584, 56856, 60244, 68984, 95991, 177072, 183995, 187256, 196077, 226205, 157273, 32773, 49460, 95359, 145449, 201674, 215986, 246513, 246655, 56391, 158295, 221705, 29209, 48025, 53220, 82497, 92810, 140358, 188022, 193898, 20060, 61798, 132199, 235935, 276231, 224764, 258482, 278026, 35859, 41084, 44252, 48046, 55892, 89602, 112001, 189835, 204864, 220240, 236283, 242299, 261829, 143175, 143175, 143175, 143175, 82831, 6563, 130554, 8734, 16106, 113519, 6073, 46398, 48046, 75591, 76499, 94347, 97754, 101305, 115003, 142524, 173415, 204864, 219683, 228681, 240370, 16634, 21576, 28523, 105979, 182442, 242083, 123544, 7158, 35859, 152645, 6543, 60244, 94347, 115435, 127359, 129716, 156150, 224349, 271144, 69078, 115435, 129716, 168954, 11629, 8245, 36606, 81492, 85757, 133747, 200643, 206944, 210587, 244593, 7346, 13273, 27875, 29209, 60337, 103336, 110934, 115003, 165308, 177375, 196466, 204864, 210485, 218568, 244171, 76482, 201677, 220688, 270838, 248718, 32627, 48025, 52199, 110912, 115003, 170513, 197659, 224430, 3167, 6575, 18082, 25981, 30898, 31556, 36715, 44252, 61427, 68984, 70666, 93047, 95574, 125692, 133747, 140223, 143163, 143837, 145641, 148744, 155147, 156300, 162639, 211426, 218608, 219683, 220240, 224349, 236283, 238120, 242083, 258938, 261829, 13273, 38544, 61427, 68984, 106007, 136205, 140036, 197659, 226965, 238120, 242083, 193898, 2891, 6575, 7346, 17003, 30276, 30533, 35859, 45557, 49980, 52584, 52917, 60244, 60707, 68984, 69971, 76818, 80203, 80683, 86145, 96357, 101851, 113519, 131154, 135149, 137589, 143415, 144038, 144555, 153662, 157273, 158254, 182527, 185275, 192093, 198930, 206944, 218568, 224138, 229313, 232131, 238065, 240567, 264152, 266226, 267033, 269566, 270605, 278137, 13273, 31393, 60707, 230522, 235105, 23511, 26593, 68555, 276050, 1435, 6575, 7346, 8362, 45557, 48494, 52584, 69971, 76482, 95359, 101851, 104113, 110912, 135149, 138543, 159732, 171445, 178920, 197364, 206944, 207259, 208147, 211426, 235105, 243294, 245410, 251613, 254299, 274056, 247447, 141491, 151589, 156150, 189516, 19664, 21364, 31040, 52584, 81977, 102647, 107784, 110934, 117251, 133747, 139359, 162639, 218568, 231210, 240219, 243759, 104636, 110934, 232131, 95359, 53241, 78448, 113904, 238781, 105979, 110382, 114544, 124942, 224138, 278188, 8253, 17003, 21356, 30735, 45557, 52584, 53418, 60244, 60583, 69971, 76483, 100906, 129084, 150979, 160401, 160819, 175052, 177072, 193898, 240567, 266283, 271705, 270605, 6575, 21618, 37712, 67547, 75591, 96357, 126736, 133747, 146348, 153513, 169663, 204864, 222296, 224138, 224349, 224923, 234828, 255546, 258884, 264543, 61427, 95574, 112001, 216683, 242083, 267635, 82407, 87964, 114544, 185634, 242299, 245645, 6563, 7125, 8067, 16795, 60244, 70415, 90391, 136348, 156467, 162738, 172742, 178199, 221445, 235935, 266283, 3827, 21484, 30533, 31393, 53241, 60244, 100459, 104113, 106007, 110912, 114544, 121986, 125411, 127914, 135149, 160681, 162780, 187256, 189835, 208147, 226965, 229313, 243236, 261829, 264996, 268622, 271448, 16795, 30533, 35859, 124078, 175052, 177375, 189080, 193676, 221948, 223201, 243700, 252695, 49212, 52584, 85426, 95359, 141010, 185722, 270820, 46398, 89602, 95359, 113270, 123981, 126604, 129074, 141710, 143415, 159033, 182334, 215006, 271448, 13850, 56959, 76942, 78783, 91832, 127826, 143968, 144531, 162639, 175052, 187256, 190925, 212923, 227884, 234828, 237990, 238120, 251422, 256402, 259629, 264543, 56307, 151098, 165308, 176214, 177072, 192093, 206567, 209756, 230522, 266283, 10447, 31556, 48025, 83637, 174726, 210485, 212923, 240403, 259930, 20060, 85656, 98391, 102702, 114368, 229011, 269321, 59189, 102702, 114368, 138441, 146803, 229011, 30276, 98391, 114368, 147965, 180348, 98391, 114368, 234359, 247447, 258185, 236757, 264862, 10447, 36606, 50073, 90616, 93179, 100846, 143837, 146803, 174830, 236283, 258884, 30735, 36606, 90616, 158295, 174830, 206563, 236283, 250330, 258884, 30735, 36327, 78783, 81848, 93179, 97754, 158295, 162052, 174830, 236283, 250330, 6323, 30735, 36606, 60244, 84024, 90616, 139913, 146803, 148712, 158295, 174830, 236283, 250330, 273979, 30735, 34588, 36606, 75485, 90616, 136205, 156269, 158295, 162052, 174830, 209373, 220688, 236283, 240144, 250330, 6323, 30487, 174216, 206534, 222296, 30735, 31393, 34588, 36606, 90616, 91058, 111847, 145449, 146113, 156269, 158295, 174830, 236283, 258884, 6543, 51526, 55490, 63394, 78834, 101851, 123460, 200643, 203075, 210959, 219683, 220688, 258534, 16634, 35918, 86145, 87555, 89014, 95359, 105979, 126604, 133747, 162738, 207246, 218068, 222035, 239584, 251843, 255489, 2276, 8454, 23768, 25409, 30487, 35704, 41364, 49460, 76530, 78783, 91113, 96448, 102967, 113270, 115003, 120908, 121170, 127359, 129851, 130571, 132375, 136252, 139359, 142524, 155141, 171818, 187256, 189392, 192093, 192710, 198046, 217375, 228311, 236058, 240370, 251394, 251843, 258534, 258938, 260897, 98391, 235105, 12538, 15049, 65663, 104880, 196466, 61854, 123883, 23872, 95932, 168047, 240370, 6575, 16795, 37712, 42093, 81216, 81977, 101851, 174848, 211919, 229741, 230522, 234359, 240144, 269835, 271195, 6575, 15408, 16795, 37712, 81216, 101851, 211919, 229741, 230522, 269835, 271195, 277427, 243360, 46398, 80683, 195469, 238120, 30994, 33974, 196077, 3167, 39773, 62891, 145449, 230522, 91113, 94951, 127826, 219683, 238889, 264152, 7346, 12538, 37644, 95010, 126726, 153662, 1848, 23872, 32627, 53174, 123790, 138602, 152099, 187624, 226205, 257204, 261603, 78448, 2276, 37512, 123094, 138602, 184299, 219683, 257204, 261603, 1848, 32627, 36299, 109779, 138602, 166123, 184299, 209875, 219683, 226205, 257204, 261603, 2276, 123790, 138602, 184299, 257204, 261603, 158295, 16634, 157273, 87141, 232211, 249862, 263163, 69971, 91113, 94951, 2033, 69971, 94951, 111578, 143211, 48025, 107784, 19085, 135149, 172676, 181176, 208406, 7283, 153662, 62558, 100906, 129008, 135149, 150498, 251843, 261603, 274549, 277639, 147847, 264082, 12538, 20201, 60858, 124078, 187624, 210485, 227520, 245410, 257204, 20201, 22818, 124078, 138995, 240403, 245410, 257204, 32627, 37512, 109779, 138602, 184299, 209875, 219683, 257204, 261603, 1848, 3167, 28177, 35836, 46443, 55187, 60244, 69684, 77809, 80642, 88937, 91113, 104657, 126388, 127826, 140223, 154529, 163202, 165319, 184299, 187256, 204864, 207494, 234828, 238889, 240035, 246000, 249894, 251394, 271176, 274308, 106007, 37512, 81977, 95010, 104657, 219683, 238889, 246000, 264152, 20201, 22818, 85426, 124078, 138995, 245410, 257204, 20201, 137336, 138995, 245410, 251394, 257204, 37644, 76499, 111944, 216683, 136491, 248718, 21484, 27472, 52584, 147847, 159858, 192093, 196502, 209373, 221948, 223431, 226616, 253821, 271195, 274061, 138602, 166123, 187624, 209875, 261603, 2033, 153054, 219683, 238889, 264152, 271176, 25409, 36609, 36749, 60244, 153662, 165308, 221445, 6563, 8245, 12538, 16795, 76818, 142524, 157273, 171970, 211344, 224249, 224430, 234359, 235935, 244593, 258938, 189835, 36609, 81848, 131046, 153054, 171445, 204864, 216466, 242083, 244171, 8681, 56447, 85426, 106007, 115490, 117873, 135360, 144038, 154345, 171445, 222296, 224138, 120093, 225886, 28634, 156300, 160401, 153662, 25981, 51883, 172030, 213150, 61854, 129465, 153662, 139913, 35859, 212965, 172512, 104636, 150498, 264082, 78553, 227250, 164828, 78553, 146113, 184513, 31393, 153662, 256844, 50895, 52853, 68555, 102275, 139913, 255546, 98391, 98391, 118533, 126736, 193898, 216012, 223501, 252865, 9613, 30276, 56307, 65584, 107865, 216012, 229011, 237990, 25981, 98391, 107865, 177090, 231264, 61854, 98391, 102702, 158295, 107865, 125779, 266056, 507, 37712, 98391, 216012, 220278, 234359, 98391, 194676, 98391, 234359, 50895, 98391, 125779, 266226, 268622, 50895, 54335, 98391, 237990, 252865, 234359, 98391, 3827, 31556, 60707, 61427, 102647, 179730, 225763, 189835, 189835, 189835, 226965, 20201, 38273, 55548, 101851, 122429, 123094, 129074, 131837, 197659, 277427, 6575, 35859, 187762, 201783, 227447, 247055, 267033, 268751, 277427, 20201, 27875, 38273, 52917, 101851, 182334, 185233, 187762, 274549, 6575, 36554, 52917, 87141, 189973, 196077, 206534, 218568, 268751, 277427, 2033, 38273, 146348, 198012, 208141, 265313, 7346, 23872, 105937, 182334, 188022, 208406, 277427, 23872, 31556, 69389, 134797, 143253, 256167, 13273, 136205, 177590, 15049, 16795, 16916, 17190, 31040, 32122, 34588, 35859, 36256, 47316, 55178, 55438, 56447, 60244, 76352, 81848, 87141, 92547, 93363, 96357, 114444, 123095, 123744, 131154, 141491, 141493, 143964, 148744, 150124, 153662, 160401, 162639, 163430, 170513, 174216, 176214, 177072, 190459, 204864, 208671, 208815, 219546, 223190, 226545, 241980, 245645, 256402, 266056, 269890, 273979, 9908, 15049, 16916, 31040, 32122, 33580, 37644, 55438, 68984, 81298, 92547, 93363, 107784, 110973, 123095, 128085, 134797, 140358, 141491, 141493, 141902, 143964, 150124, 156300, 160401, 177072, 177590, 189080, 208671, 208815, 219546, 241980, 242083, 256402, 266056, 274634, 12538, 15049, 16795, 16916, 17190, 25981, 27472, 32122, 35859, 37644, 39773, 47316, 55492, 56447, 68984, 69389, 81298, 87141, 92547, 123095, 131154, 140358, 143964, 150124, 153662, 156300, 177072, 177590, 208815, 246247, 256402, 261829, 274634, 15049, 16916, 25981, 29259, 37644, 47316, 81298, 92547, 107784, 110973, 123095, 128085, 140358, 143964, 150124, 156300, 160401, 177590, 208671, 208815, 246247, 256402, 15049, 16795, 16916, 25981, 29259, 37644, 47316, 68984, 81298, 123095, 131154, 143964, 177072, 208671, 208815, 246247, 274634, 15049, 29259, 37644, 56447, 68984, 81298, 107784, 113270, 123095, 128085, 160401, 208671, 208815, 9908, 15049, 16795, 16916, 17190, 36256, 81298, 92547, 140358, 143964, 177072, 177590, 246247, 266056, 35859, 37644, 56447, 59390, 68984, 208671, 208815, 15049, 16916, 17190, 36256, 81298, 87141, 92547, 93363, 143964, 150124, 153662, 160401, 177072, 177590, 208671, 266056, 12538, 13273, 16795, 16916, 17190, 29259, 36256, 37644, 81298, 95359, 101876, 107784, 143964, 150124, 177072, 177590, 266056, 274634, 17190, 29259, 37644, 87141, 150124, 153662, 174304, 208815, 266056, 274634, 29259, 37644, 56447, 68984, 107784, 128085, 154730, 174304, 208815, 56447, 68984, 95359, 113270, 208815, 35859, 60244, 68984, 140036, 141493, 242299, 251003, 2766, 93363, 93363, 78846, 158295, 153662, 254465, 69697, 126736, 258185, 123981, 126736, 110973, 25981, 159858, 277427, 212965, 227250, 7158, 226006, 52614, 98391, 98391, 98391, 153662, 110973, 7158, 110973, 135045, 181176, 187517, 226006, 98391, 234359, 35836, 95359, 189835, 2766, 23871, 178199, 48025, 19085, 120598, 162639, 219683, 31315, 76499, 122429, 127826, 159033, 275970, 55892, 274808, 55187, 87555, 137589, 156269, 8066, 20172, 21014, 34588, 35859, 69355, 90391, 110973, 115692, 133747, 147965, 153797, 166409, 174596, 184424, 187145, 195904, 204457, 234359, 246311, 251843, 159506, 13273, 16795, 101305, 123095, 130571, 236757, 255489, 273979, 7125, 73923, 100846, 155219, 11993, 131837, 68156, 60244, 5582, 8681, 17003, 23571, 60244, 100459, 117251, 128835, 159732, 178199, 215006, 5539, 78553, 112093, 115490, 126814, 179730, 179734, 212328, 225996, 232945, 245410, 270352, 6575, 16795, 23571, 37712, 42093, 55178, 81216, 101851, 122429, 127826, 137688, 174848, 211919, 220688, 229741, 230522, 240144, 240403, 268110, 269835, 271195, 275970, 15408, 60244, 62558, 127359, 146348, 179075, 220240, 252865, 93629, 235105, 60621, 158295, 31315, 142715, 242106, 32773, 16634, 266226, 37712, 68555, 102359, 12824, 20201, 82893, 101851, 109779, 154844, 177590, 208406, 257204, 38273, 220688, 189835, 188171, 76499, 66574, 126388, 143175, 61854, 9856, 165319, 218552, 257204, 274061, 30735, 123544, 137336, 49212, 3827, 58594, 91113, 109461, 135149, 245410, 76352, 112001, 189835, 8245, 35704, 68256, 70666, 112559, 123094, 210485, 249894, 250330, 8253, 75485, 78846, 79977, 98686, 120598, 141493, 162639, 219683, 231827, 33974, 36327, 38273, 79977, 81492, 98686, 141493, 162639, 208671, 251613, 226879, 240144, 103304, 236757, 139913, 255489, 98391, 146113, 11993, 62891, 142121, 5582, 16795, 35857, 83287, 89602, 122506, 143964, 153662, 177072, 192211, 208406, 209756, 220240, 231210, 231827, 232131, 235282, 242083, 254201, 266226, 8734, 13850, 15049, 29259, 36256, 53418, 54898, 69078, 81771, 92547, 95903, 123790, 131837, 150979, 174304, 179978, 201017, 201684, 220278, 269566, 6575, 10447, 35859, 52917, 55492, 123094, 125519, 127200, 132836, 159033, 177072, 192211, 196077, 227447, 251613, 8734, 11724, 13850, 15049, 21364, 29259, 32773, 35857, 40889, 78783, 81771, 92547, 150979, 196077, 196502, 201017, 201684, 210822, 218608, 226553, 227520, 118677, 158606, 88733, 138441, 242299, 30533, 88733, 112001, 162639, 8454, 110440, 187145, 264862, 26621, 31826, 60244, 166123, 174304, 208555, 210485, 236283, 2033, 35859, 38273, 123608, 153662, 155495, 179978, 197659, 220240, 227447, 245088, 249894, 254899, 146803, 46398, 101851, 128045, 135149, 192211, 266056, 138578, 189835, 189835, 189835, 271705, 78834, 110973, 136071, 212923, 228311, 40914, 1435, 1733, 2766, 11224, 11993, 21031, 28591, 30972, 31826, 38023, 46398, 54453, 55187, 60050, 61028, 65258, 69378, 77480, 82831, 93047, 102275, 114988, 124078, 129851, 132375, 136139, 142479, 147965, 148712, 160681, 162311, 167800, 168047, 172760, 184424, 187145, 187256, 220688, 223566, 224809, 230013, 237271, 242639, 249862, 249989, 251422, 257028, 258938, 259118, 260897, 271448, 21014, 268110, 2891, 8245, 37712, 60244, 104144, 104636, 117873, 122429, 162639, 181687, 223501, 143415, 6543, 6563, 6575, 13273, 23768, 25409, 31391, 64436, 95991, 136326, 136348, 162780, 201447, 206534, 218568, 223087, 224430, 225763, 243942, 251843, 255489, 6543, 6575, 7125, 21576, 46443, 62542, 64436, 69971, 75149, 88652, 88793, 89602, 91058, 95173, 95359, 95991, 110912, 110934, 113270, 114988, 115003, 128325, 135351, 136326, 136348, 141710, 145449, 162780, 168144, 177072, 210485, 213126, 218568, 221445, 235935, 251843, 263460, 6543, 21576, 56959, 75149, 88652, 88793, 89602, 91058, 95991, 110912, 110934, 114988, 142121, 160819, 190925, 210485, 210587, 212142, 212923, 213126, 233911, 276463, 129851, 234359, 8066, 23768, 69378, 89602, 95359, 95991, 135351, 142121, 168144, 210485, 212142, 212923, 2891, 6251, 8454, 16795, 49460, 60050, 66574, 75149, 81368, 95250, 108005, 195904, 201447, 228579, 271448, 8681, 62464, 67547, 243328, 6575, 14422, 16106, 22074, 31846, 41781, 43687, 47316, 48494, 49212, 49460, 54335, 60244, 67840, 75149, 88793, 89602, 95173, 110912, 110934, 113270, 114988, 126196, 133571, 134483, 141493, 141710, 145449, 174848, 177040, 202277, 210485, 210587, 221445, 224349, 226205, 228868, 233911, 235935, 254899, 259118, 265115, 278582, 138441, 32627, 68156, 93047, 94923, 201017, 234165, 265313, 7125, 56554, 57725, 132083, 182993, 239584, 143175, 115490, 48494, 98391, 153662, 156467, 153662, 258185, 216012, 39441, 104665, 247752, 69697, 24933, 26544, 69697, 207782, 278188, 30276, 37208, 123883, 139913, 153662, 216012, 72523, 247241, 93426, 177375, 274061, 79740, 1733, 132375, 28591, 24933, 82497, 114368, 156467, 101209, 244627, 9747, 16795, 43806, 119517, 123095, 127233, 134797, 136348, 159033, 227884, 244627, 249628, 268110, 13552, 112761, 124487, 156467, 182527, 114368, 162639, 238781, 37208, 156467, 196047, 23871, 37208, 49154, 76352, 144318, 156467, 51883, 98391, 107865, 180348, 266056, 98391, 184513, 252843, 30276, 98391, 30276, 25981, 31315, 56307, 104144, 126196, 162639, 172512, 252695, 35836, 104665, 106225, 147965, 163804, 188022, 207148, 216466, 240568, 242646, 244627, 98391, 114414, 158295, 40889, 47316, 98391, 126196, 134797, 26544, 56307, 67840, 80810, 163804, 204864, 98391, 135265, 216012, 98391, 106225, 193499, 234359, 26544, 98391, 134797, 150968, 216012, 265115, 98391, 181176, 247752, 65584, 98391, 158295, 69697, 74758, 169699, 194676, 203240, 258185, 264311, 38544, 98391, 158295, 177690, 180348, 206074, 234359, 253821, 269321, 36749, 62542, 68555, 139913, 190925, 227884, 252695, 255546, 66680, 114368, 147965, 153662, 212965, 213531, 237990, 266056, 47316, 98391, 158295, 177690, 208897, 102647, 112761, 124363, 166123, 204864, 30276, 98391, 123883, 135149, 153662, 212965, 227250, 247241, 98391, 123883, 153662, 156467, 229011, 258185, 26544, 98391, 125692, 147965, 187256, 187517, 193499, 5582, 40889, 76151, 91113, 99347, 114368, 146803, 156467, 162827, 208897, 225810, 228868, 16795, 21356, 40889, 79266, 98391, 108799, 218552, 251422, 252843, 16795, 114368, 164828, 216012, 25981, 28634, 56554, 132375, 133296, 134797, 148898, 156467, 271448, 16795, 24933, 98391, 114368, 138441, 177690, 207349, 212965, 98391, 82497, 98391, 119517, 126196, 134797, 139913, 156467, 208147, 223190, 252843, 98391, 216012, 252843, 98391, 216012, 98391, 223501, 69389, 177690, 221705, 13273, 98391, 156467, 163804, 187256, 269890, 66680, 98391, 134797, 148898, 162639, 216012, 265115, 62272, 216012, 261829, 265115, 30276, 52614, 82497, 125779, 169699, 207782, 98391, 171638, 264031, 266056, 26544, 27472, 98391, 114368, 147965, 8067, 17282, 28591, 30273, 51883, 86145, 98391, 187517, 208147, 8067, 65584, 76151, 98391, 119517, 136326, 144531, 162639, 227250, 229011, 276165, 49109, 67840, 69697, 76151, 98547, 99347, 114368, 127359, 247447, 101620, 156467, 219683, 223501, 227250, 278026, 223501, 224764, 227250, 247752, 216012, 189835, 10819, 16795, 23768, 56447, 60244, 199772, 26621, 224349, 275970, 175003, 65258, 215986, 143175, 55892, 1435, 143175, 143175, 7346, 10819, 13850, 29259, 35859, 39281, 53392, 57398, 113519, 150979, 170513, 220688, 256402, 257028, 21014, 29259, 110973, 123790, 157273, 234828, 236283, 177072, 264152, 243, 1435, 7158, 7346, 10030, 10447, 11224, 14422, 16718, 29259, 36327, 40889, 44845, 48494, 48579, 59038, 87964, 110373, 113519, 118677, 125519, 151589, 168816, 170634, 175003, 185233, 210485, 212467, 236283, 265115, 271448, 7346, 14422, 16718, 76352, 113519, 125519, 174304, 212467, 247752, 16795, 23872, 28177, 31556, 46398, 51742, 66878, 76482, 78783, 80810, 104429, 104636, 114544, 135265, 141493, 143163, 145369, 150979, 154992, 163307, 164728, 171445, 173415, 183061, 190459, 193676, 206074, 208671, 209373, 223087, 249894, 264031, 264543, 141491, 212467, 236283, 5582, 10314, 16795, 28619, 29259, 31040, 35857, 48579, 76352, 85426, 104636, 112001, 127200, 148744, 153662, 170634, 185233, 212467, 251843, 259260, 261829, 278137, 27875, 42914, 137336, 175052, 208671, 212467, 236283, 15049, 40889, 62542, 76352, 185233, 212467, 259260, 29259, 59269, 99955, 123883, 125519, 143163, 208671, 248477, 6563, 16795, 31040, 35859, 40889, 68555, 112001, 118677, 129690, 155495, 170634, 183995, 212467, 278137, 21011, 23872, 35859, 40889, 43806, 44252, 46398, 55492, 58612, 62891, 78783, 112026, 114544, 129690, 135265, 141493, 145369, 154992, 160401, 163307, 171445, 174304, 183061, 192211, 208671, 240219, 254144, 2766, 12538, 35445, 42914, 76352, 76483, 81492, 104636, 123744, 137336, 138578, 143964, 203799, 212467, 223566, 236283, 258938, 271448, 4017, 48579, 59269, 76352, 81298, 87964, 212467, 6563, 10447, 11224, 55438, 82831, 104636, 148744, 205735, 212467, 213150, 236283, 246513, 638, 104636, 143964, 148744, 212467, 219546, 242083, 252848, 7346, 9856, 30985, 44728, 55492, 81298, 83287, 95359, 123981, 126736, 169779, 209756, 216683, 218121, 231210, 244627, 260067, 273979, 56959, 143175, 36609, 21576, 6563, 189835, 189835, 95359, 125519, 271176, 132836, 112001, 130571, 4017, 28177, 66680, 91103, 95359, 108005, 113519, 162639, 181687, 187517, 226965, 246311, 156467, 21484, 46398, 158433, 55927, 158433, 2891, 260897, 68555, 179730, 254899, 144038, 216683, 136491, 16996, 90391, 218121, 104399, 136491, 2766, 94347, 127200, 127359, 153797, 216683, 255489, 135149, 217986, 219683, 159033, 251422, 8245, 250405, 21014, 88793, 170724, 189835, 246507, 249894, 55490, 35836, 31315, 222035, 8245, 96448, 88733, 150979, 189835, 179075, 143175, 242299, 150979, 143175, 150979, 218552, 166123, 150979, 250405, 143175, 35859, 225763, 14698, 143175, 185233, 226965, 158295, 16106, 67840, 129716, 143415, 169663, 192710, 223087, 246513, 31846, 98391, 88733, 17003, 56447, 89602, 105214, 133747, 162738, 246634, 16106, 8681, 243942, 8454, 47316, 49980, 142524, 147224, 184513, 153054, 276680, 1435, 8454, 79285, 85757, 29526, 43910, 98391, 231210, 235282, 29526, 218241, 29526, 43910, 56391, 69078, 106225, 132199, 134483, 171445, 184424, 223501, 239584, 255489, 8681, 142479, 41364, 60244, 76818, 222296, 224349, 239584, 276680, 10314, 43910, 132083, 136139, 243236, 251394, 6575, 10819, 21011, 60244, 136139, 203240, 221948, 8066, 8681, 36715, 44893, 58594, 71853, 152645, 156150, 171818, 184299, 220688, 229741, 4017, 6543, 10314, 11601, 20180, 38023, 39646, 43910, 49212, 62862, 78783, 92979, 140358, 145449, 145641, 148744, 157273, 166409, 178667, 212923, 217986, 223087, 224138, 231210, 235282, 236058, 240401, 241548, 264543, 268110, 23872, 104113, 167746, 170513, 219683, 69078, 95359, 133747, 141010, 143415, 204864, 248477, 271705, 66574, 154345, 8681, 36715, 66574, 75149, 121170, 154345, 201447, 229313, 229741, 246311, 10447, 21014, 114988, 142524, 195694, 196077, 204864, 222296, 239584, 204864, 130571, 140223, 197364, 229313, 242083, 246311, 248477, 21014, 89602, 156150, 204864, 239584, 259626, 266865, 16106, 77480, 276680, 25409, 56554, 81492, 184424, 229011, 229741, 3145, 10314, 16795, 44893, 51526, 66574, 85757, 89602, 91113, 110934, 117251, 121170, 123095, 133747, 144531, 147686, 215986, 215988, 224249, 224349, 227702, 229313, 229741, 261829, 10314, 21011, 37712, 11601, 19664, 98391, 223087, 243879, 268110, 21014, 37712, 85757, 98723, 106225, 121170, 153718, 165308, 184279, 215986, 229011, 240219, 243236, 248477, 6575, 26621, 43910, 73330, 89602, 132199, 144531, 162639, 246311, 25131, 70415, 101209, 184513, 264031, 98391, 190925, 14521, 55187, 60244, 125411, 140036, 141902, 143964, 147847, 150979, 162639, 164926, 177590, 197659, 208671, 226553, 230013, 240403, 143175, 166123, 250405, 98391, 23768, 275970, 155147, 181687, 143175, 136348, 136348, 36609, 114988, 143175, 205735, 21031, 143175, 240567, 218552, 189835, 114988, 98391, 235105, 143175, 218552, 211426, 21576, 49980, 60244, 69378, 85757, 93047, 93426, 98547, 129465, 131046, 136491, 157811, 210485, 244171, 249894, 250405, 265487, 271448, 143175, 98391, 6543, 89602, 243879, 120093, 25981, 11601, 275970, 39281, 46398, 62862, 97754, 106849, 125519, 128045, 157273, 163804, 216683, 225078, 22625, 34588, 60244, 95250, 153662, 16795, 123095, 162639, 253821, 278633, 6575, 28619, 50073, 123883, 125519, 224349, 252695, 36256, 130554, 40943, 56447, 130571, 218121, 240267, 88733, 98391, 136205, 7283, 55187, 85757, 122801, 141710, 143415, 162780, 193499, 204864, 213126, 241666, 36606, 36749, 68185, 69355, 91113, 143415, 159033, 161299, 224764, 264031, 276680, 254206, 36606, 69078, 112001, 159506, 112001, 24194]\n"
          ]
        }
      ]
    },
    {
      "cell_type": "code",
      "metadata": {
        "colab": {
          "base_uri": "https://localhost:8080/"
        },
        "id": "edoyImGAO8vl",
        "outputId": "1e911544-cd29-47f7-895e-89d3c391d838"
      },
      "source": [
        "#taking user input for recommendation\n",
        "#user=int(input(\"Enter User ID from above list for book recommendation:  \"))\n",
        "#lets take user input  =110934\n",
        "user=110934 \n",
        "model_recommender.recommend_book(cf_recommender_model,user)"
      ],
      "execution_count": 107,
      "outputs": [
        {
          "output_type": "stream",
          "name": "stdout",
          "text": [
            "Recommendation for User-ID =  110934\n",
            "         ISBN                                         Book-Title  recStrength\n",
            "0  0590353403     Harry Potter and the Sorcerer's Stone (Book 1)         2.92\n",
            "1  043935806X  Harry Potter and the Order of the Phoenix (Boo...         2.25\n",
            "2  0312966091  Three To Get Deadly : A Stephanie Plum Novel (...         2.15\n",
            "3  0312971346                 High Five (A Stephanie Plum Novel)         2.07\n",
            "4  059035342X  Harry Potter and the Sorcerer's Stone (Harry P...         1.29\n",
            "5  0312195516                The Red Tent (Bestselling Backlist)         1.24\n",
            "6  0553280341  B Is for Burglar (Kinsey Millhone Mysteries (P...         1.13\n",
            "7  0312265867               To the Nines: A Stephanie Plum Novel         1.06\n",
            "8  014028009X                              Bridget Jones's Diary         1.03\n",
            "9  0142001740                            The Secret Life of Bees         1.01\n"
          ]
        }
      ]
    },
    {
      "cell_type": "code",
      "metadata": {
        "id": "8qYLXtn5O8vl"
      },
      "source": [
        "#Top-N accuracy metrics consts\n",
        "EVAL_RANDOM_SAMPLE_NON_INTERACTED_ITEMS = 100\n",
        "\n",
        "class ModelEvaluator:\n",
        "\n",
        "    # Function for getting the set of items which a user has not interacted with\n",
        "    def get_not_interacted_items_sample(self, UserID, sample_size, seed=42):\n",
        "        interacted_items = get_items_interacted(UserID, interactions_full_indexed_df)\n",
        "        all_items = set(us_user_rating['ISBN'])\n",
        "        non_interacted_items = all_items - interacted_items\n",
        "\n",
        "        random.seed(seed)\n",
        "        non_interacted_items_sample = random.sample(non_interacted_items, sample_size)\n",
        "        return set(non_interacted_items_sample)\n",
        "\n",
        "    # Function to verify whether a particular item_id was present in the set of top N recommended items\n",
        "    def _verify_hit_top_n(self, item_id, recommended_items, topn):        \n",
        "            try:\n",
        "                index = next(i for i, c in enumerate(recommended_items) if c == item_id)\n",
        "            except:\n",
        "                index = -1\n",
        "            hit = int(index in range(0, topn))\n",
        "            return hit, index\n",
        "    \n",
        "    # Function to evaluate the performance of model for each user\n",
        "    def evaluate_model_for_user(self, model, person_id):\n",
        "        \n",
        "        # Getting the items in test set\n",
        "        interacted_values_testset = interactions_test_indexed_df.loc[person_id]\n",
        "        \n",
        "        if type(interacted_values_testset['ISBN']) == pd.Series:\n",
        "            person_interacted_items_testset = set(interacted_values_testset['ISBN'])\n",
        "        else:\n",
        "            person_interacted_items_testset = set([str(interacted_values_testset['ISBN'])])\n",
        "            \n",
        "        interacted_items_count_testset = len(person_interacted_items_testset) \n",
        "\n",
        "        # Getting a ranked recommendation list from the model for a given user\n",
        "        person_recs_df = model.recommend_items(person_id, items_to_ignore=get_items_interacted(person_id, interactions_train_indexed_df),topn=10000000000)\n",
        "\n",
        "        hits_at_5_count = 0\n",
        "        hits_at_10_count = 0\n",
        "        hits_at_15_count = 0\n",
        "        \n",
        "        # For each item the user has interacted in test set\n",
        "        for item_id in person_interacted_items_testset:\n",
        "            \n",
        "            # Getting a random sample of 100 items the user has not interacted with\n",
        "            non_interacted_items_sample = self.get_not_interacted_items_sample(person_id, sample_size=EVAL_RANDOM_SAMPLE_NON_INTERACTED_ITEMS, seed=item_id)    #%(2**32))\n",
        "\n",
        "            # Combining the current interacted item with the 100 random items\n",
        "            items_to_filter_recs = non_interacted_items_sample.union(set([item_id]))\n",
        "\n",
        "            # Filtering only recommendations that are either the interacted item or from a random sample of 100 non-interacted items\n",
        "            valid_recs_df = person_recs_df[person_recs_df['ISBN'].isin(items_to_filter_recs)]                    \n",
        "            valid_recs = valid_recs_df['ISBN'].values\n",
        "            \n",
        "            # Verifying if the current interacted item is among the Top-N recommended items\n",
        "            hit_at_5, index_at_5 = self._verify_hit_top_n(item_id, valid_recs, 5)\n",
        "            hits_at_5_count += hit_at_5\n",
        "            hit_at_10, index_at_10 = self._verify_hit_top_n(item_id, valid_recs, 10)\n",
        "            hits_at_10_count += hit_at_10\n",
        "            hit_at_15, index_at_15 = self._verify_hit_top_n(item_id, valid_recs, 15)\n",
        "            hits_at_15_count += hit_at_15\n",
        "\n",
        "        # Recall is the rate of the interacted items that are ranked among the Top-N recommended items\n",
        "        recall_at_5 = hits_at_5_count / float(interacted_items_count_testset)\n",
        "        recall_at_10 = hits_at_10_count / float(interacted_items_count_testset)\n",
        "        recall_at_15 = hits_at_15_count / float(interacted_items_count_testset)\n",
        "\n",
        "        person_metrics = {'hits@5_count':hits_at_5_count, \n",
        "                          'hits@10_count':hits_at_10_count, \n",
        "                          'hits@15_count':hits_at_15_count,\n",
        "                          'interacted_count': interacted_items_count_testset,\n",
        "                          'recall@5': recall_at_5,\n",
        "                          'recall@10': recall_at_10,\n",
        "                          'recall@15': recall_at_15}\n",
        "        return person_metrics\n",
        "\n",
        "    \n",
        "    # Function to evaluate the performance of model at overall level\n",
        "    def evaluate_model(self, model):\n",
        "        \n",
        "        people_metrics = []\n",
        "        \n",
        "        for idx, person_id in enumerate(list(interactions_test_indexed_df.index.unique().values)):    \n",
        "            person_metrics = self.evaluate_model_for_user(model, person_id)  \n",
        "            person_metrics['User-ID'] = person_id\n",
        "            people_metrics.append(person_metrics)\n",
        "            \n",
        "        print('%d users processed' % idx)\n",
        "\n",
        "        detailed_results_df = pd.DataFrame(people_metrics).sort_values('interacted_count', ascending=False)\n",
        "        \n",
        "        global_recall_at_5 = detailed_results_df['hits@5_count'].sum() / float(detailed_results_df['interacted_count'].sum())\n",
        "        global_recall_at_10 = detailed_results_df['hits@10_count'].sum() / float(detailed_results_df['interacted_count'].sum())\n",
        "        global_recall_at_15 = detailed_results_df['hits@15_count'].sum() / float(detailed_results_df['interacted_count'].sum())\n",
        "        \n",
        "        global_metrics = {'modelName': model.get_model_name(),\n",
        "                          'recall@5': global_recall_at_5,\n",
        "                          'recall@10': global_recall_at_10,\n",
        "                          'recall@15': global_recall_at_15}    \n",
        "        return global_metrics, detailed_results_df\n",
        "    \n",
        "model_evaluator = ModelEvaluator()"
      ],
      "execution_count": 108,
      "outputs": []
    },
    {
      "cell_type": "code",
      "metadata": {
        "colab": {
          "base_uri": "https://localhost:8080/",
          "height": 444
        },
        "id": "KCem55iCO8vm",
        "outputId": "0a5a480a-15e5-43b0-8a02-39bd88444bdc"
      },
      "source": [
        "print('Evaluating Collaborative Filtering (SVD Matrix Factorization) model...')\n",
        "cf_global_metrics, cf_detailed_results_df = model_evaluator.evaluate_model(cf_recommender_model)\n",
        "\n",
        "print('\\nGlobal metrics:\\n%s' % cf_global_metrics)\n",
        "cf_detailed_results_df.head(10)"
      ],
      "execution_count": 109,
      "outputs": [
        {
          "output_type": "stream",
          "name": "stdout",
          "text": [
            "Evaluating Collaborative Filtering (SVD Matrix Factorization) model...\n",
            "1309 users processed\n",
            "\n",
            "Global metrics:\n",
            "{'modelName': 'Collaborative Filtering', 'recall@5': 0.310461338531514, 'recall@10': 0.41962313190383366, 'recall@15': 0.5073424301494477}\n"
          ]
        },
        {
          "output_type": "execute_result",
          "data": {
            "text/html": [
              "<div>\n",
              "<style scoped>\n",
              "    .dataframe tbody tr th:only-of-type {\n",
              "        vertical-align: middle;\n",
              "    }\n",
              "\n",
              "    .dataframe tbody tr th {\n",
              "        vertical-align: top;\n",
              "    }\n",
              "\n",
              "    .dataframe thead th {\n",
              "        text-align: right;\n",
              "    }\n",
              "</style>\n",
              "<table border=\"1\" class=\"dataframe\">\n",
              "  <thead>\n",
              "    <tr style=\"text-align: right;\">\n",
              "      <th></th>\n",
              "      <th>hits@5_count</th>\n",
              "      <th>hits@10_count</th>\n",
              "      <th>hits@15_count</th>\n",
              "      <th>interacted_count</th>\n",
              "      <th>recall@5</th>\n",
              "      <th>recall@10</th>\n",
              "      <th>recall@15</th>\n",
              "      <th>User-ID</th>\n",
              "    </tr>\n",
              "  </thead>\n",
              "  <tbody>\n",
              "    <tr>\n",
              "      <th>58</th>\n",
              "      <td>20</td>\n",
              "      <td>26</td>\n",
              "      <td>30</td>\n",
              "      <td>63</td>\n",
              "      <td>0.32</td>\n",
              "      <td>0.41</td>\n",
              "      <td>0.48</td>\n",
              "      <td>16795</td>\n",
              "    </tr>\n",
              "    <tr>\n",
              "      <th>68</th>\n",
              "      <td>18</td>\n",
              "      <td>26</td>\n",
              "      <td>29</td>\n",
              "      <td>61</td>\n",
              "      <td>0.30</td>\n",
              "      <td>0.43</td>\n",
              "      <td>0.48</td>\n",
              "      <td>98391</td>\n",
              "    </tr>\n",
              "    <tr>\n",
              "      <th>138</th>\n",
              "      <td>19</td>\n",
              "      <td>32</td>\n",
              "      <td>32</td>\n",
              "      <td>59</td>\n",
              "      <td>0.32</td>\n",
              "      <td>0.54</td>\n",
              "      <td>0.54</td>\n",
              "      <td>153662</td>\n",
              "    </tr>\n",
              "    <tr>\n",
              "      <th>72</th>\n",
              "      <td>28</td>\n",
              "      <td>33</td>\n",
              "      <td>39</td>\n",
              "      <td>52</td>\n",
              "      <td>0.54</td>\n",
              "      <td>0.63</td>\n",
              "      <td>0.75</td>\n",
              "      <td>114368</td>\n",
              "    </tr>\n",
              "    <tr>\n",
              "      <th>69</th>\n",
              "      <td>25</td>\n",
              "      <td>27</td>\n",
              "      <td>29</td>\n",
              "      <td>51</td>\n",
              "      <td>0.49</td>\n",
              "      <td>0.53</td>\n",
              "      <td>0.57</td>\n",
              "      <td>104636</td>\n",
              "    </tr>\n",
              "    <tr>\n",
              "      <th>38</th>\n",
              "      <td>7</td>\n",
              "      <td>11</td>\n",
              "      <td>12</td>\n",
              "      <td>50</td>\n",
              "      <td>0.14</td>\n",
              "      <td>0.22</td>\n",
              "      <td>0.24</td>\n",
              "      <td>95359</td>\n",
              "    </tr>\n",
              "    <tr>\n",
              "      <th>55</th>\n",
              "      <td>6</td>\n",
              "      <td>18</td>\n",
              "      <td>21</td>\n",
              "      <td>43</td>\n",
              "      <td>0.14</td>\n",
              "      <td>0.42</td>\n",
              "      <td>0.49</td>\n",
              "      <td>158295</td>\n",
              "    </tr>\n",
              "    <tr>\n",
              "      <th>115</th>\n",
              "      <td>7</td>\n",
              "      <td>11</td>\n",
              "      <td>14</td>\n",
              "      <td>35</td>\n",
              "      <td>0.20</td>\n",
              "      <td>0.31</td>\n",
              "      <td>0.40</td>\n",
              "      <td>60244</td>\n",
              "    </tr>\n",
              "    <tr>\n",
              "      <th>264</th>\n",
              "      <td>22</td>\n",
              "      <td>26</td>\n",
              "      <td>29</td>\n",
              "      <td>35</td>\n",
              "      <td>0.63</td>\n",
              "      <td>0.74</td>\n",
              "      <td>0.83</td>\n",
              "      <td>123883</td>\n",
              "    </tr>\n",
              "    <tr>\n",
              "      <th>189</th>\n",
              "      <td>5</td>\n",
              "      <td>6</td>\n",
              "      <td>11</td>\n",
              "      <td>33</td>\n",
              "      <td>0.15</td>\n",
              "      <td>0.18</td>\n",
              "      <td>0.33</td>\n",
              "      <td>31315</td>\n",
              "    </tr>\n",
              "  </tbody>\n",
              "</table>\n",
              "</div>"
            ],
            "text/plain": [
              "     hits@5_count  hits@10_count  hits@15_count  ...  recall@10  recall@15  User-ID\n",
              "58             20             26             30  ...       0.41       0.48    16795\n",
              "68             18             26             29  ...       0.43       0.48    98391\n",
              "138            19             32             32  ...       0.54       0.54   153662\n",
              "72             28             33             39  ...       0.63       0.75   114368\n",
              "69             25             27             29  ...       0.53       0.57   104636\n",
              "38              7             11             12  ...       0.22       0.24    95359\n",
              "55              6             18             21  ...       0.42       0.49   158295\n",
              "115             7             11             14  ...       0.31       0.40    60244\n",
              "264            22             26             29  ...       0.74       0.83   123883\n",
              "189             5              6             11  ...       0.18       0.33    31315\n",
              "\n",
              "[10 rows x 8 columns]"
            ]
          },
          "metadata": {},
          "execution_count": 109
        }
      ]
    },
    {
      "cell_type": "markdown",
      "metadata": {
        "id": "neyoZqi5NkTZ"
      },
      "source": [
        "# **Conclusion**"
      ]
    },
    {
      "cell_type": "markdown",
      "metadata": {
        "id": "QLRAiHf0NrZU"
      },
      "source": [
        "As we can see, after implementing Collaborative Filtering and evaluating it using SVD matrix we are satisfied with the results. A recall rate of around 50 for hit@15 is fair enough for such a large dataset. Also since it is an unsupervised learning algorithm trying to find good books that users will likes which in itself is a very vast and complicated study.\n",
        "\n",
        "\n"
      ]
    },
    {
      "cell_type": "code",
      "metadata": {
        "id": "6HajRnFXUfWn"
      },
      "source": [
        ""
      ],
      "execution_count": null,
      "outputs": []
    }
  ]
}